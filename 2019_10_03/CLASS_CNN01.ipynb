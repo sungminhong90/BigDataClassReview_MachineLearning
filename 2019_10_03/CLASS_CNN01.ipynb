{
  "nbformat": 4,
  "nbformat_minor": 0,
  "metadata": {
    "colab": {
      "name": "CLASS_CNN01.ipynb",
      "provenance": []
    },
    "kernelspec": {
      "name": "python3",
      "display_name": "Python 3"
    },
    "accelerator": "GPU"
  },
  "cells": [
    {
      "cell_type": "code",
      "metadata": {
        "id": "gCBjE1KfEs1d",
        "colab_type": "code",
        "colab": {}
      },
      "source": [
        "from IPython.display import display, Image\n",
        "import os, warnings"
      ],
      "execution_count": 0,
      "outputs": []
    },
    {
      "cell_type": "code",
      "metadata": {
        "id": "CLw9go72EzYe",
        "colab_type": "code",
        "colab": {}
      },
      "source": [
        "import os, warnings\n",
        "warnings.filterwarnings(action='ignore')"
      ],
      "execution_count": 0,
      "outputs": []
    },
    {
      "cell_type": "markdown",
      "metadata": {
        "id": "k57A7NkJE3fD",
        "colab_type": "text"
      },
      "source": [
        "### Data Preparation = MNIST DATASET"
      ]
    },
    {
      "cell_type": "code",
      "metadata": {
        "id": "iyBA3AV6E_6z",
        "colab_type": "code",
        "outputId": "7413573c-a6bb-45cf-b162-3d8bfa30af98",
        "colab": {
          "base_uri": "https://localhost:8080/",
          "height": 433
        }
      },
      "source": [
        "from tensorflow.examples.tutorials.mnist import input_data\n",
        "mnist = input_data.read_data_sets('./mnist/data', one_hot=True)"
      ],
      "execution_count": 0,
      "outputs": [
        {
          "output_type": "stream",
          "text": [
            "WARNING:tensorflow:From <ipython-input-3-d82e502979d2>:2: read_data_sets (from tensorflow.contrib.learn.python.learn.datasets.mnist) is deprecated and will be removed in a future version.\n",
            "Instructions for updating:\n",
            "Please use alternatives such as official/mnist/dataset.py from tensorflow/models.\n",
            "WARNING:tensorflow:From /usr/local/lib/python3.6/dist-packages/tensorflow/contrib/learn/python/learn/datasets/mnist.py:260: maybe_download (from tensorflow.contrib.learn.python.learn.datasets.base) is deprecated and will be removed in a future version.\n",
            "Instructions for updating:\n",
            "Please write your own downloading logic.\n",
            "WARNING:tensorflow:From /usr/local/lib/python3.6/dist-packages/tensorflow/contrib/learn/python/learn/datasets/mnist.py:262: extract_images (from tensorflow.contrib.learn.python.learn.datasets.mnist) is deprecated and will be removed in a future version.\n",
            "Instructions for updating:\n",
            "Please use tf.data to implement this functionality.\n",
            "Extracting ./mnist/data/train-images-idx3-ubyte.gz\n",
            "WARNING:tensorflow:From /usr/local/lib/python3.6/dist-packages/tensorflow/contrib/learn/python/learn/datasets/mnist.py:267: extract_labels (from tensorflow.contrib.learn.python.learn.datasets.mnist) is deprecated and will be removed in a future version.\n",
            "Instructions for updating:\n",
            "Please use tf.data to implement this functionality.\n",
            "Extracting ./mnist/data/train-labels-idx1-ubyte.gz\n",
            "WARNING:tensorflow:From /usr/local/lib/python3.6/dist-packages/tensorflow/contrib/learn/python/learn/datasets/mnist.py:110: dense_to_one_hot (from tensorflow.contrib.learn.python.learn.datasets.mnist) is deprecated and will be removed in a future version.\n",
            "Instructions for updating:\n",
            "Please use tf.one_hot on tensors.\n",
            "Extracting ./mnist/data/t10k-images-idx3-ubyte.gz\n",
            "Extracting ./mnist/data/t10k-labels-idx1-ubyte.gz\n",
            "WARNING:tensorflow:From /usr/local/lib/python3.6/dist-packages/tensorflow/contrib/learn/python/learn/datasets/mnist.py:290: DataSet.__init__ (from tensorflow.contrib.learn.python.learn.datasets.mnist) is deprecated and will be removed in a future version.\n",
            "Instructions for updating:\n",
            "Please use alternatives such as official/mnist/dataset.py from tensorflow/models.\n"
          ],
          "name": "stdout"
        }
      ]
    },
    {
      "cell_type": "code",
      "metadata": {
        "id": "U2KBpcUDFN7L",
        "colab_type": "code",
        "colab": {}
      },
      "source": [
        "import tensorflow as tf"
      ],
      "execution_count": 0,
      "outputs": []
    },
    {
      "cell_type": "code",
      "metadata": {
        "id": "V-HVVX1JFWq7",
        "colab_type": "code",
        "colab": {}
      },
      "source": [
        "X = tf.placeholder(tf.float32, [None, 28, 28, 1])\n",
        "Y = tf.placeholder(tf.float32, [None, 10])"
      ],
      "execution_count": 0,
      "outputs": []
    },
    {
      "cell_type": "markdown",
      "metadata": {
        "id": "VAdpzAb4FfAT",
        "colab_type": "text"
      },
      "source": [
        "### CNN 계층 구성"
      ]
    },
    {
      "cell_type": "code",
      "metadata": {
        "id": "hwdpAH41Fgk4",
        "colab_type": "code",
        "colab": {}
      },
      "source": [
        "# CONV - (RELU) - Pooling\n",
        "# CONV - (RELU) - Pooling\n",
        "# FC (Fully Connected)"
      ],
      "execution_count": 0,
      "outputs": []
    },
    {
      "cell_type": "code",
      "metadata": {
        "id": "_QPILNa6Fo9T",
        "colab_type": "code",
        "outputId": "8d5bb1b9-542e-4979-936e-c7d155ad6c6b",
        "colab": {
          "base_uri": "https://localhost:8080/",
          "height": 35
        }
      },
      "source": [
        "W1 = tf.Variable(tf.random_normal([3,3,1,32], stddev=0.01))\n",
        "L1 = tf.nn.conv2d(X, W1, strides=[1,1,1,1], padding='SAME')\n",
        "L1 = tf.nn.relu(L1) #활성화함수\n",
        "L1 = tf.nn.max_pool(L1, ksize=[1,2,2,1], strides=[1,2,2,1], padding='SAME')\n",
        "print(L1)"
      ],
      "execution_count": 0,
      "outputs": [
        {
          "output_type": "stream",
          "text": [
            "Tensor(\"MaxPool:0\", shape=(?, 14, 14, 32), dtype=float32)\n"
          ],
          "name": "stdout"
        }
      ]
    },
    {
      "cell_type": "code",
      "metadata": {
        "id": "reDRQ9FwGkRr",
        "colab_type": "code",
        "outputId": "90392f70-1d77-4ddc-e886-c57adecdfc76",
        "colab": {
          "base_uri": "https://localhost:8080/",
          "height": 35
        }
      },
      "source": [
        "W2 = tf.Variable(tf.random_normal([3, 3, 32, 64], stddev=0.01))\n",
        "L2 = tf.nn.conv2d(L1, W2, strides=[1,1,1,1], padding='SAME')\n",
        "L2 = tf.nn.relu(L2)\n",
        "L2 = tf.nn.max_pool(L2, ksize=[1,2,2,1], strides=[1,2,2,1], padding='SAME')\n",
        "print(L2)"
      ],
      "execution_count": 0,
      "outputs": [
        {
          "output_type": "stream",
          "text": [
            "Tensor(\"MaxPool_1:0\", shape=(?, 7, 7, 64), dtype=float32)\n"
          ],
          "name": "stdout"
        }
      ]
    },
    {
      "cell_type": "code",
      "metadata": {
        "id": "HWazPR3TG8mD",
        "colab_type": "code",
        "colab": {}
      },
      "source": [
        "W3 = tf.Variable(tf.random_normal([7*7*64, 256], stddev=0.01))\n",
        "L3 = tf.reshape(L2, [-1, 7*7*64])\n",
        "L3 = tf.matmul(L3, W3)\n",
        "L3 = tf.nn.relu(L3)"
      ],
      "execution_count": 0,
      "outputs": []
    },
    {
      "cell_type": "code",
      "metadata": {
        "id": "sp3kguNCIrdU",
        "colab_type": "code",
        "outputId": "fbec9f9e-d429-4e00-d79f-7f73d699deea",
        "colab": {
          "base_uri": "https://localhost:8080/",
          "height": 35
        }
      },
      "source": [
        "print(L3)"
      ],
      "execution_count": 0,
      "outputs": [
        {
          "output_type": "stream",
          "text": [
            "Tensor(\"Relu_2:0\", shape=(?, 256), dtype=float32)\n"
          ],
          "name": "stdout"
        }
      ]
    },
    {
      "cell_type": "code",
      "metadata": {
        "id": "poVorQsdJb5c",
        "colab_type": "code",
        "colab": {}
      },
      "source": [
        "# 최종 출력값 L3 에서의 출력 256개를 입력값으로 받아서\n",
        "# 0~9 레이블인 10개의 출력값을 만듭니다.\n",
        "\n",
        "W4 = tf.Variable(tf.random_normal([256, 10], stddev=0.01))\n",
        "model = tf.matmul(L3, W4)"
      ],
      "execution_count": 0,
      "outputs": []
    },
    {
      "cell_type": "markdown",
      "metadata": {
        "id": "ohF1cC5uJ6h0",
        "colab_type": "text"
      },
      "source": [
        "### 비용함수, 최적화 구성"
      ]
    },
    {
      "cell_type": "code",
      "metadata": {
        "id": "KgL8tiUHJ9FM",
        "colab_type": "code",
        "colab": {}
      },
      "source": [
        "cost = tf.reduce_mean(tf.nn.softmax_cross_entropy_with_logits_v2(logits=model, labels =Y))\n",
        "optimizer = tf.train.AdamOptimizer(0.001).minimize(cost)"
      ],
      "execution_count": 0,
      "outputs": []
    },
    {
      "cell_type": "markdown",
      "metadata": {
        "id": "e-hsXPigKJ3F",
        "colab_type": "text"
      },
      "source": [
        "### 신경망 모델 학습"
      ]
    },
    {
      "cell_type": "code",
      "metadata": {
        "id": "H2N3KOmrNfJd",
        "colab_type": "code",
        "colab": {}
      },
      "source": [
        "init = tf.global_variables_initializer()\n",
        "sess = tf.Session()\n",
        "sess.run(init)\n",
        "\n",
        "batch_size=100\n",
        "total_batch = int(mnist.train.num_examples/batch_size)"
      ],
      "execution_count": 0,
      "outputs": []
    },
    {
      "cell_type": "markdown",
      "metadata": {
        "id": "cdpXZZ8IOWZ-",
        "colab_type": "text"
      },
      "source": [
        "### 1 Epoch(데이터 전체 학습 한번)만 돌리기"
      ]
    },
    {
      "cell_type": "code",
      "metadata": {
        "id": "p-OMCHJuOcH-",
        "colab_type": "code",
        "outputId": "e857ca82-e6a7-4138-c090-ea786bae2d68",
        "colab": {
          "base_uri": "https://localhost:8080/",
          "height": 53
        }
      },
      "source": [
        "total_cost = 0\n",
        "epoch = 0\n",
        "\n",
        "for i in range(total_batch):\n",
        "  batch_xs, batch_ys = mnist.train.next_batch(batch_size)\n",
        "  #이미지 데이터를 CNN모델을 위한 자료형태인 [28,28,1]의 형태로 재구성합니다.\n",
        "  batch_xs = batch_xs.reshape(-1, 28, 28, 1) #''-1'은 뭐가 들어올지 모르는 것에 대한 표현 - \n",
        "  \n",
        "  _, cost_val = sess.run([optimizer, cost], feed_dict={X: batch_xs, Y:batch_ys})\n",
        "  \n",
        "  total_cost += cost_val\n",
        "  \n",
        "print('Epoch:', '%04d' %(epoch+1),\n",
        "     'Avg. cost = ', '{:.3f}'.format(total_cost/total_batch))\n",
        "\n",
        "print('최적화 완료!(1 Epoch)')"
      ],
      "execution_count": 0,
      "outputs": [
        {
          "output_type": "stream",
          "text": [
            "Epoch: 0001 Avg. cost =  0.304\n",
            "최적화 완료!(1 Epoch)\n"
          ],
          "name": "stdout"
        }
      ]
    },
    {
      "cell_type": "code",
      "metadata": {
        "id": "GauyAp20PXc3",
        "colab_type": "code",
        "outputId": "4ca58d40-d00d-414f-8d2c-df0263b87087",
        "colab": {
          "base_uri": "https://localhost:8080/",
          "height": 244
        }
      },
      "source": [
        "total_cost = 0\n",
        "epoch = 0\n",
        "\n",
        "for i in range(total_batch):\n",
        "  batch_xs, batch_ys = mnist.train.next_batch(batch_size)\n",
        "  #이미지 데이터를 CNN모델을 위한 자료형태인 [28,28,1]의 형태로 재구성합니다.\n",
        "  batch_xs = batch_xs.reshape(None, 28, 28, 1) #''-1'은 뭐가 들어올지 모르는 것에 대한 표현 - \n",
        "  \n",
        "  _, cost_val = sess.run([optimizer, cost], feed_dict={X: batch_xs, Y:batch_ys})\n",
        "  \n",
        "  total_cost += cost_val\n",
        "  \n",
        "print('Epoch:', '%04d' %(epoch+1),\n",
        "     'Avg. cost = ', '{:.3f}'.format(total_cost/total_batch))\n",
        "\n",
        "print('최적화 완료!(1 Epoch)')"
      ],
      "execution_count": 0,
      "outputs": [
        {
          "output_type": "error",
          "ename": "TypeError",
          "evalue": "ignored",
          "traceback": [
            "\u001b[0;31m---------------------------------------------------------------------------\u001b[0m",
            "\u001b[0;31mTypeError\u001b[0m                                 Traceback (most recent call last)",
            "\u001b[0;32m<ipython-input-15-87229d58b116>\u001b[0m in \u001b[0;36m<module>\u001b[0;34m()\u001b[0m\n\u001b[1;32m      5\u001b[0m   \u001b[0mbatch_xs\u001b[0m\u001b[0;34m,\u001b[0m \u001b[0mbatch_ys\u001b[0m \u001b[0;34m=\u001b[0m \u001b[0mmnist\u001b[0m\u001b[0;34m.\u001b[0m\u001b[0mtrain\u001b[0m\u001b[0;34m.\u001b[0m\u001b[0mnext_batch\u001b[0m\u001b[0;34m(\u001b[0m\u001b[0mbatch_size\u001b[0m\u001b[0;34m)\u001b[0m\u001b[0;34m\u001b[0m\u001b[0;34m\u001b[0m\u001b[0m\n\u001b[1;32m      6\u001b[0m   \u001b[0;31m#이미지 데이터를 CNN모델을 위한 자료형태인 [28,28,1]의 형태로 재구성합니다.\u001b[0m\u001b[0;34m\u001b[0m\u001b[0;34m\u001b[0m\u001b[0;34m\u001b[0m\u001b[0m\n\u001b[0;32m----> 7\u001b[0;31m   \u001b[0mbatch_xs\u001b[0m \u001b[0;34m=\u001b[0m \u001b[0mbatch_xs\u001b[0m\u001b[0;34m.\u001b[0m\u001b[0mreshape\u001b[0m\u001b[0;34m(\u001b[0m\u001b[0;32mNone\u001b[0m\u001b[0;34m,\u001b[0m \u001b[0;36m28\u001b[0m\u001b[0;34m,\u001b[0m \u001b[0;36m28\u001b[0m\u001b[0;34m,\u001b[0m \u001b[0;36m1\u001b[0m\u001b[0;34m)\u001b[0m \u001b[0;31m#''-1'은 뭐가 들어올지 모르는 것에 대한 표현 -\u001b[0m\u001b[0;34m\u001b[0m\u001b[0;34m\u001b[0m\u001b[0m\n\u001b[0m\u001b[1;32m      8\u001b[0m \u001b[0;34m\u001b[0m\u001b[0m\n\u001b[1;32m      9\u001b[0m   \u001b[0m_\u001b[0m\u001b[0;34m,\u001b[0m \u001b[0mcost_val\u001b[0m \u001b[0;34m=\u001b[0m \u001b[0msess\u001b[0m\u001b[0;34m.\u001b[0m\u001b[0mrun\u001b[0m\u001b[0;34m(\u001b[0m\u001b[0;34m[\u001b[0m\u001b[0moptimizer\u001b[0m\u001b[0;34m,\u001b[0m \u001b[0mcost\u001b[0m\u001b[0;34m]\u001b[0m\u001b[0;34m,\u001b[0m \u001b[0mfeed_dict\u001b[0m\u001b[0;34m=\u001b[0m\u001b[0;34m{\u001b[0m\u001b[0mX\u001b[0m\u001b[0;34m:\u001b[0m \u001b[0mbatch_xs\u001b[0m\u001b[0;34m,\u001b[0m \u001b[0mY\u001b[0m\u001b[0;34m:\u001b[0m\u001b[0mbatch_ys\u001b[0m\u001b[0;34m}\u001b[0m\u001b[0;34m)\u001b[0m\u001b[0;34m\u001b[0m\u001b[0;34m\u001b[0m\u001b[0m\n",
            "\u001b[0;31mTypeError\u001b[0m: 'NoneType' object cannot be interpreted as an integer"
          ]
        }
      ]
    },
    {
      "cell_type": "code",
      "metadata": {
        "id": "K0Yrw2IkRql3",
        "colab_type": "code",
        "colab": {}
      },
      "source": [
        "### 실습\n",
        "# CONV, Pooling 3번\n",
        "# 필터수 변경\n",
        "# 에폭수 20 "
      ],
      "execution_count": 0,
      "outputs": []
    },
    {
      "cell_type": "code",
      "metadata": {
        "id": "9WH216fIUJK-",
        "colab_type": "code",
        "colab": {}
      },
      "source": [
        "import tensorflow as tf"
      ],
      "execution_count": 0,
      "outputs": []
    },
    {
      "cell_type": "code",
      "metadata": {
        "id": "czEhGvQFUNA9",
        "colab_type": "code",
        "outputId": "58ca3ff9-3895-4ec1-8d72-263c8b67b340",
        "colab": {
          "base_uri": "https://localhost:8080/",
          "height": 89
        }
      },
      "source": [
        "from tensorflow.examples.tutorials.mnist import input_data\n",
        "mnist = input_data.read_data_sets('./mnist/data', one_hot=True)"
      ],
      "execution_count": 0,
      "outputs": [
        {
          "output_type": "stream",
          "text": [
            "Extracting ./mnist/data/train-images-idx3-ubyte.gz\n",
            "Extracting ./mnist/data/train-labels-idx1-ubyte.gz\n",
            "Extracting ./mnist/data/t10k-images-idx3-ubyte.gz\n",
            "Extracting ./mnist/data/t10k-labels-idx1-ubyte.gz\n"
          ],
          "name": "stdout"
        }
      ]
    },
    {
      "cell_type": "code",
      "metadata": {
        "id": "N_sBfdRBURKE",
        "colab_type": "code",
        "colab": {}
      },
      "source": [
        "X = tf.placeholder(tf.float32, [None, 28, 28, 1])\n",
        "Y = tf.placeholder(tf.float32, [None, 10])"
      ],
      "execution_count": 0,
      "outputs": []
    },
    {
      "cell_type": "markdown",
      "metadata": {
        "id": "fYoPP7W6Tm1-",
        "colab_type": "text"
      },
      "source": [
        "#### CNN 계층 구성 - RE"
      ]
    },
    {
      "cell_type": "code",
      "metadata": {
        "id": "AZfggXZnsJwT",
        "colab_type": "code",
        "outputId": "21705d40-680b-47e4-de05-a2082fd9b357",
        "colab": {
          "base_uri": "https://localhost:8080/",
          "height": 53
        }
      },
      "source": [
        "W1 = tf.Variable(tf.random_normal([3, 3, 1, 64], stddev=0.01))\n",
        "L1 = tf.nn.conv2d(X, W1, strides=[1,1,1,1], padding='VALID') #stirde에 따라서 줄여주는- \n",
        "print(L1)\n",
        "L1 = tf.nn.relu(L1)\n",
        "L1 = tf.nn.max_pool(L1, ksize=[1,2,2,1], strides=[1,2,2,1], padding='SAME')\n",
        "## padding=same은 사이즈를 그대로 유지한다는 뜻. Padding 따로 추가 하지 않는다. \n",
        "print(L1)"
      ],
      "execution_count": 0,
      "outputs": [
        {
          "output_type": "stream",
          "text": [
            "Tensor(\"Conv2D_6:0\", shape=(?, 26, 26, 64), dtype=float32)\n",
            "Tensor(\"MaxPool_6:0\", shape=(?, 13, 13, 64), dtype=float32)\n"
          ],
          "name": "stdout"
        }
      ]
    },
    {
      "cell_type": "code",
      "metadata": {
        "id": "mXptPH4jTqrn",
        "colab_type": "code",
        "outputId": "9ddcb9ba-afed-4712-c192-46436c3bd3a2",
        "colab": {
          "base_uri": "https://localhost:8080/",
          "height": 35
        }
      },
      "source": [
        "W1 = tf.Variable(tf.random_normal([3, 3, 1, 64], stddev=0.01))\n",
        "L1 = tf.nn.conv2d(X, W1, strides=[1,1,1,1], padding='SAME')\n",
        "L1 = tf.nn.relu(L1)\n",
        "L1 = tf.nn.max_pool(L1, ksize=[1,2,2,1], strides=[1,2,2,1], padding='SAME')\n",
        "## padding=same은 사이즈를 그대로 유지한다는 뜻. Padding 따로 추가 하지 않는다. \n",
        "print(L1)"
      ],
      "execution_count": 0,
      "outputs": [
        {
          "output_type": "stream",
          "text": [
            "Tensor(\"MaxPool_2:0\", shape=(?, 14, 14, 64), dtype=float32)\n"
          ],
          "name": "stdout"
        }
      ]
    },
    {
      "cell_type": "code",
      "metadata": {
        "id": "jhP-gSZVUE_v",
        "colab_type": "code",
        "outputId": "ccd970bf-aab1-4248-c46d-47620c81bd80",
        "colab": {
          "base_uri": "https://localhost:8080/",
          "height": 35
        }
      },
      "source": [
        "W2 = tf.Variable(tf.random_normal([3,3,64,32], stddev=0.01))\n",
        "L2 = tf.nn.conv2d(L1, W2, strides=[1,1,1,1], padding='SAME')\n",
        "L2 = tf.nn.relu(L2)\n",
        "L2 = tf.nn.max_pool(L2, ksize=[1,3,3,1], strides=[1,3,3,1], padding='SAME')\n",
        "print(L2)"
      ],
      "execution_count": 0,
      "outputs": [
        {
          "output_type": "stream",
          "text": [
            "Tensor(\"MaxPool_3:0\", shape=(?, 5, 5, 32), dtype=float32)\n"
          ],
          "name": "stdout"
        }
      ]
    },
    {
      "cell_type": "code",
      "metadata": {
        "id": "x4-CoaR9UqSK",
        "colab_type": "code",
        "outputId": "449fda5c-f83e-4790-bb2a-a63f17e03e0f",
        "colab": {
          "base_uri": "https://localhost:8080/",
          "height": 35
        }
      },
      "source": [
        "W3 = tf.Variable(tf.random_normal([2,2,32,32], stddev=0.01))\n",
        "L3 = tf.nn.conv2d(L2, W3, strides=[1,2,2,1], padding='SAME')\n",
        "L3 = tf.nn.relu(L3)\n",
        "L3 = tf.nn.max_pool(L3, ksize=[1,2,2,1], strides=[1,2,2,1], padding='SAME')\n",
        "print(L3)"
      ],
      "execution_count": 0,
      "outputs": [
        {
          "output_type": "stream",
          "text": [
            "Tensor(\"MaxPool_4:0\", shape=(?, 2, 2, 32), dtype=float32)\n"
          ],
          "name": "stdout"
        }
      ]
    },
    {
      "cell_type": "code",
      "metadata": {
        "id": "g6wblSsVVJxo",
        "colab_type": "code",
        "colab": {}
      },
      "source": [
        "W4 = tf.Variable(tf.random_normal([2*2*32, 128], stddev=0.01))\n",
        "L4 = tf.reshape(L3, [-1, 2*2*32])\n",
        "L4 = tf.matmul(L4, W4)\n",
        "L4 = tf.nn.relu(L4)"
      ],
      "execution_count": 0,
      "outputs": []
    },
    {
      "cell_type": "code",
      "metadata": {
        "id": "IdjMOR9pVgXA",
        "colab_type": "code",
        "colab": {}
      },
      "source": [
        "W5 = tf.Variable(tf.random_normal([128, 10], stddev=0.01))\n",
        "model = tf.matmul(L4, W5)"
      ],
      "execution_count": 0,
      "outputs": []
    },
    {
      "cell_type": "code",
      "metadata": {
        "id": "uEwvV5fhWKWT",
        "colab_type": "code",
        "colab": {}
      },
      "source": [
        "cost = tf.reduce_mean(tf.nn.softmax_cross_entropy_with_logits_v2(logits=model,\n",
        "labels=Y))\n",
        "optimizer = tf.train.AdamOptimizer(0.001).minimize(cost)"
      ],
      "execution_count": 0,
      "outputs": []
    },
    {
      "cell_type": "code",
      "metadata": {
        "id": "73IQ3RWOXByZ",
        "colab_type": "code",
        "colab": {}
      },
      "source": [
        "init= tf.global_variables_initializer()\n",
        "sess = tf.Session()\n",
        "sess.run(init)\n",
        "\n",
        "batch_size=100\n",
        "total_batch = int(mnist.train.num_examples/batch_size)"
      ],
      "execution_count": 0,
      "outputs": []
    },
    {
      "cell_type": "code",
      "metadata": {
        "id": "eaRz4nJpXTjR",
        "colab_type": "code",
        "outputId": "5094c063-6172-4ebb-976b-769b722ee0f8",
        "colab": {
          "base_uri": "https://localhost:8080/",
          "height": 791
        }
      },
      "source": [
        "# 에폭수 20 \n",
        "\n",
        "\n",
        "for j in range(21):\n",
        "  epoch = j\n",
        "  total_cost = 0\n",
        "  \n",
        "  for i in range(total_batch):\n",
        "    batch_xs, batch_ys = mnist.train.next_batch(batch_size)\n",
        "    \n",
        "    batch_xs = batch_xs.reshape(-1, 28, 28, 1)\n",
        "    \n",
        "    _, cost_val = sess.run([optimizer, cost],\n",
        "                          feed_dict = {X: batch_xs,\n",
        "                                      Y: batch_ys})\n",
        "    \n",
        "    total_cost += cost_val\n",
        "    \n",
        "  print('Epoch: {}'.format(j))\n",
        "  \n",
        "  print('Avg. cost = ', '{:.3f}'.format(total_cost/total_batch))\n",
        "print('완료!')"
      ],
      "execution_count": 0,
      "outputs": [
        {
          "output_type": "stream",
          "text": [
            "Epoch: 0\n",
            "Avg. cost =  0.026\n",
            "Epoch: 1\n",
            "Avg. cost =  0.024\n",
            "Epoch: 2\n",
            "Avg. cost =  0.023\n",
            "Epoch: 3\n",
            "Avg. cost =  0.021\n",
            "Epoch: 4\n",
            "Avg. cost =  0.021\n",
            "Epoch: 5\n",
            "Avg. cost =  0.019\n",
            "Epoch: 6\n",
            "Avg. cost =  0.018\n",
            "Epoch: 7\n",
            "Avg. cost =  0.015\n",
            "Epoch: 8\n",
            "Avg. cost =  0.016\n",
            "Epoch: 9\n",
            "Avg. cost =  0.015\n",
            "Epoch: 10\n",
            "Avg. cost =  0.016\n",
            "Epoch: 11\n",
            "Avg. cost =  0.014\n",
            "Epoch: 12\n",
            "Avg. cost =  0.011\n",
            "Epoch: 13\n",
            "Avg. cost =  0.012\n",
            "Epoch: 14\n",
            "Avg. cost =  0.014\n",
            "Epoch: 15\n",
            "Avg. cost =  0.013\n",
            "Epoch: 16\n",
            "Avg. cost =  0.008\n",
            "Epoch: 17\n",
            "Avg. cost =  0.011\n",
            "Epoch: 18\n",
            "Avg. cost =  0.010\n",
            "Epoch: 19\n",
            "Avg. cost =  0.011\n",
            "Epoch: 20\n",
            "Avg. cost =  0.008\n",
            "완료!\n"
          ],
          "name": "stdout"
        }
      ]
    },
    {
      "cell_type": "code",
      "metadata": {
        "id": "p-z6jhtFi7X1",
        "colab_type": "code",
        "colab": {}
      },
      "source": [
        ""
      ],
      "execution_count": 0,
      "outputs": []
    }
  ]
}