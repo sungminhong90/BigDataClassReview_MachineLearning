{
  "nbformat": 4,
  "nbformat_minor": 0,
  "metadata": {
    "colab": {
      "name": "191002_CNN과제_홍성민.ipynb",
      "provenance": []
    },
    "kernelspec": {
      "name": "python3",
      "display_name": "Python 3"
    },
    "accelerator": "GPU"
  },
  "cells": [
    {
      "cell_type": "code",
      "metadata": {
        "id": "CKBCc2dvZdkN",
        "colab_type": "code",
        "colab": {}
      },
      "source": [
        "import tensorflow as tf"
      ],
      "execution_count": 0,
      "outputs": []
    },
    {
      "cell_type": "code",
      "metadata": {
        "id": "jUdHrmS6ZjEO",
        "colab_type": "code",
        "outputId": "358f6e69-3bc8-4ba1-ff5b-e63d5c0fe541",
        "colab": {
          "base_uri": "https://localhost:8080/",
          "height": 559
        }
      },
      "source": [
        "from tensorflow.examples.tutorials.mnist import input_data\n",
        "mnist = input_data.read_data_sets('./mnist/data', one_hot = True)"
      ],
      "execution_count": 0,
      "outputs": [
        {
          "output_type": "stream",
          "text": [
            "WARNING:tensorflow:From <ipython-input-2-ad63f48a193f>:2: read_data_sets (from tensorflow.contrib.learn.python.learn.datasets.mnist) is deprecated and will be removed in a future version.\n",
            "Instructions for updating:\n",
            "Please use alternatives such as official/mnist/dataset.py from tensorflow/models.\n",
            "WARNING:tensorflow:From /usr/local/lib/python3.6/dist-packages/tensorflow/contrib/learn/python/learn/datasets/mnist.py:260: maybe_download (from tensorflow.contrib.learn.python.learn.datasets.base) is deprecated and will be removed in a future version.\n",
            "Instructions for updating:\n",
            "Please write your own downloading logic.\n",
            "WARNING:tensorflow:From /usr/local/lib/python3.6/dist-packages/tensorflow/contrib/learn/python/learn/datasets/base.py:252: _internal_retry.<locals>.wrap.<locals>.wrapped_fn (from tensorflow.contrib.learn.python.learn.datasets.base) is deprecated and will be removed in a future version.\n",
            "Instructions for updating:\n",
            "Please use urllib or similar directly.\n",
            "Successfully downloaded train-images-idx3-ubyte.gz 9912422 bytes.\n",
            "WARNING:tensorflow:From /usr/local/lib/python3.6/dist-packages/tensorflow/contrib/learn/python/learn/datasets/mnist.py:262: extract_images (from tensorflow.contrib.learn.python.learn.datasets.mnist) is deprecated and will be removed in a future version.\n",
            "Instructions for updating:\n",
            "Please use tf.data to implement this functionality.\n",
            "Extracting ./mnist/data/train-images-idx3-ubyte.gz\n",
            "Successfully downloaded train-labels-idx1-ubyte.gz 28881 bytes.\n",
            "WARNING:tensorflow:From /usr/local/lib/python3.6/dist-packages/tensorflow/contrib/learn/python/learn/datasets/mnist.py:267: extract_labels (from tensorflow.contrib.learn.python.learn.datasets.mnist) is deprecated and will be removed in a future version.\n",
            "Instructions for updating:\n",
            "Please use tf.data to implement this functionality.\n",
            "Extracting ./mnist/data/train-labels-idx1-ubyte.gz\n",
            "WARNING:tensorflow:From /usr/local/lib/python3.6/dist-packages/tensorflow/contrib/learn/python/learn/datasets/mnist.py:110: dense_to_one_hot (from tensorflow.contrib.learn.python.learn.datasets.mnist) is deprecated and will be removed in a future version.\n",
            "Instructions for updating:\n",
            "Please use tf.one_hot on tensors.\n",
            "Successfully downloaded t10k-images-idx3-ubyte.gz 1648877 bytes.\n",
            "Extracting ./mnist/data/t10k-images-idx3-ubyte.gz\n",
            "Successfully downloaded t10k-labels-idx1-ubyte.gz 4542 bytes.\n",
            "Extracting ./mnist/data/t10k-labels-idx1-ubyte.gz\n",
            "WARNING:tensorflow:From /usr/local/lib/python3.6/dist-packages/tensorflow/contrib/learn/python/learn/datasets/mnist.py:290: DataSet.__init__ (from tensorflow.contrib.learn.python.learn.datasets.mnist) is deprecated and will be removed in a future version.\n",
            "Instructions for updating:\n",
            "Please use alternatives such as official/mnist/dataset.py from tensorflow/models.\n"
          ],
          "name": "stdout"
        }
      ]
    },
    {
      "cell_type": "code",
      "metadata": {
        "id": "ODSPmyPfZqTZ",
        "colab_type": "code",
        "colab": {}
      },
      "source": [
        "# 데이터를 넣을 공간인 placeholder 구성하기.\n",
        "# 데이터 개수는 값을 정해주지 않고 열어두는 의미로 None\n",
        "# conv2d는 2d 데이터를 받으므로 2d 형태로 28*28,\n",
        "# 흑백 이미지이므로 channel = 1\n",
        "\n",
        "X = tf.placeholder(tf.float32, [None, 28, 28, 1])\n",
        "\n",
        "# 데이터 개수는 오픈해두는 의미로 None\n",
        "# label 즉, target값이 0~9까지 숫자 이므로 10개의 클래스\n",
        "Y = tf.placeholder(tf.float32, [None, 10])\n",
        "\n",
        "# dropout용 placeholder\n",
        "keep_prob = tf.placeholder(tf.float32)"
      ],
      "execution_count": 0,
      "outputs": []
    },
    {
      "cell_type": "code",
      "metadata": {
        "id": "ky7Bs20RZsvJ",
        "colab_type": "code",
        "colab": {}
      },
      "source": [
        "# 첫 번째 레이어의 필터를 랜덤 정규화(표준편차 0.01)한 값으로 넣기\n",
        "# 필터 : 5*5 사이즈, input이 흑백인 채널이므로 채널수는 1, 20개의 필터를 만들겠다.\n",
        "W1 = tf.Variable(tf.random_normal([5, 5, 1, 20], stddev=0.01))\n",
        "\n",
        "# convolution layer 1 만들기\n",
        "# layer1은 입력으로 X를 받고 필터 W1을 사용하고\n",
        "# stride = [샘플수, 세로 길이, 가로 길이, 채널 수]\n",
        "# padding='SAME' : 추가 패딩은 넣지 않음(사이즈 그대로)\n",
        "L1 = tf.nn.conv2d(X, W1, strides=[1,1,1,1], padding='SAME')\n",
        "\n",
        "# layer1의 마지막에 활성화 함수 적용\n",
        "# 활성화 함수는 relu 사용\n",
        "# 비선형화된 값을 선형화 해주기 위함\n",
        "L1 = tf.nn.relu(L1)"
      ],
      "execution_count": 0,
      "outputs": []
    },
    {
      "cell_type": "code",
      "metadata": {
        "id": "dDvPpigIatLi",
        "colab_type": "code",
        "outputId": "038a7563-764c-4b23-91a9-e75c7ee440ad",
        "colab": {
          "base_uri": "https://localhost:8080/",
          "height": 53
        }
      },
      "source": [
        "print(W1)\n",
        "print(L1)"
      ],
      "execution_count": 0,
      "outputs": [
        {
          "output_type": "stream",
          "text": [
            "<tf.Variable 'Variable:0' shape=(5, 5, 1, 20) dtype=float32_ref>\n",
            "Tensor(\"Relu:0\", shape=(?, 28, 28, 20), dtype=float32)\n"
          ],
          "name": "stdout"
        }
      ]
    },
    {
      "cell_type": "code",
      "metadata": {
        "id": "RFRcT5xuav0q",
        "colab_type": "code",
        "outputId": "41649074-a74e-4f01-f099-37cb486dc82a",
        "colab": {
          "base_uri": "https://localhost:8080/",
          "height": 35
        }
      },
      "source": [
        "# 첫 번째 convolution layer 에 Pooling Layer(크기를 줄여주는 레이어) 적용하기\n",
        "# 입력 :이전 Layer\n",
        "# ksize = [샘플 수, 세로 사이즈, 가로 사이즈, 채널 수]\n",
        "# :pooling layer에서의 필터의 사이즈를 의미\n",
        "# strides = [샘플 수, 세로 스트라이드, 가로 스트라이드, 채널 수]\n",
        "# :polling layer에서의 필터의 움직임을 의미\n",
        "# strides 는 가로 세로 각각 1로 하자.\n",
        "# padding = 'SAME' : 사이즈 유지\n",
        "\n",
        "L1 = tf.nn.max_pool(L1, ksize=[1,2,2,1], strides=[1,2,2,1], padding='SAME')\n",
        "print(L1)"
      ],
      "execution_count": 0,
      "outputs": [
        {
          "output_type": "stream",
          "text": [
            "Tensor(\"MaxPool:0\", shape=(?, 14, 14, 20), dtype=float32)\n"
          ],
          "name": "stdout"
        }
      ]
    },
    {
      "cell_type": "code",
      "metadata": {
        "id": "cTb5R6FrbHAa",
        "colab_type": "code",
        "outputId": "b8b6657c-4d79-44f9-cda8-35482b119fe3",
        "colab": {
          "base_uri": "https://localhost:8080/",
          "height": 35
        }
      },
      "source": [
        "# 두 번째 레이어 구성\n",
        "# 53개의 5*5필터를 만들겠다.\n",
        "# 필터를 랜덤 정규화(표준편차 0.01)한 값으로 넣기\n",
        "\n",
        "W2 = tf.Variable(tf.random_normal([5, 5, 20, 53], stddev=0.01))\n",
        "\n",
        "# conv2d 레이어에서 strides는 가로1, 세로1로 주자.\n",
        "L2 = tf.nn.conv2d(L1, W2, strides=[1,1,1,1], padding='SAME')\n",
        "\n",
        "# activation_function으로 relu 사용\n",
        "L2 = tf.nn.relu(L2)\n",
        "\n",
        "# Pooling layer 적용(max_pool)\n",
        "L2 = tf.nn.max_pool(L2, ksize=[1, 2, 2, 1], strides=[1,2,2,1], padding='SAME')\n",
        "print(L2)"
      ],
      "execution_count": 0,
      "outputs": [
        {
          "output_type": "stream",
          "text": [
            "Tensor(\"MaxPool_1:0\", shape=(?, 7, 7, 53), dtype=float32)\n"
          ],
          "name": "stdout"
        }
      ]
    },
    {
      "cell_type": "code",
      "metadata": {
        "id": "Z87Fe5GXcZ9l",
        "colab_type": "code",
        "outputId": "34e62cca-142d-4c71-aab8-0167e5c2bb63",
        "colab": {
          "base_uri": "https://localhost:8080/",
          "height": 127
        }
      },
      "source": [
        "# 세 번째 레이어(Fully Connected Layer)\n",
        "# reshape와 행렬곱을 적용함\n",
        "# 20개의 필터를 만들겠다.\n",
        "# 필터를 랜덤 정규화(표준편차 0.01)한 값으로 넣기\n",
        "# 1차원으로 펴주는 flatten 작용이 들어가므로 [4, 4, 53, 20]으로 들어가지 않는다.\n",
        "# 앞단 필터의 가중치의 갯수, 현재 적용하고자하는 필터의 갯수\n",
        "\n",
        "W3 = tf.Variable(tf.random_normal([7*7*53, 20], stddev=0.01))\n",
        "\n",
        "# reshape 과정이 들어간다.\n",
        "# -1은 몇개의 데이터가 들어올지 모르므로 열어두는 역할\n",
        "# 뒤에 값은 앞단 필터의 가중치의 갯수\n",
        "\n",
        "L3 = tf.reshape(L2, [-1, 7*7*53])\n",
        "\n",
        "# L3와 W3를 행렬곱 해준다.\n",
        "L3 = tf.matmul(L3, W3)\n",
        "\n",
        "# 엑티베이션 펑션으로 relu 사용\n",
        "L3 = tf.nn.relu(L3)\n",
        "\n",
        "# dropout 을 통해 과적합을 줄여주자.\n",
        "L3 = tf.nn.dropout(L3, 0.3)\n",
        "\n",
        "print(L3)"
      ],
      "execution_count": 0,
      "outputs": [
        {
          "output_type": "stream",
          "text": [
            "WARNING:tensorflow:From <ipython-input-8-f38444918460>:17: calling dropout (from tensorflow.python.ops.nn_ops) with keep_prob is deprecated and will be removed in a future version.\n",
            "Instructions for updating:\n",
            "Please use `rate` instead of `keep_prob`. Rate should be set to `rate = 1 - keep_prob`.\n",
            "WARNING:tensorflow:Large dropout rate: 0.7 (>0.5). In TensorFlow 2.x, dropout() uses dropout rate instead of keep_prob. Please ensure that this is intended.\n",
            "Tensor(\"dropout/mul_1:0\", shape=(?, 20), dtype=float32)\n"
          ],
          "name": "stdout"
        }
      ]
    },
    {
      "cell_type": "code",
      "metadata": {
        "id": "J5680nMNe-8M",
        "colab_type": "code",
        "colab": {}
      },
      "source": [
        "# 마지막 레이어(Flatten Layer)\n",
        "# 필터를 랜덤 정규화(표준편차 0.01)한 값으로 넣기\n",
        "# 앞단 필터의 갯수, 현재 적용하고자 하는 필터수를 리스트로 넣어준다.\n",
        "# 현재 얻고자 하는 필터수는 10개의 숫자 값이므로 10\n",
        "\n",
        "W4 = tf.Variable(tf.random_normal([20, 10], stddev=0.01))\n",
        "model = tf.matmul(L3, W4)"
      ],
      "execution_count": 0,
      "outputs": []
    },
    {
      "cell_type": "code",
      "metadata": {
        "id": "rGHuc7wPfmLc",
        "colab_type": "code",
        "colab": {}
      },
      "source": [
        "# loss 펑션 적용 -> 활성화 함수 : softmax\n",
        "loss = tf.reduce_mean(tf.nn.softmax_cross_entropy_with_logits_v2(logits=model, labels = Y))\n",
        "\n",
        "# 최적화 방법 : AdamOptimizer 사용\n",
        "# learning_rate = 0.001\n",
        "# loss 가 최소가 되는 방향으로 최적화\n",
        "optimizer = tf.train.AdamOptimizer(0.001).minimize(loss)\n"
      ],
      "execution_count": 0,
      "outputs": []
    },
    {
      "cell_type": "code",
      "metadata": {
        "id": "tRoVQxa2f2WL",
        "colab_type": "code",
        "colab": {}
      },
      "source": [
        "# 모델 학습시키기\n",
        "# session 객체 만들기\n",
        "sess = tf.Session()\n",
        "\n",
        "# 변수 초기화를 위한 init 객체 생성\n",
        "init = tf.global_variables_initializer()\n",
        "\n",
        "# session 실행\n",
        "sess.run(init)"
      ],
      "execution_count": 0,
      "outputs": []
    },
    {
      "cell_type": "code",
      "metadata": {
        "id": "Dsfmk0OWgGOz",
        "colab_type": "code",
        "colab": {}
      },
      "source": [
        "# batch_size : 몇개 데이터 당 가중치를 갱신할 것인가\n",
        "# batch_size가 1이면 데이터 1개를 학습하고 가중치 초기화 ....\n",
        "# batch_size가 100이면 100개 데이터 학습하고 가중치 초기화\n",
        "# batch_size를 500으로 설정해보자.\n",
        "\n",
        "batch_size=500"
      ],
      "execution_count": 0,
      "outputs": []
    },
    {
      "cell_type": "code",
      "metadata": {
        "id": "Al6TS0CjgJ60",
        "colab_type": "code",
        "colab": {}
      },
      "source": [
        "# total_batch는 데이터 총 량당 가중치 초기화 횟수가 될 것이다.\n",
        "total_batch = int(mnist.train.num_examples / batch_size)"
      ],
      "execution_count": 0,
      "outputs": []
    },
    {
      "cell_type": "code",
      "metadata": {
        "id": "1Cib-DuDgLu8",
        "colab_type": "code",
        "outputId": "d40ce23d-694e-4170-ff18-6ba52ab0ad7c",
        "colab": {
          "base_uri": "https://localhost:8080/",
          "height": 107
        }
      },
      "source": [
        "# epoch : 전체 데이터를 몇번 학습시킬 것인가\n",
        "# epoch를 3회로 해보자.\n",
        "\n",
        "for epoch in range(4):\n",
        "  total_loss = 0\n",
        "  \n",
        "  #가중치 초기화할 횟수만큼 돌린다.\n",
        "  for i in range(batch_size):\n",
        "    batch_xs, batch_ys = mnist.train.next_batch(batch_size)\n",
        "    #데이터의 형태를 바꾸어준다.\n",
        "    batch_xs = batch_xs.reshape(-1, 28, 28, 1)\n",
        "    \n",
        "    # X, Y, keep_prob(dropout값, 0.7, 즉 70%만 쓰겠다고 하자)을 feed_dict 값으로 넣어주고,\n",
        "    # optimizer에 loss값을 넣어 session을 실행한다.\n",
        "    # 실행 후 값을 반환 받을 때 loss_val만 받는다.\n",
        "    \n",
        "    _, loss_val = sess.run([optimizer, loss],\n",
        "                          feed_dict = {X: batch_xs, Y: batch_ys, keep_prob:0.7})\n",
        "    \n",
        "    \n",
        "    # loss의 평균을 내보기 위해 total_loss에 loss_val값을 더해준다.\n",
        "    total_loss += loss_val\n",
        "    \n",
        "    # Epoch과 loss의 평균을 찍어본다.\n",
        "  print('Epoch:', '%04d' % (epoch+1),\n",
        "         'Avg. loss = ', '{:.3f}'.format(total_loss/total_batch))\n",
        "    \n",
        "print('최적화 완료!')"
      ],
      "execution_count": 0,
      "outputs": [
        {
          "output_type": "stream",
          "text": [
            "Epoch: 0001 Avg. loss =  6.416\n",
            "Epoch: 0002 Avg. loss =  5.258\n",
            "Epoch: 0003 Avg. loss =  4.991\n",
            "Epoch: 0004 Avg. loss =  4.847\n",
            "최적화 완료!\n"
          ],
          "name": "stdout"
        }
      ]
    },
    {
      "cell_type": "code",
      "metadata": {
        "id": "HdV9jHE7hGD0",
        "colab_type": "code",
        "colab": {}
      },
      "source": [
        ""
      ],
      "execution_count": 0,
      "outputs": []
    }
  ]
}