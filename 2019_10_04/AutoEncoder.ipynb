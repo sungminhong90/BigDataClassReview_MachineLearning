{
  "nbformat": 4,
  "nbformat_minor": 0,
  "metadata": {
    "colab": {
      "name": "AutoEncoder.ipynb",
      "provenance": []
    },
    "kernelspec": {
      "name": "python3",
      "display_name": "Python 3"
    }
  },
  "cells": [
    {
      "cell_type": "markdown",
      "metadata": {
        "id": "5ObTumV7eExQ",
        "colab_type": "text"
      },
      "source": [
        "# 04 대표적인 비지도 학습법\n",
        "- 지도학습과 비지도학습\n",
        "\n",
        "## 학습 내용\n",
        "## 01. Autoencoder란?\n",
        "## 02. 간단한 예제를 보자.\n",
        "## 03. 어디에 사용되는가?"
      ]
    },
    {
      "cell_type": "markdown",
      "metadata": {
        "id": "BRLjDfuXeMuw",
        "colab_type": "text"
      },
      "source": [
        "## 01. Autoencoder란?\n",
        "\n",
        "### 대표적인 비지도학습으로 많이 쓰이는 신경망 오토인코더(Autoencoder)가 있\n",
        "다.\n",
        "## 오토 인코더는 입력값과 출력값을 같게 하는 신경망이다.\n",
        "- 훈련 데이터와 매우 비슷한 새로운 데이터를 생성한다.\n",
        "- 만약 얼굴 사진을 이용하여 오토 인코더를 훈련시키면 이 모델은 새로운 얼굴을 생성할 수 있다.\n",
        "- 출력층의 뉴런수와 입력수가 동일하다는 것을 제외하면 일반적으로 오토 인코더는 다층 퍼셉트론과 동일한\n",
        "구조를 갖는다.\n",
        "## 인코더와 디코더로 구성\n",
        "- 입력을 내부 표현을 변경하는 인코더(encoder)\n",
        "- 내부 표현을 출력으로 바꾸는 디코더(decoder)\n",
        "## 가운데 계층의 노드 수가 입력값보다 적은 것이 특징이다.\n",
        "## 결과적으로 입력 데이터를 압축하는 효과를 얻는다. 이 과정이 노이즈 제거에 많이 효과\n",
        "적이다.\n",
        "## 변이형 오토인코더(Variational Autoencoder), 잡음제거 오토 인코더(Denoising\n",
        "Autoencoder) 등의 방식이 존재"
      ]
    },
    {
      "cell_type": "markdown",
      "metadata": {
        "id": "WwgPEmsse_Ge",
        "colab_type": "text"
      },
      "source": [
        "### 메모(알아두기) :\n",
        "- (01) 입력층으로 들어온 데이터를 인코더를 통해 은닉층으로 내보낸다.\n",
        "- (02) 은닉층의 데이터를 디코더를 통해 출력층으로 내보낸다.\n",
        "- (03) 만들어진 출력값과 입력값이 같아지도록 만드는 가중치를 찾아낸다."
      ]
    },
    {
      "cell_type": "markdown",
      "metadata": {
        "id": "wJI9vW2efA-E",
        "colab_type": "text"
      },
      "source": [
        "## 02. 간단한 예제를 보자."
      ]
    },
    {
      "cell_type": "code",
      "metadata": {
        "id": "6S55yvKhfEX8",
        "colab_type": "code",
        "colab": {}
      },
      "source": [
        "import os, warnings\n",
        "warnings.filterwarnings(action = 'ignore')"
      ],
      "execution_count": 0,
      "outputs": []
    },
    {
      "cell_type": "code",
      "metadata": {
        "id": "R2tb8MhOfV41",
        "colab_type": "code",
        "colab": {}
      },
      "source": [
        "import tensorflow as tf\n",
        "import numpy as np\n",
        "import matplotlib.pyplot as plt"
      ],
      "execution_count": 0,
      "outputs": []
    },
    {
      "cell_type": "code",
      "metadata": {
        "id": "o0qGCI3GfZxU",
        "colab_type": "code",
        "outputId": "faa3a2c6-9086-4d57-d391-4c3e97766234",
        "colab": {
          "base_uri": "https://localhost:8080/",
          "height": 559
        }
      },
      "source": [
        "from tensorflow.examples.tutorials.mnist import input_data\n",
        "mnist = input_data.read_data_sets('./mnist/data', one_hot = True)"
      ],
      "execution_count": 0,
      "outputs": [
        {
          "output_type": "stream",
          "text": [
            "WARNING:tensorflow:From <ipython-input-6-ad63f48a193f>:2: read_data_sets (from tensorflow.contrib.learn.python.learn.datasets.mnist) is deprecated and will be removed in a future version.\n",
            "Instructions for updating:\n",
            "Please use alternatives such as official/mnist/dataset.py from tensorflow/models.\n",
            "WARNING:tensorflow:From /usr/local/lib/python3.6/dist-packages/tensorflow/contrib/learn/python/learn/datasets/mnist.py:260: maybe_download (from tensorflow.contrib.learn.python.learn.datasets.base) is deprecated and will be removed in a future version.\n",
            "Instructions for updating:\n",
            "Please write your own downloading logic.\n",
            "WARNING:tensorflow:From /usr/local/lib/python3.6/dist-packages/tensorflow/contrib/learn/python/learn/datasets/base.py:252: _internal_retry.<locals>.wrap.<locals>.wrapped_fn (from tensorflow.contrib.learn.python.learn.datasets.base) is deprecated and will be removed in a future version.\n",
            "Instructions for updating:\n",
            "Please use urllib or similar directly.\n",
            "Successfully downloaded train-images-idx3-ubyte.gz 9912422 bytes.\n",
            "WARNING:tensorflow:From /usr/local/lib/python3.6/dist-packages/tensorflow/contrib/learn/python/learn/datasets/mnist.py:262: extract_images (from tensorflow.contrib.learn.python.learn.datasets.mnist) is deprecated and will be removed in a future version.\n",
            "Instructions for updating:\n",
            "Please use tf.data to implement this functionality.\n",
            "Extracting ./mnist/data/train-images-idx3-ubyte.gz\n",
            "Successfully downloaded train-labels-idx1-ubyte.gz 28881 bytes.\n",
            "WARNING:tensorflow:From /usr/local/lib/python3.6/dist-packages/tensorflow/contrib/learn/python/learn/datasets/mnist.py:267: extract_labels (from tensorflow.contrib.learn.python.learn.datasets.mnist) is deprecated and will be removed in a future version.\n",
            "Instructions for updating:\n",
            "Please use tf.data to implement this functionality.\n",
            "Extracting ./mnist/data/train-labels-idx1-ubyte.gz\n",
            "WARNING:tensorflow:From /usr/local/lib/python3.6/dist-packages/tensorflow/contrib/learn/python/learn/datasets/mnist.py:110: dense_to_one_hot (from tensorflow.contrib.learn.python.learn.datasets.mnist) is deprecated and will be removed in a future version.\n",
            "Instructions for updating:\n",
            "Please use tf.one_hot on tensors.\n",
            "Successfully downloaded t10k-images-idx3-ubyte.gz 1648877 bytes.\n",
            "Extracting ./mnist/data/t10k-images-idx3-ubyte.gz\n",
            "Successfully downloaded t10k-labels-idx1-ubyte.gz 4542 bytes.\n",
            "Extracting ./mnist/data/t10k-labels-idx1-ubyte.gz\n",
            "WARNING:tensorflow:From /usr/local/lib/python3.6/dist-packages/tensorflow/contrib/learn/python/learn/datasets/mnist.py:290: DataSet.__init__ (from tensorflow.contrib.learn.python.learn.datasets.mnist) is deprecated and will be removed in a future version.\n",
            "Instructions for updating:\n",
            "Please use alternatives such as official/mnist/dataset.py from tensorflow/models.\n"
          ],
          "name": "stdout"
        }
      ]
    },
    {
      "cell_type": "code",
      "metadata": {
        "id": "GZEEDPLffkfE",
        "colab_type": "code",
        "colab": {}
      },
      "source": [
        "learning_rate = 0.01 # 학습율 0.01\n",
        "training_epoch = 20 # 훈련 전체 데이터 사용 횟수 20회\n",
        "batch_size = 100 # 배치 사이즈 100\n",
        "n_hidden = 256 # 은닉층의 노드 개수 256 (Selected number, not designated)\n",
        "n_input = 28 * 28 # 784개 (입력층)"
      ],
      "execution_count": 0,
      "outputs": []
    },
    {
      "cell_type": "markdown",
      "metadata": {
        "id": "c_-fA5rFftSM",
        "colab_type": "text"
      },
      "source": [
        "### 오토 인코더의 핵심\n",
        "- 인코더와 디코더를 만들기\n",
        "\n",
        "### 인코더(encoder) 만들기\n",
        "- STEP 01. 맨처음은 n_hidden개의 뉴런을 가지는 은닉층을 만들기\n",
        "- STEP 02. 가중치(W)와 편향 변수(B)를 원하는 뉴런의 개수만큼 설정.\n",
        "- STEP 03. 활성화 함수 sigmoid 함수를 적용.\n",
        "- 기억해두기, n_input(입력층 노드) 값보다 n_hidden(은닉층 노드) 값이 더 작다.\n",
        "  - 항상 그런것이 아니라 은닉층이 더 큰 오토인코더 모델도 있음."
      ]
    },
    {
      "cell_type": "code",
      "metadata": {
        "id": "UizLm9_XhHvc",
        "colab_type": "code",
        "colab": {}
      },
      "source": [
        "X = tf.placeholder(tf.float32, [None, n_input])\n",
        "W_encode = tf.Variable(tf.random_normal([n_input, n_hidden])) # W의 지정\n",
        "b_encode = tf.Variable(tf.random_normal([n_hidden]))\n",
        "\n",
        "encoder = tf.nn.sigmoid(tf.add(tf.matmul(X, W_encode), b_encode))"
      ],
      "execution_count": 0,
      "outputs": []
    },
    {
      "cell_type": "markdown",
      "metadata": {
        "id": "-VaKRNCOj56-",
        "colab_type": "text"
      },
      "source": [
        "## 디코더(decoder) 만들기\n",
        "- Tip01. 여기서 입력값은 은닉층의 노드수가 된다.\n",
        "- Tip02. 출력값을 입력층의 크기로 만듬.\n",
        "\n",
        "- 은닉층 데이터를 디코더를 통해 출력층으로 내보낸다.\n",
        "- 만들어진 출력값을 입력값과 비슷해 지도록 만드는 가중치를 찾는다.\n",
        "\n",
        "- 오토 인코더의 최종목표: 출력값가 입력값을 가장 비슷하게 만든다."
      ]
    },
    {
      "cell_type": "code",
      "metadata": {
        "id": "-g3QigdVkYBz",
        "colab_type": "code",
        "colab": {}
      },
      "source": [
        "W_decode = tf.Variable(tf.random_normal([n_hidden, n_input]))\n",
        "b_decode = tf.Variable(tf.random_normal([n_input]))\n",
        "\n",
        "decoder = tf.nn.sigmoid(tf.add(tf.matmul(encoder, W_decode), b_decode))"
      ],
      "execution_count": 0,
      "outputs": []
    },
    {
      "cell_type": "markdown",
      "metadata": {
        "id": "QP1a9P9Ck1uE",
        "colab_type": "text"
      },
      "source": [
        "## 오토 인코더의 최종 목적은 출력값과 입력값을 가장 비슷하게 만드는 것\n",
        "- 이렇게 될 경우, 은닉층의 뉴런들을 통해 입력값의 특징을 알 수 있음."
      ]
    },
    {
      "cell_type": "markdown",
      "metadata": {
        "id": "C7HVZRDDlvy7",
        "colab_type": "text"
      },
      "source": [
        "## 손실함수(cost) 및 최적화(optimizer)함수\n",
        "- 입력값 X를 평가하기 위한 실측값 사용.\n",
        "- 디코더가 내보낸 결과값과의 차이(X-decoder)를 손실값으로 설정."
      ]
    },
    {
      "cell_type": "code",
      "metadata": {
        "id": "c_B0MyfQlzxr",
        "colab_type": "code",
        "colab": {}
      },
      "source": [
        "cost = tf.reduce_mean(tf.pow(X- decoder, 2))"
      ],
      "execution_count": 0,
      "outputs": []
    },
    {
      "cell_type": "markdown",
      "metadata": {
        "id": "W8B650vtl4MM",
        "colab_type": "text"
      },
      "source": [
        "## 최적함 함수 사용 : RMSPropOptimizer 함수"
      ]
    },
    {
      "cell_type": "code",
      "metadata": {
        "id": "NYVOqKlHl6Nq",
        "colab_type": "code",
        "outputId": "b4107942-324a-4058-d003-c12fae46e2a1",
        "colab": {
          "base_uri": "https://localhost:8080/",
          "height": 145
        }
      },
      "source": [
        "optimizer = tf.train.RMSPropOptimizer(learning_rate).minimize(cost)"
      ],
      "execution_count": 0,
      "outputs": [
        {
          "output_type": "stream",
          "text": [
            "WARNING:tensorflow:From /usr/local/lib/python3.6/dist-packages/tensorflow/python/ops/math_grad.py:1205: add_dispatch_support.<locals>.wrapper (from tensorflow.python.ops.array_ops) is deprecated and will be removed in a future version.\n",
            "Instructions for updating:\n",
            "Use tf.where in 2.0, which has the same broadcast rule as np.where\n",
            "WARNING:tensorflow:From /usr/local/lib/python3.6/dist-packages/tensorflow/python/training/rmsprop.py:119: calling Ones.__init__ (from tensorflow.python.ops.init_ops) with dtype is deprecated and will be removed in a future version.\n",
            "Instructions for updating:\n",
            "Call initializer instance with the dtype argument instead of passing it to the constructor\n"
          ],
          "name": "stdout"
        }
      ]
    },
    {
      "cell_type": "markdown",
      "metadata": {
        "id": "Es_rsUIEl9-T",
        "colab_type": "text"
      },
      "source": [
        "### 학습 진행\n",
        "- 세션 설정\n",
        "- 배치 사이즈 지정\n",
        "- 학습 수행"
      ]
    },
    {
      "cell_type": "code",
      "metadata": {
        "id": "dXxLh93ImsDw",
        "colab_type": "code",
        "colab": {}
      },
      "source": [
        "# learning_rate = 0.01 # 학습율 0.01\n",
        "# training_epoch = 20 # 훈련 전체 데이터 사용 횟수 20회\n",
        "# batch_size = 100 # 배치 사이즈 100\n",
        "# n_hidden = 256 # 은닉층의 노드 개수 256 (Selected number, not designated)\n",
        "# n_input = 28 * 28 # 784개 (입력층)"
      ],
      "execution_count": 0,
      "outputs": []
    },
    {
      "cell_type": "code",
      "metadata": {
        "id": "3HHSOqKBmCI0",
        "colab_type": "code",
        "outputId": "a8c551f0-2948-4256-f8c4-533ec5f0ae56",
        "colab": {
          "base_uri": "https://localhost:8080/",
          "height": 395
        }
      },
      "source": [
        "init = tf.global_variables_initializer()\n",
        "sess = tf.Session()\n",
        "sess.run(init)\n",
        "\n",
        "total_batch = int(mnist.train.num_examples/batch_size)\n",
        "\n",
        "for epoch in range(training_epoch):\n",
        "  total_cost = 0\n",
        "  \n",
        "  for i in range(total_batch):\n",
        "    batch_xs, batch_ys = mnist.train.next_batch(batch_size)\n",
        "    _, cost_val = sess.run([optimizer, cost],\n",
        "                          feed_dict = {X: batch_xs}) #비지도학습이니 y값이 필요가 없다. \n",
        "    \n",
        "    total_cost += cost_val\n",
        "    \n",
        "  print('Epoch:', '%04d' %(epoch+1),\n",
        "       'Avg Cost = ', '{:.3f}'.format(total_cost/total_batch))\n",
        "  \n",
        "print('최적화 완료!')"
      ],
      "execution_count": 0,
      "outputs": [
        {
          "output_type": "stream",
          "text": [
            "Epoch: 0001 Avg Cost =  0.197\n",
            "Epoch: 0002 Avg Cost =  0.062\n",
            "Epoch: 0003 Avg Cost =  0.049\n",
            "Epoch: 0004 Avg Cost =  0.042\n",
            "Epoch: 0005 Avg Cost =  0.040\n",
            "Epoch: 0006 Avg Cost =  0.038\n",
            "Epoch: 0007 Avg Cost =  0.037\n",
            "Epoch: 0008 Avg Cost =  0.036\n",
            "Epoch: 0009 Avg Cost =  0.035\n",
            "Epoch: 0010 Avg Cost =  0.035\n",
            "Epoch: 0011 Avg Cost =  0.034\n",
            "Epoch: 0012 Avg Cost =  0.034\n",
            "Epoch: 0013 Avg Cost =  0.033\n",
            "Epoch: 0014 Avg Cost =  0.033\n",
            "Epoch: 0015 Avg Cost =  0.033\n",
            "Epoch: 0016 Avg Cost =  0.033\n",
            "Epoch: 0017 Avg Cost =  0.032\n",
            "Epoch: 0018 Avg Cost =  0.032\n",
            "Epoch: 0019 Avg Cost =  0.032\n",
            "Epoch: 0020 Avg Cost =  0.031\n",
            "최적화 완료!\n"
          ],
          "name": "stdout"
        }
      ]
    },
    {
      "cell_type": "markdown",
      "metadata": {
        "id": "IBPN66BynOKo",
        "colab_type": "text"
      },
      "source": [
        "## 디코더로 생성해 낸 결과를 직관적 방법으로 확인"
      ]
    },
    {
      "cell_type": "code",
      "metadata": {
        "id": "eqKv67M0nqUS",
        "colab_type": "code",
        "outputId": "fe25ad02-c1cd-4a39-a6a7-aa696c940f56",
        "colab": {
          "base_uri": "https://localhost:8080/",
          "height": 251
        }
      },
      "source": [
        "sample_size = 10\n",
        "samples = sess.run(decoder, feed_dict = {X: mnist.test.images[:sample_size]})\n",
        "\n",
        "samples"
      ],
      "execution_count": 0,
      "outputs": [
        {
          "output_type": "execute_result",
          "data": {
            "text/plain": [
              "array([[1.1920929e-07, 0.0000000e+00, 0.0000000e+00, ..., 5.9604645e-08,\n",
              "        0.0000000e+00, 0.0000000e+00],\n",
              "       [0.0000000e+00, 3.2782555e-07, 0.0000000e+00, ..., 0.0000000e+00,\n",
              "        0.0000000e+00, 0.0000000e+00],\n",
              "       [1.6093254e-06, 8.9406967e-08, 0.0000000e+00, ..., 0.0000000e+00,\n",
              "        1.7285347e-06, 0.0000000e+00],\n",
              "       ...,\n",
              "       [0.0000000e+00, 0.0000000e+00, 0.0000000e+00, ..., 1.4901161e-07,\n",
              "        0.0000000e+00, 0.0000000e+00],\n",
              "       [0.0000000e+00, 0.0000000e+00, 0.0000000e+00, ..., 0.0000000e+00,\n",
              "        5.6624413e-07, 4.7683716e-07],\n",
              "       [1.1920929e-07, 0.0000000e+00, 0.0000000e+00, ..., 0.0000000e+00,\n",
              "        0.0000000e+00, 0.0000000e+00]], dtype=float32)"
            ]
          },
          "metadata": {
            "tags": []
          },
          "execution_count": 16
        }
      ]
    },
    {
      "cell_type": "code",
      "metadata": {
        "id": "xfCgLydboxA3",
        "colab_type": "code",
        "outputId": "1a819d42-577f-46dd-c20e-b22d315764ee",
        "colab": {
          "base_uri": "https://localhost:8080/",
          "height": 35
        }
      },
      "source": [
        "samples.shape"
      ],
      "execution_count": 0,
      "outputs": [
        {
          "output_type": "execute_result",
          "data": {
            "text/plain": [
              "(10, 784)"
            ]
          },
          "metadata": {
            "tags": []
          },
          "execution_count": 20
        }
      ]
    },
    {
      "cell_type": "markdown",
      "metadata": {
        "id": "S9hvmHNhnzza",
        "colab_type": "text"
      },
      "source": [
        "## 위쪽 이미지가 원본, 아래쪽이 신경망(오토인코더)가 생성"
      ]
    },
    {
      "cell_type": "code",
      "metadata": {
        "id": "MH0QcTmGn4l2",
        "colab_type": "code",
        "outputId": "2a6c8b2e-4cd2-4e89-9f74-8bcd5d25ff89",
        "colab": {
          "base_uri": "https://localhost:8080/",
          "height": 158
        }
      },
      "source": [
        "fig, ax = plt.subplots(2, sample_size, figsize=(sample_size,2))\n",
        "\n",
        "for i in range(sample_size):\n",
        "  ax[0][i].set_axis_off()  #축 표시off\n",
        "  ax[1][i].set_axis_off()\n",
        "  ax[0][i].imshow(np.reshape(mnist.test.images[i], (28,28)))\n",
        "  ax[1][i].imshow(np.reshape(samples[i], (28,28)))\n",
        "  \n",
        "  \n",
        "plt.show()"
      ],
      "execution_count": 0,
      "outputs": [
        {
          "output_type": "display_data",
          "data": {
            "image/png": "[encoded data removed]",
            "text/plain": [
              "<Figure size 720x144 with 20 Axes>"
            ]
          },
          "metadata": {
            "tags": []
          }
        }
      ]
    },
    {
      "cell_type": "code",
      "metadata": {
        "id": "PUHK8ouLpQ_O",
        "colab_type": "code",
        "outputId": "0890e579-833a-4aaa-e3a7-55cd9bbae4fd",
        "colab": {
          "base_uri": "https://localhost:8080/",
          "height": 158
        }
      },
      "source": [
        "fig, ax = plt.subplots(2, sample_size, figsize=(sample_size,2))\n",
        "\n",
        "for i in range(sample_size):\n",
        "  ax[0][i].imshow(np.reshape(mnist.test.images[i], (28,28)))\n",
        "  ax[1][i].imshow(np.reshape(samples[i], (28,28)))\n",
        "  \n",
        "  \n",
        "plt.show()"
      ],
      "execution_count": 0,
      "outputs": [
        {
          "output_type": "display_data",
          "data": {
            "image/png": "[encoded data removed]",
            "text/plain": [
              "<Figure size 720x144 with 20 Axes>"
            ]
          },
          "metadata": {
            "tags": []
          }
        }
      ]
    },
    {
      "cell_type": "markdown",
      "metadata": {
        "id": "IRch6kLMoBh6",
        "colab_type": "text"
      },
      "source": [
        "03. 어디에 사용되는가?\n",
        "\n",
        "암호화, 비정상 거래 검출 등."
      ]
    },
    {
      "cell_type": "code",
      "metadata": {
        "id": "0tdYT4fxojqK",
        "colab_type": "code",
        "colab": {}
      },
      "source": [
        ""
      ],
      "execution_count": 0,
      "outputs": []
    }
  ]
}