{
  "nbformat": 4,
  "nbformat_minor": 0,
  "metadata": {
    "colab": {
      "name": "LinearModel_Ridge_Lasso_Review.ipynb",
      "provenance": []
    },
    "kernelspec": {
      "name": "python3",
      "display_name": "Python 3"
    }
  },
  "cells": [
    {
      "cell_type": "code",
      "metadata": {
        "id": "OlH_KeS_w71P",
        "colab_type": "code",
        "colab": {
          "base_uri": "https://localhost:8080/",
          "height": 320
        },
        "outputId": "b5154bfc-162b-45f6-fc14-a400b670bc07"
      },
      "source": [
        "pip install mglearn"
      ],
      "execution_count": 1,
      "outputs": [
        {
          "output_type": "stream",
          "text": [
            "Requirement already satisfied: mglearn in /usr/local/lib/python3.6/dist-packages (0.1.7)\n",
            "Requirement already satisfied: imageio in /usr/local/lib/python3.6/dist-packages (from mglearn) (2.4.1)\n",
            "Requirement already satisfied: matplotlib in /usr/local/lib/python3.6/dist-packages (from mglearn) (3.0.3)\n",
            "Requirement already satisfied: numpy in /usr/local/lib/python3.6/dist-packages (from mglearn) (1.16.5)\n",
            "Requirement already satisfied: cycler in /usr/local/lib/python3.6/dist-packages (from mglearn) (0.10.0)\n",
            "Requirement already satisfied: scikit-learn in /usr/local/lib/python3.6/dist-packages (from mglearn) (0.21.3)\n",
            "Requirement already satisfied: pillow in /usr/local/lib/python3.6/dist-packages (from mglearn) (4.3.0)\n",
            "Requirement already satisfied: pandas in /usr/local/lib/python3.6/dist-packages (from mglearn) (0.24.2)\n",
            "Requirement already satisfied: pyparsing!=2.0.4,!=2.1.2,!=2.1.6,>=2.0.1 in /usr/local/lib/python3.6/dist-packages (from matplotlib->mglearn) (2.4.2)\n",
            "Requirement already satisfied: kiwisolver>=1.0.1 in /usr/local/lib/python3.6/dist-packages (from matplotlib->mglearn) (1.1.0)\n",
            "Requirement already satisfied: python-dateutil>=2.1 in /usr/local/lib/python3.6/dist-packages (from matplotlib->mglearn) (2.5.3)\n",
            "Requirement already satisfied: six in /usr/local/lib/python3.6/dist-packages (from cycler->mglearn) (1.12.0)\n",
            "Requirement already satisfied: scipy>=0.17.0 in /usr/local/lib/python3.6/dist-packages (from scikit-learn->mglearn) (1.3.1)\n",
            "Requirement already satisfied: joblib>=0.11 in /usr/local/lib/python3.6/dist-packages (from scikit-learn->mglearn) (0.13.2)\n",
            "Requirement already satisfied: olefile in /usr/local/lib/python3.6/dist-packages (from pillow->mglearn) (0.46)\n",
            "Requirement already satisfied: pytz>=2011k in /usr/local/lib/python3.6/dist-packages (from pandas->mglearn) (2018.9)\n",
            "Requirement already satisfied: setuptools in /usr/local/lib/python3.6/dist-packages (from kiwisolver>=1.0.1->matplotlib->mglearn) (41.2.0)\n"
          ],
          "name": "stdout"
        }
      ]
    },
    {
      "cell_type": "code",
      "metadata": {
        "id": "bwyH17-oybSl",
        "colab_type": "code",
        "colab": {
          "base_uri": "https://localhost:8080/",
          "height": 103
        },
        "outputId": "c5898171-e728-49b4-bc26-af66eeabf36c"
      },
      "source": [
        "import mglearn\n",
        "\n",
        "from sklearn.datasets import load_boston\n",
        "from sklearn.model_selection import train_test_split\n",
        "from sklearn.preprocessing import MinMaxScaler, PolynomialFeatures\n",
        "from sklearn.linear_model import Ridge\n",
        "import pandas as pd"
      ],
      "execution_count": 2,
      "outputs": [
        {
          "output_type": "stream",
          "text": [
            "/usr/local/lib/python3.6/dist-packages/sklearn/externals/six.py:31: DeprecationWarning: The module is deprecated in version 0.21 and will be removed in version 0.23 since we've dropped support for Python 2.7. Please rely on the official version of six (https://pypi.org/project/six/).\n",
            "  \"(https://pypi.org/project/six/).\", DeprecationWarning)\n",
            "/usr/local/lib/python3.6/dist-packages/sklearn/externals/joblib/__init__.py:15: DeprecationWarning: sklearn.externals.joblib is deprecated in 0.21 and will be removed in 0.23. Please import this functionality directly from joblib, which can be installed with: pip install joblib. If this warning is raised when loading pickled models, you may need to re-serialize those models with scikit-learn 0.21+.\n",
            "  warnings.warn(msg, category=DeprecationWarning)\n"
          ],
          "name": "stderr"
        }
      ]
    },
    {
      "cell_type": "code",
      "metadata": {
        "id": "8-y7HItOyi2t",
        "colab_type": "code",
        "colab": {}
      },
      "source": [
        "import matplotlib\n",
        "matplotlib.rcParams['axes.unicode_minus'] = False\n",
        "%matplotlib inline"
      ],
      "execution_count": 0,
      "outputs": []
    },
    {
      "cell_type": "code",
      "metadata": {
        "id": "MgSHBtiSytlw",
        "colab_type": "code",
        "colab": {
          "base_uri": "https://localhost:8080/",
          "height": 33
        },
        "outputId": "8b30bbce-ab9c-4c85-d3ec-bf4b4ac5c7c8"
      },
      "source": [
        "boston = load_boston()\n",
        "print(type(boston.target), type(boston.data))"
      ],
      "execution_count": 4,
      "outputs": [
        {
          "output_type": "stream",
          "text": [
            "<class 'numpy.ndarray'> <class 'numpy.ndarray'>\n"
          ],
          "name": "stdout"
        }
      ]
    },
    {
      "cell_type": "code",
      "metadata": {
        "id": "n5r_v8x9y4dE",
        "colab_type": "code",
        "colab": {
          "base_uri": "https://localhost:8080/",
          "height": 33
        },
        "outputId": "a472b9fa-971d-4695-9f59-a46f4fcc1466"
      },
      "source": [
        "print(boston.target.shape, boston.data.shape)"
      ],
      "execution_count": 5,
      "outputs": [
        {
          "output_type": "stream",
          "text": [
            "(506,) (506, 13)\n"
          ],
          "name": "stdout"
        }
      ]
    },
    {
      "cell_type": "code",
      "metadata": {
        "id": "DBgeUG3My8gq",
        "colab_type": "code",
        "colab": {
          "base_uri": "https://localhost:8080/",
          "height": 217
        },
        "outputId": "6a65c97c-959d-4e08-8afa-3f91ca236121"
      },
      "source": [
        "df_boston = pd.DataFrame(boston.data, columns = boston.feature_names)\n",
        "df_boston.head()"
      ],
      "execution_count": 6,
      "outputs": [
        {
          "output_type": "execute_result",
          "data": {
            "text/html": [
              "<div>\n",
              "<style scoped>\n",
              "    .dataframe tbody tr th:only-of-type {\n",
              "        vertical-align: middle;\n",
              "    }\n",
              "\n",
              "    .dataframe tbody tr th {\n",
              "        vertical-align: top;\n",
              "    }\n",
              "\n",
              "    .dataframe thead th {\n",
              "        text-align: right;\n",
              "    }\n",
              "</style>\n",
              "<table border=\"1\" class=\"dataframe\">\n",
              "  <thead>\n",
              "    <tr style=\"text-align: right;\">\n",
              "      <th></th>\n",
              "      <th>CRIM</th>\n",
              "      <th>ZN</th>\n",
              "      <th>INDUS</th>\n",
              "      <th>CHAS</th>\n",
              "      <th>NOX</th>\n",
              "      <th>RM</th>\n",
              "      <th>AGE</th>\n",
              "      <th>DIS</th>\n",
              "      <th>RAD</th>\n",
              "      <th>TAX</th>\n",
              "      <th>PTRATIO</th>\n",
              "      <th>B</th>\n",
              "      <th>LSTAT</th>\n",
              "    </tr>\n",
              "  </thead>\n",
              "  <tbody>\n",
              "    <tr>\n",
              "      <th>0</th>\n",
              "      <td>0.00632</td>\n",
              "      <td>18.0</td>\n",
              "      <td>2.31</td>\n",
              "      <td>0.0</td>\n",
              "      <td>0.538</td>\n",
              "      <td>6.575</td>\n",
              "      <td>65.2</td>\n",
              "      <td>4.0900</td>\n",
              "      <td>1.0</td>\n",
              "      <td>296.0</td>\n",
              "      <td>15.3</td>\n",
              "      <td>396.90</td>\n",
              "      <td>4.98</td>\n",
              "    </tr>\n",
              "    <tr>\n",
              "      <th>1</th>\n",
              "      <td>0.02731</td>\n",
              "      <td>0.0</td>\n",
              "      <td>7.07</td>\n",
              "      <td>0.0</td>\n",
              "      <td>0.469</td>\n",
              "      <td>6.421</td>\n",
              "      <td>78.9</td>\n",
              "      <td>4.9671</td>\n",
              "      <td>2.0</td>\n",
              "      <td>242.0</td>\n",
              "      <td>17.8</td>\n",
              "      <td>396.90</td>\n",
              "      <td>9.14</td>\n",
              "    </tr>\n",
              "    <tr>\n",
              "      <th>2</th>\n",
              "      <td>0.02729</td>\n",
              "      <td>0.0</td>\n",
              "      <td>7.07</td>\n",
              "      <td>0.0</td>\n",
              "      <td>0.469</td>\n",
              "      <td>7.185</td>\n",
              "      <td>61.1</td>\n",
              "      <td>4.9671</td>\n",
              "      <td>2.0</td>\n",
              "      <td>242.0</td>\n",
              "      <td>17.8</td>\n",
              "      <td>392.83</td>\n",
              "      <td>4.03</td>\n",
              "    </tr>\n",
              "    <tr>\n",
              "      <th>3</th>\n",
              "      <td>0.03237</td>\n",
              "      <td>0.0</td>\n",
              "      <td>2.18</td>\n",
              "      <td>0.0</td>\n",
              "      <td>0.458</td>\n",
              "      <td>6.998</td>\n",
              "      <td>45.8</td>\n",
              "      <td>6.0622</td>\n",
              "      <td>3.0</td>\n",
              "      <td>222.0</td>\n",
              "      <td>18.7</td>\n",
              "      <td>394.63</td>\n",
              "      <td>2.94</td>\n",
              "    </tr>\n",
              "    <tr>\n",
              "      <th>4</th>\n",
              "      <td>0.06905</td>\n",
              "      <td>0.0</td>\n",
              "      <td>2.18</td>\n",
              "      <td>0.0</td>\n",
              "      <td>0.458</td>\n",
              "      <td>7.147</td>\n",
              "      <td>54.2</td>\n",
              "      <td>6.0622</td>\n",
              "      <td>3.0</td>\n",
              "      <td>222.0</td>\n",
              "      <td>18.7</td>\n",
              "      <td>396.90</td>\n",
              "      <td>5.33</td>\n",
              "    </tr>\n",
              "  </tbody>\n",
              "</table>\n",
              "</div>"
            ],
            "text/plain": [
              "      CRIM    ZN  INDUS  CHAS    NOX  ...  RAD    TAX  PTRATIO       B  LSTAT\n",
              "0  0.00632  18.0   2.31   0.0  0.538  ...  1.0  296.0     15.3  396.90   4.98\n",
              "1  0.02731   0.0   7.07   0.0  0.469  ...  2.0  242.0     17.8  396.90   9.14\n",
              "2  0.02729   0.0   7.07   0.0  0.469  ...  2.0  242.0     17.8  392.83   4.03\n",
              "3  0.03237   0.0   2.18   0.0  0.458  ...  3.0  222.0     18.7  394.63   2.94\n",
              "4  0.06905   0.0   2.18   0.0  0.458  ...  3.0  222.0     18.7  396.90   5.33\n",
              "\n",
              "[5 rows x 13 columns]"
            ]
          },
          "metadata": {
            "tags": []
          },
          "execution_count": 6
        }
      ]
    },
    {
      "cell_type": "code",
      "metadata": {
        "id": "aQlkudP8zifp",
        "colab_type": "code",
        "colab": {
          "base_uri": "https://localhost:8080/",
          "height": 233
        },
        "outputId": "371d1952-5196-4dbf-8f7c-c1f0a665a1d8"
      },
      "source": [
        "list(df_boston)"
      ],
      "execution_count": 7,
      "outputs": [
        {
          "output_type": "execute_result",
          "data": {
            "text/plain": [
              "['CRIM',\n",
              " 'ZN',\n",
              " 'INDUS',\n",
              " 'CHAS',\n",
              " 'NOX',\n",
              " 'RM',\n",
              " 'AGE',\n",
              " 'DIS',\n",
              " 'RAD',\n",
              " 'TAX',\n",
              " 'PTRATIO',\n",
              " 'B',\n",
              " 'LSTAT']"
            ]
          },
          "metadata": {
            "tags": []
          },
          "execution_count": 7
        }
      ]
    },
    {
      "cell_type": "code",
      "metadata": {
        "id": "eVww3KSKzBvV",
        "colab_type": "code",
        "colab": {}
      },
      "source": [
        "# df_boston.loc[행 ,열 ]"
      ],
      "execution_count": 0,
      "outputs": []
    },
    {
      "cell_type": "code",
      "metadata": {
        "id": "Dt6TuHZAzD7y",
        "colab_type": "code",
        "colab": {
          "base_uri": "https://localhost:8080/",
          "height": 67
        },
        "outputId": "44dd52c4-a69f-4f8a-8744-2aeac30531fe"
      },
      "source": [
        "df_boston.columns"
      ],
      "execution_count": 9,
      "outputs": [
        {
          "output_type": "execute_result",
          "data": {
            "text/plain": [
              "Index(['CRIM', 'ZN', 'INDUS', 'CHAS', 'NOX', 'RM', 'AGE', 'DIS', 'RAD', 'TAX',\n",
              "       'PTRATIO', 'B', 'LSTAT'],\n",
              "      dtype='object')"
            ]
          },
          "metadata": {
            "tags": []
          },
          "execution_count": 9
        }
      ]
    },
    {
      "cell_type": "code",
      "metadata": {
        "id": "Gb-VdFvTzGwD",
        "colab_type": "code",
        "colab": {
          "base_uri": "https://localhost:8080/",
          "height": 1000
        },
        "outputId": "69722481-d479-4cf0-f40c-154a562df610"
      },
      "source": [
        "df_boston.loc[:, 'CRIM':'RM']"
      ],
      "execution_count": 10,
      "outputs": [
        {
          "output_type": "execute_result",
          "data": {
            "text/html": [
              "<div>\n",
              "<style scoped>\n",
              "    .dataframe tbody tr th:only-of-type {\n",
              "        vertical-align: middle;\n",
              "    }\n",
              "\n",
              "    .dataframe tbody tr th {\n",
              "        vertical-align: top;\n",
              "    }\n",
              "\n",
              "    .dataframe thead th {\n",
              "        text-align: right;\n",
              "    }\n",
              "</style>\n",
              "<table border=\"1\" class=\"dataframe\">\n",
              "  <thead>\n",
              "    <tr style=\"text-align: right;\">\n",
              "      <th></th>\n",
              "      <th>CRIM</th>\n",
              "      <th>ZN</th>\n",
              "      <th>INDUS</th>\n",
              "      <th>CHAS</th>\n",
              "      <th>NOX</th>\n",
              "      <th>RM</th>\n",
              "    </tr>\n",
              "  </thead>\n",
              "  <tbody>\n",
              "    <tr>\n",
              "      <th>0</th>\n",
              "      <td>0.00632</td>\n",
              "      <td>18.0</td>\n",
              "      <td>2.31</td>\n",
              "      <td>0.0</td>\n",
              "      <td>0.538</td>\n",
              "      <td>6.575</td>\n",
              "    </tr>\n",
              "    <tr>\n",
              "      <th>1</th>\n",
              "      <td>0.02731</td>\n",
              "      <td>0.0</td>\n",
              "      <td>7.07</td>\n",
              "      <td>0.0</td>\n",
              "      <td>0.469</td>\n",
              "      <td>6.421</td>\n",
              "    </tr>\n",
              "    <tr>\n",
              "      <th>2</th>\n",
              "      <td>0.02729</td>\n",
              "      <td>0.0</td>\n",
              "      <td>7.07</td>\n",
              "      <td>0.0</td>\n",
              "      <td>0.469</td>\n",
              "      <td>7.185</td>\n",
              "    </tr>\n",
              "    <tr>\n",
              "      <th>3</th>\n",
              "      <td>0.03237</td>\n",
              "      <td>0.0</td>\n",
              "      <td>2.18</td>\n",
              "      <td>0.0</td>\n",
              "      <td>0.458</td>\n",
              "      <td>6.998</td>\n",
              "    </tr>\n",
              "    <tr>\n",
              "      <th>4</th>\n",
              "      <td>0.06905</td>\n",
              "      <td>0.0</td>\n",
              "      <td>2.18</td>\n",
              "      <td>0.0</td>\n",
              "      <td>0.458</td>\n",
              "      <td>7.147</td>\n",
              "    </tr>\n",
              "    <tr>\n",
              "      <th>5</th>\n",
              "      <td>0.02985</td>\n",
              "      <td>0.0</td>\n",
              "      <td>2.18</td>\n",
              "      <td>0.0</td>\n",
              "      <td>0.458</td>\n",
              "      <td>6.430</td>\n",
              "    </tr>\n",
              "    <tr>\n",
              "      <th>6</th>\n",
              "      <td>0.08829</td>\n",
              "      <td>12.5</td>\n",
              "      <td>7.87</td>\n",
              "      <td>0.0</td>\n",
              "      <td>0.524</td>\n",
              "      <td>6.012</td>\n",
              "    </tr>\n",
              "    <tr>\n",
              "      <th>7</th>\n",
              "      <td>0.14455</td>\n",
              "      <td>12.5</td>\n",
              "      <td>7.87</td>\n",
              "      <td>0.0</td>\n",
              "      <td>0.524</td>\n",
              "      <td>6.172</td>\n",
              "    </tr>\n",
              "    <tr>\n",
              "      <th>8</th>\n",
              "      <td>0.21124</td>\n",
              "      <td>12.5</td>\n",
              "      <td>7.87</td>\n",
              "      <td>0.0</td>\n",
              "      <td>0.524</td>\n",
              "      <td>5.631</td>\n",
              "    </tr>\n",
              "    <tr>\n",
              "      <th>9</th>\n",
              "      <td>0.17004</td>\n",
              "      <td>12.5</td>\n",
              "      <td>7.87</td>\n",
              "      <td>0.0</td>\n",
              "      <td>0.524</td>\n",
              "      <td>6.004</td>\n",
              "    </tr>\n",
              "    <tr>\n",
              "      <th>10</th>\n",
              "      <td>0.22489</td>\n",
              "      <td>12.5</td>\n",
              "      <td>7.87</td>\n",
              "      <td>0.0</td>\n",
              "      <td>0.524</td>\n",
              "      <td>6.377</td>\n",
              "    </tr>\n",
              "    <tr>\n",
              "      <th>11</th>\n",
              "      <td>0.11747</td>\n",
              "      <td>12.5</td>\n",
              "      <td>7.87</td>\n",
              "      <td>0.0</td>\n",
              "      <td>0.524</td>\n",
              "      <td>6.009</td>\n",
              "    </tr>\n",
              "    <tr>\n",
              "      <th>12</th>\n",
              "      <td>0.09378</td>\n",
              "      <td>12.5</td>\n",
              "      <td>7.87</td>\n",
              "      <td>0.0</td>\n",
              "      <td>0.524</td>\n",
              "      <td>5.889</td>\n",
              "    </tr>\n",
              "    <tr>\n",
              "      <th>13</th>\n",
              "      <td>0.62976</td>\n",
              "      <td>0.0</td>\n",
              "      <td>8.14</td>\n",
              "      <td>0.0</td>\n",
              "      <td>0.538</td>\n",
              "      <td>5.949</td>\n",
              "    </tr>\n",
              "    <tr>\n",
              "      <th>14</th>\n",
              "      <td>0.63796</td>\n",
              "      <td>0.0</td>\n",
              "      <td>8.14</td>\n",
              "      <td>0.0</td>\n",
              "      <td>0.538</td>\n",
              "      <td>6.096</td>\n",
              "    </tr>\n",
              "    <tr>\n",
              "      <th>15</th>\n",
              "      <td>0.62739</td>\n",
              "      <td>0.0</td>\n",
              "      <td>8.14</td>\n",
              "      <td>0.0</td>\n",
              "      <td>0.538</td>\n",
              "      <td>5.834</td>\n",
              "    </tr>\n",
              "    <tr>\n",
              "      <th>16</th>\n",
              "      <td>1.05393</td>\n",
              "      <td>0.0</td>\n",
              "      <td>8.14</td>\n",
              "      <td>0.0</td>\n",
              "      <td>0.538</td>\n",
              "      <td>5.935</td>\n",
              "    </tr>\n",
              "    <tr>\n",
              "      <th>17</th>\n",
              "      <td>0.78420</td>\n",
              "      <td>0.0</td>\n",
              "      <td>8.14</td>\n",
              "      <td>0.0</td>\n",
              "      <td>0.538</td>\n",
              "      <td>5.990</td>\n",
              "    </tr>\n",
              "    <tr>\n",
              "      <th>18</th>\n",
              "      <td>0.80271</td>\n",
              "      <td>0.0</td>\n",
              "      <td>8.14</td>\n",
              "      <td>0.0</td>\n",
              "      <td>0.538</td>\n",
              "      <td>5.456</td>\n",
              "    </tr>\n",
              "    <tr>\n",
              "      <th>19</th>\n",
              "      <td>0.72580</td>\n",
              "      <td>0.0</td>\n",
              "      <td>8.14</td>\n",
              "      <td>0.0</td>\n",
              "      <td>0.538</td>\n",
              "      <td>5.727</td>\n",
              "    </tr>\n",
              "    <tr>\n",
              "      <th>20</th>\n",
              "      <td>1.25179</td>\n",
              "      <td>0.0</td>\n",
              "      <td>8.14</td>\n",
              "      <td>0.0</td>\n",
              "      <td>0.538</td>\n",
              "      <td>5.570</td>\n",
              "    </tr>\n",
              "    <tr>\n",
              "      <th>21</th>\n",
              "      <td>0.85204</td>\n",
              "      <td>0.0</td>\n",
              "      <td>8.14</td>\n",
              "      <td>0.0</td>\n",
              "      <td>0.538</td>\n",
              "      <td>5.965</td>\n",
              "    </tr>\n",
              "    <tr>\n",
              "      <th>22</th>\n",
              "      <td>1.23247</td>\n",
              "      <td>0.0</td>\n",
              "      <td>8.14</td>\n",
              "      <td>0.0</td>\n",
              "      <td>0.538</td>\n",
              "      <td>6.142</td>\n",
              "    </tr>\n",
              "    <tr>\n",
              "      <th>23</th>\n",
              "      <td>0.98843</td>\n",
              "      <td>0.0</td>\n",
              "      <td>8.14</td>\n",
              "      <td>0.0</td>\n",
              "      <td>0.538</td>\n",
              "      <td>5.813</td>\n",
              "    </tr>\n",
              "    <tr>\n",
              "      <th>24</th>\n",
              "      <td>0.75026</td>\n",
              "      <td>0.0</td>\n",
              "      <td>8.14</td>\n",
              "      <td>0.0</td>\n",
              "      <td>0.538</td>\n",
              "      <td>5.924</td>\n",
              "    </tr>\n",
              "    <tr>\n",
              "      <th>25</th>\n",
              "      <td>0.84054</td>\n",
              "      <td>0.0</td>\n",
              "      <td>8.14</td>\n",
              "      <td>0.0</td>\n",
              "      <td>0.538</td>\n",
              "      <td>5.599</td>\n",
              "    </tr>\n",
              "    <tr>\n",
              "      <th>26</th>\n",
              "      <td>0.67191</td>\n",
              "      <td>0.0</td>\n",
              "      <td>8.14</td>\n",
              "      <td>0.0</td>\n",
              "      <td>0.538</td>\n",
              "      <td>5.813</td>\n",
              "    </tr>\n",
              "    <tr>\n",
              "      <th>27</th>\n",
              "      <td>0.95577</td>\n",
              "      <td>0.0</td>\n",
              "      <td>8.14</td>\n",
              "      <td>0.0</td>\n",
              "      <td>0.538</td>\n",
              "      <td>6.047</td>\n",
              "    </tr>\n",
              "    <tr>\n",
              "      <th>28</th>\n",
              "      <td>0.77299</td>\n",
              "      <td>0.0</td>\n",
              "      <td>8.14</td>\n",
              "      <td>0.0</td>\n",
              "      <td>0.538</td>\n",
              "      <td>6.495</td>\n",
              "    </tr>\n",
              "    <tr>\n",
              "      <th>29</th>\n",
              "      <td>1.00245</td>\n",
              "      <td>0.0</td>\n",
              "      <td>8.14</td>\n",
              "      <td>0.0</td>\n",
              "      <td>0.538</td>\n",
              "      <td>6.674</td>\n",
              "    </tr>\n",
              "    <tr>\n",
              "      <th>...</th>\n",
              "      <td>...</td>\n",
              "      <td>...</td>\n",
              "      <td>...</td>\n",
              "      <td>...</td>\n",
              "      <td>...</td>\n",
              "      <td>...</td>\n",
              "    </tr>\n",
              "    <tr>\n",
              "      <th>476</th>\n",
              "      <td>4.87141</td>\n",
              "      <td>0.0</td>\n",
              "      <td>18.10</td>\n",
              "      <td>0.0</td>\n",
              "      <td>0.614</td>\n",
              "      <td>6.484</td>\n",
              "    </tr>\n",
              "    <tr>\n",
              "      <th>477</th>\n",
              "      <td>15.02340</td>\n",
              "      <td>0.0</td>\n",
              "      <td>18.10</td>\n",
              "      <td>0.0</td>\n",
              "      <td>0.614</td>\n",
              "      <td>5.304</td>\n",
              "    </tr>\n",
              "    <tr>\n",
              "      <th>478</th>\n",
              "      <td>10.23300</td>\n",
              "      <td>0.0</td>\n",
              "      <td>18.10</td>\n",
              "      <td>0.0</td>\n",
              "      <td>0.614</td>\n",
              "      <td>6.185</td>\n",
              "    </tr>\n",
              "    <tr>\n",
              "      <th>479</th>\n",
              "      <td>14.33370</td>\n",
              "      <td>0.0</td>\n",
              "      <td>18.10</td>\n",
              "      <td>0.0</td>\n",
              "      <td>0.614</td>\n",
              "      <td>6.229</td>\n",
              "    </tr>\n",
              "    <tr>\n",
              "      <th>480</th>\n",
              "      <td>5.82401</td>\n",
              "      <td>0.0</td>\n",
              "      <td>18.10</td>\n",
              "      <td>0.0</td>\n",
              "      <td>0.532</td>\n",
              "      <td>6.242</td>\n",
              "    </tr>\n",
              "    <tr>\n",
              "      <th>481</th>\n",
              "      <td>5.70818</td>\n",
              "      <td>0.0</td>\n",
              "      <td>18.10</td>\n",
              "      <td>0.0</td>\n",
              "      <td>0.532</td>\n",
              "      <td>6.750</td>\n",
              "    </tr>\n",
              "    <tr>\n",
              "      <th>482</th>\n",
              "      <td>5.73116</td>\n",
              "      <td>0.0</td>\n",
              "      <td>18.10</td>\n",
              "      <td>0.0</td>\n",
              "      <td>0.532</td>\n",
              "      <td>7.061</td>\n",
              "    </tr>\n",
              "    <tr>\n",
              "      <th>483</th>\n",
              "      <td>2.81838</td>\n",
              "      <td>0.0</td>\n",
              "      <td>18.10</td>\n",
              "      <td>0.0</td>\n",
              "      <td>0.532</td>\n",
              "      <td>5.762</td>\n",
              "    </tr>\n",
              "    <tr>\n",
              "      <th>484</th>\n",
              "      <td>2.37857</td>\n",
              "      <td>0.0</td>\n",
              "      <td>18.10</td>\n",
              "      <td>0.0</td>\n",
              "      <td>0.583</td>\n",
              "      <td>5.871</td>\n",
              "    </tr>\n",
              "    <tr>\n",
              "      <th>485</th>\n",
              "      <td>3.67367</td>\n",
              "      <td>0.0</td>\n",
              "      <td>18.10</td>\n",
              "      <td>0.0</td>\n",
              "      <td>0.583</td>\n",
              "      <td>6.312</td>\n",
              "    </tr>\n",
              "    <tr>\n",
              "      <th>486</th>\n",
              "      <td>5.69175</td>\n",
              "      <td>0.0</td>\n",
              "      <td>18.10</td>\n",
              "      <td>0.0</td>\n",
              "      <td>0.583</td>\n",
              "      <td>6.114</td>\n",
              "    </tr>\n",
              "    <tr>\n",
              "      <th>487</th>\n",
              "      <td>4.83567</td>\n",
              "      <td>0.0</td>\n",
              "      <td>18.10</td>\n",
              "      <td>0.0</td>\n",
              "      <td>0.583</td>\n",
              "      <td>5.905</td>\n",
              "    </tr>\n",
              "    <tr>\n",
              "      <th>488</th>\n",
              "      <td>0.15086</td>\n",
              "      <td>0.0</td>\n",
              "      <td>27.74</td>\n",
              "      <td>0.0</td>\n",
              "      <td>0.609</td>\n",
              "      <td>5.454</td>\n",
              "    </tr>\n",
              "    <tr>\n",
              "      <th>489</th>\n",
              "      <td>0.18337</td>\n",
              "      <td>0.0</td>\n",
              "      <td>27.74</td>\n",
              "      <td>0.0</td>\n",
              "      <td>0.609</td>\n",
              "      <td>5.414</td>\n",
              "    </tr>\n",
              "    <tr>\n",
              "      <th>490</th>\n",
              "      <td>0.20746</td>\n",
              "      <td>0.0</td>\n",
              "      <td>27.74</td>\n",
              "      <td>0.0</td>\n",
              "      <td>0.609</td>\n",
              "      <td>5.093</td>\n",
              "    </tr>\n",
              "    <tr>\n",
              "      <th>491</th>\n",
              "      <td>0.10574</td>\n",
              "      <td>0.0</td>\n",
              "      <td>27.74</td>\n",
              "      <td>0.0</td>\n",
              "      <td>0.609</td>\n",
              "      <td>5.983</td>\n",
              "    </tr>\n",
              "    <tr>\n",
              "      <th>492</th>\n",
              "      <td>0.11132</td>\n",
              "      <td>0.0</td>\n",
              "      <td>27.74</td>\n",
              "      <td>0.0</td>\n",
              "      <td>0.609</td>\n",
              "      <td>5.983</td>\n",
              "    </tr>\n",
              "    <tr>\n",
              "      <th>493</th>\n",
              "      <td>0.17331</td>\n",
              "      <td>0.0</td>\n",
              "      <td>9.69</td>\n",
              "      <td>0.0</td>\n",
              "      <td>0.585</td>\n",
              "      <td>5.707</td>\n",
              "    </tr>\n",
              "    <tr>\n",
              "      <th>494</th>\n",
              "      <td>0.27957</td>\n",
              "      <td>0.0</td>\n",
              "      <td>9.69</td>\n",
              "      <td>0.0</td>\n",
              "      <td>0.585</td>\n",
              "      <td>5.926</td>\n",
              "    </tr>\n",
              "    <tr>\n",
              "      <th>495</th>\n",
              "      <td>0.17899</td>\n",
              "      <td>0.0</td>\n",
              "      <td>9.69</td>\n",
              "      <td>0.0</td>\n",
              "      <td>0.585</td>\n",
              "      <td>5.670</td>\n",
              "    </tr>\n",
              "    <tr>\n",
              "      <th>496</th>\n",
              "      <td>0.28960</td>\n",
              "      <td>0.0</td>\n",
              "      <td>9.69</td>\n",
              "      <td>0.0</td>\n",
              "      <td>0.585</td>\n",
              "      <td>5.390</td>\n",
              "    </tr>\n",
              "    <tr>\n",
              "      <th>497</th>\n",
              "      <td>0.26838</td>\n",
              "      <td>0.0</td>\n",
              "      <td>9.69</td>\n",
              "      <td>0.0</td>\n",
              "      <td>0.585</td>\n",
              "      <td>5.794</td>\n",
              "    </tr>\n",
              "    <tr>\n",
              "      <th>498</th>\n",
              "      <td>0.23912</td>\n",
              "      <td>0.0</td>\n",
              "      <td>9.69</td>\n",
              "      <td>0.0</td>\n",
              "      <td>0.585</td>\n",
              "      <td>6.019</td>\n",
              "    </tr>\n",
              "    <tr>\n",
              "      <th>499</th>\n",
              "      <td>0.17783</td>\n",
              "      <td>0.0</td>\n",
              "      <td>9.69</td>\n",
              "      <td>0.0</td>\n",
              "      <td>0.585</td>\n",
              "      <td>5.569</td>\n",
              "    </tr>\n",
              "    <tr>\n",
              "      <th>500</th>\n",
              "      <td>0.22438</td>\n",
              "      <td>0.0</td>\n",
              "      <td>9.69</td>\n",
              "      <td>0.0</td>\n",
              "      <td>0.585</td>\n",
              "      <td>6.027</td>\n",
              "    </tr>\n",
              "    <tr>\n",
              "      <th>501</th>\n",
              "      <td>0.06263</td>\n",
              "      <td>0.0</td>\n",
              "      <td>11.93</td>\n",
              "      <td>0.0</td>\n",
              "      <td>0.573</td>\n",
              "      <td>6.593</td>\n",
              "    </tr>\n",
              "    <tr>\n",
              "      <th>502</th>\n",
              "      <td>0.04527</td>\n",
              "      <td>0.0</td>\n",
              "      <td>11.93</td>\n",
              "      <td>0.0</td>\n",
              "      <td>0.573</td>\n",
              "      <td>6.120</td>\n",
              "    </tr>\n",
              "    <tr>\n",
              "      <th>503</th>\n",
              "      <td>0.06076</td>\n",
              "      <td>0.0</td>\n",
              "      <td>11.93</td>\n",
              "      <td>0.0</td>\n",
              "      <td>0.573</td>\n",
              "      <td>6.976</td>\n",
              "    </tr>\n",
              "    <tr>\n",
              "      <th>504</th>\n",
              "      <td>0.10959</td>\n",
              "      <td>0.0</td>\n",
              "      <td>11.93</td>\n",
              "      <td>0.0</td>\n",
              "      <td>0.573</td>\n",
              "      <td>6.794</td>\n",
              "    </tr>\n",
              "    <tr>\n",
              "      <th>505</th>\n",
              "      <td>0.04741</td>\n",
              "      <td>0.0</td>\n",
              "      <td>11.93</td>\n",
              "      <td>0.0</td>\n",
              "      <td>0.573</td>\n",
              "      <td>6.030</td>\n",
              "    </tr>\n",
              "  </tbody>\n",
              "</table>\n",
              "<p>506 rows × 6 columns</p>\n",
              "</div>"
            ],
            "text/plain": [
              "         CRIM    ZN  INDUS  CHAS    NOX     RM\n",
              "0     0.00632  18.0   2.31   0.0  0.538  6.575\n",
              "1     0.02731   0.0   7.07   0.0  0.469  6.421\n",
              "2     0.02729   0.0   7.07   0.0  0.469  7.185\n",
              "3     0.03237   0.0   2.18   0.0  0.458  6.998\n",
              "4     0.06905   0.0   2.18   0.0  0.458  7.147\n",
              "5     0.02985   0.0   2.18   0.0  0.458  6.430\n",
              "6     0.08829  12.5   7.87   0.0  0.524  6.012\n",
              "7     0.14455  12.5   7.87   0.0  0.524  6.172\n",
              "8     0.21124  12.5   7.87   0.0  0.524  5.631\n",
              "9     0.17004  12.5   7.87   0.0  0.524  6.004\n",
              "10    0.22489  12.5   7.87   0.0  0.524  6.377\n",
              "11    0.11747  12.5   7.87   0.0  0.524  6.009\n",
              "12    0.09378  12.5   7.87   0.0  0.524  5.889\n",
              "13    0.62976   0.0   8.14   0.0  0.538  5.949\n",
              "14    0.63796   0.0   8.14   0.0  0.538  6.096\n",
              "15    0.62739   0.0   8.14   0.0  0.538  5.834\n",
              "16    1.05393   0.0   8.14   0.0  0.538  5.935\n",
              "17    0.78420   0.0   8.14   0.0  0.538  5.990\n",
              "18    0.80271   0.0   8.14   0.0  0.538  5.456\n",
              "19    0.72580   0.0   8.14   0.0  0.538  5.727\n",
              "20    1.25179   0.0   8.14   0.0  0.538  5.570\n",
              "21    0.85204   0.0   8.14   0.0  0.538  5.965\n",
              "22    1.23247   0.0   8.14   0.0  0.538  6.142\n",
              "23    0.98843   0.0   8.14   0.0  0.538  5.813\n",
              "24    0.75026   0.0   8.14   0.0  0.538  5.924\n",
              "25    0.84054   0.0   8.14   0.0  0.538  5.599\n",
              "26    0.67191   0.0   8.14   0.0  0.538  5.813\n",
              "27    0.95577   0.0   8.14   0.0  0.538  6.047\n",
              "28    0.77299   0.0   8.14   0.0  0.538  6.495\n",
              "29    1.00245   0.0   8.14   0.0  0.538  6.674\n",
              "..        ...   ...    ...   ...    ...    ...\n",
              "476   4.87141   0.0  18.10   0.0  0.614  6.484\n",
              "477  15.02340   0.0  18.10   0.0  0.614  5.304\n",
              "478  10.23300   0.0  18.10   0.0  0.614  6.185\n",
              "479  14.33370   0.0  18.10   0.0  0.614  6.229\n",
              "480   5.82401   0.0  18.10   0.0  0.532  6.242\n",
              "481   5.70818   0.0  18.10   0.0  0.532  6.750\n",
              "482   5.73116   0.0  18.10   0.0  0.532  7.061\n",
              "483   2.81838   0.0  18.10   0.0  0.532  5.762\n",
              "484   2.37857   0.0  18.10   0.0  0.583  5.871\n",
              "485   3.67367   0.0  18.10   0.0  0.583  6.312\n",
              "486   5.69175   0.0  18.10   0.0  0.583  6.114\n",
              "487   4.83567   0.0  18.10   0.0  0.583  5.905\n",
              "488   0.15086   0.0  27.74   0.0  0.609  5.454\n",
              "489   0.18337   0.0  27.74   0.0  0.609  5.414\n",
              "490   0.20746   0.0  27.74   0.0  0.609  5.093\n",
              "491   0.10574   0.0  27.74   0.0  0.609  5.983\n",
              "492   0.11132   0.0  27.74   0.0  0.609  5.983\n",
              "493   0.17331   0.0   9.69   0.0  0.585  5.707\n",
              "494   0.27957   0.0   9.69   0.0  0.585  5.926\n",
              "495   0.17899   0.0   9.69   0.0  0.585  5.670\n",
              "496   0.28960   0.0   9.69   0.0  0.585  5.390\n",
              "497   0.26838   0.0   9.69   0.0  0.585  5.794\n",
              "498   0.23912   0.0   9.69   0.0  0.585  6.019\n",
              "499   0.17783   0.0   9.69   0.0  0.585  5.569\n",
              "500   0.22438   0.0   9.69   0.0  0.585  6.027\n",
              "501   0.06263   0.0  11.93   0.0  0.573  6.593\n",
              "502   0.04527   0.0  11.93   0.0  0.573  6.120\n",
              "503   0.06076   0.0  11.93   0.0  0.573  6.976\n",
              "504   0.10959   0.0  11.93   0.0  0.573  6.794\n",
              "505   0.04741   0.0  11.93   0.0  0.573  6.030\n",
              "\n",
              "[506 rows x 6 columns]"
            ]
          },
          "metadata": {
            "tags": []
          },
          "execution_count": 10
        }
      ]
    },
    {
      "cell_type": "code",
      "metadata": {
        "id": "_o2md0WhzM66",
        "colab_type": "code",
        "colab": {}
      },
      "source": [
        "X = df_boston.loc[:, 'CRIM':'LSTAT']\n",
        "y = boston.target"
      ],
      "execution_count": 0,
      "outputs": []
    },
    {
      "cell_type": "code",
      "metadata": {
        "id": "5B0qxhMPz51z",
        "colab_type": "code",
        "colab": {}
      },
      "source": [
        "X_train, X_test, y_train, y_test = train_test_split(X, y, random_state = 100)"
      ],
      "execution_count": 0,
      "outputs": []
    },
    {
      "cell_type": "code",
      "metadata": {
        "id": "n3VeE90e0gfJ",
        "colab_type": "code",
        "colab": {}
      },
      "source": [
        "#array로 바꾸어 주고 싶을 때는 아래와 같이 - \n",
        "# X_train = X_train.values\n",
        "# y_train = y_train.values\n",
        "# X_test = X_test.values\n",
        "# y_test = y_test.values"
      ],
      "execution_count": 0,
      "outputs": []
    },
    {
      "cell_type": "code",
      "metadata": {
        "id": "BsVREVhm0kil",
        "colab_type": "code",
        "colab": {}
      },
      "source": [
        "from sklearn.linear_model import LinearRegression"
      ],
      "execution_count": 0,
      "outputs": []
    },
    {
      "cell_type": "code",
      "metadata": {
        "id": "07xANzqc0mr2",
        "colab_type": "code",
        "colab": {}
      },
      "source": [
        "model = LinearRegression().fit(X_train, y_train)"
      ],
      "execution_count": 0,
      "outputs": []
    },
    {
      "cell_type": "code",
      "metadata": {
        "id": "N-0IgnsB0nyW",
        "colab_type": "code",
        "colab": {
          "base_uri": "https://localhost:8080/",
          "height": 50
        },
        "outputId": "68963a6d-a0cf-427b-b610-cab0e51e47f7"
      },
      "source": [
        "print('훈련 데이터 셋 점수 : {:.2f}'.format(model.score(X_train, y_train)))\n",
        "print('테스트 데이터 셋 점수 : {:.2f}'.format(model.score(X_test, y_test)))"
      ],
      "execution_count": 19,
      "outputs": [
        {
          "output_type": "stream",
          "text": [
            "훈련 데이터 셋 점수 : 0.74\n",
            "테스트 데이터 셋 점수 : 0.72\n"
          ],
          "name": "stdout"
        }
      ]
    },
    {
      "cell_type": "code",
      "metadata": {
        "id": "Opxcjs9r0plz",
        "colab_type": "code",
        "colab": {}
      },
      "source": [
        "pred = model.predict(X_test)"
      ],
      "execution_count": 0,
      "outputs": []
    },
    {
      "cell_type": "code",
      "metadata": {
        "id": "-nohs5Ss0t0c",
        "colab_type": "code",
        "colab": {}
      },
      "source": [
        "dat = pd.DataFrame({'y_test': y_test, 'prediction': pred, 'difference': y_test - pred})"
      ],
      "execution_count": 0,
      "outputs": []
    },
    {
      "cell_type": "code",
      "metadata": {
        "id": "MOOkrVBl025w",
        "colab_type": "code",
        "colab": {
          "base_uri": "https://localhost:8080/",
          "height": 1000
        },
        "outputId": "42201244-b744-45b5-e106-ea84e171234d"
      },
      "source": [
        "dat"
      ],
      "execution_count": 24,
      "outputs": [
        {
          "output_type": "execute_result",
          "data": {
            "text/html": [
              "<div>\n",
              "<style scoped>\n",
              "    .dataframe tbody tr th:only-of-type {\n",
              "        vertical-align: middle;\n",
              "    }\n",
              "\n",
              "    .dataframe tbody tr th {\n",
              "        vertical-align: top;\n",
              "    }\n",
              "\n",
              "    .dataframe thead th {\n",
              "        text-align: right;\n",
              "    }\n",
              "</style>\n",
              "<table border=\"1\" class=\"dataframe\">\n",
              "  <thead>\n",
              "    <tr style=\"text-align: right;\">\n",
              "      <th></th>\n",
              "      <th>y_test</th>\n",
              "      <th>prediction</th>\n",
              "      <th>difference</th>\n",
              "    </tr>\n",
              "  </thead>\n",
              "  <tbody>\n",
              "    <tr>\n",
              "      <th>0</th>\n",
              "      <td>34.6</td>\n",
              "      <td>34.325609</td>\n",
              "      <td>0.274391</td>\n",
              "    </tr>\n",
              "    <tr>\n",
              "      <th>1</th>\n",
              "      <td>31.5</td>\n",
              "      <td>31.263351</td>\n",
              "      <td>0.236649</td>\n",
              "    </tr>\n",
              "    <tr>\n",
              "      <th>2</th>\n",
              "      <td>20.6</td>\n",
              "      <td>22.280033</td>\n",
              "      <td>-1.680033</td>\n",
              "    </tr>\n",
              "    <tr>\n",
              "      <th>3</th>\n",
              "      <td>14.5</td>\n",
              "      <td>17.869751</td>\n",
              "      <td>-3.369751</td>\n",
              "    </tr>\n",
              "    <tr>\n",
              "      <th>4</th>\n",
              "      <td>16.2</td>\n",
              "      <td>20.406069</td>\n",
              "      <td>-4.206069</td>\n",
              "    </tr>\n",
              "    <tr>\n",
              "      <th>5</th>\n",
              "      <td>22.3</td>\n",
              "      <td>25.913034</td>\n",
              "      <td>-3.613034</td>\n",
              "    </tr>\n",
              "    <tr>\n",
              "      <th>6</th>\n",
              "      <td>22.8</td>\n",
              "      <td>26.152422</td>\n",
              "      <td>-3.352422</td>\n",
              "    </tr>\n",
              "    <tr>\n",
              "      <th>7</th>\n",
              "      <td>24.4</td>\n",
              "      <td>23.663754</td>\n",
              "      <td>0.736246</td>\n",
              "    </tr>\n",
              "    <tr>\n",
              "      <th>8</th>\n",
              "      <td>19.8</td>\n",
              "      <td>22.301690</td>\n",
              "      <td>-2.501690</td>\n",
              "    </tr>\n",
              "    <tr>\n",
              "      <th>9</th>\n",
              "      <td>16.7</td>\n",
              "      <td>19.592344</td>\n",
              "      <td>-2.892344</td>\n",
              "    </tr>\n",
              "    <tr>\n",
              "      <th>10</th>\n",
              "      <td>23.2</td>\n",
              "      <td>26.754891</td>\n",
              "      <td>-3.554891</td>\n",
              "    </tr>\n",
              "    <tr>\n",
              "      <th>11</th>\n",
              "      <td>15.1</td>\n",
              "      <td>17.294205</td>\n",
              "      <td>-2.194205</td>\n",
              "    </tr>\n",
              "    <tr>\n",
              "      <th>12</th>\n",
              "      <td>21.0</td>\n",
              "      <td>20.808176</td>\n",
              "      <td>0.191824</td>\n",
              "    </tr>\n",
              "    <tr>\n",
              "      <th>13</th>\n",
              "      <td>18.9</td>\n",
              "      <td>15.467819</td>\n",
              "      <td>3.432181</td>\n",
              "    </tr>\n",
              "    <tr>\n",
              "      <th>14</th>\n",
              "      <td>48.5</td>\n",
              "      <td>41.692479</td>\n",
              "      <td>6.807521</td>\n",
              "    </tr>\n",
              "    <tr>\n",
              "      <th>15</th>\n",
              "      <td>24.1</td>\n",
              "      <td>20.167464</td>\n",
              "      <td>3.932536</td>\n",
              "    </tr>\n",
              "    <tr>\n",
              "      <th>16</th>\n",
              "      <td>22.5</td>\n",
              "      <td>28.770292</td>\n",
              "      <td>-6.270292</td>\n",
              "    </tr>\n",
              "    <tr>\n",
              "      <th>17</th>\n",
              "      <td>16.1</td>\n",
              "      <td>19.020211</td>\n",
              "      <td>-2.920211</td>\n",
              "    </tr>\n",
              "    <tr>\n",
              "      <th>18</th>\n",
              "      <td>30.3</td>\n",
              "      <td>32.389887</td>\n",
              "      <td>-2.089887</td>\n",
              "    </tr>\n",
              "    <tr>\n",
              "      <th>19</th>\n",
              "      <td>50.0</td>\n",
              "      <td>40.438730</td>\n",
              "      <td>9.561270</td>\n",
              "    </tr>\n",
              "    <tr>\n",
              "      <th>20</th>\n",
              "      <td>33.8</td>\n",
              "      <td>35.047993</td>\n",
              "      <td>-1.247993</td>\n",
              "    </tr>\n",
              "    <tr>\n",
              "      <th>21</th>\n",
              "      <td>10.4</td>\n",
              "      <td>16.838538</td>\n",
              "      <td>-6.438538</td>\n",
              "    </tr>\n",
              "    <tr>\n",
              "      <th>22</th>\n",
              "      <td>20.4</td>\n",
              "      <td>20.330534</td>\n",
              "      <td>0.069466</td>\n",
              "    </tr>\n",
              "    <tr>\n",
              "      <th>23</th>\n",
              "      <td>14.2</td>\n",
              "      <td>18.097974</td>\n",
              "      <td>-3.897974</td>\n",
              "    </tr>\n",
              "    <tr>\n",
              "      <th>24</th>\n",
              "      <td>10.5</td>\n",
              "      <td>13.806444</td>\n",
              "      <td>-3.306444</td>\n",
              "    </tr>\n",
              "    <tr>\n",
              "      <th>25</th>\n",
              "      <td>12.7</td>\n",
              "      <td>12.418847</td>\n",
              "      <td>0.281153</td>\n",
              "    </tr>\n",
              "    <tr>\n",
              "      <th>26</th>\n",
              "      <td>24.5</td>\n",
              "      <td>27.470629</td>\n",
              "      <td>-2.970629</td>\n",
              "    </tr>\n",
              "    <tr>\n",
              "      <th>27</th>\n",
              "      <td>16.7</td>\n",
              "      <td>20.405075</td>\n",
              "      <td>-3.705075</td>\n",
              "    </tr>\n",
              "    <tr>\n",
              "      <th>28</th>\n",
              "      <td>20.1</td>\n",
              "      <td>18.754289</td>\n",
              "      <td>1.345711</td>\n",
              "    </tr>\n",
              "    <tr>\n",
              "      <th>29</th>\n",
              "      <td>17.1</td>\n",
              "      <td>20.256621</td>\n",
              "      <td>-3.156621</td>\n",
              "    </tr>\n",
              "    <tr>\n",
              "      <th>...</th>\n",
              "      <td>...</td>\n",
              "      <td>...</td>\n",
              "      <td>...</td>\n",
              "    </tr>\n",
              "    <tr>\n",
              "      <th>97</th>\n",
              "      <td>50.0</td>\n",
              "      <td>36.018235</td>\n",
              "      <td>13.981765</td>\n",
              "    </tr>\n",
              "    <tr>\n",
              "      <th>98</th>\n",
              "      <td>7.2</td>\n",
              "      <td>18.297511</td>\n",
              "      <td>-11.097511</td>\n",
              "    </tr>\n",
              "    <tr>\n",
              "      <th>99</th>\n",
              "      <td>50.0</td>\n",
              "      <td>22.452541</td>\n",
              "      <td>27.547459</td>\n",
              "    </tr>\n",
              "    <tr>\n",
              "      <th>100</th>\n",
              "      <td>14.0</td>\n",
              "      <td>13.975577</td>\n",
              "      <td>0.024423</td>\n",
              "    </tr>\n",
              "    <tr>\n",
              "      <th>101</th>\n",
              "      <td>11.0</td>\n",
              "      <td>14.396903</td>\n",
              "      <td>-3.396903</td>\n",
              "    </tr>\n",
              "    <tr>\n",
              "      <th>102</th>\n",
              "      <td>10.2</td>\n",
              "      <td>17.433257</td>\n",
              "      <td>-7.233257</td>\n",
              "    </tr>\n",
              "    <tr>\n",
              "      <th>103</th>\n",
              "      <td>22.1</td>\n",
              "      <td>26.738630</td>\n",
              "      <td>-4.638630</td>\n",
              "    </tr>\n",
              "    <tr>\n",
              "      <th>104</th>\n",
              "      <td>41.3</td>\n",
              "      <td>32.048556</td>\n",
              "      <td>9.251444</td>\n",
              "    </tr>\n",
              "    <tr>\n",
              "      <th>105</th>\n",
              "      <td>17.6</td>\n",
              "      <td>15.878805</td>\n",
              "      <td>1.721195</td>\n",
              "    </tr>\n",
              "    <tr>\n",
              "      <th>106</th>\n",
              "      <td>24.7</td>\n",
              "      <td>24.626398</td>\n",
              "      <td>0.073602</td>\n",
              "    </tr>\n",
              "    <tr>\n",
              "      <th>107</th>\n",
              "      <td>8.5</td>\n",
              "      <td>16.587411</td>\n",
              "      <td>-8.087411</td>\n",
              "    </tr>\n",
              "    <tr>\n",
              "      <th>108</th>\n",
              "      <td>8.1</td>\n",
              "      <td>3.686689</td>\n",
              "      <td>4.413311</td>\n",
              "    </tr>\n",
              "    <tr>\n",
              "      <th>109</th>\n",
              "      <td>26.4</td>\n",
              "      <td>22.736716</td>\n",
              "      <td>3.663284</td>\n",
              "    </tr>\n",
              "    <tr>\n",
              "      <th>110</th>\n",
              "      <td>23.0</td>\n",
              "      <td>23.799656</td>\n",
              "      <td>-0.799656</td>\n",
              "    </tr>\n",
              "    <tr>\n",
              "      <th>111</th>\n",
              "      <td>35.1</td>\n",
              "      <td>35.169784</td>\n",
              "      <td>-0.069784</td>\n",
              "    </tr>\n",
              "    <tr>\n",
              "      <th>112</th>\n",
              "      <td>35.4</td>\n",
              "      <td>31.098104</td>\n",
              "      <td>4.301896</td>\n",
              "    </tr>\n",
              "    <tr>\n",
              "      <th>113</th>\n",
              "      <td>12.8</td>\n",
              "      <td>13.836578</td>\n",
              "      <td>-1.036578</td>\n",
              "    </tr>\n",
              "    <tr>\n",
              "      <th>114</th>\n",
              "      <td>24.0</td>\n",
              "      <td>25.231522</td>\n",
              "      <td>-1.231522</td>\n",
              "    </tr>\n",
              "    <tr>\n",
              "      <th>115</th>\n",
              "      <td>20.2</td>\n",
              "      <td>16.594181</td>\n",
              "      <td>3.605819</td>\n",
              "    </tr>\n",
              "    <tr>\n",
              "      <th>116</th>\n",
              "      <td>29.4</td>\n",
              "      <td>30.828607</td>\n",
              "      <td>-1.428607</td>\n",
              "    </tr>\n",
              "    <tr>\n",
              "      <th>117</th>\n",
              "      <td>16.0</td>\n",
              "      <td>18.161391</td>\n",
              "      <td>-2.161391</td>\n",
              "    </tr>\n",
              "    <tr>\n",
              "      <th>118</th>\n",
              "      <td>50.0</td>\n",
              "      <td>25.179393</td>\n",
              "      <td>24.820607</td>\n",
              "    </tr>\n",
              "    <tr>\n",
              "      <th>119</th>\n",
              "      <td>8.5</td>\n",
              "      <td>9.218568</td>\n",
              "      <td>-0.718568</td>\n",
              "    </tr>\n",
              "    <tr>\n",
              "      <th>120</th>\n",
              "      <td>14.9</td>\n",
              "      <td>17.868957</td>\n",
              "      <td>-2.968957</td>\n",
              "    </tr>\n",
              "    <tr>\n",
              "      <th>121</th>\n",
              "      <td>13.8</td>\n",
              "      <td>20.270959</td>\n",
              "      <td>-6.470959</td>\n",
              "    </tr>\n",
              "    <tr>\n",
              "      <th>122</th>\n",
              "      <td>21.8</td>\n",
              "      <td>20.665192</td>\n",
              "      <td>1.134808</td>\n",
              "    </tr>\n",
              "    <tr>\n",
              "      <th>123</th>\n",
              "      <td>23.1</td>\n",
              "      <td>24.692270</td>\n",
              "      <td>-1.592270</td>\n",
              "    </tr>\n",
              "    <tr>\n",
              "      <th>124</th>\n",
              "      <td>20.1</td>\n",
              "      <td>21.174351</td>\n",
              "      <td>-1.074351</td>\n",
              "    </tr>\n",
              "    <tr>\n",
              "      <th>125</th>\n",
              "      <td>13.4</td>\n",
              "      <td>15.798677</td>\n",
              "      <td>-2.398677</td>\n",
              "    </tr>\n",
              "    <tr>\n",
              "      <th>126</th>\n",
              "      <td>15.3</td>\n",
              "      <td>20.271053</td>\n",
              "      <td>-4.971053</td>\n",
              "    </tr>\n",
              "  </tbody>\n",
              "</table>\n",
              "<p>127 rows × 3 columns</p>\n",
              "</div>"
            ],
            "text/plain": [
              "     y_test  prediction  difference\n",
              "0      34.6   34.325609    0.274391\n",
              "1      31.5   31.263351    0.236649\n",
              "2      20.6   22.280033   -1.680033\n",
              "3      14.5   17.869751   -3.369751\n",
              "4      16.2   20.406069   -4.206069\n",
              "5      22.3   25.913034   -3.613034\n",
              "6      22.8   26.152422   -3.352422\n",
              "7      24.4   23.663754    0.736246\n",
              "8      19.8   22.301690   -2.501690\n",
              "9      16.7   19.592344   -2.892344\n",
              "10     23.2   26.754891   -3.554891\n",
              "11     15.1   17.294205   -2.194205\n",
              "12     21.0   20.808176    0.191824\n",
              "13     18.9   15.467819    3.432181\n",
              "14     48.5   41.692479    6.807521\n",
              "15     24.1   20.167464    3.932536\n",
              "16     22.5   28.770292   -6.270292\n",
              "17     16.1   19.020211   -2.920211\n",
              "18     30.3   32.389887   -2.089887\n",
              "19     50.0   40.438730    9.561270\n",
              "20     33.8   35.047993   -1.247993\n",
              "21     10.4   16.838538   -6.438538\n",
              "22     20.4   20.330534    0.069466\n",
              "23     14.2   18.097974   -3.897974\n",
              "24     10.5   13.806444   -3.306444\n",
              "25     12.7   12.418847    0.281153\n",
              "26     24.5   27.470629   -2.970629\n",
              "27     16.7   20.405075   -3.705075\n",
              "28     20.1   18.754289    1.345711\n",
              "29     17.1   20.256621   -3.156621\n",
              "..      ...         ...         ...\n",
              "97     50.0   36.018235   13.981765\n",
              "98      7.2   18.297511  -11.097511\n",
              "99     50.0   22.452541   27.547459\n",
              "100    14.0   13.975577    0.024423\n",
              "101    11.0   14.396903   -3.396903\n",
              "102    10.2   17.433257   -7.233257\n",
              "103    22.1   26.738630   -4.638630\n",
              "104    41.3   32.048556    9.251444\n",
              "105    17.6   15.878805    1.721195\n",
              "106    24.7   24.626398    0.073602\n",
              "107     8.5   16.587411   -8.087411\n",
              "108     8.1    3.686689    4.413311\n",
              "109    26.4   22.736716    3.663284\n",
              "110    23.0   23.799656   -0.799656\n",
              "111    35.1   35.169784   -0.069784\n",
              "112    35.4   31.098104    4.301896\n",
              "113    12.8   13.836578   -1.036578\n",
              "114    24.0   25.231522   -1.231522\n",
              "115    20.2   16.594181    3.605819\n",
              "116    29.4   30.828607   -1.428607\n",
              "117    16.0   18.161391   -2.161391\n",
              "118    50.0   25.179393   24.820607\n",
              "119     8.5    9.218568   -0.718568\n",
              "120    14.9   17.868957   -2.968957\n",
              "121    13.8   20.270959   -6.470959\n",
              "122    21.8   20.665192    1.134808\n",
              "123    23.1   24.692270   -1.592270\n",
              "124    20.1   21.174351   -1.074351\n",
              "125    13.4   15.798677   -2.398677\n",
              "126    15.3   20.271053   -4.971053\n",
              "\n",
              "[127 rows x 3 columns]"
            ]
          },
          "metadata": {
            "tags": []
          },
          "execution_count": 24
        }
      ]
    },
    {
      "cell_type": "code",
      "metadata": {
        "id": "dydqZPxt1Fyk",
        "colab_type": "code",
        "colab": {}
      },
      "source": [
        "# 데이터를 한 번 정규화 해보쟝!\n",
        "X=boston.data\n",
        "y=boston.target"
      ],
      "execution_count": 0,
      "outputs": []
    },
    {
      "cell_type": "code",
      "metadata": {
        "id": "pyIQGf4E1MZC",
        "colab_type": "code",
        "colab": {
          "base_uri": "https://localhost:8080/",
          "height": 33
        },
        "outputId": "38e80297-22dd-4247-92bd-e16c4432a8ed"
      },
      "source": [
        "print(\"정규화 확장 전 데이터 셋은:\", X.shape, y.shape)\n",
        "normalize_X = MinMaxScaler().fit_transform(X)\n",
        "ex_X = PolynomialFeatures(degree = 2, include_bias = False).fit_transform(normalize_X) "
      ],
      "execution_count": 28,
      "outputs": [
        {
          "output_type": "stream",
          "text": [
            "정규화 확장 전 데이터 셋은: (506, 13) (506,)\n"
          ],
          "name": "stdout"
        }
      ]
    },
    {
      "cell_type": "code",
      "metadata": {
        "id": "GLaQV0tH1dZr",
        "colab_type": "code",
        "colab": {
          "base_uri": "https://localhost:8080/",
          "height": 33
        },
        "outputId": "c75d8cf1-1d2d-44e7-dcb0-6e2d972c2f2d"
      },
      "source": [
        "print('정규화 후 데이터 셋은:', ex_X.shape, y.shape)"
      ],
      "execution_count": 30,
      "outputs": [
        {
          "output_type": "stream",
          "text": [
            "정규화 후 데이터 셋은: (506, 104) (506,)\n"
          ],
          "name": "stdout"
        }
      ]
    },
    {
      "cell_type": "code",
      "metadata": {
        "id": "80B5LyZ31rra",
        "colab_type": "code",
        "colab": {}
      },
      "source": [
        "X_train, X_test, y_train, y_test = train_test_split(ex_X, y, random_state = 100)"
      ],
      "execution_count": 0,
      "outputs": []
    },
    {
      "cell_type": "code",
      "metadata": {
        "id": "I9Qzfwnj12aH",
        "colab_type": "code",
        "colab": {}
      },
      "source": [
        "m_model = LinearRegression().fit(X_train, y_train)"
      ],
      "execution_count": 0,
      "outputs": []
    },
    {
      "cell_type": "code",
      "metadata": {
        "id": "aHBgFrHg16lr",
        "colab_type": "code",
        "colab": {}
      },
      "source": [
        "pred = m_model.predict(X_test)"
      ],
      "execution_count": 0,
      "outputs": []
    },
    {
      "cell_type": "code",
      "metadata": {
        "id": "x-jDaukH18b7",
        "colab_type": "code",
        "colab": {
          "base_uri": "https://localhost:8080/",
          "height": 50
        },
        "outputId": "14e0a5c0-c256-4325-8404-07650093d6dc"
      },
      "source": [
        "print('훈련 데이터 셋 점수: {:.2f}'.format(m_model.score(X_train, y_train)))\n",
        "print('테스트 데이터 셋 점수: {:.2f}'.format(m_model.score(X_test, y_test)))"
      ],
      "execution_count": 34,
      "outputs": [
        {
          "output_type": "stream",
          "text": [
            "훈련 데이터 셋 점수: 0.94\n",
            "테스트 데이터 셋 점수: 0.84\n"
          ],
          "name": "stdout"
        }
      ]
    },
    {
      "cell_type": "code",
      "metadata": {
        "id": "7rGOYw4-2JzZ",
        "colab_type": "code",
        "colab": {}
      },
      "source": [
        "#Alpha 값이 커지면 커질 수록 제한이 더 크다 (= 0에 수렴한다)"
      ],
      "execution_count": 0,
      "outputs": []
    },
    {
      "cell_type": "code",
      "metadata": {
        "id": "CPJM6O6m2Pg6",
        "colab_type": "code",
        "colab": {}
      },
      "source": [
        "from sklearn.linear_model import Ridge"
      ],
      "execution_count": 0,
      "outputs": []
    },
    {
      "cell_type": "code",
      "metadata": {
        "id": "3TPq94AO2SJl",
        "colab_type": "code",
        "colab": {
          "base_uri": "https://localhost:8080/",
          "height": 50
        },
        "outputId": "646f3714-1d47-47fb-e50f-2931d1af7628"
      },
      "source": [
        "# Ridge 기본 형 = alpha = 1 (이래서 ()안에 아무것도 안써 줘도 된다. )\n",
        "ridge = Ridge().fit(X_train, y_train)\n",
        "print(ridge)"
      ],
      "execution_count": 37,
      "outputs": [
        {
          "output_type": "stream",
          "text": [
            "Ridge(alpha=1.0, copy_X=True, fit_intercept=True, max_iter=None,\n",
            "      normalize=False, random_state=None, solver='auto', tol=0.001)\n"
          ],
          "name": "stdout"
        }
      ]
    },
    {
      "cell_type": "code",
      "metadata": {
        "id": "8nVRa69d2dGf",
        "colab_type": "code",
        "colab": {
          "base_uri": "https://localhost:8080/",
          "height": 50
        },
        "outputId": "e060ef2d-4065-46c0-8fef-d80251b0e239"
      },
      "source": [
        "print('Alpha가 1일 때 훈련 데이터 셋 점수 : {:.2f}'.format(ridge.score(X_train, y_train)))\n",
        "print('Alpha가 1일 때 테스트 데이터 셋 점수: {:.2f}'.format(ridge.score(X_test, y_test)))"
      ],
      "execution_count": 43,
      "outputs": [
        {
          "output_type": "stream",
          "text": [
            "Alpha가 1일 때 훈련 데이터 셋 점수 : 0.86\n",
            "Alpha가 1일 때 테스트 데이터 셋 점수: 0.83\n"
          ],
          "name": "stdout"
        }
      ]
    },
    {
      "cell_type": "code",
      "metadata": {
        "id": "Mhvd1-GZ2rJr",
        "colab_type": "code",
        "colab": {
          "base_uri": "https://localhost:8080/",
          "height": 50
        },
        "outputId": "62a2e758-a4df-44b3-f30b-1095c43cdda9"
      },
      "source": [
        "# Ridge 가 10 일 때:\n",
        "ridge10 = Ridge(alpha=10).fit(X_train, y_train)\n",
        "print(ridge10)"
      ],
      "execution_count": 40,
      "outputs": [
        {
          "output_type": "stream",
          "text": [
            "Ridge(alpha=10, copy_X=True, fit_intercept=True, max_iter=None, normalize=False,\n",
            "      random_state=None, solver='auto', tol=0.001)\n"
          ],
          "name": "stdout"
        }
      ]
    },
    {
      "cell_type": "code",
      "metadata": {
        "id": "6ph_CtOP24o2",
        "colab_type": "code",
        "colab": {
          "base_uri": "https://localhost:8080/",
          "height": 50
        },
        "outputId": "2968271e-894b-4702-a39b-d7bc38d07b0b"
      },
      "source": [
        "print('Alpha가 10일 때 훈련 데이터 셋 점수 : {:.2f}'.format(ridge10.score(X_train, y_train)))\n",
        "print('Alpha가 10일 때 테스트 데이터 셋 점수: {:.2f}'.format(ridge10.score(X_test, y_test)))"
      ],
      "execution_count": 44,
      "outputs": [
        {
          "output_type": "stream",
          "text": [
            "Alpha가 10일 때 훈련 데이터 셋 점수 : 0.76\n",
            "Alpha가 10일 때 테스트 데이터 셋 점수: 0.73\n"
          ],
          "name": "stdout"
        }
      ]
    },
    {
      "cell_type": "code",
      "metadata": {
        "id": "P1w_OHZz288L",
        "colab_type": "code",
        "colab": {
          "base_uri": "https://localhost:8080/",
          "height": 50
        },
        "outputId": "396d60b7-c297-40b3-cc48-af82c38b8fe1"
      },
      "source": [
        "# Ridge가 0.1 일때:\n",
        "ridge01 = Ridge(alpha=0.1).fit(X_train, y_train)\n",
        "print(ridge01)"
      ],
      "execution_count": 42,
      "outputs": [
        {
          "output_type": "stream",
          "text": [
            "Ridge(alpha=0.1, copy_X=True, fit_intercept=True, max_iter=None,\n",
            "      normalize=False, random_state=None, solver='auto', tol=0.001)\n"
          ],
          "name": "stdout"
        }
      ]
    },
    {
      "cell_type": "code",
      "metadata": {
        "id": "GNr2qClm3Hg7",
        "colab_type": "code",
        "colab": {
          "base_uri": "https://localhost:8080/",
          "height": 50
        },
        "outputId": "7c59479f-ddf3-4610-c6e0-d976b04e440c"
      },
      "source": [
        "print('Alpha가 0.1일 때 훈련 데이터 셋 점수: {:.2f}'.format(ridge01.score(X_train, y_train)))\n",
        "print('Alpha가 0,1일 때 테스트 데이터 셋 점수: {:.2f}'.format(ridge01.score(X_test, y_test)))"
      ],
      "execution_count": 45,
      "outputs": [
        {
          "output_type": "stream",
          "text": [
            "Alpha가 0.1일 때 훈련 데이터 셋 점수: 0.91\n",
            "Alpha가 0,1일 때 테스트 데이터 셋 점수: 0.87\n"
          ],
          "name": "stdout"
        }
      ]
    },
    {
      "cell_type": "code",
      "metadata": {
        "id": "VainG5QN3pq2",
        "colab_type": "code",
        "colab": {
          "base_uri": "https://localhost:8080/",
          "height": 50
        },
        "outputId": "f156b894-19ba-4a1f-922f-9df7177d448a"
      },
      "source": [
        "# Ridge가 0.01일 때:\n",
        "ridge001 = Ridge(alpha=0.01).fit(X_train, y_train)\n",
        "print(ridge001)"
      ],
      "execution_count": 46,
      "outputs": [
        {
          "output_type": "stream",
          "text": [
            "Ridge(alpha=0.01, copy_X=True, fit_intercept=True, max_iter=None,\n",
            "      normalize=False, random_state=None, solver='auto', tol=0.001)\n"
          ],
          "name": "stdout"
        }
      ]
    },
    {
      "cell_type": "code",
      "metadata": {
        "id": "6up9UYmF30LM",
        "colab_type": "code",
        "colab": {
          "base_uri": "https://localhost:8080/",
          "height": 50
        },
        "outputId": "42f787da-0cee-4036-93aa-6e2662f01285"
      },
      "source": [
        "print(\"Alpha가 0.01일 때 학습 데이터 셋의 점수는: {:.2f}\".format(ridge001.score(X_train, y_train)))\n",
        "print('Alpha가 0.01일 때 테스트 데이터 셋의 점수는: {:.2f}'.format(ridge001.score(X_test, y_test)))"
      ],
      "execution_count": 47,
      "outputs": [
        {
          "output_type": "stream",
          "text": [
            "Alpha가 0.01일 때 학습 데이터 셋의 점수는: 0.93\n",
            "Alpha가 0.01일 때 테스트 데이터 셋의 점수는: 0.87\n"
          ],
          "name": "stdout"
        }
      ]
    },
    {
      "cell_type": "code",
      "metadata": {
        "id": "lSMRqH_j4GIs",
        "colab_type": "code",
        "colab": {
          "base_uri": "https://localhost:8080/",
          "height": 50
        },
        "outputId": "2c833dc5-1bee-47d3-ba04-f006e13b1e74"
      },
      "source": [
        "### RIDGE=100\n",
        "ridge_100 = Ridge(alpha=100).fit(X_train, y_train)\n",
        "print(ridge_100)"
      ],
      "execution_count": 48,
      "outputs": [
        {
          "output_type": "stream",
          "text": [
            "Ridge(alpha=100, copy_X=True, fit_intercept=True, max_iter=None,\n",
            "      normalize=False, random_state=None, solver='auto', tol=0.001)\n"
          ],
          "name": "stdout"
        }
      ]
    },
    {
      "cell_type": "code",
      "metadata": {
        "id": "bC6fZtYc4Jf8",
        "colab_type": "code",
        "colab": {
          "base_uri": "https://localhost:8080/",
          "height": 50
        },
        "outputId": "3f0656c5-9b5b-4a5c-fe04-ea70823e1472"
      },
      "source": [
        "print('훈련 데이터 셋 점수 : {:.2f}'.format(ridge_100.score(X_train, y_train)))\n",
        "print('테스트 데이터 셋 점수 : {:.2f}'.format(ridge_100.score(X_test, y_test)))"
      ],
      "execution_count": 49,
      "outputs": [
        {
          "output_type": "stream",
          "text": [
            "훈련 데이터 셋 점수 : 0.56\n",
            "테스트 데이터 셋 점수 : 0.51\n"
          ],
          "name": "stdout"
        }
      ]
    },
    {
      "cell_type": "code",
      "metadata": {
        "id": "9fdPD4wr4KyY",
        "colab_type": "code",
        "colab": {
          "base_uri": "https://localhost:8080/",
          "height": 183
        },
        "outputId": "327c9b52-1792-4576-e70c-27aeb857815b"
      },
      "source": [
        "# 좀 더 똑똑하게 for문을 써서 풀어보자\n",
        "list = [0.01, 0.1, 1, 10, 100]\n",
        "for i in list:\n",
        "  ridgei = Ridge(alpha=i).fit(X_train, y_train)\n",
        "  print('Alpha = {}일 때 훈련 데이터 셋의 점수는: {:.2f}'.format(i, ridgei.score(X_train, y_train)))\n",
        "  print('Alpha = {}일 때 테스트 데이터 셋의 점수는: {:.2f}'.format(i, ridgei.score(X_test, y_test)))"
      ],
      "execution_count": 50,
      "outputs": [
        {
          "output_type": "stream",
          "text": [
            "Alpha = 0.01일 때 훈련 데이터 셋의 점수는: 0.93\n",
            "Alpha = 0.01일 때 테스트 데이터 셋의 점수는: 0.87\n",
            "Alpha = 0.1일 때 훈련 데이터 셋의 점수는: 0.91\n",
            "Alpha = 0.1일 때 테스트 데이터 셋의 점수는: 0.87\n",
            "Alpha = 1일 때 훈련 데이터 셋의 점수는: 0.86\n",
            "Alpha = 1일 때 테스트 데이터 셋의 점수는: 0.83\n",
            "Alpha = 10일 때 훈련 데이터 셋의 점수는: 0.76\n",
            "Alpha = 10일 때 테스트 데이터 셋의 점수는: 0.73\n",
            "Alpha = 100일 때 훈련 데이터 셋의 점수는: 0.56\n",
            "Alpha = 100일 때 테스트 데이터 셋의 점수는: 0.51\n"
          ],
          "name": "stdout"
        }
      ]
    },
    {
      "cell_type": "code",
      "metadata": {
        "id": "Q_z5P89U5mUA",
        "colab_type": "code",
        "colab": {}
      },
      "source": [
        "import numpy as np"
      ],
      "execution_count": 0,
      "outputs": []
    },
    {
      "cell_type": "code",
      "metadata": {
        "id": "m90GL6uu5DYB",
        "colab_type": "code",
        "colab": {
          "base_uri": "https://localhost:8080/",
          "height": 1000
        },
        "outputId": "772cb352-bd26-40f4-c4c1-97400da58abc"
      },
      "source": [
        "# 최적의 alpha 값을 한 번 찾아보자\n",
        "list = np.arange(0.1, 10, 0.1)\n",
        "for i in list:\n",
        "  ridge = Ridge(alpha=i).fit(X_train, y_train)\n",
        "  print('Alpha = {}일 때 훈련 셋의 점수는: {:.2f}'.format(i, ridge.score(X_train, y_train)))\n",
        "  print('Alpha = {}일 때 테스트 셋의 점수는: {:.2f}'.format(i, ridge.score(X_test, y_test)))"
      ],
      "execution_count": 53,
      "outputs": [
        {
          "output_type": "stream",
          "text": [
            "Alpha = 0.1일 때 훈련 셋의 점수는: 0.91\n",
            "Alpha = 0.1일 때 테스트 셋의 점수는: 0.87\n",
            "Alpha = 0.2일 때 훈련 셋의 점수는: 0.90\n",
            "Alpha = 0.2일 때 테스트 셋의 점수는: 0.86\n",
            "Alpha = 0.30000000000000004일 때 훈련 셋의 점수는: 0.89\n",
            "Alpha = 0.30000000000000004일 때 테스트 셋의 점수는: 0.86\n",
            "Alpha = 0.4일 때 훈련 셋의 점수는: 0.88\n",
            "Alpha = 0.4일 때 테스트 셋의 점수는: 0.85\n",
            "Alpha = 0.5일 때 훈련 셋의 점수는: 0.88\n",
            "Alpha = 0.5일 때 테스트 셋의 점수는: 0.85\n",
            "Alpha = 0.6일 때 훈련 셋의 점수는: 0.88\n",
            "Alpha = 0.6일 때 테스트 셋의 점수는: 0.84\n",
            "Alpha = 0.7000000000000001일 때 훈련 셋의 점수는: 0.87\n",
            "Alpha = 0.7000000000000001일 때 테스트 셋의 점수는: 0.84\n",
            "Alpha = 0.8일 때 훈련 셋의 점수는: 0.87\n",
            "Alpha = 0.8일 때 테스트 셋의 점수는: 0.84\n",
            "Alpha = 0.9일 때 훈련 셋의 점수는: 0.86\n",
            "Alpha = 0.9일 때 테스트 셋의 점수는: 0.83\n",
            "Alpha = 1.0일 때 훈련 셋의 점수는: 0.86\n",
            "Alpha = 1.0일 때 테스트 셋의 점수는: 0.83\n",
            "Alpha = 1.1일 때 훈련 셋의 점수는: 0.86\n",
            "Alpha = 1.1일 때 테스트 셋의 점수는: 0.83\n",
            "Alpha = 1.2000000000000002일 때 훈련 셋의 점수는: 0.86\n",
            "Alpha = 1.2000000000000002일 때 테스트 셋의 점수는: 0.82\n",
            "Alpha = 1.3000000000000003일 때 훈련 셋의 점수는: 0.85\n",
            "Alpha = 1.3000000000000003일 때 테스트 셋의 점수는: 0.82\n",
            "Alpha = 1.4000000000000001일 때 훈련 셋의 점수는: 0.85\n",
            "Alpha = 1.4000000000000001일 때 테스트 셋의 점수는: 0.82\n",
            "Alpha = 1.5000000000000002일 때 훈련 셋의 점수는: 0.85\n",
            "Alpha = 1.5000000000000002일 때 테스트 셋의 점수는: 0.82\n",
            "Alpha = 1.6일 때 훈련 셋의 점수는: 0.85\n",
            "Alpha = 1.6일 때 테스트 셋의 점수는: 0.82\n",
            "Alpha = 1.7000000000000002일 때 훈련 셋의 점수는: 0.84\n",
            "Alpha = 1.7000000000000002일 때 테스트 셋의 점수는: 0.81\n",
            "Alpha = 1.8000000000000003일 때 훈련 셋의 점수는: 0.84\n",
            "Alpha = 1.8000000000000003일 때 테스트 셋의 점수는: 0.81\n",
            "Alpha = 1.9000000000000001일 때 훈련 셋의 점수는: 0.84\n",
            "Alpha = 1.9000000000000001일 때 테스트 셋의 점수는: 0.81\n",
            "Alpha = 2.0일 때 훈련 셋의 점수는: 0.84\n",
            "Alpha = 2.0일 때 테스트 셋의 점수는: 0.81\n",
            "Alpha = 2.1일 때 훈련 셋의 점수는: 0.84\n",
            "Alpha = 2.1일 때 테스트 셋의 점수는: 0.81\n",
            "Alpha = 2.2일 때 훈련 셋의 점수는: 0.83\n",
            "Alpha = 2.2일 때 테스트 셋의 점수는: 0.80\n",
            "Alpha = 2.3000000000000003일 때 훈련 셋의 점수는: 0.83\n",
            "Alpha = 2.3000000000000003일 때 테스트 셋의 점수는: 0.80\n",
            "Alpha = 2.4000000000000004일 때 훈련 셋의 점수는: 0.83\n",
            "Alpha = 2.4000000000000004일 때 테스트 셋의 점수는: 0.80\n",
            "Alpha = 2.5000000000000004일 때 훈련 셋의 점수는: 0.83\n",
            "Alpha = 2.5000000000000004일 때 테스트 셋의 점수는: 0.80\n",
            "Alpha = 2.6일 때 훈련 셋의 점수는: 0.83\n",
            "Alpha = 2.6일 때 테스트 셋의 점수는: 0.80\n",
            "Alpha = 2.7일 때 훈련 셋의 점수는: 0.82\n",
            "Alpha = 2.7일 때 테스트 셋의 점수는: 0.79\n",
            "Alpha = 2.8000000000000003일 때 훈련 셋의 점수는: 0.82\n",
            "Alpha = 2.8000000000000003일 때 테스트 셋의 점수는: 0.79\n",
            "Alpha = 2.9000000000000004일 때 훈련 셋의 점수는: 0.82\n",
            "Alpha = 2.9000000000000004일 때 테스트 셋의 점수는: 0.79\n",
            "Alpha = 3.0000000000000004일 때 훈련 셋의 점수는: 0.82\n",
            "Alpha = 3.0000000000000004일 때 테스트 셋의 점수는: 0.79\n",
            "Alpha = 3.1일 때 훈련 셋의 점수는: 0.82\n",
            "Alpha = 3.1일 때 테스트 셋의 점수는: 0.79\n",
            "Alpha = 3.2일 때 훈련 셋의 점수는: 0.82\n",
            "Alpha = 3.2일 때 테스트 셋의 점수는: 0.79\n",
            "Alpha = 3.3000000000000003일 때 훈련 셋의 점수는: 0.82\n",
            "Alpha = 3.3000000000000003일 때 테스트 셋의 점수는: 0.79\n",
            "Alpha = 3.4000000000000004일 때 훈련 셋의 점수는: 0.81\n",
            "Alpha = 3.4000000000000004일 때 테스트 셋의 점수는: 0.78\n",
            "Alpha = 3.5000000000000004일 때 훈련 셋의 점수는: 0.81\n",
            "Alpha = 3.5000000000000004일 때 테스트 셋의 점수는: 0.78\n",
            "Alpha = 3.6일 때 훈련 셋의 점수는: 0.81\n",
            "Alpha = 3.6일 때 테스트 셋의 점수는: 0.78\n",
            "Alpha = 3.7일 때 훈련 셋의 점수는: 0.81\n",
            "Alpha = 3.7일 때 테스트 셋의 점수는: 0.78\n",
            "Alpha = 3.8000000000000003일 때 훈련 셋의 점수는: 0.81\n",
            "Alpha = 3.8000000000000003일 때 테스트 셋의 점수는: 0.78\n",
            "Alpha = 3.9000000000000004일 때 훈련 셋의 점수는: 0.81\n",
            "Alpha = 3.9000000000000004일 때 테스트 셋의 점수는: 0.78\n",
            "Alpha = 4.0일 때 훈련 셋의 점수는: 0.81\n",
            "Alpha = 4.0일 때 테스트 셋의 점수는: 0.78\n",
            "Alpha = 4.1일 때 훈련 셋의 점수는: 0.81\n",
            "Alpha = 4.1일 때 테스트 셋의 점수는: 0.78\n",
            "Alpha = 4.2일 때 훈련 셋의 점수는: 0.80\n",
            "Alpha = 4.2일 때 테스트 셋의 점수는: 0.77\n",
            "Alpha = 4.3일 때 훈련 셋의 점수는: 0.80\n",
            "Alpha = 4.3일 때 테스트 셋의 점수는: 0.77\n",
            "Alpha = 4.3999999999999995일 때 훈련 셋의 점수는: 0.80\n",
            "Alpha = 4.3999999999999995일 때 테스트 셋의 점수는: 0.77\n",
            "Alpha = 4.5일 때 훈련 셋의 점수는: 0.80\n",
            "Alpha = 4.5일 때 테스트 셋의 점수는: 0.77\n",
            "Alpha = 4.6일 때 훈련 셋의 점수는: 0.80\n",
            "Alpha = 4.6일 때 테스트 셋의 점수는: 0.77\n",
            "Alpha = 4.7일 때 훈련 셋의 점수는: 0.80\n",
            "Alpha = 4.7일 때 테스트 셋의 점수는: 0.77\n",
            "Alpha = 4.8일 때 훈련 셋의 점수는: 0.80\n",
            "Alpha = 4.8일 때 테스트 셋의 점수는: 0.77\n",
            "Alpha = 4.9일 때 훈련 셋의 점수는: 0.80\n",
            "Alpha = 4.9일 때 테스트 셋의 점수는: 0.77\n",
            "Alpha = 5.0일 때 훈련 셋의 점수는: 0.80\n",
            "Alpha = 5.0일 때 테스트 셋의 점수는: 0.77\n",
            "Alpha = 5.1일 때 훈련 셋의 점수는: 0.80\n",
            "Alpha = 5.1일 때 테스트 셋의 점수는: 0.76\n",
            "Alpha = 5.2일 때 훈련 셋의 점수는: 0.79\n",
            "Alpha = 5.2일 때 테스트 셋의 점수는: 0.76\n",
            "Alpha = 5.3일 때 훈련 셋의 점수는: 0.79\n",
            "Alpha = 5.3일 때 테스트 셋의 점수는: 0.76\n",
            "Alpha = 5.4일 때 훈련 셋의 점수는: 0.79\n",
            "Alpha = 5.4일 때 테스트 셋의 점수는: 0.76\n",
            "Alpha = 5.5일 때 훈련 셋의 점수는: 0.79\n",
            "Alpha = 5.5일 때 테스트 셋의 점수는: 0.76\n",
            "Alpha = 5.6일 때 훈련 셋의 점수는: 0.79\n",
            "Alpha = 5.6일 때 테스트 셋의 점수는: 0.76\n",
            "Alpha = 5.7일 때 훈련 셋의 점수는: 0.79\n",
            "Alpha = 5.7일 때 테스트 셋의 점수는: 0.76\n",
            "Alpha = 5.8일 때 훈련 셋의 점수는: 0.79\n",
            "Alpha = 5.8일 때 테스트 셋의 점수는: 0.76\n",
            "Alpha = 5.9일 때 훈련 셋의 점수는: 0.79\n",
            "Alpha = 5.9일 때 테스트 셋의 점수는: 0.76\n",
            "Alpha = 6.0일 때 훈련 셋의 점수는: 0.79\n",
            "Alpha = 6.0일 때 테스트 셋의 점수는: 0.76\n",
            "Alpha = 6.1일 때 훈련 셋의 점수는: 0.79\n",
            "Alpha = 6.1일 때 테스트 셋의 점수는: 0.76\n",
            "Alpha = 6.2일 때 훈련 셋의 점수는: 0.79\n",
            "Alpha = 6.2일 때 테스트 셋의 점수는: 0.75\n",
            "Alpha = 6.3일 때 훈련 셋의 점수는: 0.78\n",
            "Alpha = 6.3일 때 테스트 셋의 점수는: 0.75\n",
            "Alpha = 6.4일 때 훈련 셋의 점수는: 0.78\n",
            "Alpha = 6.4일 때 테스트 셋의 점수는: 0.75\n",
            "Alpha = 6.5일 때 훈련 셋의 점수는: 0.78\n",
            "Alpha = 6.5일 때 테스트 셋의 점수는: 0.75\n",
            "Alpha = 6.6일 때 훈련 셋의 점수는: 0.78\n",
            "Alpha = 6.6일 때 테스트 셋의 점수는: 0.75\n",
            "Alpha = 6.7일 때 훈련 셋의 점수는: 0.78\n",
            "Alpha = 6.7일 때 테스트 셋의 점수는: 0.75\n",
            "Alpha = 6.8일 때 훈련 셋의 점수는: 0.78\n",
            "Alpha = 6.8일 때 테스트 셋의 점수는: 0.75\n",
            "Alpha = 6.9일 때 훈련 셋의 점수는: 0.78\n",
            "Alpha = 6.9일 때 테스트 셋의 점수는: 0.75\n",
            "Alpha = 7.0일 때 훈련 셋의 점수는: 0.78\n",
            "Alpha = 7.0일 때 테스트 셋의 점수는: 0.75\n",
            "Alpha = 7.1일 때 훈련 셋의 점수는: 0.78\n",
            "Alpha = 7.1일 때 테스트 셋의 점수는: 0.75\n",
            "Alpha = 7.2일 때 훈련 셋의 점수는: 0.78\n",
            "Alpha = 7.2일 때 테스트 셋의 점수는: 0.75\n",
            "Alpha = 7.3일 때 훈련 셋의 점수는: 0.78\n",
            "Alpha = 7.3일 때 테스트 셋의 점수는: 0.75\n",
            "Alpha = 7.4일 때 훈련 셋의 점수는: 0.78\n",
            "Alpha = 7.4일 때 테스트 셋의 점수는: 0.74\n",
            "Alpha = 7.5일 때 훈련 셋의 점수는: 0.78\n",
            "Alpha = 7.5일 때 테스트 셋의 점수는: 0.74\n",
            "Alpha = 7.6일 때 훈련 셋의 점수는: 0.78\n",
            "Alpha = 7.6일 때 테스트 셋의 점수는: 0.74\n",
            "Alpha = 7.7일 때 훈련 셋의 점수는: 0.77\n",
            "Alpha = 7.7일 때 테스트 셋의 점수는: 0.74\n",
            "Alpha = 7.8일 때 훈련 셋의 점수는: 0.77\n",
            "Alpha = 7.8일 때 테스트 셋의 점수는: 0.74\n",
            "Alpha = 7.9일 때 훈련 셋의 점수는: 0.77\n",
            "Alpha = 7.9일 때 테스트 셋의 점수는: 0.74\n",
            "Alpha = 8.0일 때 훈련 셋의 점수는: 0.77\n",
            "Alpha = 8.0일 때 테스트 셋의 점수는: 0.74\n",
            "Alpha = 8.1일 때 훈련 셋의 점수는: 0.77\n",
            "Alpha = 8.1일 때 테스트 셋의 점수는: 0.74\n",
            "Alpha = 8.2일 때 훈련 셋의 점수는: 0.77\n",
            "Alpha = 8.2일 때 테스트 셋의 점수는: 0.74\n",
            "Alpha = 8.3일 때 훈련 셋의 점수는: 0.77\n",
            "Alpha = 8.3일 때 테스트 셋의 점수는: 0.74\n",
            "Alpha = 8.4일 때 훈련 셋의 점수는: 0.77\n",
            "Alpha = 8.4일 때 테스트 셋의 점수는: 0.74\n",
            "Alpha = 8.5일 때 훈련 셋의 점수는: 0.77\n",
            "Alpha = 8.5일 때 테스트 셋의 점수는: 0.74\n",
            "Alpha = 8.6일 때 훈련 셋의 점수는: 0.77\n",
            "Alpha = 8.6일 때 테스트 셋의 점수는: 0.74\n",
            "Alpha = 8.7일 때 훈련 셋의 점수는: 0.77\n",
            "Alpha = 8.7일 때 테스트 셋의 점수는: 0.73\n",
            "Alpha = 8.8일 때 훈련 셋의 점수는: 0.77\n",
            "Alpha = 8.8일 때 테스트 셋의 점수는: 0.73\n",
            "Alpha = 8.9일 때 훈련 셋의 점수는: 0.77\n",
            "Alpha = 8.9일 때 테스트 셋의 점수는: 0.73\n",
            "Alpha = 9.0일 때 훈련 셋의 점수는: 0.77\n",
            "Alpha = 9.0일 때 테스트 셋의 점수는: 0.73\n",
            "Alpha = 9.1일 때 훈련 셋의 점수는: 0.77\n",
            "Alpha = 9.1일 때 테스트 셋의 점수는: 0.73\n",
            "Alpha = 9.2일 때 훈련 셋의 점수는: 0.76\n",
            "Alpha = 9.2일 때 테스트 셋의 점수는: 0.73\n",
            "Alpha = 9.3일 때 훈련 셋의 점수는: 0.76\n",
            "Alpha = 9.3일 때 테스트 셋의 점수는: 0.73\n",
            "Alpha = 9.4일 때 훈련 셋의 점수는: 0.76\n",
            "Alpha = 9.4일 때 테스트 셋의 점수는: 0.73\n",
            "Alpha = 9.5일 때 훈련 셋의 점수는: 0.76\n",
            "Alpha = 9.5일 때 테스트 셋의 점수는: 0.73\n",
            "Alpha = 9.6일 때 훈련 셋의 점수는: 0.76\n",
            "Alpha = 9.6일 때 테스트 셋의 점수는: 0.73\n",
            "Alpha = 9.700000000000001일 때 훈련 셋의 점수는: 0.76\n",
            "Alpha = 9.700000000000001일 때 테스트 셋의 점수는: 0.73\n",
            "Alpha = 9.8일 때 훈련 셋의 점수는: 0.76\n",
            "Alpha = 9.8일 때 테스트 셋의 점수는: 0.73\n",
            "Alpha = 9.9일 때 훈련 셋의 점수는: 0.76\n",
            "Alpha = 9.9일 때 테스트 셋의 점수는: 0.73\n"
          ],
          "name": "stdout"
        }
      ]
    },
    {
      "cell_type": "code",
      "metadata": {
        "id": "i85fDnep5kza",
        "colab_type": "code",
        "colab": {}
      },
      "source": [
        "import matplotlib.pyplot as plt\n",
        "%matplotlib inline"
      ],
      "execution_count": 0,
      "outputs": []
    },
    {
      "cell_type": "code",
      "metadata": {
        "id": "oNbuj4cA596p",
        "colab_type": "code",
        "colab": {
          "base_uri": "https://localhost:8080/",
          "height": 623
        },
        "outputId": "9e75dd8c-f1f3-41b0-c5dc-f3151d9ad734"
      },
      "source": [
        "# Alpha = 0.01\n",
        "fig = plt.figure(figsize=(10,10))\n",
        "plt.hlines(0,0, len(ridge001.coef_)) # 변수가 104개임...104개 계수\n",
        "plt.plot(ridge001.coef_, 's', label = 'Ridge Alpha = 0.01')\n",
        "plt.title('Ridge alpha = 0.01')"
      ],
      "execution_count": 55,
      "outputs": [
        {
          "output_type": "execute_result",
          "data": {
            "text/plain": [
              "Text(0.5, 1.0, 'Ridge alpha = 0.01')"
            ]
          },
          "metadata": {
            "tags": []
          },
          "execution_count": 55
        },
        {
          "output_type": "display_data",
          "data": {
            "image/png": "[encoded data removed]",
            "text/plain": [
              "<Figure size 720x720 with 1 Axes>"
            ]
          },
          "metadata": {
            "tags": []
          }
        }
      ]
    },
    {
      "cell_type": "code",
      "metadata": {
        "id": "KKj5KBxl6WeE",
        "colab_type": "code",
        "colab": {
          "base_uri": "https://localhost:8080/",
          "height": 623
        },
        "outputId": "d22a18f4-be83-4b33-b428-bddf8269011e"
      },
      "source": [
        "# Alpha = 0.1\n",
        "fig = plt.figure(figsize = (10,10))\n",
        "plt.hlines(0,0, len(ridge01.coef_))\n",
        "plt.plot(ridge01.coef_, 's', label = 'Ridge Alpha = 0.1')\n",
        "plt.title('Ridge Alpha = 0.1')"
      ],
      "execution_count": 56,
      "outputs": [
        {
          "output_type": "execute_result",
          "data": {
            "text/plain": [
              "Text(0.5, 1.0, 'Ridge Alpha = 0.1')"
            ]
          },
          "metadata": {
            "tags": []
          },
          "execution_count": 56
        },
        {
          "output_type": "display_data",
          "data": {
            "image/png": "[encoded data removed]",
            "text/plain": [
              "<Figure size 720x720 with 1 Axes>"
            ]
          },
          "metadata": {
            "tags": []
          }
        }
      ]
    },
    {
      "cell_type": "code",
      "metadata": {
        "id": "AxV_iEDR6q8R",
        "colab_type": "code",
        "colab": {
          "base_uri": "https://localhost:8080/",
          "height": 623
        },
        "outputId": "d73b682b-95e9-405f-b09a-dacad5a633b2"
      },
      "source": [
        "### Alpha = 10\n",
        "fig = plt.figure(figsize=(10,10))\n",
        "plt.hlines(0,0, len(ridge10.coef_))\n",
        "plt.plot(ridge10.coef_, 's', label=\"Ridge alpha=10\")\n",
        "plt.title('Ridge Alpha=10')"
      ],
      "execution_count": 57,
      "outputs": [
        {
          "output_type": "execute_result",
          "data": {
            "text/plain": [
              "Text(0.5, 1.0, 'Ridge Alpha=10')"
            ]
          },
          "metadata": {
            "tags": []
          },
          "execution_count": 57
        },
        {
          "output_type": "display_data",
          "data": {
            "image/png": "[encoded data removed]",
            "text/plain": [
              "<Figure size 720x720 with 1 Axes>"
            ]
          },
          "metadata": {
            "tags": []
          }
        }
      ]
    },
    {
      "cell_type": "code",
      "metadata": {
        "id": "PicfkMhn65qv",
        "colab_type": "code",
        "colab": {
          "base_uri": "https://localhost:8080/",
          "height": 1000
        },
        "outputId": "129d28cd-480e-4715-bccf-350d3e67fb59"
      },
      "source": [
        "# For 문으로 써볼까요? => 그래프가 똑같이 나옴...? 어떻게 안되나...?\n",
        "\n",
        "list = [0.01, 0.1, 1, 10, 100]\n",
        "for i in list:\n",
        "  fig=plt.figure(figsize = (5,5))\n",
        "  plt.hlines(0,0, len(ridgei.coef_))\n",
        "  plt.plot(ridgei.coef_, 's', label = 'Ridge Alpha = [i]')\n",
        "  plt.title('Ridge Alpha = {}'.format(i))"
      ],
      "execution_count": 62,
      "outputs": [
        {
          "output_type": "display_data",
          "data": {
            "image/png": "[encoded data removed]",
            "text/plain": [
              "<Figure size 360x360 with 1 Axes>"
            ]
          },
          "metadata": {
            "tags": []
          }
        },
        {
          "output_type": "display_data",
          "data": {
            "image/png": "[encoded data removed]",
            "text/plain": [
              "<Figure size 360x360 with 1 Axes>"
            ]
          },
          "metadata": {
            "tags": []
          }
        },
        {
          "output_type": "display_data",
          "data": {
            "image/png": "[encoded data removed]",
            "text/plain": [
              "<Figure size 360x360 with 1 Axes>"
            ]
          },
          "metadata": {
            "tags": []
          }
        },
        {
          "output_type": "display_data",
          "data": {
            "image/png": "[encoded data removed]",
            "text/plain": [
              "<Figure size 360x360 with 1 Axes>"
            ]
          },
          "metadata": {
            "tags": []
          }
        },
        {
          "output_type": "display_data",
          "data": {
            "image/png": "[encoded data removed]",
            "text/plain": [
              "<Figure size 360x360 with 1 Axes>"
            ]
          },
          "metadata": {
            "tags": []
          }
        }
      ]
    },
    {
      "cell_type": "code",
      "metadata": {
        "id": "xKn-EKiX7kHX",
        "colab_type": "code",
        "colab": {
          "base_uri": "https://localhost:8080/",
          "height": 1000
        },
        "outputId": "624467c3-d5c6-4bfc-e266-36a8ca638401"
      },
      "source": [
        "fig = plt.figure(figsize=(10,27))\n",
        "#ax1 = fig.add_subplot(5, 1, 1)\n",
        "#ax2 = fig.add_subplot(5, 1, 2)\n",
        "#ax3 = fig.add_subplot(5, 1, 3)\n",
        "#ax4 = fig.add_subplot(5, 1, 4)\n",
        "#ax5 = fig.add_subplot(5, 1, 5)\n",
        "\n",
        "\n",
        "plt.subplot(5, 1, 1)\n",
        "plt.hlines(0,0, len(ridge001.coef_))\n",
        "plt.plot(ridge001.coef_, 's', label=\"Ridge alpha=0.01\")\n",
        "plt.title('Ridge alpha=0.01')\n",
        "\n",
        "plt.subplot(5, 1, 2)\n",
        "plt.hlines(0,0, len(ridge01.coef_))\n",
        "plt.plot(ridge01.coef_, 's', label=\"Ridge alpha=0.1\")\n",
        "plt.title('Ridge alpha=0.1')\n",
        "\n",
        "plt.subplot(5, 1, 3)\n",
        "plt.hlines(0,0, len(ridge.coef_))\n",
        "plt.plot(ridge.coef_, '^', label=\"Ridge alpha=1\")\n",
        "plt.title('Ridge alpha=1')\n",
        "\n",
        "plt.subplot(5, 1, 4)\n",
        "plt.hlines(0,0, len(ridge10.coef_))\n",
        "plt.plot(ridge10.coef_, 'v', label=\"Ridge alpha=10\")\n",
        "plt.title('Ridge alpha=10')\n",
        "\n",
        "plt.subplot(5, 1, 5)\n",
        "plt.hlines(0,0, len(ridge001.coef_))\n",
        "plt.plot(ridge001.coef_, 'r^', label=\"Ridge alpha=0.01\")\n",
        "plt.plot(ridge01.coef_, 'go', label=\"Ridge alpha=0.1\")\n",
        "plt.plot(ridge.coef_, 'yv', label=\"Ridge alpha=1\")\n",
        "plt.plot(ridge10.coef_, 'bs', label=\"Ridge alpha=10\")\n",
        "plt.title('Ridge alpha=0.01, 0.1, 1, 10')\n",
        "\n",
        "plt.xlabel(\"계수 목록\")\n",
        "plt.ylabel(\"계수 크기\")\n",
        "plt.legend(ncol=2, loc=(0,0.85))\n",
        "plt.show()"
      ],
      "execution_count": 63,
      "outputs": [
        {
          "output_type": "display_data",
          "data": {
            "image/png": "[encoded data removed]",
            "text/plain": [
              "<Figure size 720x1944 with 5 Axes>"
            ]
          },
          "metadata": {
            "tags": []
          }
        }
      ]
    },
    {
      "cell_type": "markdown",
      "metadata": {
        "id": "0eP8SWAm9hEu",
        "colab_type": "text"
      },
      "source": [
        "확인 결과\n",
        "\n",
        "선형회귀는 과대적합, Ridge는 규제로 인해 과대적합이 적어진다.\n",
        "\n",
        "alpha을 이용하여 훈련세트의 성능 대비 모델을 얼마나 단순화 시킬 수 있는지 지정 가능.(기본값 alpha=1.0)\n",
        "\n",
        "alpha의 계수를 높이면 w의 계수를 0에 가깝게 만든다. 계수가 0에 가까워지면 일반화에 도움이 된다.(훈련세트 성능이 나빠짐)\n",
        "\n",
        "alpha의 게수를 줄이면 그만큼 풀리면서 LinearRegression 으로 모델과 점점 가까워짐"
      ]
    },
    {
      "cell_type": "code",
      "metadata": {
        "id": "jRvJvzPD8wIl",
        "colab_type": "code",
        "colab": {
          "base_uri": "https://localhost:8080/",
          "height": 325
        },
        "outputId": "2d9fed97-c7d9-4026-9d5e-3c477596ee36"
      },
      "source": [
        "mglearn.plots.plot_ridge_n_samples()"
      ],
      "execution_count": 64,
      "outputs": [
        {
          "output_type": "display_data",
          "data": {
            "image/png": "[encoded data removed]",
            "text/plain": [
              "<Figure size 432x288 with 1 Axes>"
            ]
          },
          "metadata": {
            "tags": []
          }
        }
      ]
    },
    {
      "cell_type": "markdown",
      "metadata": {
        "id": "pjE5u7Tm9Lbj",
        "colab_type": "text"
      },
      "source": [
        "모든 데이터 셋에서 TRAINING의 데이터 셋으로 모델 생성의 경우, 일반선형회귀의 r^2의 값이 높다.\n",
        "\n",
        "단, 테스트 데이터 셋에서는 모델은 비교시에 릿지 회귀가 Score(r^2)의 값이 높다.\n",
        "\n",
        "테스트 셋에 대한 경우, 데이터가 많아지면 선형회귀 모델이 릿지 모델에 Score가 거의 가까워진다.\n",
        "\n",
        "충분한 데이터는 규제항이 덜 중요해져 릿지 회귀와 선형회귀는 같아진다.\n"
      ]
    },
    {
      "cell_type": "markdown",
      "metadata": {
        "id": "e5vJ4HEF9Zty",
        "colab_type": "text"
      },
      "source": [
        "라쏘 회귀(Lasso) -릿지(Ridge)의 대안 (L1규제)\n",
        "\n",
        "릿지 회귀에서와 같이 w(가중치-계수)의 모든 원소가 0에 가깝게 되길 원한다.(규제)\n",
        "\n",
        "릿지 회귀와 달리 라쏘(Lasso)는 실제로 어떤 계수를 0으로 만든다.- 완전히 제외되는 특성이 발생\n",
        "\n",
        "라쏘 회귀의 규제 방식은 L1규제라고 하기도 한다."
      ]
    },
    {
      "cell_type": "code",
      "metadata": {
        "id": "8v00ohGc8_SF",
        "colab_type": "code",
        "colab": {}
      },
      "source": [
        "from sklearn.linear_model import Lasso"
      ],
      "execution_count": 0,
      "outputs": []
    },
    {
      "cell_type": "code",
      "metadata": {
        "id": "HeKNwzJu9vjC",
        "colab_type": "code",
        "colab": {
          "base_uri": "https://localhost:8080/",
          "height": 50
        },
        "outputId": "a4b75f47-1e5b-425d-fd82-076bc46605d8"
      },
      "source": [
        "lasso = Lasso().fit(X_train, y_train)\n",
        "print(\"훈련 셋 점수: {:.2f}\".format(lasso.score(X_train, y_train)))\n",
        "print(\"테스트 셋 점수: {:.2f}\".format(lasso.score(X_test, y_test)))"
      ],
      "execution_count": 67,
      "outputs": [
        {
          "output_type": "stream",
          "text": [
            "훈련 셋 점수: 0.23\n",
            "테스트 셋 점수: 0.20\n"
          ],
          "name": "stdout"
        }
      ]
    },
    {
      "cell_type": "code",
      "metadata": {
        "id": "x2frZuBY98ge",
        "colab_type": "code",
        "colab": {
          "base_uri": "https://localhost:8080/",
          "height": 33
        },
        "outputId": "08ec3e40-d461-4533-acf2-d4929539e113"
      },
      "source": [
        "# 특성(feature)가 0이 아닌 것의 개수는?\n",
        "print(\"사용한 특성의 수 : {:.2f}\".format(np.sum(lasso.coef_ != 0)))"
      ],
      "execution_count": 68,
      "outputs": [
        {
          "output_type": "stream",
          "text": [
            "사용한 특성의 수 : 3.00\n"
          ],
          "name": "stdout"
        }
      ]
    },
    {
      "cell_type": "markdown",
      "metadata": {
        "id": "R9HT3G7E-Pa8",
        "colab_type": "text"
      },
      "source": [
        "### 라쏘의 alpha을 활용하여 살펴보기"
      ]
    },
    {
      "cell_type": "code",
      "metadata": {
        "id": "IyiJ2i8x-K1A",
        "colab_type": "code",
        "colab": {
          "base_uri": "https://localhost:8080/",
          "height": 67
        },
        "outputId": "daee1607-5c43-49bf-fe1d-13d2ee0039da"
      },
      "source": [
        "lasso00001 = Lasso(alpha=0.0001, max_iter=100000).fit(X_train, y_train)\n",
        "print('훈련 데이터 셋 점수: ', lasso00001.score(X_train, y_train))\n",
        "print('테스트 데이터 셋 점수:', lasso00001.score(X_test, y_test))\n",
        "print('사용한 특성의 수:', np.sum(lasso00001.coef_ != 0))"
      ],
      "execution_count": 82,
      "outputs": [
        {
          "output_type": "stream",
          "text": [
            "훈련 데이터 셋 점수:  0.9358779085487696\n",
            "테스트 데이터 셋 점수: 0.8614405544164084\n",
            "사용한 특성의 수: 97\n"
          ],
          "name": "stdout"
        }
      ]
    },
    {
      "cell_type": "code",
      "metadata": {
        "id": "pEehdaGZAMla",
        "colab_type": "code",
        "colab": {
          "base_uri": "https://localhost:8080/",
          "height": 67
        },
        "outputId": "c2c0a8ed-3f0f-4a85-e7d3-61edae0ffad3"
      },
      "source": [
        "lasso001 = Lasso(alpha=0.01, max_iter=100000).fit(X_train, y_train)\n",
        "print('훈련 데이터 셋 점수: ', lasso001.score(X_train, y_train))\n",
        "print('테스트 데이터 셋 점수:', lasso001.score(X_test, y_test))\n",
        "print('사용한 특성의 수:', np.sum(lasso001.coef_ != 0))"
      ],
      "execution_count": 75,
      "outputs": [
        {
          "output_type": "stream",
          "text": [
            "훈련 데이터 셋 점수:  0.8674669117238293\n",
            "테스트 데이터 셋 점수: 0.8419471661713843\n",
            "사용한 특성의 수: 31\n"
          ],
          "name": "stdout"
        }
      ]
    },
    {
      "cell_type": "code",
      "metadata": {
        "id": "nSrd7RvsAbfp",
        "colab_type": "code",
        "colab": {
          "base_uri": "https://localhost:8080/",
          "height": 67
        },
        "outputId": "c1e58b9e-6a91-47a2-d1b6-c64a6e0b6651"
      },
      "source": [
        "lasso01 = Lasso(alpha=0.1, max_iter=100000).fit(X_train, y_train)\n",
        "print('훈련 데이터 셋 점수: ', lasso01.score(X_train, y_train))\n",
        "print('테스트 데이터 셋 점수: ', lasso01.score(X_test, y_test))\n",
        "print('사용한 특성의 수: ', np.sum(lasso01.coef_ != 0))"
      ],
      "execution_count": 77,
      "outputs": [
        {
          "output_type": "stream",
          "text": [
            "훈련 데이터 셋 점수:  0.7434434277852244\n",
            "테스트 데이터 셋 점수:  0.7007248129271293\n",
            "사용한 특성의 수:  7\n"
          ],
          "name": "stdout"
        }
      ]
    },
    {
      "cell_type": "code",
      "metadata": {
        "id": "_KBBFTJRBLIg",
        "colab_type": "code",
        "colab": {
          "base_uri": "https://localhost:8080/",
          "height": 67
        },
        "outputId": "1d743dad-b7e6-4539-cee4-92e65cd3dcd7"
      },
      "source": [
        "lasso10 = Lasso(alpha=10, max_iter=100000).fit(X_train, y_train)\n",
        "print('훈련 데이터 셋 점수: ', lasso10.score(X_train, y_train))\n",
        "print('테스트 데이터 셋 점수: ', lasso10.score(X_test, y_test))\n",
        "print('사용한 특성의 수: ', np.sum(lasso10.coef_ != 0))"
      ],
      "execution_count": 78,
      "outputs": [
        {
          "output_type": "stream",
          "text": [
            "훈련 데이터 셋 점수:  0.0\n",
            "테스트 데이터 셋 점수:  -0.004482921853908417\n",
            "사용한 특성의 수:  0\n"
          ],
          "name": "stdout"
        }
      ]
    },
    {
      "cell_type": "code",
      "metadata": {
        "id": "xkEzzZFuBVGB",
        "colab_type": "code",
        "colab": {
          "base_uri": "https://localhost:8080/",
          "height": 437
        },
        "outputId": "04ff2958-3e3e-4bac-aba7-99f6faa4e9ed"
      },
      "source": [
        "lasso = Lasso(alpha=1).fit(X_train, y_train)\n",
        "\n",
        "plt.figure(figsize = (10,6))\n",
        "plt.plot(lasso00001.coef_, \"r^\", label='Lasso alpha=0.0001')\n",
        "plt.plot(lasso001.coef_, 'go', label='Lasso alpha=0.01')\n",
        "plt.plot(lasso01.coef_, 'yv', label='Lasso alpha =0.1')\n",
        "plt.plot(lasso10.coef_, 'bs', label='Lasso alpha=10')\n",
        "\n",
        "plt.xlabel(\"계수목록\")\n",
        "plt.ylabel('계수크기')\n",
        "plt.ylim(-25, 25)\n",
        "plt.legend(ncol=2, loc=(0,1.05))\n",
        "plt.show()"
      ],
      "execution_count": 83,
      "outputs": [
        {
          "output_type": "display_data",
          "data": {
            "image/png": "[encoded data removed]",
            "text/plain": [
              "<Figure size 720x432 with 1 Axes>"
            ]
          },
          "metadata": {
            "tags": []
          }
        }
      ]
    },
    {
      "cell_type": "code",
      "metadata": {
        "id": "qc52oY9FB-GS",
        "colab_type": "code",
        "colab": {}
      },
      "source": [
        "# alpha가 적어지면 적어질수록 규제를 받지 않는 모델이 된다.\n",
        "# 실제의 경우는 보통 릿지 회귀를 선호함.\n",
        "# 만약 특성이 많고 일부부만 중요하다면 Lasso가 좋은 선택"
      ],
      "execution_count": 0,
      "outputs": []
    },
    {
      "cell_type": "code",
      "metadata": {
        "id": "Mi9BAe5QCSqD",
        "colab_type": "code",
        "colab": {}
      },
      "source": [
        ""
      ],
      "execution_count": 0,
      "outputs": []
    }
  ]
}