{
  "nbformat": 4,
  "nbformat_minor": 0,
  "metadata": {
    "colab": {
      "name": "LinearProgression_bike_by_sungmin.ipynb",
      "provenance": []
    },
    "kernelspec": {
      "name": "python3",
      "display_name": "Python 3"
    }
  },
  "cells": [
    {
      "cell_type": "code",
      "metadata": {
        "id": "adihMU3BRlP2",
        "colab_type": "code",
        "colab": {}
      },
      "source": [
        "import pandas as pd\n",
        "import numpy as np"
      ],
      "execution_count": 0,
      "outputs": []
    },
    {
      "cell_type": "code",
      "metadata": {
        "id": "9JOFD8HNRtxv",
        "colab_type": "code",
        "colab": {}
      },
      "source": [
        "# 데이터 불러오기\n",
        "df = pd.read_csv('bike_train.csv')"
      ],
      "execution_count": 0,
      "outputs": []
    },
    {
      "cell_type": "code",
      "metadata": {
        "id": "66lgxG2XR-66",
        "colab_type": "code",
        "colab": {
          "base_uri": "https://localhost:8080/",
          "height": 300
        },
        "outputId": "7164921a-f2eb-4277-b0f7-72cd0dc1779e"
      },
      "source": [
        "# 데이터를 확인해 봅시다.\n",
        "df.info()"
      ],
      "execution_count": 3,
      "outputs": [
        {
          "output_type": "stream",
          "text": [
            "<class 'pandas.core.frame.DataFrame'>\n",
            "RangeIndex: 10886 entries, 0 to 10885\n",
            "Data columns (total 12 columns):\n",
            "datetime      10886 non-null object\n",
            "season        10886 non-null int64\n",
            "holiday       10886 non-null int64\n",
            "workingday    10886 non-null int64\n",
            "weather       10886 non-null int64\n",
            "temp          10886 non-null float64\n",
            "atemp         10886 non-null float64\n",
            "humidity      10886 non-null int64\n",
            "windspeed     10886 non-null float64\n",
            "casual        10886 non-null int64\n",
            "registered    10886 non-null int64\n",
            "count         10886 non-null int64\n",
            "dtypes: float64(3), int64(8), object(1)\n",
            "memory usage: 1020.6+ KB\n"
          ],
          "name": "stdout"
        }
      ]
    },
    {
      "cell_type": "code",
      "metadata": {
        "id": "7dD4oloBSCb1",
        "colab_type": "code",
        "colab": {
          "base_uri": "https://localhost:8080/",
          "height": 33
        },
        "outputId": "ba93c91e-ef38-4b74-9b5c-a3d0c9361810"
      },
      "source": [
        "df.shape"
      ],
      "execution_count": 4,
      "outputs": [
        {
          "output_type": "execute_result",
          "data": {
            "text/plain": [
              "(10886, 12)"
            ]
          },
          "metadata": {
            "tags": []
          },
          "execution_count": 4
        }
      ]
    },
    {
      "cell_type": "code",
      "metadata": {
        "id": "iU_xi6esSMrM",
        "colab_type": "code",
        "colab": {
          "base_uri": "https://localhost:8080/",
          "height": 307
        },
        "outputId": "573b2877-42ac-4c62-edd8-211489987a59"
      },
      "source": [
        "df.describe()"
      ],
      "execution_count": 5,
      "outputs": [
        {
          "output_type": "execute_result",
          "data": {
            "text/html": [
              "<div>\n",
              "<style scoped>\n",
              "    .dataframe tbody tr th:only-of-type {\n",
              "        vertical-align: middle;\n",
              "    }\n",
              "\n",
              "    .dataframe tbody tr th {\n",
              "        vertical-align: top;\n",
              "    }\n",
              "\n",
              "    .dataframe thead th {\n",
              "        text-align: right;\n",
              "    }\n",
              "</style>\n",
              "<table border=\"1\" class=\"dataframe\">\n",
              "  <thead>\n",
              "    <tr style=\"text-align: right;\">\n",
              "      <th></th>\n",
              "      <th>season</th>\n",
              "      <th>holiday</th>\n",
              "      <th>workingday</th>\n",
              "      <th>weather</th>\n",
              "      <th>temp</th>\n",
              "      <th>atemp</th>\n",
              "      <th>humidity</th>\n",
              "      <th>windspeed</th>\n",
              "      <th>casual</th>\n",
              "      <th>registered</th>\n",
              "      <th>count</th>\n",
              "    </tr>\n",
              "  </thead>\n",
              "  <tbody>\n",
              "    <tr>\n",
              "      <th>count</th>\n",
              "      <td>10886.000000</td>\n",
              "      <td>10886.000000</td>\n",
              "      <td>10886.000000</td>\n",
              "      <td>10886.000000</td>\n",
              "      <td>10886.00000</td>\n",
              "      <td>10886.000000</td>\n",
              "      <td>10886.000000</td>\n",
              "      <td>10886.000000</td>\n",
              "      <td>10886.000000</td>\n",
              "      <td>10886.000000</td>\n",
              "      <td>10886.000000</td>\n",
              "    </tr>\n",
              "    <tr>\n",
              "      <th>mean</th>\n",
              "      <td>2.506614</td>\n",
              "      <td>0.028569</td>\n",
              "      <td>0.680875</td>\n",
              "      <td>1.418427</td>\n",
              "      <td>20.23086</td>\n",
              "      <td>23.655084</td>\n",
              "      <td>61.886460</td>\n",
              "      <td>12.799395</td>\n",
              "      <td>36.021955</td>\n",
              "      <td>155.552177</td>\n",
              "      <td>191.574132</td>\n",
              "    </tr>\n",
              "    <tr>\n",
              "      <th>std</th>\n",
              "      <td>1.116174</td>\n",
              "      <td>0.166599</td>\n",
              "      <td>0.466159</td>\n",
              "      <td>0.633839</td>\n",
              "      <td>7.79159</td>\n",
              "      <td>8.474601</td>\n",
              "      <td>19.245033</td>\n",
              "      <td>8.164537</td>\n",
              "      <td>49.960477</td>\n",
              "      <td>151.039033</td>\n",
              "      <td>181.144454</td>\n",
              "    </tr>\n",
              "    <tr>\n",
              "      <th>min</th>\n",
              "      <td>1.000000</td>\n",
              "      <td>0.000000</td>\n",
              "      <td>0.000000</td>\n",
              "      <td>1.000000</td>\n",
              "      <td>0.82000</td>\n",
              "      <td>0.760000</td>\n",
              "      <td>0.000000</td>\n",
              "      <td>0.000000</td>\n",
              "      <td>0.000000</td>\n",
              "      <td>0.000000</td>\n",
              "      <td>1.000000</td>\n",
              "    </tr>\n",
              "    <tr>\n",
              "      <th>25%</th>\n",
              "      <td>2.000000</td>\n",
              "      <td>0.000000</td>\n",
              "      <td>0.000000</td>\n",
              "      <td>1.000000</td>\n",
              "      <td>13.94000</td>\n",
              "      <td>16.665000</td>\n",
              "      <td>47.000000</td>\n",
              "      <td>7.001500</td>\n",
              "      <td>4.000000</td>\n",
              "      <td>36.000000</td>\n",
              "      <td>42.000000</td>\n",
              "    </tr>\n",
              "    <tr>\n",
              "      <th>50%</th>\n",
              "      <td>3.000000</td>\n",
              "      <td>0.000000</td>\n",
              "      <td>1.000000</td>\n",
              "      <td>1.000000</td>\n",
              "      <td>20.50000</td>\n",
              "      <td>24.240000</td>\n",
              "      <td>62.000000</td>\n",
              "      <td>12.998000</td>\n",
              "      <td>17.000000</td>\n",
              "      <td>118.000000</td>\n",
              "      <td>145.000000</td>\n",
              "    </tr>\n",
              "    <tr>\n",
              "      <th>75%</th>\n",
              "      <td>4.000000</td>\n",
              "      <td>0.000000</td>\n",
              "      <td>1.000000</td>\n",
              "      <td>2.000000</td>\n",
              "      <td>26.24000</td>\n",
              "      <td>31.060000</td>\n",
              "      <td>77.000000</td>\n",
              "      <td>16.997900</td>\n",
              "      <td>49.000000</td>\n",
              "      <td>222.000000</td>\n",
              "      <td>284.000000</td>\n",
              "    </tr>\n",
              "    <tr>\n",
              "      <th>max</th>\n",
              "      <td>4.000000</td>\n",
              "      <td>1.000000</td>\n",
              "      <td>1.000000</td>\n",
              "      <td>4.000000</td>\n",
              "      <td>41.00000</td>\n",
              "      <td>45.455000</td>\n",
              "      <td>100.000000</td>\n",
              "      <td>56.996900</td>\n",
              "      <td>367.000000</td>\n",
              "      <td>886.000000</td>\n",
              "      <td>977.000000</td>\n",
              "    </tr>\n",
              "  </tbody>\n",
              "</table>\n",
              "</div>"
            ],
            "text/plain": [
              "             season       holiday  ...    registered         count\n",
              "count  10886.000000  10886.000000  ...  10886.000000  10886.000000\n",
              "mean       2.506614      0.028569  ...    155.552177    191.574132\n",
              "std        1.116174      0.166599  ...    151.039033    181.144454\n",
              "min        1.000000      0.000000  ...      0.000000      1.000000\n",
              "25%        2.000000      0.000000  ...     36.000000     42.000000\n",
              "50%        3.000000      0.000000  ...    118.000000    145.000000\n",
              "75%        4.000000      0.000000  ...    222.000000    284.000000\n",
              "max        4.000000      1.000000  ...    886.000000    977.000000\n",
              "\n",
              "[8 rows x 11 columns]"
            ]
          },
          "metadata": {
            "tags": []
          },
          "execution_count": 5
        }
      ]
    },
    {
      "cell_type": "code",
      "metadata": {
        "id": "K-0IqhGiSPAp",
        "colab_type": "code",
        "colab": {
          "base_uri": "https://localhost:8080/",
          "height": 384
        },
        "outputId": "29968bc6-2217-40a1-8744-800e97054f42"
      },
      "source": [
        "df.head()"
      ],
      "execution_count": 6,
      "outputs": [
        {
          "output_type": "execute_result",
          "data": {
            "text/html": [
              "<div>\n",
              "<style scoped>\n",
              "    .dataframe tbody tr th:only-of-type {\n",
              "        vertical-align: middle;\n",
              "    }\n",
              "\n",
              "    .dataframe tbody tr th {\n",
              "        vertical-align: top;\n",
              "    }\n",
              "\n",
              "    .dataframe thead th {\n",
              "        text-align: right;\n",
              "    }\n",
              "</style>\n",
              "<table border=\"1\" class=\"dataframe\">\n",
              "  <thead>\n",
              "    <tr style=\"text-align: right;\">\n",
              "      <th></th>\n",
              "      <th>datetime</th>\n",
              "      <th>season</th>\n",
              "      <th>holiday</th>\n",
              "      <th>workingday</th>\n",
              "      <th>weather</th>\n",
              "      <th>temp</th>\n",
              "      <th>atemp</th>\n",
              "      <th>humidity</th>\n",
              "      <th>windspeed</th>\n",
              "      <th>casual</th>\n",
              "      <th>registered</th>\n",
              "      <th>count</th>\n",
              "    </tr>\n",
              "  </thead>\n",
              "  <tbody>\n",
              "    <tr>\n",
              "      <th>0</th>\n",
              "      <td>2011-01-01 00:00:00</td>\n",
              "      <td>1</td>\n",
              "      <td>0</td>\n",
              "      <td>0</td>\n",
              "      <td>1</td>\n",
              "      <td>9.84</td>\n",
              "      <td>14.395</td>\n",
              "      <td>81</td>\n",
              "      <td>0.0</td>\n",
              "      <td>3</td>\n",
              "      <td>13</td>\n",
              "      <td>16</td>\n",
              "    </tr>\n",
              "    <tr>\n",
              "      <th>1</th>\n",
              "      <td>2011-01-01 01:00:00</td>\n",
              "      <td>1</td>\n",
              "      <td>0</td>\n",
              "      <td>0</td>\n",
              "      <td>1</td>\n",
              "      <td>9.02</td>\n",
              "      <td>13.635</td>\n",
              "      <td>80</td>\n",
              "      <td>0.0</td>\n",
              "      <td>8</td>\n",
              "      <td>32</td>\n",
              "      <td>40</td>\n",
              "    </tr>\n",
              "    <tr>\n",
              "      <th>2</th>\n",
              "      <td>2011-01-01 02:00:00</td>\n",
              "      <td>1</td>\n",
              "      <td>0</td>\n",
              "      <td>0</td>\n",
              "      <td>1</td>\n",
              "      <td>9.02</td>\n",
              "      <td>13.635</td>\n",
              "      <td>80</td>\n",
              "      <td>0.0</td>\n",
              "      <td>5</td>\n",
              "      <td>27</td>\n",
              "      <td>32</td>\n",
              "    </tr>\n",
              "    <tr>\n",
              "      <th>3</th>\n",
              "      <td>2011-01-01 03:00:00</td>\n",
              "      <td>1</td>\n",
              "      <td>0</td>\n",
              "      <td>0</td>\n",
              "      <td>1</td>\n",
              "      <td>9.84</td>\n",
              "      <td>14.395</td>\n",
              "      <td>75</td>\n",
              "      <td>0.0</td>\n",
              "      <td>3</td>\n",
              "      <td>10</td>\n",
              "      <td>13</td>\n",
              "    </tr>\n",
              "    <tr>\n",
              "      <th>4</th>\n",
              "      <td>2011-01-01 04:00:00</td>\n",
              "      <td>1</td>\n",
              "      <td>0</td>\n",
              "      <td>0</td>\n",
              "      <td>1</td>\n",
              "      <td>9.84</td>\n",
              "      <td>14.395</td>\n",
              "      <td>75</td>\n",
              "      <td>0.0</td>\n",
              "      <td>0</td>\n",
              "      <td>1</td>\n",
              "      <td>1</td>\n",
              "    </tr>\n",
              "  </tbody>\n",
              "</table>\n",
              "</div>"
            ],
            "text/plain": [
              "              datetime  season  holiday  ...  casual  registered  count\n",
              "0  2011-01-01 00:00:00       1        0  ...       3          13     16\n",
              "1  2011-01-01 01:00:00       1        0  ...       8          32     40\n",
              "2  2011-01-01 02:00:00       1        0  ...       5          27     32\n",
              "3  2011-01-01 03:00:00       1        0  ...       3          10     13\n",
              "4  2011-01-01 04:00:00       1        0  ...       0           1      1\n",
              "\n",
              "[5 rows x 12 columns]"
            ]
          },
          "metadata": {
            "tags": []
          },
          "execution_count": 6
        }
      ]
    },
    {
      "cell_type": "code",
      "metadata": {
        "id": "4yt6w_gtSSLt",
        "colab_type": "code",
        "colab": {}
      },
      "source": [
        "# 데이터 컬럼 나누기\n",
        "# data에는 예측하고자 하는 'count'는 제외 -> 이건 target으로 설정 \n",
        "# 'casual' & 'register' is too dependent in regards go count(likely to show overfitting ) -> gonna omit those two coloumns \n",
        "# 'datetime' should be omitted -> probably gonna cause error due to its form/type (datatime object여서 일단 제외)"
      ],
      "execution_count": 0,
      "outputs": []
    },
    {
      "cell_type": "code",
      "metadata": {
        "id": "Oz0vyoTGSlN-",
        "colab_type": "code",
        "colab": {}
      },
      "source": [
        "#drop 시작!\n",
        "data = df.drop(['count', 'datetime', 'registered'], axis =1)"
      ],
      "execution_count": 0,
      "outputs": []
    },
    {
      "cell_type": "code",
      "metadata": {
        "id": "1-S_uIsJS8zM",
        "colab_type": "code",
        "colab": {}
      },
      "source": [
        "# count를 target으로 설정해주기!\n",
        "target = df['count'] "
      ],
      "execution_count": 0,
      "outputs": []
    },
    {
      "cell_type": "code",
      "metadata": {
        "id": "AZv8fjKbTHNP",
        "colab_type": "code",
        "colab": {}
      },
      "source": [
        "#data/ target으로 나누어주었음! (Iris likewise)"
      ],
      "execution_count": 0,
      "outputs": []
    },
    {
      "cell_type": "code",
      "metadata": {
        "id": "hJna3uonTRBr",
        "colab_type": "code",
        "colab": {}
      },
      "source": [
        "#필요한 모듈들 불러오기\n",
        "from sklearn.model_selection import train_test_split\n",
        "from sklearn.linear_model import LinearRegression"
      ],
      "execution_count": 0,
      "outputs": []
    },
    {
      "cell_type": "code",
      "metadata": {
        "id": "ZYYH53g9TgWW",
        "colab_type": "code",
        "colab": {}
      },
      "source": [
        "# train/test data 나누어주기\n",
        "X_train, X_test, y_train, y_test = train_test_split(data, target, test_size = 0.75, random_state=100)\n",
        "#연속형 변수라 stratify 사용 안한다."
      ],
      "execution_count": 0,
      "outputs": []
    },
    {
      "cell_type": "code",
      "metadata": {
        "id": "sFQ_gcx-T566",
        "colab_type": "code",
        "colab": {}
      },
      "source": [
        "# 모델 만들기\n",
        "model = LinearRegression().fit(X_train, y_train)"
      ],
      "execution_count": 0,
      "outputs": []
    },
    {
      "cell_type": "code",
      "metadata": {
        "id": "eZNpI_rtUQPN",
        "colab_type": "code",
        "colab": {
          "base_uri": "https://localhost:8080/",
          "height": 50
        },
        "outputId": "9f3d4132-8deb-47fb-9965-5760bdf6c3ea"
      },
      "source": [
        "# 만들어진 모델로 예측하기\n",
        "pred = model.predict(X_test)\n",
        "pred"
      ],
      "execution_count": 58,
      "outputs": [
        {
          "output_type": "execute_result",
          "data": {
            "text/plain": [
              "array([318.94504347, 222.62025644, 272.00318822, ..., 333.52800018,\n",
              "       465.16976089, 413.15184953])"
            ]
          },
          "metadata": {
            "tags": []
          },
          "execution_count": 58
        }
      ]
    },
    {
      "cell_type": "code",
      "metadata": {
        "id": "SDt9l7rWUXgx",
        "colab_type": "code",
        "colab": {
          "base_uri": "https://localhost:8080/",
          "height": 33
        },
        "outputId": "8e185823-a05f-4d12-a995-5b9a0531d9cb"
      },
      "source": [
        "pred.shape"
      ],
      "execution_count": 59,
      "outputs": [
        {
          "output_type": "execute_result",
          "data": {
            "text/plain": [
              "(8165,)"
            ]
          },
          "metadata": {
            "tags": []
          },
          "execution_count": 59
        }
      ]
    },
    {
      "cell_type": "code",
      "metadata": {
        "id": "rLHozJ1vUZd3",
        "colab_type": "code",
        "colab": {}
      },
      "source": [
        "# 데이터프레임으로 한 번 만들어 볼까?\n",
        "new_data = pd.DataFrame({'y_test':y_test, 'prediction': pred, 'difference': y_test - pred})"
      ],
      "execution_count": 0,
      "outputs": []
    },
    {
      "cell_type": "code",
      "metadata": {
        "id": "MfSMd3FqUoN0",
        "colab_type": "code",
        "colab": {
          "base_uri": "https://localhost:8080/",
          "height": 1000
        },
        "outputId": "6b67d5fd-26fd-466f-b332-fa3a4e51b34b"
      },
      "source": [
        "new_data"
      ],
      "execution_count": 61,
      "outputs": [
        {
          "output_type": "execute_result",
          "data": {
            "text/html": [
              "<div>\n",
              "<style scoped>\n",
              "    .dataframe tbody tr th:only-of-type {\n",
              "        vertical-align: middle;\n",
              "    }\n",
              "\n",
              "    .dataframe tbody tr th {\n",
              "        vertical-align: top;\n",
              "    }\n",
              "\n",
              "    .dataframe thead th {\n",
              "        text-align: right;\n",
              "    }\n",
              "</style>\n",
              "<table border=\"1\" class=\"dataframe\">\n",
              "  <thead>\n",
              "    <tr style=\"text-align: right;\">\n",
              "      <th></th>\n",
              "      <th>y_test</th>\n",
              "      <th>prediction</th>\n",
              "      <th>difference</th>\n",
              "    </tr>\n",
              "  </thead>\n",
              "  <tbody>\n",
              "    <tr>\n",
              "      <th>7810</th>\n",
              "      <td>513</td>\n",
              "      <td>318.945043</td>\n",
              "      <td>194.054957</td>\n",
              "    </tr>\n",
              "    <tr>\n",
              "      <th>1366</th>\n",
              "      <td>148</td>\n",
              "      <td>222.620256</td>\n",
              "      <td>-74.620256</td>\n",
              "    </tr>\n",
              "    <tr>\n",
              "      <th>2494</th>\n",
              "      <td>275</td>\n",
              "      <td>272.003188</td>\n",
              "      <td>2.996812</td>\n",
              "    </tr>\n",
              "    <tr>\n",
              "      <th>3555</th>\n",
              "      <td>24</td>\n",
              "      <td>172.921055</td>\n",
              "      <td>-148.921055</td>\n",
              "    </tr>\n",
              "    <tr>\n",
              "      <th>771</th>\n",
              "      <td>82</td>\n",
              "      <td>169.652914</td>\n",
              "      <td>-87.652914</td>\n",
              "    </tr>\n",
              "    <tr>\n",
              "      <th>8511</th>\n",
              "      <td>43</td>\n",
              "      <td>158.237329</td>\n",
              "      <td>-115.237329</td>\n",
              "    </tr>\n",
              "    <tr>\n",
              "      <th>5865</th>\n",
              "      <td>119</td>\n",
              "      <td>151.416952</td>\n",
              "      <td>-32.416952</td>\n",
              "    </tr>\n",
              "    <tr>\n",
              "      <th>7819</th>\n",
              "      <td>10</td>\n",
              "      <td>108.273666</td>\n",
              "      <td>-98.273666</td>\n",
              "    </tr>\n",
              "    <tr>\n",
              "      <th>8176</th>\n",
              "      <td>17</td>\n",
              "      <td>155.039637</td>\n",
              "      <td>-138.039637</td>\n",
              "    </tr>\n",
              "    <tr>\n",
              "      <th>9569</th>\n",
              "      <td>9</td>\n",
              "      <td>125.693068</td>\n",
              "      <td>-116.693068</td>\n",
              "    </tr>\n",
              "    <tr>\n",
              "      <th>1287</th>\n",
              "      <td>195</td>\n",
              "      <td>318.147519</td>\n",
              "      <td>-123.147519</td>\n",
              "    </tr>\n",
              "    <tr>\n",
              "      <th>2059</th>\n",
              "      <td>594</td>\n",
              "      <td>274.426981</td>\n",
              "      <td>319.573019</td>\n",
              "    </tr>\n",
              "    <tr>\n",
              "      <th>6391</th>\n",
              "      <td>339</td>\n",
              "      <td>249.837047</td>\n",
              "      <td>89.162953</td>\n",
              "    </tr>\n",
              "    <tr>\n",
              "      <th>9044</th>\n",
              "      <td>11</td>\n",
              "      <td>39.181828</td>\n",
              "      <td>-28.181828</td>\n",
              "    </tr>\n",
              "    <tr>\n",
              "      <th>573</th>\n",
              "      <td>5</td>\n",
              "      <td>83.602695</td>\n",
              "      <td>-78.602695</td>\n",
              "    </tr>\n",
              "    <tr>\n",
              "      <th>4032</th>\n",
              "      <td>10</td>\n",
              "      <td>135.284991</td>\n",
              "      <td>-125.284991</td>\n",
              "    </tr>\n",
              "    <tr>\n",
              "      <th>9600</th>\n",
              "      <td>359</td>\n",
              "      <td>243.102565</td>\n",
              "      <td>115.897435</td>\n",
              "    </tr>\n",
              "    <tr>\n",
              "      <th>7753</th>\n",
              "      <td>404</td>\n",
              "      <td>381.199648</td>\n",
              "      <td>22.800352</td>\n",
              "    </tr>\n",
              "    <tr>\n",
              "      <th>8487</th>\n",
              "      <td>187</td>\n",
              "      <td>125.269318</td>\n",
              "      <td>61.730682</td>\n",
              "    </tr>\n",
              "    <tr>\n",
              "      <th>9275</th>\n",
              "      <td>356</td>\n",
              "      <td>306.497729</td>\n",
              "      <td>49.502271</td>\n",
              "    </tr>\n",
              "    <tr>\n",
              "      <th>7887</th>\n",
              "      <td>206</td>\n",
              "      <td>170.762221</td>\n",
              "      <td>35.237779</td>\n",
              "    </tr>\n",
              "    <tr>\n",
              "      <th>2359</th>\n",
              "      <td>31</td>\n",
              "      <td>114.448395</td>\n",
              "      <td>-83.448395</td>\n",
              "    </tr>\n",
              "    <tr>\n",
              "      <th>732</th>\n",
              "      <td>51</td>\n",
              "      <td>49.025000</td>\n",
              "      <td>1.975000</td>\n",
              "    </tr>\n",
              "    <tr>\n",
              "      <th>2318</th>\n",
              "      <td>420</td>\n",
              "      <td>445.429838</td>\n",
              "      <td>-25.429838</td>\n",
              "    </tr>\n",
              "    <tr>\n",
              "      <th>6567</th>\n",
              "      <td>110</td>\n",
              "      <td>61.359492</td>\n",
              "      <td>48.640508</td>\n",
              "    </tr>\n",
              "    <tr>\n",
              "      <th>3556</th>\n",
              "      <td>6</td>\n",
              "      <td>144.736185</td>\n",
              "      <td>-138.736185</td>\n",
              "    </tr>\n",
              "    <tr>\n",
              "      <th>1415</th>\n",
              "      <td>173</td>\n",
              "      <td>280.299197</td>\n",
              "      <td>-107.299197</td>\n",
              "    </tr>\n",
              "    <tr>\n",
              "      <th>4531</th>\n",
              "      <td>127</td>\n",
              "      <td>162.843290</td>\n",
              "      <td>-35.843290</td>\n",
              "    </tr>\n",
              "    <tr>\n",
              "      <th>2765</th>\n",
              "      <td>26</td>\n",
              "      <td>72.806704</td>\n",
              "      <td>-46.806704</td>\n",
              "    </tr>\n",
              "    <tr>\n",
              "      <th>8096</th>\n",
              "      <td>593</td>\n",
              "      <td>650.665181</td>\n",
              "      <td>-57.665181</td>\n",
              "    </tr>\n",
              "    <tr>\n",
              "      <th>...</th>\n",
              "      <td>...</td>\n",
              "      <td>...</td>\n",
              "      <td>...</td>\n",
              "    </tr>\n",
              "    <tr>\n",
              "      <th>8565</th>\n",
              "      <td>162</td>\n",
              "      <td>160.601365</td>\n",
              "      <td>1.398635</td>\n",
              "    </tr>\n",
              "    <tr>\n",
              "      <th>3807</th>\n",
              "      <td>188</td>\n",
              "      <td>200.279071</td>\n",
              "      <td>-12.279071</td>\n",
              "    </tr>\n",
              "    <tr>\n",
              "      <th>1525</th>\n",
              "      <td>133</td>\n",
              "      <td>112.324108</td>\n",
              "      <td>20.675892</td>\n",
              "    </tr>\n",
              "    <tr>\n",
              "      <th>3143</th>\n",
              "      <td>241</td>\n",
              "      <td>256.137513</td>\n",
              "      <td>-15.137513</td>\n",
              "    </tr>\n",
              "    <tr>\n",
              "      <th>7795</th>\n",
              "      <td>5</td>\n",
              "      <td>112.265452</td>\n",
              "      <td>-107.265452</td>\n",
              "    </tr>\n",
              "    <tr>\n",
              "      <th>3632</th>\n",
              "      <td>76</td>\n",
              "      <td>127.193581</td>\n",
              "      <td>-51.193581</td>\n",
              "    </tr>\n",
              "    <tr>\n",
              "      <th>5605</th>\n",
              "      <td>314</td>\n",
              "      <td>183.377206</td>\n",
              "      <td>130.622794</td>\n",
              "    </tr>\n",
              "    <tr>\n",
              "      <th>2584</th>\n",
              "      <td>178</td>\n",
              "      <td>270.860883</td>\n",
              "      <td>-92.860883</td>\n",
              "    </tr>\n",
              "    <tr>\n",
              "      <th>3072</th>\n",
              "      <td>201</td>\n",
              "      <td>217.224496</td>\n",
              "      <td>-16.224496</td>\n",
              "    </tr>\n",
              "    <tr>\n",
              "      <th>6073</th>\n",
              "      <td>267</td>\n",
              "      <td>105.856972</td>\n",
              "      <td>161.143028</td>\n",
              "    </tr>\n",
              "    <tr>\n",
              "      <th>9432</th>\n",
              "      <td>296</td>\n",
              "      <td>224.123719</td>\n",
              "      <td>71.876281</td>\n",
              "    </tr>\n",
              "    <tr>\n",
              "      <th>6655</th>\n",
              "      <td>224</td>\n",
              "      <td>306.070629</td>\n",
              "      <td>-82.070629</td>\n",
              "    </tr>\n",
              "    <tr>\n",
              "      <th>2076</th>\n",
              "      <td>130</td>\n",
              "      <td>186.643694</td>\n",
              "      <td>-56.643694</td>\n",
              "    </tr>\n",
              "    <tr>\n",
              "      <th>7717</th>\n",
              "      <td>23</td>\n",
              "      <td>104.231583</td>\n",
              "      <td>-81.231583</td>\n",
              "    </tr>\n",
              "    <tr>\n",
              "      <th>8532</th>\n",
              "      <td>328</td>\n",
              "      <td>257.061596</td>\n",
              "      <td>70.938404</td>\n",
              "    </tr>\n",
              "    <tr>\n",
              "      <th>2225</th>\n",
              "      <td>188</td>\n",
              "      <td>276.054792</td>\n",
              "      <td>-88.054792</td>\n",
              "    </tr>\n",
              "    <tr>\n",
              "      <th>9248</th>\n",
              "      <td>171</td>\n",
              "      <td>165.769133</td>\n",
              "      <td>5.230867</td>\n",
              "    </tr>\n",
              "    <tr>\n",
              "      <th>4553</th>\n",
              "      <td>282</td>\n",
              "      <td>206.514545</td>\n",
              "      <td>75.485455</td>\n",
              "    </tr>\n",
              "    <tr>\n",
              "      <th>7883</th>\n",
              "      <td>408</td>\n",
              "      <td>455.385271</td>\n",
              "      <td>-47.385271</td>\n",
              "    </tr>\n",
              "    <tr>\n",
              "      <th>4524</th>\n",
              "      <td>150</td>\n",
              "      <td>254.037229</td>\n",
              "      <td>-104.037229</td>\n",
              "    </tr>\n",
              "    <tr>\n",
              "      <th>10751</th>\n",
              "      <td>343</td>\n",
              "      <td>170.661170</td>\n",
              "      <td>172.338830</td>\n",
              "    </tr>\n",
              "    <tr>\n",
              "      <th>6618</th>\n",
              "      <td>16</td>\n",
              "      <td>115.439691</td>\n",
              "      <td>-99.439691</td>\n",
              "    </tr>\n",
              "    <tr>\n",
              "      <th>7928</th>\n",
              "      <td>521</td>\n",
              "      <td>538.207711</td>\n",
              "      <td>-17.207711</td>\n",
              "    </tr>\n",
              "    <tr>\n",
              "      <th>6494</th>\n",
              "      <td>260</td>\n",
              "      <td>163.791780</td>\n",
              "      <td>96.208220</td>\n",
              "    </tr>\n",
              "    <tr>\n",
              "      <th>7244</th>\n",
              "      <td>17</td>\n",
              "      <td>109.605425</td>\n",
              "      <td>-92.605425</td>\n",
              "    </tr>\n",
              "    <tr>\n",
              "      <th>406</th>\n",
              "      <td>33</td>\n",
              "      <td>73.134495</td>\n",
              "      <td>-40.134495</td>\n",
              "    </tr>\n",
              "    <tr>\n",
              "      <th>2625</th>\n",
              "      <td>250</td>\n",
              "      <td>161.843464</td>\n",
              "      <td>88.156536</td>\n",
              "    </tr>\n",
              "    <tr>\n",
              "      <th>2125</th>\n",
              "      <td>322</td>\n",
              "      <td>333.528000</td>\n",
              "      <td>-11.528000</td>\n",
              "    </tr>\n",
              "    <tr>\n",
              "      <th>9297</th>\n",
              "      <td>968</td>\n",
              "      <td>465.169761</td>\n",
              "      <td>502.830239</td>\n",
              "    </tr>\n",
              "    <tr>\n",
              "      <th>2656</th>\n",
              "      <td>334</td>\n",
              "      <td>413.151850</td>\n",
              "      <td>-79.151850</td>\n",
              "    </tr>\n",
              "  </tbody>\n",
              "</table>\n",
              "<p>8165 rows × 3 columns</p>\n",
              "</div>"
            ],
            "text/plain": [
              "       y_test  prediction  difference\n",
              "7810      513  318.945043  194.054957\n",
              "1366      148  222.620256  -74.620256\n",
              "2494      275  272.003188    2.996812\n",
              "3555       24  172.921055 -148.921055\n",
              "771        82  169.652914  -87.652914\n",
              "8511       43  158.237329 -115.237329\n",
              "5865      119  151.416952  -32.416952\n",
              "7819       10  108.273666  -98.273666\n",
              "8176       17  155.039637 -138.039637\n",
              "9569        9  125.693068 -116.693068\n",
              "1287      195  318.147519 -123.147519\n",
              "2059      594  274.426981  319.573019\n",
              "6391      339  249.837047   89.162953\n",
              "9044       11   39.181828  -28.181828\n",
              "573         5   83.602695  -78.602695\n",
              "4032       10  135.284991 -125.284991\n",
              "9600      359  243.102565  115.897435\n",
              "7753      404  381.199648   22.800352\n",
              "8487      187  125.269318   61.730682\n",
              "9275      356  306.497729   49.502271\n",
              "7887      206  170.762221   35.237779\n",
              "2359       31  114.448395  -83.448395\n",
              "732        51   49.025000    1.975000\n",
              "2318      420  445.429838  -25.429838\n",
              "6567      110   61.359492   48.640508\n",
              "3556        6  144.736185 -138.736185\n",
              "1415      173  280.299197 -107.299197\n",
              "4531      127  162.843290  -35.843290\n",
              "2765       26   72.806704  -46.806704\n",
              "8096      593  650.665181  -57.665181\n",
              "...       ...         ...         ...\n",
              "8565      162  160.601365    1.398635\n",
              "3807      188  200.279071  -12.279071\n",
              "1525      133  112.324108   20.675892\n",
              "3143      241  256.137513  -15.137513\n",
              "7795        5  112.265452 -107.265452\n",
              "3632       76  127.193581  -51.193581\n",
              "5605      314  183.377206  130.622794\n",
              "2584      178  270.860883  -92.860883\n",
              "3072      201  217.224496  -16.224496\n",
              "6073      267  105.856972  161.143028\n",
              "9432      296  224.123719   71.876281\n",
              "6655      224  306.070629  -82.070629\n",
              "2076      130  186.643694  -56.643694\n",
              "7717       23  104.231583  -81.231583\n",
              "8532      328  257.061596   70.938404\n",
              "2225      188  276.054792  -88.054792\n",
              "9248      171  165.769133    5.230867\n",
              "4553      282  206.514545   75.485455\n",
              "7883      408  455.385271  -47.385271\n",
              "4524      150  254.037229 -104.037229\n",
              "10751     343  170.661170  172.338830\n",
              "6618       16  115.439691  -99.439691\n",
              "7928      521  538.207711  -17.207711\n",
              "6494      260  163.791780   96.208220\n",
              "7244       17  109.605425  -92.605425\n",
              "406        33   73.134495  -40.134495\n",
              "2625      250  161.843464   88.156536\n",
              "2125      322  333.528000  -11.528000\n",
              "9297      968  465.169761  502.830239\n",
              "2656      334  413.151850  -79.151850\n",
              "\n",
              "[8165 rows x 3 columns]"
            ]
          },
          "metadata": {
            "tags": []
          },
          "execution_count": 61
        }
      ]
    },
    {
      "cell_type": "code",
      "metadata": {
        "id": "u_RB6aVvUpQ8",
        "colab_type": "code",
        "colab": {
          "base_uri": "https://localhost:8080/",
          "height": 33
        },
        "outputId": "c91b0cd6-27dd-430f-c99d-0723b253c614"
      },
      "source": [
        "# MAE 만들쟈 (Mean Absolute Error/ 평균절대값오차)\n",
        "sum(abs(new_data['difference']))/len(new_data['difference'])"
      ],
      "execution_count": 62,
      "outputs": [
        {
          "output_type": "execute_result",
          "data": {
            "text/plain": [
              "85.82288219295003"
            ]
          },
          "metadata": {
            "tags": []
          },
          "execution_count": 62
        }
      ]
    },
    {
      "cell_type": "code",
      "metadata": {
        "id": "J4E1tJbbVEBl",
        "colab_type": "code",
        "colab": {
          "base_uri": "https://localhost:8080/",
          "height": 33
        },
        "outputId": "6e085741-d1e2-4a4a-c3f5-38f91d5ea332"
      },
      "source": [
        "# MSE (Mean Square Error/평균제곱오차)\n",
        "\n",
        "MSE = sum((new_data['difference']**2))/len(new_data['difference'])\n",
        "MSE"
      ],
      "execution_count": 63,
      "outputs": [
        {
          "output_type": "execute_result",
          "data": {
            "text/plain": [
              "14475.32964724777"
            ]
          },
          "metadata": {
            "tags": []
          },
          "execution_count": 63
        }
      ]
    },
    {
      "cell_type": "code",
      "metadata": {
        "id": "KhqvNDLnVaNo",
        "colab_type": "code",
        "colab": {
          "base_uri": "https://localhost:8080/",
          "height": 33
        },
        "outputId": "ca978e57-637c-41fe-920c-54c06096db16"
      },
      "source": [
        "# RMSE (Root Mean Square Error/ 평균제곱근오차)\n",
        "RMSE = np.sqrt(MSE)\n",
        "RMSE"
      ],
      "execution_count": 64,
      "outputs": [
        {
          "output_type": "execute_result",
          "data": {
            "text/plain": [
              "120.31346411456937"
            ]
          },
          "metadata": {
            "tags": []
          },
          "execution_count": 64
        }
      ]
    },
    {
      "cell_type": "code",
      "metadata": {
        "id": "iZsXQvJwVPgh",
        "colab_type": "code",
        "colab": {
          "base_uri": "https://localhost:8080/",
          "height": 50
        },
        "outputId": "45464f1f-7bb9-4978-ac54-8db3352acd69"
      },
      "source": [
        "# 훈련 데이터셋 및 테스트 데이터셋 점수 확인\n",
        "\n",
        "print('훈련 데이터 셋 점수 : {:.2f}'.format(model.score(X_train, y_train)))\n",
        "print('테스트 데이터 셋 점수 : {:.2f}'.format(model.score(X_test, y_test)))"
      ],
      "execution_count": 65,
      "outputs": [
        {
          "output_type": "stream",
          "text": [
            "훈련 데이터 셋 점수 : 0.55\n",
            "테스트 데이터 셋 점수 : 0.55\n"
          ],
          "name": "stdout"
        }
      ]
    },
    {
      "cell_type": "code",
      "metadata": {
        "id": "Eiv8Gfw0WQVW",
        "colab_type": "code",
        "colab": {}
      },
      "source": [
        "# 예측률개구림"
      ],
      "execution_count": 0,
      "outputs": []
    },
    {
      "cell_type": "code",
      "metadata": {
        "id": "DrQBPwM6V3od",
        "colab_type": "code",
        "colab": {}
      },
      "source": [
        ""
      ],
      "execution_count": 0,
      "outputs": []
    }
  ]
}