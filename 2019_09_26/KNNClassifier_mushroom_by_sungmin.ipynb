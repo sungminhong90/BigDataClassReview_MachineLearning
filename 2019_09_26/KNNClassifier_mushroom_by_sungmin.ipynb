{
  "nbformat": 4,
  "nbformat_minor": 0,
  "metadata": {
    "colab": {
      "name": "KNNClassifier_mushroom_by_sungmin.ipynb",
      "provenance": []
    },
    "kernelspec": {
      "name": "python3",
      "display_name": "Python 3"
    }
  },
  "cells": [
    {
      "cell_type": "code",
      "metadata": {
        "id": "-QfQ1mBcsb-k",
        "colab_type": "code",
        "colab": {}
      },
      "source": [
        "import pandas as pd\n",
        "import numpy as np"
      ],
      "execution_count": 0,
      "outputs": []
    },
    {
      "cell_type": "code",
      "metadata": {
        "id": "ytdDL3P3spPZ",
        "colab_type": "code",
        "colab": {}
      },
      "source": [
        "# 데이터 불러오기\n",
        "df = pd.read_csv('mushrooms.csv')"
      ],
      "execution_count": 0,
      "outputs": []
    },
    {
      "cell_type": "code",
      "metadata": {
        "id": "d9YytkKpsx7k",
        "colab_type": "code",
        "colab": {
          "base_uri": "https://localhost:8080/",
          "height": 483
        },
        "outputId": "0709778d-d748-4db1-8cb9-0ebacfc34150"
      },
      "source": [
        "# 데이터를 확인해봅시다.\n",
        "df.info()"
      ],
      "execution_count": 3,
      "outputs": [
        {
          "output_type": "stream",
          "text": [
            "<class 'pandas.core.frame.DataFrame'>\n",
            "RangeIndex: 8124 entries, 0 to 8123\n",
            "Data columns (total 23 columns):\n",
            "class                       8124 non-null object\n",
            "cap-shape                   8124 non-null object\n",
            "cap-surface                 8124 non-null object\n",
            "cap-color                   8124 non-null object\n",
            "bruises                     8124 non-null object\n",
            "odor                        8124 non-null object\n",
            "gill-attachment             8124 non-null object\n",
            "gill-spacing                8124 non-null object\n",
            "gill-size                   8124 non-null object\n",
            "gill-color                  8124 non-null object\n",
            "stalk-shape                 8124 non-null object\n",
            "stalk-root                  8124 non-null object\n",
            "stalk-surface-above-ring    8124 non-null object\n",
            "stalk-surface-below-ring    8124 non-null object\n",
            "stalk-color-above-ring      8124 non-null object\n",
            "stalk-color-below-ring      8124 non-null object\n",
            "veil-type                   8124 non-null object\n",
            "veil-color                  8124 non-null object\n",
            "ring-number                 8124 non-null object\n",
            "ring-type                   8124 non-null object\n",
            "spore-print-color           8124 non-null object\n",
            "population                  8124 non-null object\n",
            "habitat                     8124 non-null object\n",
            "dtypes: object(23)\n",
            "memory usage: 1.4+ MB\n"
          ],
          "name": "stdout"
        }
      ]
    },
    {
      "cell_type": "code",
      "metadata": {
        "id": "oynEKUcNs3bx",
        "colab_type": "code",
        "colab": {
          "base_uri": "https://localhost:8080/",
          "height": 33
        },
        "outputId": "89b72a85-3045-449a-a626-81f6f8521b31"
      },
      "source": [
        "df.shape"
      ],
      "execution_count": 4,
      "outputs": [
        {
          "output_type": "execute_result",
          "data": {
            "text/plain": [
              "(8124, 23)"
            ]
          },
          "metadata": {
            "tags": []
          },
          "execution_count": 4
        }
      ]
    },
    {
      "cell_type": "code",
      "metadata": {
        "id": "2EOFEx9fs4uw",
        "colab_type": "code",
        "colab": {
          "base_uri": "https://localhost:8080/",
          "height": 237
        },
        "outputId": "de684ee1-7679-4710-a8ef-a1146e4fe816"
      },
      "source": [
        "df.describe()"
      ],
      "execution_count": 5,
      "outputs": [
        {
          "output_type": "execute_result",
          "data": {
            "text/html": [
              "<div>\n",
              "<style scoped>\n",
              "    .dataframe tbody tr th:only-of-type {\n",
              "        vertical-align: middle;\n",
              "    }\n",
              "\n",
              "    .dataframe tbody tr th {\n",
              "        vertical-align: top;\n",
              "    }\n",
              "\n",
              "    .dataframe thead th {\n",
              "        text-align: right;\n",
              "    }\n",
              "</style>\n",
              "<table border=\"1\" class=\"dataframe\">\n",
              "  <thead>\n",
              "    <tr style=\"text-align: right;\">\n",
              "      <th></th>\n",
              "      <th>class</th>\n",
              "      <th>cap-shape</th>\n",
              "      <th>cap-surface</th>\n",
              "      <th>cap-color</th>\n",
              "      <th>bruises</th>\n",
              "      <th>odor</th>\n",
              "      <th>gill-attachment</th>\n",
              "      <th>gill-spacing</th>\n",
              "      <th>gill-size</th>\n",
              "      <th>gill-color</th>\n",
              "      <th>stalk-shape</th>\n",
              "      <th>stalk-root</th>\n",
              "      <th>stalk-surface-above-ring</th>\n",
              "      <th>stalk-surface-below-ring</th>\n",
              "      <th>stalk-color-above-ring</th>\n",
              "      <th>stalk-color-below-ring</th>\n",
              "      <th>veil-type</th>\n",
              "      <th>veil-color</th>\n",
              "      <th>ring-number</th>\n",
              "      <th>ring-type</th>\n",
              "      <th>spore-print-color</th>\n",
              "      <th>population</th>\n",
              "      <th>habitat</th>\n",
              "    </tr>\n",
              "  </thead>\n",
              "  <tbody>\n",
              "    <tr>\n",
              "      <th>count</th>\n",
              "      <td>8124</td>\n",
              "      <td>8124</td>\n",
              "      <td>8124</td>\n",
              "      <td>8124</td>\n",
              "      <td>8124</td>\n",
              "      <td>8124</td>\n",
              "      <td>8124</td>\n",
              "      <td>8124</td>\n",
              "      <td>8124</td>\n",
              "      <td>8124</td>\n",
              "      <td>8124</td>\n",
              "      <td>8124</td>\n",
              "      <td>8124</td>\n",
              "      <td>8124</td>\n",
              "      <td>8124</td>\n",
              "      <td>8124</td>\n",
              "      <td>8124</td>\n",
              "      <td>8124</td>\n",
              "      <td>8124</td>\n",
              "      <td>8124</td>\n",
              "      <td>8124</td>\n",
              "      <td>8124</td>\n",
              "      <td>8124</td>\n",
              "    </tr>\n",
              "    <tr>\n",
              "      <th>unique</th>\n",
              "      <td>2</td>\n",
              "      <td>6</td>\n",
              "      <td>4</td>\n",
              "      <td>10</td>\n",
              "      <td>2</td>\n",
              "      <td>9</td>\n",
              "      <td>2</td>\n",
              "      <td>2</td>\n",
              "      <td>2</td>\n",
              "      <td>12</td>\n",
              "      <td>2</td>\n",
              "      <td>5</td>\n",
              "      <td>4</td>\n",
              "      <td>4</td>\n",
              "      <td>9</td>\n",
              "      <td>9</td>\n",
              "      <td>1</td>\n",
              "      <td>4</td>\n",
              "      <td>3</td>\n",
              "      <td>5</td>\n",
              "      <td>9</td>\n",
              "      <td>6</td>\n",
              "      <td>7</td>\n",
              "    </tr>\n",
              "    <tr>\n",
              "      <th>top</th>\n",
              "      <td>e</td>\n",
              "      <td>x</td>\n",
              "      <td>y</td>\n",
              "      <td>n</td>\n",
              "      <td>f</td>\n",
              "      <td>n</td>\n",
              "      <td>f</td>\n",
              "      <td>c</td>\n",
              "      <td>b</td>\n",
              "      <td>b</td>\n",
              "      <td>t</td>\n",
              "      <td>b</td>\n",
              "      <td>s</td>\n",
              "      <td>s</td>\n",
              "      <td>w</td>\n",
              "      <td>w</td>\n",
              "      <td>p</td>\n",
              "      <td>w</td>\n",
              "      <td>o</td>\n",
              "      <td>p</td>\n",
              "      <td>w</td>\n",
              "      <td>v</td>\n",
              "      <td>d</td>\n",
              "    </tr>\n",
              "    <tr>\n",
              "      <th>freq</th>\n",
              "      <td>4208</td>\n",
              "      <td>3656</td>\n",
              "      <td>3244</td>\n",
              "      <td>2284</td>\n",
              "      <td>4748</td>\n",
              "      <td>3528</td>\n",
              "      <td>7914</td>\n",
              "      <td>6812</td>\n",
              "      <td>5612</td>\n",
              "      <td>1728</td>\n",
              "      <td>4608</td>\n",
              "      <td>3776</td>\n",
              "      <td>5176</td>\n",
              "      <td>4936</td>\n",
              "      <td>4464</td>\n",
              "      <td>4384</td>\n",
              "      <td>8124</td>\n",
              "      <td>7924</td>\n",
              "      <td>7488</td>\n",
              "      <td>3968</td>\n",
              "      <td>2388</td>\n",
              "      <td>4040</td>\n",
              "      <td>3148</td>\n",
              "    </tr>\n",
              "  </tbody>\n",
              "</table>\n",
              "</div>"
            ],
            "text/plain": [
              "       class cap-shape cap-surface  ... spore-print-color population habitat\n",
              "count   8124      8124        8124  ...              8124       8124    8124\n",
              "unique     2         6           4  ...                 9          6       7\n",
              "top        e         x           y  ...                 w          v       d\n",
              "freq    4208      3656        3244  ...              2388       4040    3148\n",
              "\n",
              "[4 rows x 23 columns]"
            ]
          },
          "metadata": {
            "tags": []
          },
          "execution_count": 5
        }
      ]
    },
    {
      "cell_type": "code",
      "metadata": {
        "id": "Z0CLsKozs8Ea",
        "colab_type": "code",
        "colab": {
          "base_uri": "https://localhost:8080/",
          "height": 267
        },
        "outputId": "0b7f848d-3ae8-4876-cf04-dd0182951f75"
      },
      "source": [
        "df.head()"
      ],
      "execution_count": 6,
      "outputs": [
        {
          "output_type": "execute_result",
          "data": {
            "text/html": [
              "<div>\n",
              "<style scoped>\n",
              "    .dataframe tbody tr th:only-of-type {\n",
              "        vertical-align: middle;\n",
              "    }\n",
              "\n",
              "    .dataframe tbody tr th {\n",
              "        vertical-align: top;\n",
              "    }\n",
              "\n",
              "    .dataframe thead th {\n",
              "        text-align: right;\n",
              "    }\n",
              "</style>\n",
              "<table border=\"1\" class=\"dataframe\">\n",
              "  <thead>\n",
              "    <tr style=\"text-align: right;\">\n",
              "      <th></th>\n",
              "      <th>class</th>\n",
              "      <th>cap-shape</th>\n",
              "      <th>cap-surface</th>\n",
              "      <th>cap-color</th>\n",
              "      <th>bruises</th>\n",
              "      <th>odor</th>\n",
              "      <th>gill-attachment</th>\n",
              "      <th>gill-spacing</th>\n",
              "      <th>gill-size</th>\n",
              "      <th>gill-color</th>\n",
              "      <th>stalk-shape</th>\n",
              "      <th>stalk-root</th>\n",
              "      <th>stalk-surface-above-ring</th>\n",
              "      <th>stalk-surface-below-ring</th>\n",
              "      <th>stalk-color-above-ring</th>\n",
              "      <th>stalk-color-below-ring</th>\n",
              "      <th>veil-type</th>\n",
              "      <th>veil-color</th>\n",
              "      <th>ring-number</th>\n",
              "      <th>ring-type</th>\n",
              "      <th>spore-print-color</th>\n",
              "      <th>population</th>\n",
              "      <th>habitat</th>\n",
              "    </tr>\n",
              "  </thead>\n",
              "  <tbody>\n",
              "    <tr>\n",
              "      <th>0</th>\n",
              "      <td>p</td>\n",
              "      <td>x</td>\n",
              "      <td>s</td>\n",
              "      <td>n</td>\n",
              "      <td>t</td>\n",
              "      <td>p</td>\n",
              "      <td>f</td>\n",
              "      <td>c</td>\n",
              "      <td>n</td>\n",
              "      <td>k</td>\n",
              "      <td>e</td>\n",
              "      <td>e</td>\n",
              "      <td>s</td>\n",
              "      <td>s</td>\n",
              "      <td>w</td>\n",
              "      <td>w</td>\n",
              "      <td>p</td>\n",
              "      <td>w</td>\n",
              "      <td>o</td>\n",
              "      <td>p</td>\n",
              "      <td>k</td>\n",
              "      <td>s</td>\n",
              "      <td>u</td>\n",
              "    </tr>\n",
              "    <tr>\n",
              "      <th>1</th>\n",
              "      <td>e</td>\n",
              "      <td>x</td>\n",
              "      <td>s</td>\n",
              "      <td>y</td>\n",
              "      <td>t</td>\n",
              "      <td>a</td>\n",
              "      <td>f</td>\n",
              "      <td>c</td>\n",
              "      <td>b</td>\n",
              "      <td>k</td>\n",
              "      <td>e</td>\n",
              "      <td>c</td>\n",
              "      <td>s</td>\n",
              "      <td>s</td>\n",
              "      <td>w</td>\n",
              "      <td>w</td>\n",
              "      <td>p</td>\n",
              "      <td>w</td>\n",
              "      <td>o</td>\n",
              "      <td>p</td>\n",
              "      <td>n</td>\n",
              "      <td>n</td>\n",
              "      <td>g</td>\n",
              "    </tr>\n",
              "    <tr>\n",
              "      <th>2</th>\n",
              "      <td>e</td>\n",
              "      <td>b</td>\n",
              "      <td>s</td>\n",
              "      <td>w</td>\n",
              "      <td>t</td>\n",
              "      <td>l</td>\n",
              "      <td>f</td>\n",
              "      <td>c</td>\n",
              "      <td>b</td>\n",
              "      <td>n</td>\n",
              "      <td>e</td>\n",
              "      <td>c</td>\n",
              "      <td>s</td>\n",
              "      <td>s</td>\n",
              "      <td>w</td>\n",
              "      <td>w</td>\n",
              "      <td>p</td>\n",
              "      <td>w</td>\n",
              "      <td>o</td>\n",
              "      <td>p</td>\n",
              "      <td>n</td>\n",
              "      <td>n</td>\n",
              "      <td>m</td>\n",
              "    </tr>\n",
              "    <tr>\n",
              "      <th>3</th>\n",
              "      <td>p</td>\n",
              "      <td>x</td>\n",
              "      <td>y</td>\n",
              "      <td>w</td>\n",
              "      <td>t</td>\n",
              "      <td>p</td>\n",
              "      <td>f</td>\n",
              "      <td>c</td>\n",
              "      <td>n</td>\n",
              "      <td>n</td>\n",
              "      <td>e</td>\n",
              "      <td>e</td>\n",
              "      <td>s</td>\n",
              "      <td>s</td>\n",
              "      <td>w</td>\n",
              "      <td>w</td>\n",
              "      <td>p</td>\n",
              "      <td>w</td>\n",
              "      <td>o</td>\n",
              "      <td>p</td>\n",
              "      <td>k</td>\n",
              "      <td>s</td>\n",
              "      <td>u</td>\n",
              "    </tr>\n",
              "    <tr>\n",
              "      <th>4</th>\n",
              "      <td>e</td>\n",
              "      <td>x</td>\n",
              "      <td>s</td>\n",
              "      <td>g</td>\n",
              "      <td>f</td>\n",
              "      <td>n</td>\n",
              "      <td>f</td>\n",
              "      <td>w</td>\n",
              "      <td>b</td>\n",
              "      <td>k</td>\n",
              "      <td>t</td>\n",
              "      <td>e</td>\n",
              "      <td>s</td>\n",
              "      <td>s</td>\n",
              "      <td>w</td>\n",
              "      <td>w</td>\n",
              "      <td>p</td>\n",
              "      <td>w</td>\n",
              "      <td>o</td>\n",
              "      <td>e</td>\n",
              "      <td>n</td>\n",
              "      <td>a</td>\n",
              "      <td>g</td>\n",
              "    </tr>\n",
              "  </tbody>\n",
              "</table>\n",
              "</div>"
            ],
            "text/plain": [
              "  class cap-shape cap-surface  ... spore-print-color population habitat\n",
              "0     p         x           s  ...                 k          s       u\n",
              "1     e         x           s  ...                 n          n       g\n",
              "2     e         b           s  ...                 n          n       m\n",
              "3     p         x           y  ...                 k          s       u\n",
              "4     e         x           s  ...                 n          a       g\n",
              "\n",
              "[5 rows x 23 columns]"
            ]
          },
          "metadata": {
            "tags": []
          },
          "execution_count": 6
        }
      ]
    },
    {
      "cell_type": "code",
      "metadata": {
        "id": "0Juj9kYntBbt",
        "colab_type": "code",
        "colab": {
          "base_uri": "https://localhost:8080/",
          "height": 133
        },
        "outputId": "b2b08bcd-c208-453c-f75e-9de906320803"
      },
      "source": [
        "df.columns"
      ],
      "execution_count": 7,
      "outputs": [
        {
          "output_type": "execute_result",
          "data": {
            "text/plain": [
              "Index(['class', 'cap-shape', 'cap-surface', 'cap-color', 'bruises', 'odor',\n",
              "       'gill-attachment', 'gill-spacing', 'gill-size', 'gill-color',\n",
              "       'stalk-shape', 'stalk-root', 'stalk-surface-above-ring',\n",
              "       'stalk-surface-below-ring', 'stalk-color-above-ring',\n",
              "       'stalk-color-below-ring', 'veil-type', 'veil-color', 'ring-number',\n",
              "       'ring-type', 'spore-print-color', 'population', 'habitat'],\n",
              "      dtype='object')"
            ]
          },
          "metadata": {
            "tags": []
          },
          "execution_count": 7
        }
      ]
    },
    {
      "cell_type": "code",
      "metadata": {
        "id": "rsDgvHXS1QxF",
        "colab_type": "code",
        "colab": {
          "base_uri": "https://localhost:8080/",
          "height": 33
        },
        "outputId": "3b36db6d-6582-4fb8-bbb0-62f533c3e701"
      },
      "source": [
        "len(df.columns)"
      ],
      "execution_count": 8,
      "outputs": [
        {
          "output_type": "execute_result",
          "data": {
            "text/plain": [
              "23"
            ]
          },
          "metadata": {
            "tags": []
          },
          "execution_count": 8
        }
      ]
    },
    {
      "cell_type": "code",
      "metadata": {
        "id": "v-b_01mIt40X",
        "colab_type": "code",
        "colab": {}
      },
      "source": [
        "# 아래 다 label encoding 들어가야 할듯....."
      ],
      "execution_count": 0,
      "outputs": []
    },
    {
      "cell_type": "code",
      "metadata": {
        "id": "uxjmTf0wtGlM",
        "colab_type": "code",
        "colab": {
          "base_uri": "https://localhost:8080/",
          "height": 33
        },
        "outputId": "9429c930-5760-4b24-d5a3-b567b5c2b39a"
      },
      "source": [
        "set(df['class'])"
      ],
      "execution_count": 10,
      "outputs": [
        {
          "output_type": "execute_result",
          "data": {
            "text/plain": [
              "{'e', 'p'}"
            ]
          },
          "metadata": {
            "tags": []
          },
          "execution_count": 10
        }
      ]
    },
    {
      "cell_type": "code",
      "metadata": {
        "id": "ICOQ6wUYwS4K",
        "colab_type": "code",
        "colab": {
          "base_uri": "https://localhost:8080/",
          "height": 33
        },
        "outputId": "06ac33ce-2781-4099-e3f1-18db2b3cf2b5"
      },
      "source": [
        "encoder = LabelEncoder()\n",
        "encoder.fit(df['class'])\n",
        "label_class = encoder.transform(df['class'])\n",
        "set(label_class)\n",
        "#edile은 0, poisonous는 1"
      ],
      "execution_count": 13,
      "outputs": [
        {
          "output_type": "execute_result",
          "data": {
            "text/plain": [
              "{0, 1}"
            ]
          },
          "metadata": {
            "tags": []
          },
          "execution_count": 13
        }
      ]
    },
    {
      "cell_type": "code",
      "metadata": {
        "id": "vITAPFY44eZC",
        "colab_type": "code",
        "colab": {
          "base_uri": "https://localhost:8080/",
          "height": 1000
        },
        "outputId": "ae4765ad-cd8f-47ae-f13e-4aee7ea6736d"
      },
      "source": [
        "list(df['class'])"
      ],
      "execution_count": 14,
      "outputs": [
        {
          "output_type": "execute_result",
          "data": {
            "text/plain": [
              "['p',\n",
              " 'e',\n",
              " 'e',\n",
              " 'p',\n",
              " 'e',\n",
              " 'e',\n",
              " 'e',\n",
              " 'e',\n",
              " 'p',\n",
              " 'e',\n",
              " 'e',\n",
              " 'e',\n",
              " 'e',\n",
              " 'p',\n",
              " 'e',\n",
              " 'e',\n",
              " 'e',\n",
              " 'p',\n",
              " 'p',\n",
              " 'p',\n",
              " 'e',\n",
              " 'p',\n",
              " 'e',\n",
              " 'e',\n",
              " 'e',\n",
              " 'p',\n",
              " 'e',\n",
              " 'e',\n",
              " 'e',\n",
              " 'e',\n",
              " 'e',\n",
              " 'p',\n",
              " 'e',\n",
              " 'e',\n",
              " 'e',\n",
              " 'e',\n",
              " 'e',\n",
              " 'p',\n",
              " 'e',\n",
              " 'e',\n",
              " 'e',\n",
              " 'e',\n",
              " 'e',\n",
              " 'p',\n",
              " 'e',\n",
              " 'e',\n",
              " 'e',\n",
              " 'e',\n",
              " 'e',\n",
              " 'e',\n",
              " 'e',\n",
              " 'e',\n",
              " 'e',\n",
              " 'p',\n",
              " 'p',\n",
              " 'e',\n",
              " 'e',\n",
              " 'e',\n",
              " 'e',\n",
              " 'e',\n",
              " 'e',\n",
              " 'e',\n",
              " 'e',\n",
              " 'e',\n",
              " 'e',\n",
              " 'e',\n",
              " 'e',\n",
              " 'e',\n",
              " 'e',\n",
              " 'e',\n",
              " 'e',\n",
              " 'e',\n",
              " 'e',\n",
              " 'e',\n",
              " 'e',\n",
              " 'e',\n",
              " 'e',\n",
              " 'e',\n",
              " 'p',\n",
              " 'e',\n",
              " 'e',\n",
              " 'p',\n",
              " 'e',\n",
              " 'e',\n",
              " 'e',\n",
              " 'e',\n",
              " 'e',\n",
              " 'e',\n",
              " 'e',\n",
              " 'e',\n",
              " 'e',\n",
              " 'e',\n",
              " 'e',\n",
              " 'e',\n",
              " 'e',\n",
              " 'e',\n",
              " 'e',\n",
              " 'e',\n",
              " 'e',\n",
              " 'e',\n",
              " 'e',\n",
              " 'e',\n",
              " 'e',\n",
              " 'e',\n",
              " 'e',\n",
              " 'e',\n",
              " 'e',\n",
              " 'e',\n",
              " 'e',\n",
              " 'e',\n",
              " 'e',\n",
              " 'e',\n",
              " 'e',\n",
              " 'e',\n",
              " 'p',\n",
              " 'e',\n",
              " 'e',\n",
              " 'e',\n",
              " 'e',\n",
              " 'e',\n",
              " 'p',\n",
              " 'e',\n",
              " 'p',\n",
              " 'e',\n",
              " 'e',\n",
              " 'e',\n",
              " 'e',\n",
              " 'e',\n",
              " 'e',\n",
              " 'e',\n",
              " 'e',\n",
              " 'e',\n",
              " 'e',\n",
              " 'e',\n",
              " 'e',\n",
              " 'p',\n",
              " 'e',\n",
              " 'e',\n",
              " 'p',\n",
              " 'e',\n",
              " 'e',\n",
              " 'e',\n",
              " 'e',\n",
              " 'e',\n",
              " 'e',\n",
              " 'e',\n",
              " 'e',\n",
              " 'e',\n",
              " 'e',\n",
              " 'e',\n",
              " 'e',\n",
              " 'e',\n",
              " 'e',\n",
              " 'e',\n",
              " 'e',\n",
              " 'e',\n",
              " 'e',\n",
              " 'e',\n",
              " 'e',\n",
              " 'e',\n",
              " 'e',\n",
              " 'e',\n",
              " 'e',\n",
              " 'e',\n",
              " 'e',\n",
              " 'e',\n",
              " 'e',\n",
              " 'e',\n",
              " 'e',\n",
              " 'e',\n",
              " 'e',\n",
              " 'e',\n",
              " 'e',\n",
              " 'e',\n",
              " 'e',\n",
              " 'e',\n",
              " 'e',\n",
              " 'e',\n",
              " 'e',\n",
              " 'e',\n",
              " 'p',\n",
              " 'e',\n",
              " 'e',\n",
              " 'e',\n",
              " 'e',\n",
              " 'p',\n",
              " 'e',\n",
              " 'e',\n",
              " 'e',\n",
              " 'e',\n",
              " 'e',\n",
              " 'e',\n",
              " 'e',\n",
              " 'e',\n",
              " 'e',\n",
              " 'e',\n",
              " 'e',\n",
              " 'e',\n",
              " 'e',\n",
              " 'e',\n",
              " 'e',\n",
              " 'e',\n",
              " 'e',\n",
              " 'e',\n",
              " 'e',\n",
              " 'p',\n",
              " 'e',\n",
              " 'e',\n",
              " 'e',\n",
              " 'e',\n",
              " 'e',\n",
              " 'e',\n",
              " 'e',\n",
              " 'e',\n",
              " 'e',\n",
              " 'e',\n",
              " 'e',\n",
              " 'e',\n",
              " 'e',\n",
              " 'e',\n",
              " 'e',\n",
              " 'p',\n",
              " 'e',\n",
              " 'e',\n",
              " 'e',\n",
              " 'e',\n",
              " 'e',\n",
              " 'e',\n",
              " 'p',\n",
              " 'e',\n",
              " 'e',\n",
              " 'p',\n",
              " 'e',\n",
              " 'e',\n",
              " 'e',\n",
              " 'e',\n",
              " 'e',\n",
              " 'e',\n",
              " 'e',\n",
              " 'e',\n",
              " 'e',\n",
              " 'e',\n",
              " 'e',\n",
              " 'p',\n",
              " 'e',\n",
              " 'e',\n",
              " 'e',\n",
              " 'e',\n",
              " 'e',\n",
              " 'e',\n",
              " 'e',\n",
              " 'p',\n",
              " 'e',\n",
              " 'e',\n",
              " 'e',\n",
              " 'e',\n",
              " 'e',\n",
              " 'e',\n",
              " 'e',\n",
              " 'e',\n",
              " 'e',\n",
              " 'p',\n",
              " 'e',\n",
              " 'e',\n",
              " 'e',\n",
              " 'e',\n",
              " 'e',\n",
              " 'e',\n",
              " 'e',\n",
              " 'p',\n",
              " 'e',\n",
              " 'p',\n",
              " 'e',\n",
              " 'e',\n",
              " 'e',\n",
              " 'e',\n",
              " 'e',\n",
              " 'e',\n",
              " 'e',\n",
              " 'e',\n",
              " 'p',\n",
              " 'e',\n",
              " 'e',\n",
              " 'e',\n",
              " 'e',\n",
              " 'e',\n",
              " 'e',\n",
              " 'e',\n",
              " 'e',\n",
              " 'e',\n",
              " 'e',\n",
              " 'e',\n",
              " 'e',\n",
              " 'e',\n",
              " 'e',\n",
              " 'e',\n",
              " 'e',\n",
              " 'e',\n",
              " 'e',\n",
              " 'p',\n",
              " 'e',\n",
              " 'e',\n",
              " 'e',\n",
              " 'e',\n",
              " 'e',\n",
              " 'e',\n",
              " 'e',\n",
              " 'e',\n",
              " 'e',\n",
              " 'e',\n",
              " 'e',\n",
              " 'p',\n",
              " 'e',\n",
              " 'e',\n",
              " 'e',\n",
              " 'p',\n",
              " 'e',\n",
              " 'e',\n",
              " 'e',\n",
              " 'e',\n",
              " 'e',\n",
              " 'e',\n",
              " 'e',\n",
              " 'e',\n",
              " 'e',\n",
              " 'e',\n",
              " 'e',\n",
              " 'p',\n",
              " 'e',\n",
              " 'e',\n",
              " 'p',\n",
              " 'e',\n",
              " 'e',\n",
              " 'e',\n",
              " 'e',\n",
              " 'e',\n",
              " 'e',\n",
              " 'e',\n",
              " 'e',\n",
              " 'e',\n",
              " 'e',\n",
              " 'e',\n",
              " 'e',\n",
              " 'e',\n",
              " 'e',\n",
              " 'e',\n",
              " 'e',\n",
              " 'e',\n",
              " 'e',\n",
              " 'e',\n",
              " 'e',\n",
              " 'e',\n",
              " 'e',\n",
              " 'e',\n",
              " 'e',\n",
              " 'e',\n",
              " 'e',\n",
              " 'p',\n",
              " 'e',\n",
              " 'e',\n",
              " 'e',\n",
              " 'e',\n",
              " 'e',\n",
              " 'e',\n",
              " 'e',\n",
              " 'e',\n",
              " 'e',\n",
              " 'e',\n",
              " 'e',\n",
              " 'e',\n",
              " 'e',\n",
              " 'e',\n",
              " 'e',\n",
              " 'e',\n",
              " 'e',\n",
              " 'e',\n",
              " 'e',\n",
              " 'e',\n",
              " 'e',\n",
              " 'e',\n",
              " 'p',\n",
              " 'e',\n",
              " 'e',\n",
              " 'e',\n",
              " 'e',\n",
              " 'p',\n",
              " 'e',\n",
              " 'e',\n",
              " 'e',\n",
              " 'e',\n",
              " 'e',\n",
              " 'e',\n",
              " 'e',\n",
              " 'e',\n",
              " 'e',\n",
              " 'e',\n",
              " 'e',\n",
              " 'e',\n",
              " 'e',\n",
              " 'p',\n",
              " 'e',\n",
              " 'e',\n",
              " 'p',\n",
              " 'e',\n",
              " 'e',\n",
              " 'e',\n",
              " 'e',\n",
              " 'e',\n",
              " 'e',\n",
              " 'e',\n",
              " 'e',\n",
              " 'e',\n",
              " 'e',\n",
              " 'e',\n",
              " 'p',\n",
              " 'e',\n",
              " 'e',\n",
              " 'p',\n",
              " 'e',\n",
              " 'e',\n",
              " 'e',\n",
              " 'e',\n",
              " 'p',\n",
              " 'e',\n",
              " 'e',\n",
              " 'e',\n",
              " 'e',\n",
              " 'e',\n",
              " 'e',\n",
              " 'e',\n",
              " 'e',\n",
              " 'e',\n",
              " 'e',\n",
              " 'e',\n",
              " 'e',\n",
              " 'e',\n",
              " 'e',\n",
              " 'e',\n",
              " 'e',\n",
              " 'e',\n",
              " 'e',\n",
              " 'e',\n",
              " 'e',\n",
              " 'e',\n",
              " 'e',\n",
              " 'e',\n",
              " 'e',\n",
              " 'e',\n",
              " 'e',\n",
              " 'e',\n",
              " 'e',\n",
              " 'e',\n",
              " 'e',\n",
              " 'e',\n",
              " 'e',\n",
              " 'e',\n",
              " 'e',\n",
              " 'e',\n",
              " 'e',\n",
              " 'e',\n",
              " 'e',\n",
              " 'e',\n",
              " 'e',\n",
              " 'e',\n",
              " 'e',\n",
              " 'e',\n",
              " 'e',\n",
              " 'e',\n",
              " 'e',\n",
              " 'e',\n",
              " 'e',\n",
              " 'e',\n",
              " 'e',\n",
              " 'e',\n",
              " 'e',\n",
              " 'e',\n",
              " 'e',\n",
              " 'e',\n",
              " 'e',\n",
              " 'e',\n",
              " 'e',\n",
              " 'e',\n",
              " 'e',\n",
              " 'e',\n",
              " 'e',\n",
              " 'e',\n",
              " 'e',\n",
              " 'e',\n",
              " 'e',\n",
              " 'e',\n",
              " 'e',\n",
              " 'p',\n",
              " 'p',\n",
              " 'e',\n",
              " 'e',\n",
              " 'e',\n",
              " 'e',\n",
              " 'e',\n",
              " 'e',\n",
              " 'e',\n",
              " 'e',\n",
              " 'e',\n",
              " 'e',\n",
              " 'e',\n",
              " 'e',\n",
              " 'p',\n",
              " 'e',\n",
              " 'e',\n",
              " 'e',\n",
              " 'e',\n",
              " 'e',\n",
              " 'e',\n",
              " 'e',\n",
              " 'e',\n",
              " 'e',\n",
              " 'e',\n",
              " 'e',\n",
              " 'e',\n",
              " 'e',\n",
              " 'e',\n",
              " 'e',\n",
              " 'e',\n",
              " 'e',\n",
              " 'p',\n",
              " 'e',\n",
              " 'e',\n",
              " 'e',\n",
              " 'e',\n",
              " 'e',\n",
              " 'e',\n",
              " 'e',\n",
              " 'e',\n",
              " 'p',\n",
              " 'e',\n",
              " 'p',\n",
              " 'e',\n",
              " 'e',\n",
              " 'e',\n",
              " 'e',\n",
              " 'e',\n",
              " 'e',\n",
              " 'e',\n",
              " 'p',\n",
              " 'e',\n",
              " 'e',\n",
              " 'e',\n",
              " 'e',\n",
              " 'e',\n",
              " 'e',\n",
              " 'e',\n",
              " 'e',\n",
              " 'e',\n",
              " 'e',\n",
              " 'e',\n",
              " 'e',\n",
              " 'e',\n",
              " 'p',\n",
              " 'e',\n",
              " 'e',\n",
              " 'e',\n",
              " 'e',\n",
              " 'e',\n",
              " 'e',\n",
              " 'e',\n",
              " 'e',\n",
              " 'p',\n",
              " 'e',\n",
              " 'e',\n",
              " 'p',\n",
              " 'e',\n",
              " 'e',\n",
              " 'e',\n",
              " 'e',\n",
              " 'e',\n",
              " 'e',\n",
              " 'e',\n",
              " 'e',\n",
              " 'e',\n",
              " 'e',\n",
              " 'p',\n",
              " 'e',\n",
              " 'e',\n",
              " 'e',\n",
              " 'e',\n",
              " 'e',\n",
              " 'e',\n",
              " 'e',\n",
              " 'e',\n",
              " 'e',\n",
              " 'e',\n",
              " 'p',\n",
              " 'e',\n",
              " 'e',\n",
              " 'p',\n",
              " 'e',\n",
              " 'p',\n",
              " 'e',\n",
              " 'e',\n",
              " 'p',\n",
              " 'p',\n",
              " 'e',\n",
              " 'e',\n",
              " 'e',\n",
              " 'e',\n",
              " 'e',\n",
              " 'e',\n",
              " 'e',\n",
              " 'e',\n",
              " 'e',\n",
              " 'e',\n",
              " 'e',\n",
              " 'e',\n",
              " 'e',\n",
              " 'p',\n",
              " 'e',\n",
              " 'e',\n",
              " 'e',\n",
              " 'e',\n",
              " 'e',\n",
              " 'e',\n",
              " 'e',\n",
              " 'e',\n",
              " 'e',\n",
              " 'e',\n",
              " 'e',\n",
              " 'e',\n",
              " 'e',\n",
              " 'e',\n",
              " 'e',\n",
              " 'e',\n",
              " 'e',\n",
              " 'e',\n",
              " 'e',\n",
              " 'e',\n",
              " 'e',\n",
              " 'e',\n",
              " 'e',\n",
              " 'e',\n",
              " 'e',\n",
              " 'e',\n",
              " 'e',\n",
              " 'e',\n",
              " 'e',\n",
              " 'e',\n",
              " 'e',\n",
              " 'e',\n",
              " 'e',\n",
              " 'e',\n",
              " 'e',\n",
              " 'e',\n",
              " 'e',\n",
              " 'e',\n",
              " 'e',\n",
              " 'p',\n",
              " 'p',\n",
              " 'e',\n",
              " 'e',\n",
              " 'e',\n",
              " 'e',\n",
              " 'e',\n",
              " 'e',\n",
              " 'e',\n",
              " 'p',\n",
              " 'p',\n",
              " 'e',\n",
              " 'e',\n",
              " 'e',\n",
              " 'e',\n",
              " 'e',\n",
              " 'e',\n",
              " 'e',\n",
              " 'e',\n",
              " 'e',\n",
              " 'e',\n",
              " 'e',\n",
              " 'e',\n",
              " 'e',\n",
              " 'e',\n",
              " 'e',\n",
              " 'e',\n",
              " 'e',\n",
              " 'e',\n",
              " 'e',\n",
              " 'e',\n",
              " 'e',\n",
              " 'e',\n",
              " 'e',\n",
              " 'e',\n",
              " 'e',\n",
              " 'e',\n",
              " 'e',\n",
              " 'e',\n",
              " 'e',\n",
              " 'e',\n",
              " 'p',\n",
              " 'e',\n",
              " 'e',\n",
              " 'p',\n",
              " 'p',\n",
              " 'e',\n",
              " 'p',\n",
              " 'e',\n",
              " 'e',\n",
              " 'e',\n",
              " 'e',\n",
              " 'e',\n",
              " 'e',\n",
              " 'e',\n",
              " 'e',\n",
              " 'e',\n",
              " 'e',\n",
              " 'e',\n",
              " 'e',\n",
              " 'e',\n",
              " 'e',\n",
              " 'e',\n",
              " 'e',\n",
              " 'e',\n",
              " 'e',\n",
              " 'e',\n",
              " 'e',\n",
              " 'e',\n",
              " 'e',\n",
              " 'e',\n",
              " 'e',\n",
              " 'p',\n",
              " 'e',\n",
              " 'e',\n",
              " 'e',\n",
              " 'e',\n",
              " 'e',\n",
              " 'e',\n",
              " 'p',\n",
              " 'p',\n",
              " 'e',\n",
              " 'e',\n",
              " 'e',\n",
              " 'p',\n",
              " 'e',\n",
              " 'e',\n",
              " 'e',\n",
              " 'e',\n",
              " 'e',\n",
              " 'e',\n",
              " 'e',\n",
              " 'e',\n",
              " 'e',\n",
              " 'e',\n",
              " 'p',\n",
              " 'e',\n",
              " 'e',\n",
              " 'e',\n",
              " 'e',\n",
              " 'e',\n",
              " 'e',\n",
              " 'e',\n",
              " 'e',\n",
              " 'e',\n",
              " 'e',\n",
              " 'e',\n",
              " 'e',\n",
              " 'e',\n",
              " 'e',\n",
              " 'e',\n",
              " 'e',\n",
              " 'e',\n",
              " 'e',\n",
              " 'e',\n",
              " 'e',\n",
              " 'e',\n",
              " 'e',\n",
              " 'e',\n",
              " 'e',\n",
              " 'e',\n",
              " 'e',\n",
              " 'e',\n",
              " 'p',\n",
              " 'e',\n",
              " 'e',\n",
              " 'e',\n",
              " 'e',\n",
              " 'e',\n",
              " 'e',\n",
              " 'e',\n",
              " 'e',\n",
              " 'p',\n",
              " 'e',\n",
              " 'e',\n",
              " 'p',\n",
              " 'e',\n",
              " 'e',\n",
              " 'e',\n",
              " 'e',\n",
              " 'e',\n",
              " 'p',\n",
              " 'p',\n",
              " 'e',\n",
              " 'e',\n",
              " 'p',\n",
              " 'e',\n",
              " 'e',\n",
              " 'e',\n",
              " 'p',\n",
              " 'e',\n",
              " 'e',\n",
              " 'e',\n",
              " 'e',\n",
              " 'e',\n",
              " 'e',\n",
              " 'e',\n",
              " 'e',\n",
              " 'e',\n",
              " 'p',\n",
              " 'p',\n",
              " 'p',\n",
              " 'e',\n",
              " 'e',\n",
              " 'e',\n",
              " 'e',\n",
              " 'e',\n",
              " 'e',\n",
              " 'e',\n",
              " 'e',\n",
              " 'e',\n",
              " 'e',\n",
              " 'e',\n",
              " 'e',\n",
              " 'e',\n",
              " 'e',\n",
              " 'e',\n",
              " 'e',\n",
              " 'e',\n",
              " 'e',\n",
              " 'e',\n",
              " 'e',\n",
              " 'p',\n",
              " 'e',\n",
              " 'p',\n",
              " 'e',\n",
              " 'e',\n",
              " 'e',\n",
              " 'p',\n",
              " 'e',\n",
              " 'e',\n",
              " 'e',\n",
              " 'e',\n",
              " 'e',\n",
              " 'e',\n",
              " 'e',\n",
              " 'e',\n",
              " 'e',\n",
              " 'e',\n",
              " 'e',\n",
              " 'e',\n",
              " 'e',\n",
              " 'e',\n",
              " 'e',\n",
              " 'e',\n",
              " 'e',\n",
              " 'p',\n",
              " 'e',\n",
              " 'e',\n",
              " 'e',\n",
              " 'e',\n",
              " 'e',\n",
              " 'e',\n",
              " 'e',\n",
              " 'e',\n",
              " 'e',\n",
              " 'e',\n",
              " 'e',\n",
              " 'e',\n",
              " 'e',\n",
              " 'e',\n",
              " 'e',\n",
              " 'e',\n",
              " 'e',\n",
              " 'e',\n",
              " 'e',\n",
              " 'e',\n",
              " 'e',\n",
              " 'e',\n",
              " 'e',\n",
              " 'e',\n",
              " 'e',\n",
              " 'e',\n",
              " 'e',\n",
              " 'e',\n",
              " 'e',\n",
              " 'e',\n",
              " 'e',\n",
              " 'e',\n",
              " 'e',\n",
              " 'e',\n",
              " 'e',\n",
              " 'e',\n",
              " 'e',\n",
              " 'e',\n",
              " 'e',\n",
              " 'e',\n",
              " 'e',\n",
              " 'e',\n",
              " 'e',\n",
              " 'e',\n",
              " 'e',\n",
              " 'e',\n",
              " 'p',\n",
              " 'e',\n",
              " 'p',\n",
              " 'p',\n",
              " 'e',\n",
              " 'e',\n",
              " 'e',\n",
              " 'e',\n",
              " 'e',\n",
              " 'e',\n",
              " 'e',\n",
              " 'e',\n",
              " 'e',\n",
              " 'e',\n",
              " 'e',\n",
              " 'e',\n",
              " 'e',\n",
              " 'e',\n",
              " 'e',\n",
              " 'e',\n",
              " 'e',\n",
              " 'p',\n",
              " 'e',\n",
              " 'e',\n",
              " 'e',\n",
              " 'e',\n",
              " 'p',\n",
              " 'e',\n",
              " 'e',\n",
              " 'e',\n",
              " 'e',\n",
              " 'e',\n",
              " 'e',\n",
              " 'e',\n",
              " 'e',\n",
              " 'e',\n",
              " 'p',\n",
              " 'e',\n",
              " 'e',\n",
              " 'e',\n",
              " 'e',\n",
              " 'e',\n",
              " 'e',\n",
              " 'p',\n",
              " 'p',\n",
              " 'e',\n",
              " 'e',\n",
              " 'e',\n",
              " 'e',\n",
              " 'e',\n",
              " 'p',\n",
              " 'e',\n",
              " 'e',\n",
              " 'e',\n",
              " 'e',\n",
              " 'e',\n",
              " 'e',\n",
              " 'e',\n",
              " 'e',\n",
              " 'e',\n",
              " 'p',\n",
              " 'e',\n",
              " 'e',\n",
              " 'e',\n",
              " 'e',\n",
              " 'e',\n",
              " 'e',\n",
              " 'e',\n",
              " 'e',\n",
              " 'e',\n",
              " 'e',\n",
              " 'e',\n",
              " 'e',\n",
              " 'e',\n",
              " 'e',\n",
              " 'e',\n",
              " 'e',\n",
              " 'e',\n",
              " 'p',\n",
              " 'e',\n",
              " 'e',\n",
              " 'e',\n",
              " 'e',\n",
              " 'e',\n",
              " 'e',\n",
              " 'e',\n",
              " 'e',\n",
              " 'e',\n",
              " 'e',\n",
              " 'e',\n",
              " 'e',\n",
              " 'e',\n",
              " 'e',\n",
              " 'p',\n",
              " ...]"
            ]
          },
          "metadata": {
            "tags": []
          },
          "execution_count": 14
        }
      ]
    },
    {
      "cell_type": "code",
      "metadata": {
        "id": "uP61MFvu4bMY",
        "colab_type": "code",
        "colab": {
          "base_uri": "https://localhost:8080/",
          "height": 33
        },
        "outputId": "1a334c6c-7f9d-4b57-e314-76a4c34d4822"
      },
      "source": [
        "label_class"
      ],
      "execution_count": 15,
      "outputs": [
        {
          "output_type": "execute_result",
          "data": {
            "text/plain": [
              "array([1, 0, 0, ..., 0, 1, 0])"
            ]
          },
          "metadata": {
            "tags": []
          },
          "execution_count": 15
        }
      ]
    },
    {
      "cell_type": "code",
      "metadata": {
        "id": "hl8Gr8N-trjN",
        "colab_type": "code",
        "colab": {
          "base_uri": "https://localhost:8080/",
          "height": 33
        },
        "outputId": "e5889b6a-7752-4da0-fa7b-7fbf9bf57f94"
      },
      "source": [
        "set(df['cap-shape'])"
      ],
      "execution_count": 16,
      "outputs": [
        {
          "output_type": "execute_result",
          "data": {
            "text/plain": [
              "{'b', 'c', 'f', 'k', 's', 'x'}"
            ]
          },
          "metadata": {
            "tags": []
          },
          "execution_count": 16
        }
      ]
    },
    {
      "cell_type": "code",
      "metadata": {
        "id": "JZw5KGlRwd_z",
        "colab_type": "code",
        "colab": {
          "base_uri": "https://localhost:8080/",
          "height": 33
        },
        "outputId": "c54985ae-3106-4a8d-caec-3a115ae816f5"
      },
      "source": [
        "encoder = LabelEncoder()\n",
        "encoder.fit(df['cap-shape'])\n",
        "label_cap_shape = encoder.transform(df['cap-shape'])\n",
        "set(label_cap_shape)"
      ],
      "execution_count": 17,
      "outputs": [
        {
          "output_type": "execute_result",
          "data": {
            "text/plain": [
              "{0, 1, 2, 3, 4, 5}"
            ]
          },
          "metadata": {
            "tags": []
          },
          "execution_count": 17
        }
      ]
    },
    {
      "cell_type": "code",
      "metadata": {
        "id": "E0Jml6ZKtwoV",
        "colab_type": "code",
        "colab": {
          "base_uri": "https://localhost:8080/",
          "height": 33
        },
        "outputId": "39fdc137-4130-4e47-9aeb-6816550cf487"
      },
      "source": [
        "set(df['cap-surface'])"
      ],
      "execution_count": 18,
      "outputs": [
        {
          "output_type": "execute_result",
          "data": {
            "text/plain": [
              "{'f', 'g', 's', 'y'}"
            ]
          },
          "metadata": {
            "tags": []
          },
          "execution_count": 18
        }
      ]
    },
    {
      "cell_type": "code",
      "metadata": {
        "id": "Jy87pKoDw1Qm",
        "colab_type": "code",
        "colab": {
          "base_uri": "https://localhost:8080/",
          "height": 33
        },
        "outputId": "3429fbbb-0ba8-4976-a510-cb0ed2f1b0f4"
      },
      "source": [
        "encoder = LabelEncoder()\n",
        "encoder.fit(df['cap-surface'])\n",
        "labels_cap_surface = encoder.transform(df['cap-surface'])\n",
        "set(labels_cap_surface)"
      ],
      "execution_count": 19,
      "outputs": [
        {
          "output_type": "execute_result",
          "data": {
            "text/plain": [
              "{0, 1, 2, 3}"
            ]
          },
          "metadata": {
            "tags": []
          },
          "execution_count": 19
        }
      ]
    },
    {
      "cell_type": "code",
      "metadata": {
        "id": "twplgHPht2eO",
        "colab_type": "code",
        "colab": {
          "base_uri": "https://localhost:8080/",
          "height": 33
        },
        "outputId": "ff30ddcb-c592-46e4-9491-942983093bc9"
      },
      "source": [
        "set(df['cap-color'])"
      ],
      "execution_count": 20,
      "outputs": [
        {
          "output_type": "execute_result",
          "data": {
            "text/plain": [
              "{'b', 'c', 'e', 'g', 'n', 'p', 'r', 'u', 'w', 'y'}"
            ]
          },
          "metadata": {
            "tags": []
          },
          "execution_count": 20
        }
      ]
    },
    {
      "cell_type": "code",
      "metadata": {
        "id": "QimGFfvhxbXR",
        "colab_type": "code",
        "colab": {
          "base_uri": "https://localhost:8080/",
          "height": 33
        },
        "outputId": "0ebf675b-7b0c-42c2-c48a-abba6295a02c"
      },
      "source": [
        "encoder = LabelEncoder()\n",
        "encoder.fit(df['cap-color'])\n",
        "labels_cap_color = encoder.transform(df['cap-color'])\n",
        "set(labels_cap_color)"
      ],
      "execution_count": 21,
      "outputs": [
        {
          "output_type": "execute_result",
          "data": {
            "text/plain": [
              "{0, 1, 2, 3, 4, 5, 6, 7, 8, 9}"
            ]
          },
          "metadata": {
            "tags": []
          },
          "execution_count": 21
        }
      ]
    },
    {
      "cell_type": "code",
      "metadata": {
        "id": "Y48LBq-2t_QZ",
        "colab_type": "code",
        "colab": {
          "base_uri": "https://localhost:8080/",
          "height": 33
        },
        "outputId": "7ea1ec11-bc3b-49f4-bc41-d85acd4bc5fa"
      },
      "source": [
        "set(df['bruises'])"
      ],
      "execution_count": 22,
      "outputs": [
        {
          "output_type": "execute_result",
          "data": {
            "text/plain": [
              "{'f', 't'}"
            ]
          },
          "metadata": {
            "tags": []
          },
          "execution_count": 22
        }
      ]
    },
    {
      "cell_type": "code",
      "metadata": {
        "id": "OqE9B2_oxazv",
        "colab_type": "code",
        "colab": {
          "base_uri": "https://localhost:8080/",
          "height": 33
        },
        "outputId": "3b3460c4-36cc-4d28-f0e9-68b031aef1aa"
      },
      "source": [
        "encoder = LabelEncoder()\n",
        "encoder.fit(df['bruises'])\n",
        "labels_bruises = encoder.transform(df['bruises'])\n",
        "set(labels_bruises)"
      ],
      "execution_count": 23,
      "outputs": [
        {
          "output_type": "execute_result",
          "data": {
            "text/plain": [
              "{0, 1}"
            ]
          },
          "metadata": {
            "tags": []
          },
          "execution_count": 23
        }
      ]
    },
    {
      "cell_type": "code",
      "metadata": {
        "id": "Eb8HECSVuHGy",
        "colab_type": "code",
        "colab": {
          "base_uri": "https://localhost:8080/",
          "height": 33
        },
        "outputId": "be2b5ac6-e137-4187-d2fe-f4ab3aab86df"
      },
      "source": [
        "set(df['odor'])"
      ],
      "execution_count": 24,
      "outputs": [
        {
          "output_type": "execute_result",
          "data": {
            "text/plain": [
              "{'a', 'c', 'f', 'l', 'm', 'n', 'p', 's', 'y'}"
            ]
          },
          "metadata": {
            "tags": []
          },
          "execution_count": 24
        }
      ]
    },
    {
      "cell_type": "code",
      "metadata": {
        "id": "B0KdAbVLxaE4",
        "colab_type": "code",
        "colab": {
          "base_uri": "https://localhost:8080/",
          "height": 33
        },
        "outputId": "e355e0cc-d73e-4111-855e-b8efc0d429a6"
      },
      "source": [
        "encoder = LabelEncoder()\n",
        "encoder.fit(df['odor'])\n",
        "labels_odor = encoder.transform(df['odor'])\n",
        "set(labels_odor)"
      ],
      "execution_count": 25,
      "outputs": [
        {
          "output_type": "execute_result",
          "data": {
            "text/plain": [
              "{0, 1, 2, 3, 4, 5, 6, 7, 8}"
            ]
          },
          "metadata": {
            "tags": []
          },
          "execution_count": 25
        }
      ]
    },
    {
      "cell_type": "code",
      "metadata": {
        "id": "eqWdiq7SuPDu",
        "colab_type": "code",
        "colab": {
          "base_uri": "https://localhost:8080/",
          "height": 33
        },
        "outputId": "bb3318d9-19c5-41dd-ae09-18a681d07a0f"
      },
      "source": [
        "set(df['gill-attachment'])"
      ],
      "execution_count": 26,
      "outputs": [
        {
          "output_type": "execute_result",
          "data": {
            "text/plain": [
              "{'a', 'f'}"
            ]
          },
          "metadata": {
            "tags": []
          },
          "execution_count": 26
        }
      ]
    },
    {
      "cell_type": "code",
      "metadata": {
        "id": "Qfra0_BQxZRF",
        "colab_type": "code",
        "colab": {
          "base_uri": "https://localhost:8080/",
          "height": 33
        },
        "outputId": "0dd9c372-832d-45eb-c364-b64ebc7de3cd"
      },
      "source": [
        "encoder = LabelEncoder()\n",
        "encoder.fit(df['gill-attachment'])\n",
        "labels_gill_attachment = encoder.transform(df['gill-attachment'])\n",
        "set(labels_gill_attachment)"
      ],
      "execution_count": 27,
      "outputs": [
        {
          "output_type": "execute_result",
          "data": {
            "text/plain": [
              "{0, 1}"
            ]
          },
          "metadata": {
            "tags": []
          },
          "execution_count": 27
        }
      ]
    },
    {
      "cell_type": "code",
      "metadata": {
        "id": "nzf9jlODuSik",
        "colab_type": "code",
        "colab": {
          "base_uri": "https://localhost:8080/",
          "height": 33
        },
        "outputId": "2c80f948-bddb-4982-cdc6-1a9cce690063"
      },
      "source": [
        "set(df['gill-spacing'])"
      ],
      "execution_count": 28,
      "outputs": [
        {
          "output_type": "execute_result",
          "data": {
            "text/plain": [
              "{'c', 'w'}"
            ]
          },
          "metadata": {
            "tags": []
          },
          "execution_count": 28
        }
      ]
    },
    {
      "cell_type": "code",
      "metadata": {
        "id": "4Ivi8SeTxYm6",
        "colab_type": "code",
        "colab": {
          "base_uri": "https://localhost:8080/",
          "height": 33
        },
        "outputId": "451ebdff-5cf8-4be4-99ea-3b101533fdef"
      },
      "source": [
        "encoder = LabelEncoder()\n",
        "encoder.fit(df['gill-spacing'])\n",
        "labels_gill_spacing = encoder.transform(df['gill-spacing'])\n",
        "set(labels_gill_spacing)"
      ],
      "execution_count": 29,
      "outputs": [
        {
          "output_type": "execute_result",
          "data": {
            "text/plain": [
              "{0, 1}"
            ]
          },
          "metadata": {
            "tags": []
          },
          "execution_count": 29
        }
      ]
    },
    {
      "cell_type": "code",
      "metadata": {
        "id": "VMlD45WjuXCR",
        "colab_type": "code",
        "colab": {
          "base_uri": "https://localhost:8080/",
          "height": 33
        },
        "outputId": "f0dcf5d2-f656-4d88-c2c2-3593e64150a5"
      },
      "source": [
        "set(df['gill-size'])"
      ],
      "execution_count": 30,
      "outputs": [
        {
          "output_type": "execute_result",
          "data": {
            "text/plain": [
              "{'b', 'n'}"
            ]
          },
          "metadata": {
            "tags": []
          },
          "execution_count": 30
        }
      ]
    },
    {
      "cell_type": "code",
      "metadata": {
        "id": "cFv-_GTtxXic",
        "colab_type": "code",
        "colab": {
          "base_uri": "https://localhost:8080/",
          "height": 33
        },
        "outputId": "3db8b2d4-061f-4e28-aa0e-785548953a07"
      },
      "source": [
        "encoder = LabelEncoder()\n",
        "encoder.fit(df['gill-size'])\n",
        "labels_gill_size = encoder.transform(df['gill-size'])\n",
        "set(labels_gill_size)"
      ],
      "execution_count": 31,
      "outputs": [
        {
          "output_type": "execute_result",
          "data": {
            "text/plain": [
              "{0, 1}"
            ]
          },
          "metadata": {
            "tags": []
          },
          "execution_count": 31
        }
      ]
    },
    {
      "cell_type": "code",
      "metadata": {
        "id": "8Og7NKz-ua3C",
        "colab_type": "code",
        "colab": {
          "base_uri": "https://localhost:8080/",
          "height": 33
        },
        "outputId": "f8fe68a8-6daf-4faa-9a6e-44457fdc9501"
      },
      "source": [
        "set(df['gill-color'])"
      ],
      "execution_count": 32,
      "outputs": [
        {
          "output_type": "execute_result",
          "data": {
            "text/plain": [
              "{'b', 'e', 'g', 'h', 'k', 'n', 'o', 'p', 'r', 'u', 'w', 'y'}"
            ]
          },
          "metadata": {
            "tags": []
          },
          "execution_count": 32
        }
      ]
    },
    {
      "cell_type": "code",
      "metadata": {
        "id": "N07IDR7NxWJ8",
        "colab_type": "code",
        "colab": {
          "base_uri": "https://localhost:8080/",
          "height": 33
        },
        "outputId": "2e644138-6886-4783-92ae-b48fcba6d8ee"
      },
      "source": [
        "encoder = LabelEncoder()\n",
        "encoder.fit(df['gill-color'])\n",
        "labels_gill_color = encoder.transform(df['gill-color'])\n",
        "set(labels_gill_color)"
      ],
      "execution_count": 33,
      "outputs": [
        {
          "output_type": "execute_result",
          "data": {
            "text/plain": [
              "{0, 1, 2, 3, 4, 5, 6, 7, 8, 9, 10, 11}"
            ]
          },
          "metadata": {
            "tags": []
          },
          "execution_count": 33
        }
      ]
    },
    {
      "cell_type": "code",
      "metadata": {
        "id": "-R5JTR5Bueqt",
        "colab_type": "code",
        "colab": {
          "base_uri": "https://localhost:8080/",
          "height": 33
        },
        "outputId": "b3ed7579-aeb9-44f2-96ea-0b062aaa6555"
      },
      "source": [
        "set(df['stalk-shape'])"
      ],
      "execution_count": 34,
      "outputs": [
        {
          "output_type": "execute_result",
          "data": {
            "text/plain": [
              "{'e', 't'}"
            ]
          },
          "metadata": {
            "tags": []
          },
          "execution_count": 34
        }
      ]
    },
    {
      "cell_type": "code",
      "metadata": {
        "id": "8Rxre06CxVhl",
        "colab_type": "code",
        "colab": {
          "base_uri": "https://localhost:8080/",
          "height": 33
        },
        "outputId": "3ee1f38f-fbdd-4f18-d52d-dc1177adbe69"
      },
      "source": [
        "encoder = LabelEncoder()\n",
        "encoder.fit(df['stalk-shape'])\n",
        "labels_stalk_shape = encoder.transform(df['stalk-shape'])\n",
        "set(labels_stalk_shape)"
      ],
      "execution_count": 35,
      "outputs": [
        {
          "output_type": "execute_result",
          "data": {
            "text/plain": [
              "{0, 1}"
            ]
          },
          "metadata": {
            "tags": []
          },
          "execution_count": 35
        }
      ]
    },
    {
      "cell_type": "code",
      "metadata": {
        "id": "1VzOrQYfuiYD",
        "colab_type": "code",
        "colab": {
          "base_uri": "https://localhost:8080/",
          "height": 33
        },
        "outputId": "b52c5697-5ae6-4e4d-f339-e77bb47f480a"
      },
      "source": [
        "set(df['stalk-root'])"
      ],
      "execution_count": 36,
      "outputs": [
        {
          "output_type": "execute_result",
          "data": {
            "text/plain": [
              "{'?', 'b', 'c', 'e', 'r'}"
            ]
          },
          "metadata": {
            "tags": []
          },
          "execution_count": 36
        }
      ]
    },
    {
      "cell_type": "code",
      "metadata": {
        "id": "34L-JXVDxUtE",
        "colab_type": "code",
        "colab": {
          "base_uri": "https://localhost:8080/",
          "height": 33
        },
        "outputId": "1a687a36-d171-4cc3-ec95-b5a8173696f3"
      },
      "source": [
        "encoder = LabelEncoder()\n",
        "encoder.fit(df['stalk-root'])\n",
        "labels_stalk_root = encoder.transform(df['stalk-root'])\n",
        "set(labels_stalk_root)"
      ],
      "execution_count": 37,
      "outputs": [
        {
          "output_type": "execute_result",
          "data": {
            "text/plain": [
              "{0, 1, 2, 3, 4}"
            ]
          },
          "metadata": {
            "tags": []
          },
          "execution_count": 37
        }
      ]
    },
    {
      "cell_type": "code",
      "metadata": {
        "id": "VuX4G3ldumWY",
        "colab_type": "code",
        "colab": {
          "base_uri": "https://localhost:8080/",
          "height": 33
        },
        "outputId": "18447d7c-7689-4020-93f1-be956fa80ea2"
      },
      "source": [
        "set(df['stalk-surface-above-ring'])"
      ],
      "execution_count": 38,
      "outputs": [
        {
          "output_type": "execute_result",
          "data": {
            "text/plain": [
              "{'f', 'k', 's', 'y'}"
            ]
          },
          "metadata": {
            "tags": []
          },
          "execution_count": 38
        }
      ]
    },
    {
      "cell_type": "code",
      "metadata": {
        "id": "-rsfD5_yxS5x",
        "colab_type": "code",
        "colab": {
          "base_uri": "https://localhost:8080/",
          "height": 33
        },
        "outputId": "d5c494d4-9d55-49d8-eb78-9e973851a951"
      },
      "source": [
        "encoder = LabelEncoder()\n",
        "encoder.fit(df['stalk-surface-above-ring'])\n",
        "labels_stalk_surface_above_ring = encoder.transform(df['stalk-surface-above-ring'])\n",
        "set(labels_stalk_surface_above_ring)"
      ],
      "execution_count": 39,
      "outputs": [
        {
          "output_type": "execute_result",
          "data": {
            "text/plain": [
              "{0, 1, 2, 3}"
            ]
          },
          "metadata": {
            "tags": []
          },
          "execution_count": 39
        }
      ]
    },
    {
      "cell_type": "code",
      "metadata": {
        "id": "gYvvW2EAus5U",
        "colab_type": "code",
        "colab": {
          "base_uri": "https://localhost:8080/",
          "height": 33
        },
        "outputId": "96250e85-df60-490b-c2c7-445f59d9892d"
      },
      "source": [
        "set(df['stalk-surface-below-ring'])"
      ],
      "execution_count": 40,
      "outputs": [
        {
          "output_type": "execute_result",
          "data": {
            "text/plain": [
              "{'f', 'k', 's', 'y'}"
            ]
          },
          "metadata": {
            "tags": []
          },
          "execution_count": 40
        }
      ]
    },
    {
      "cell_type": "code",
      "metadata": {
        "id": "x0hpgMJyxR_y",
        "colab_type": "code",
        "colab": {
          "base_uri": "https://localhost:8080/",
          "height": 33
        },
        "outputId": "5d8df072-1fa5-41fd-b626-dcff20028972"
      },
      "source": [
        "encoder = LabelEncoder()\n",
        "encoder.fit(df['stalk-surface-below-ring'])\n",
        "labels_stalk_surface_below_ring = encoder.transform(df['stalk-surface-below-ring'])\n",
        "set(labels_stalk_surface_below_ring)"
      ],
      "execution_count": 41,
      "outputs": [
        {
          "output_type": "execute_result",
          "data": {
            "text/plain": [
              "{0, 1, 2, 3}"
            ]
          },
          "metadata": {
            "tags": []
          },
          "execution_count": 41
        }
      ]
    },
    {
      "cell_type": "code",
      "metadata": {
        "id": "d6jeDUX1u36B",
        "colab_type": "code",
        "colab": {
          "base_uri": "https://localhost:8080/",
          "height": 33
        },
        "outputId": "6423f019-9ad2-4287-b80e-c108c1cb25f4"
      },
      "source": [
        "set(df['stalk-color-above-ring'])"
      ],
      "execution_count": 42,
      "outputs": [
        {
          "output_type": "execute_result",
          "data": {
            "text/plain": [
              "{'b', 'c', 'e', 'g', 'n', 'o', 'p', 'w', 'y'}"
            ]
          },
          "metadata": {
            "tags": []
          },
          "execution_count": 42
        }
      ]
    },
    {
      "cell_type": "code",
      "metadata": {
        "id": "QCIu_RhfxRYQ",
        "colab_type": "code",
        "colab": {
          "base_uri": "https://localhost:8080/",
          "height": 33
        },
        "outputId": "9705c2fe-e015-422f-f188-6bfdb2a649eb"
      },
      "source": [
        "encoder = LabelEncoder()\n",
        "encoder.fit(df['stalk-color-above-ring'])\n",
        "labels_stalk_color_above_ring = encoder.transform(df['stalk-color-above-ring'])\n",
        "set(labels_stalk_color_above_ring)"
      ],
      "execution_count": 43,
      "outputs": [
        {
          "output_type": "execute_result",
          "data": {
            "text/plain": [
              "{0, 1, 2, 3, 4, 5, 6, 7, 8}"
            ]
          },
          "metadata": {
            "tags": []
          },
          "execution_count": 43
        }
      ]
    },
    {
      "cell_type": "code",
      "metadata": {
        "id": "osOe5_zNu9XL",
        "colab_type": "code",
        "colab": {
          "base_uri": "https://localhost:8080/",
          "height": 33
        },
        "outputId": "c4fef413-d4ab-4023-dc45-31f8b2608a14"
      },
      "source": [
        "set(df['stalk-color-below-ring'])"
      ],
      "execution_count": 44,
      "outputs": [
        {
          "output_type": "execute_result",
          "data": {
            "text/plain": [
              "{'b', 'c', 'e', 'g', 'n', 'o', 'p', 'w', 'y'}"
            ]
          },
          "metadata": {
            "tags": []
          },
          "execution_count": 44
        }
      ]
    },
    {
      "cell_type": "code",
      "metadata": {
        "id": "UcqWLvLExQwM",
        "colab_type": "code",
        "colab": {
          "base_uri": "https://localhost:8080/",
          "height": 33
        },
        "outputId": "9788b1aa-33c6-43cc-8bfd-ea8c5212d073"
      },
      "source": [
        "encoder = LabelEncoder()\n",
        "encoder.fit(df['stalk-color-below-ring'])\n",
        "labels_stalk_color_below_ring = encoder.transform(df['stalk-color-below-ring'])\n",
        "set(labels_stalk_color_below_ring)"
      ],
      "execution_count": 45,
      "outputs": [
        {
          "output_type": "execute_result",
          "data": {
            "text/plain": [
              "{0, 1, 2, 3, 4, 5, 6, 7, 8}"
            ]
          },
          "metadata": {
            "tags": []
          },
          "execution_count": 45
        }
      ]
    },
    {
      "cell_type": "code",
      "metadata": {
        "id": "1wnT0sMnvCE2",
        "colab_type": "code",
        "colab": {
          "base_uri": "https://localhost:8080/",
          "height": 33
        },
        "outputId": "10acd2ff-5631-4177-e43f-feadd4bba9fc"
      },
      "source": [
        "set(df['veil-type'])"
      ],
      "execution_count": 46,
      "outputs": [
        {
          "output_type": "execute_result",
          "data": {
            "text/plain": [
              "{'p'}"
            ]
          },
          "metadata": {
            "tags": []
          },
          "execution_count": 46
        }
      ]
    },
    {
      "cell_type": "code",
      "metadata": {
        "id": "MAY-CgkixPJC",
        "colab_type": "code",
        "colab": {
          "base_uri": "https://localhost:8080/",
          "height": 33
        },
        "outputId": "e37a04dc-c9fd-4893-b395-a4885397e2e2"
      },
      "source": [
        "encoder = LabelEncoder()\n",
        "encoder.fit(df['veil-type'])\n",
        "labels_veil_type = encoder.transform(df['veil-type'])\n",
        "set(labels_veil_type )"
      ],
      "execution_count": 47,
      "outputs": [
        {
          "output_type": "execute_result",
          "data": {
            "text/plain": [
              "{0}"
            ]
          },
          "metadata": {
            "tags": []
          },
          "execution_count": 47
        }
      ]
    },
    {
      "cell_type": "code",
      "metadata": {
        "id": "4txky-RsvIgg",
        "colab_type": "code",
        "colab": {
          "base_uri": "https://localhost:8080/",
          "height": 33
        },
        "outputId": "9743e64e-7d41-4c91-c3bf-ebff6c896d2d"
      },
      "source": [
        "set(df['veil-color'])"
      ],
      "execution_count": 48,
      "outputs": [
        {
          "output_type": "execute_result",
          "data": {
            "text/plain": [
              "{'n', 'o', 'w', 'y'}"
            ]
          },
          "metadata": {
            "tags": []
          },
          "execution_count": 48
        }
      ]
    },
    {
      "cell_type": "code",
      "metadata": {
        "id": "EgNtTwCtxOZ6",
        "colab_type": "code",
        "colab": {
          "base_uri": "https://localhost:8080/",
          "height": 33
        },
        "outputId": "9b82573c-067a-404d-f097-5d828afe0998"
      },
      "source": [
        "encoder = LabelEncoder()\n",
        "encoder.fit(df['veil-color'])\n",
        "labels_veil_color = encoder.transform(df['veil-color'])\n",
        "set(labels_veil_color)"
      ],
      "execution_count": 49,
      "outputs": [
        {
          "output_type": "execute_result",
          "data": {
            "text/plain": [
              "{0, 1, 2, 3}"
            ]
          },
          "metadata": {
            "tags": []
          },
          "execution_count": 49
        }
      ]
    },
    {
      "cell_type": "code",
      "metadata": {
        "id": "pXrkdc22vL8C",
        "colab_type": "code",
        "colab": {
          "base_uri": "https://localhost:8080/",
          "height": 33
        },
        "outputId": "13ffb28a-f8f8-4933-c71b-210faa574016"
      },
      "source": [
        "set(df['ring-number'])"
      ],
      "execution_count": 50,
      "outputs": [
        {
          "output_type": "execute_result",
          "data": {
            "text/plain": [
              "{'n', 'o', 't'}"
            ]
          },
          "metadata": {
            "tags": []
          },
          "execution_count": 50
        }
      ]
    },
    {
      "cell_type": "code",
      "metadata": {
        "id": "pRlRo7CexNvq",
        "colab_type": "code",
        "colab": {
          "base_uri": "https://localhost:8080/",
          "height": 33
        },
        "outputId": "75e19f00-2ce7-4545-c953-8f423409372c"
      },
      "source": [
        "encoder = LabelEncoder()\n",
        "encoder.fit(df['ring-number'])\n",
        "labels_ring_number = encoder.transform(df['ring-number'])\n",
        "set(labels_ring_number)"
      ],
      "execution_count": 51,
      "outputs": [
        {
          "output_type": "execute_result",
          "data": {
            "text/plain": [
              "{0, 1, 2}"
            ]
          },
          "metadata": {
            "tags": []
          },
          "execution_count": 51
        }
      ]
    },
    {
      "cell_type": "code",
      "metadata": {
        "id": "UfcpbfkvvRv0",
        "colab_type": "code",
        "colab": {
          "base_uri": "https://localhost:8080/",
          "height": 33
        },
        "outputId": "83bc90c6-c3f9-4ad7-89a7-03dc082f86f8"
      },
      "source": [
        "set(df['ring-type'])"
      ],
      "execution_count": 52,
      "outputs": [
        {
          "output_type": "execute_result",
          "data": {
            "text/plain": [
              "{'e', 'f', 'l', 'n', 'p'}"
            ]
          },
          "metadata": {
            "tags": []
          },
          "execution_count": 52
        }
      ]
    },
    {
      "cell_type": "code",
      "metadata": {
        "id": "FK86d5yhxM5N",
        "colab_type": "code",
        "colab": {
          "base_uri": "https://localhost:8080/",
          "height": 33
        },
        "outputId": "8ddd3dcc-5f01-4987-e998-2e384bcb020d"
      },
      "source": [
        "encoder = LabelEncoder()\n",
        "encoder.fit(df['ring-type'])\n",
        "labels_ring_type = encoder.transform(df['ring-type'])\n",
        "set(labels_ring_type)"
      ],
      "execution_count": 53,
      "outputs": [
        {
          "output_type": "execute_result",
          "data": {
            "text/plain": [
              "{0, 1, 2, 3, 4}"
            ]
          },
          "metadata": {
            "tags": []
          },
          "execution_count": 53
        }
      ]
    },
    {
      "cell_type": "code",
      "metadata": {
        "id": "pkqoP0CFvdis",
        "colab_type": "code",
        "colab": {
          "base_uri": "https://localhost:8080/",
          "height": 33
        },
        "outputId": "06ed533d-447b-4958-9735-bc7fcde07e4b"
      },
      "source": [
        "set(df['spore-print-color'])"
      ],
      "execution_count": 54,
      "outputs": [
        {
          "output_type": "execute_result",
          "data": {
            "text/plain": [
              "{'b', 'h', 'k', 'n', 'o', 'r', 'u', 'w', 'y'}"
            ]
          },
          "metadata": {
            "tags": []
          },
          "execution_count": 54
        }
      ]
    },
    {
      "cell_type": "code",
      "metadata": {
        "id": "VOmegJCxxLJQ",
        "colab_type": "code",
        "colab": {
          "base_uri": "https://localhost:8080/",
          "height": 33
        },
        "outputId": "acb1943f-7252-451e-bc46-30aaca438531"
      },
      "source": [
        "encoder = LabelEncoder()\n",
        "encoder.fit(df['spore-print-color'])\n",
        "labels_spore_print_color = encoder.transform(df['spore-print-color'])\n",
        "set(labels_spore_print_color)"
      ],
      "execution_count": 55,
      "outputs": [
        {
          "output_type": "execute_result",
          "data": {
            "text/plain": [
              "{0, 1, 2, 3, 4, 5, 6, 7, 8}"
            ]
          },
          "metadata": {
            "tags": []
          },
          "execution_count": 55
        }
      ]
    },
    {
      "cell_type": "code",
      "metadata": {
        "id": "1Yu9UtGZvioD",
        "colab_type": "code",
        "colab": {
          "base_uri": "https://localhost:8080/",
          "height": 33
        },
        "outputId": "c8cff028-3524-43e0-a489-20643a146024"
      },
      "source": [
        "set(df['population'])"
      ],
      "execution_count": 56,
      "outputs": [
        {
          "output_type": "execute_result",
          "data": {
            "text/plain": [
              "{'a', 'c', 'n', 's', 'v', 'y'}"
            ]
          },
          "metadata": {
            "tags": []
          },
          "execution_count": 56
        }
      ]
    },
    {
      "cell_type": "code",
      "metadata": {
        "id": "YbUkQu38xKf4",
        "colab_type": "code",
        "colab": {
          "base_uri": "https://localhost:8080/",
          "height": 33
        },
        "outputId": "7ae8c64e-3ede-4c17-941f-3e3605cc8b29"
      },
      "source": [
        "encoder = LabelEncoder()\n",
        "encoder.fit(df['population'])\n",
        "labels_population = encoder.transform(df['population'])\n",
        "set(labels_population)"
      ],
      "execution_count": 57,
      "outputs": [
        {
          "output_type": "execute_result",
          "data": {
            "text/plain": [
              "{0, 1, 2, 3, 4, 5}"
            ]
          },
          "metadata": {
            "tags": []
          },
          "execution_count": 57
        }
      ]
    },
    {
      "cell_type": "code",
      "metadata": {
        "id": "gNF9BTHcvnWN",
        "colab_type": "code",
        "colab": {
          "base_uri": "https://localhost:8080/",
          "height": 33
        },
        "outputId": "fed2bbe7-49dc-4ca2-907f-846195ad2a8a"
      },
      "source": [
        "set(df['habitat'])"
      ],
      "execution_count": 58,
      "outputs": [
        {
          "output_type": "execute_result",
          "data": {
            "text/plain": [
              "{'d', 'g', 'l', 'm', 'p', 'u', 'w'}"
            ]
          },
          "metadata": {
            "tags": []
          },
          "execution_count": 58
        }
      ]
    },
    {
      "cell_type": "code",
      "metadata": {
        "id": "cs7sXbcaxJx3",
        "colab_type": "code",
        "colab": {
          "base_uri": "https://localhost:8080/",
          "height": 33
        },
        "outputId": "d626e7ab-58a8-46fc-f34a-c34e8297bb66"
      },
      "source": [
        "encoder = LabelEncoder()\n",
        "encoder.fit(df['habitat'])\n",
        "labels_habitat = encoder.transform(df['habitat'])\n",
        "set(labels_habitat)"
      ],
      "execution_count": 59,
      "outputs": [
        {
          "output_type": "execute_result",
          "data": {
            "text/plain": [
              "{0, 1, 2, 3, 4, 5, 6}"
            ]
          },
          "metadata": {
            "tags": []
          },
          "execution_count": 59
        }
      ]
    },
    {
      "cell_type": "code",
      "metadata": {
        "id": "ZKfGL6UpvTv1",
        "colab_type": "code",
        "colab": {
          "base_uri": "https://localhost:8080/",
          "height": 417
        },
        "outputId": "71e8d90c-81c2-4da5-b67c-3053d6d45e6a"
      },
      "source": [
        "#위에 info에 없었지만, 혹시나 모르겠는 결측치 확인\n",
        "df.isnull().sum()"
      ],
      "execution_count": 60,
      "outputs": [
        {
          "output_type": "execute_result",
          "data": {
            "text/plain": [
              "class                       0\n",
              "cap-shape                   0\n",
              "cap-surface                 0\n",
              "cap-color                   0\n",
              "bruises                     0\n",
              "odor                        0\n",
              "gill-attachment             0\n",
              "gill-spacing                0\n",
              "gill-size                   0\n",
              "gill-color                  0\n",
              "stalk-shape                 0\n",
              "stalk-root                  0\n",
              "stalk-surface-above-ring    0\n",
              "stalk-surface-below-ring    0\n",
              "stalk-color-above-ring      0\n",
              "stalk-color-below-ring      0\n",
              "veil-type                   0\n",
              "veil-color                  0\n",
              "ring-number                 0\n",
              "ring-type                   0\n",
              "spore-print-color           0\n",
              "population                  0\n",
              "habitat                     0\n",
              "dtype: int64"
            ]
          },
          "metadata": {
            "tags": []
          },
          "execution_count": 60
        }
      ]
    },
    {
      "cell_type": "code",
      "metadata": {
        "id": "o_D3r8BYvxzE",
        "colab_type": "code",
        "colab": {}
      },
      "source": [
        "# 전처리 하기 위해 label encoding 불러오기\n",
        "from sklearn.preprocessing import LabelEncoder"
      ],
      "execution_count": 0,
      "outputs": []
    },
    {
      "cell_type": "code",
      "metadata": {
        "id": "SxpGZ1Bev6PX",
        "colab_type": "code",
        "colab": {}
      },
      "source": [
        "#위에 다 알파벳으로 되어있으니 위에가서 다 label encoding 으로 바꾸어주기. "
      ],
      "execution_count": 0,
      "outputs": []
    },
    {
      "cell_type": "code",
      "metadata": {
        "id": "35B0jCe31H8S",
        "colab_type": "code",
        "colab": {}
      },
      "source": [
        "#df에 label encoding 한 열로 다 바꾸어 주어야 하겠따........"
      ],
      "execution_count": 0,
      "outputs": []
    },
    {
      "cell_type": "code",
      "metadata": {
        "id": "Hcej-Xxb1Mhs",
        "colab_type": "code",
        "colab": {}
      },
      "source": [
        "df['altered_label_class'] = label_class"
      ],
      "execution_count": 0,
      "outputs": []
    },
    {
      "cell_type": "code",
      "metadata": {
        "id": "FHffTLeK1eGb",
        "colab_type": "code",
        "colab": {}
      },
      "source": [
        "df['altered_label_cap_shape'] = label_cap_shape"
      ],
      "execution_count": 0,
      "outputs": []
    },
    {
      "cell_type": "code",
      "metadata": {
        "id": "WAXgT5Rd1lFv",
        "colab_type": "code",
        "colab": {}
      },
      "source": [
        "df['altered_labels_cap_surface'] = labels_cap_surface"
      ],
      "execution_count": 0,
      "outputs": []
    },
    {
      "cell_type": "code",
      "metadata": {
        "id": "hlNTsG9R1tHX",
        "colab_type": "code",
        "colab": {}
      },
      "source": [
        "df['altered_labels_cap_color'] = labels_cap_color"
      ],
      "execution_count": 0,
      "outputs": []
    },
    {
      "cell_type": "code",
      "metadata": {
        "id": "z-tO_7l212BA",
        "colab_type": "code",
        "colab": {}
      },
      "source": [
        "df['altered_labels_bruises'] = labels_bruises"
      ],
      "execution_count": 0,
      "outputs": []
    },
    {
      "cell_type": "code",
      "metadata": {
        "id": "5mKKu9sb153y",
        "colab_type": "code",
        "colab": {}
      },
      "source": [
        "df['altered_labels_odor'] = labels_odor "
      ],
      "execution_count": 0,
      "outputs": []
    },
    {
      "cell_type": "code",
      "metadata": {
        "id": "Ghq1aEFN1-G3",
        "colab_type": "code",
        "colab": {}
      },
      "source": [
        "df['altered_labels_gill_attachment'] = labels_gill_attachment"
      ],
      "execution_count": 0,
      "outputs": []
    },
    {
      "cell_type": "code",
      "metadata": {
        "id": "m8rW3qjl2GYI",
        "colab_type": "code",
        "colab": {}
      },
      "source": [
        "df['altered_labels_gill_spacing'] = labels_gill_spacing"
      ],
      "execution_count": 0,
      "outputs": []
    },
    {
      "cell_type": "code",
      "metadata": {
        "id": "c0EHkWTj2JVs",
        "colab_type": "code",
        "colab": {}
      },
      "source": [
        "df['altered_labels_gill_size'] = labels_gill_size"
      ],
      "execution_count": 0,
      "outputs": []
    },
    {
      "cell_type": "code",
      "metadata": {
        "id": "LMhnRtkf2JTN",
        "colab_type": "code",
        "colab": {}
      },
      "source": [
        "df['altered_labels_gill_color'] = labels_gill_color"
      ],
      "execution_count": 0,
      "outputs": []
    },
    {
      "cell_type": "code",
      "metadata": {
        "id": "zRZUgmoS2JQQ",
        "colab_type": "code",
        "colab": {}
      },
      "source": [
        "df['altered_labels_stalk_shape'] = labels_stalk_shape "
      ],
      "execution_count": 0,
      "outputs": []
    },
    {
      "cell_type": "code",
      "metadata": {
        "id": "7WxfkQBV2JLW",
        "colab_type": "code",
        "colab": {}
      },
      "source": [
        "df['altered_labels_stalk_root'] = labels_stalk_root "
      ],
      "execution_count": 0,
      "outputs": []
    },
    {
      "cell_type": "code",
      "metadata": {
        "id": "k6tqH7cJ2JDO",
        "colab_type": "code",
        "colab": {}
      },
      "source": [
        "df['altered_labels_stalk_surface_above_ring'] = labels_stalk_surface_above_ring"
      ],
      "execution_count": 0,
      "outputs": []
    },
    {
      "cell_type": "code",
      "metadata": {
        "id": "6R92c_jF2znR",
        "colab_type": "code",
        "colab": {}
      },
      "source": [
        "df['altered_labels_stalk_surface_below_ring'] = labels_stalk_surface_below_ring"
      ],
      "execution_count": 0,
      "outputs": []
    },
    {
      "cell_type": "code",
      "metadata": {
        "id": "e7Ht4qAd2I3i",
        "colab_type": "code",
        "colab": {}
      },
      "source": [
        "df['altered_labels_stalk_color_above_ring'] = labels_stalk_color_above_ring"
      ],
      "execution_count": 0,
      "outputs": []
    },
    {
      "cell_type": "code",
      "metadata": {
        "id": "-A82qo8P29jX",
        "colab_type": "code",
        "colab": {}
      },
      "source": [
        "df['altered_labels_stalk_color_below_ring'] = labels_stalk_color_below_ring"
      ],
      "execution_count": 0,
      "outputs": []
    },
    {
      "cell_type": "code",
      "metadata": {
        "id": "MZvCB3Nk3AeR",
        "colab_type": "code",
        "colab": {}
      },
      "source": [
        "df['altered_labels_veil_type '] = labels_veil_type "
      ],
      "execution_count": 0,
      "outputs": []
    },
    {
      "cell_type": "code",
      "metadata": {
        "id": "QXfbabuS3NIm",
        "colab_type": "code",
        "colab": {}
      },
      "source": [
        "df['altered_labels_veil_color '] = labels_veil_color"
      ],
      "execution_count": 0,
      "outputs": []
    },
    {
      "cell_type": "code",
      "metadata": {
        "id": "SOvFROIv3BBW",
        "colab_type": "code",
        "colab": {}
      },
      "source": [
        "df['altered_labels_ring_number'] = labels_ring_number "
      ],
      "execution_count": 0,
      "outputs": []
    },
    {
      "cell_type": "code",
      "metadata": {
        "id": "07HheOc-3Xec",
        "colab_type": "code",
        "colab": {}
      },
      "source": [
        "df['altered_labels_ring_type'] = labels_ring_type"
      ],
      "execution_count": 0,
      "outputs": []
    },
    {
      "cell_type": "code",
      "metadata": {
        "id": "asnE9bhn3BNO",
        "colab_type": "code",
        "colab": {}
      },
      "source": [
        "df['altered_labels_spore_print_color'] = labels_spore_print_color"
      ],
      "execution_count": 0,
      "outputs": []
    },
    {
      "cell_type": "code",
      "metadata": {
        "id": "JijAkJ393A97",
        "colab_type": "code",
        "colab": {}
      },
      "source": [
        "df['altered_labels_population'] = labels_population"
      ],
      "execution_count": 0,
      "outputs": []
    },
    {
      "cell_type": "code",
      "metadata": {
        "id": "Qx_bQsG-3A6T",
        "colab_type": "code",
        "colab": {}
      },
      "source": [
        "df['altered_labels_habitat'] = labels_habitat"
      ],
      "execution_count": 0,
      "outputs": []
    },
    {
      "cell_type": "code",
      "metadata": {
        "id": "DfQOB1Hj3pvB",
        "colab_type": "code",
        "colab": {
          "base_uri": "https://localhost:8080/",
          "height": 267
        },
        "outputId": "09bc6c45-94c7-49b3-f6a2-50bc0b0b6562"
      },
      "source": [
        "# 다 26개 행 바꾸었으니까 확인 해보기\n",
        "df.head()"
      ],
      "execution_count": 87,
      "outputs": [
        {
          "output_type": "execute_result",
          "data": {
            "text/html": [
              "<div>\n",
              "<style scoped>\n",
              "    .dataframe tbody tr th:only-of-type {\n",
              "        vertical-align: middle;\n",
              "    }\n",
              "\n",
              "    .dataframe tbody tr th {\n",
              "        vertical-align: top;\n",
              "    }\n",
              "\n",
              "    .dataframe thead th {\n",
              "        text-align: right;\n",
              "    }\n",
              "</style>\n",
              "<table border=\"1\" class=\"dataframe\">\n",
              "  <thead>\n",
              "    <tr style=\"text-align: right;\">\n",
              "      <th></th>\n",
              "      <th>class</th>\n",
              "      <th>cap-shape</th>\n",
              "      <th>cap-surface</th>\n",
              "      <th>cap-color</th>\n",
              "      <th>bruises</th>\n",
              "      <th>odor</th>\n",
              "      <th>gill-attachment</th>\n",
              "      <th>gill-spacing</th>\n",
              "      <th>gill-size</th>\n",
              "      <th>gill-color</th>\n",
              "      <th>stalk-shape</th>\n",
              "      <th>stalk-root</th>\n",
              "      <th>stalk-surface-above-ring</th>\n",
              "      <th>stalk-surface-below-ring</th>\n",
              "      <th>stalk-color-above-ring</th>\n",
              "      <th>stalk-color-below-ring</th>\n",
              "      <th>veil-type</th>\n",
              "      <th>veil-color</th>\n",
              "      <th>ring-number</th>\n",
              "      <th>ring-type</th>\n",
              "      <th>spore-print-color</th>\n",
              "      <th>population</th>\n",
              "      <th>habitat</th>\n",
              "      <th>altered_label_class</th>\n",
              "      <th>altered_label_cap_shape</th>\n",
              "      <th>altered_labels_cap_surface</th>\n",
              "      <th>altered_labels_cap_color</th>\n",
              "      <th>altered_labels_bruises</th>\n",
              "      <th>altered_labels_odor</th>\n",
              "      <th>altered_labels_gill_attachment</th>\n",
              "      <th>altered_labels_gill_spacing</th>\n",
              "      <th>altered_labels_gill_size</th>\n",
              "      <th>altered_labels_gill_color</th>\n",
              "      <th>altered_labels_stalk_shape</th>\n",
              "      <th>altered_labels_stalk_root</th>\n",
              "      <th>altered_labels_stalk_surface_above_ring</th>\n",
              "      <th>altered_labels_stalk_surface_below_ring</th>\n",
              "      <th>altered_labels_stalk_color_above_ring</th>\n",
              "      <th>altered_labels_stalk_color_below_ring</th>\n",
              "      <th>altered_labels_veil_type</th>\n",
              "      <th>altered_labels_veil_color</th>\n",
              "      <th>altered_labels_ring_number</th>\n",
              "      <th>altered_labels_ring_type</th>\n",
              "      <th>altered_labels_spore_print_color</th>\n",
              "      <th>altered_labels_population</th>\n",
              "      <th>altered_labels_habitat</th>\n",
              "    </tr>\n",
              "  </thead>\n",
              "  <tbody>\n",
              "    <tr>\n",
              "      <th>0</th>\n",
              "      <td>p</td>\n",
              "      <td>x</td>\n",
              "      <td>s</td>\n",
              "      <td>n</td>\n",
              "      <td>t</td>\n",
              "      <td>p</td>\n",
              "      <td>f</td>\n",
              "      <td>c</td>\n",
              "      <td>n</td>\n",
              "      <td>k</td>\n",
              "      <td>e</td>\n",
              "      <td>e</td>\n",
              "      <td>s</td>\n",
              "      <td>s</td>\n",
              "      <td>w</td>\n",
              "      <td>w</td>\n",
              "      <td>p</td>\n",
              "      <td>w</td>\n",
              "      <td>o</td>\n",
              "      <td>p</td>\n",
              "      <td>k</td>\n",
              "      <td>s</td>\n",
              "      <td>u</td>\n",
              "      <td>1</td>\n",
              "      <td>5</td>\n",
              "      <td>2</td>\n",
              "      <td>4</td>\n",
              "      <td>1</td>\n",
              "      <td>6</td>\n",
              "      <td>1</td>\n",
              "      <td>0</td>\n",
              "      <td>1</td>\n",
              "      <td>4</td>\n",
              "      <td>0</td>\n",
              "      <td>3</td>\n",
              "      <td>2</td>\n",
              "      <td>2</td>\n",
              "      <td>7</td>\n",
              "      <td>7</td>\n",
              "      <td>0</td>\n",
              "      <td>2</td>\n",
              "      <td>1</td>\n",
              "      <td>4</td>\n",
              "      <td>2</td>\n",
              "      <td>3</td>\n",
              "      <td>5</td>\n",
              "    </tr>\n",
              "    <tr>\n",
              "      <th>1</th>\n",
              "      <td>e</td>\n",
              "      <td>x</td>\n",
              "      <td>s</td>\n",
              "      <td>y</td>\n",
              "      <td>t</td>\n",
              "      <td>a</td>\n",
              "      <td>f</td>\n",
              "      <td>c</td>\n",
              "      <td>b</td>\n",
              "      <td>k</td>\n",
              "      <td>e</td>\n",
              "      <td>c</td>\n",
              "      <td>s</td>\n",
              "      <td>s</td>\n",
              "      <td>w</td>\n",
              "      <td>w</td>\n",
              "      <td>p</td>\n",
              "      <td>w</td>\n",
              "      <td>o</td>\n",
              "      <td>p</td>\n",
              "      <td>n</td>\n",
              "      <td>n</td>\n",
              "      <td>g</td>\n",
              "      <td>0</td>\n",
              "      <td>5</td>\n",
              "      <td>2</td>\n",
              "      <td>9</td>\n",
              "      <td>1</td>\n",
              "      <td>0</td>\n",
              "      <td>1</td>\n",
              "      <td>0</td>\n",
              "      <td>0</td>\n",
              "      <td>4</td>\n",
              "      <td>0</td>\n",
              "      <td>2</td>\n",
              "      <td>2</td>\n",
              "      <td>2</td>\n",
              "      <td>7</td>\n",
              "      <td>7</td>\n",
              "      <td>0</td>\n",
              "      <td>2</td>\n",
              "      <td>1</td>\n",
              "      <td>4</td>\n",
              "      <td>3</td>\n",
              "      <td>2</td>\n",
              "      <td>1</td>\n",
              "    </tr>\n",
              "    <tr>\n",
              "      <th>2</th>\n",
              "      <td>e</td>\n",
              "      <td>b</td>\n",
              "      <td>s</td>\n",
              "      <td>w</td>\n",
              "      <td>t</td>\n",
              "      <td>l</td>\n",
              "      <td>f</td>\n",
              "      <td>c</td>\n",
              "      <td>b</td>\n",
              "      <td>n</td>\n",
              "      <td>e</td>\n",
              "      <td>c</td>\n",
              "      <td>s</td>\n",
              "      <td>s</td>\n",
              "      <td>w</td>\n",
              "      <td>w</td>\n",
              "      <td>p</td>\n",
              "      <td>w</td>\n",
              "      <td>o</td>\n",
              "      <td>p</td>\n",
              "      <td>n</td>\n",
              "      <td>n</td>\n",
              "      <td>m</td>\n",
              "      <td>0</td>\n",
              "      <td>0</td>\n",
              "      <td>2</td>\n",
              "      <td>8</td>\n",
              "      <td>1</td>\n",
              "      <td>3</td>\n",
              "      <td>1</td>\n",
              "      <td>0</td>\n",
              "      <td>0</td>\n",
              "      <td>5</td>\n",
              "      <td>0</td>\n",
              "      <td>2</td>\n",
              "      <td>2</td>\n",
              "      <td>2</td>\n",
              "      <td>7</td>\n",
              "      <td>7</td>\n",
              "      <td>0</td>\n",
              "      <td>2</td>\n",
              "      <td>1</td>\n",
              "      <td>4</td>\n",
              "      <td>3</td>\n",
              "      <td>2</td>\n",
              "      <td>3</td>\n",
              "    </tr>\n",
              "    <tr>\n",
              "      <th>3</th>\n",
              "      <td>p</td>\n",
              "      <td>x</td>\n",
              "      <td>y</td>\n",
              "      <td>w</td>\n",
              "      <td>t</td>\n",
              "      <td>p</td>\n",
              "      <td>f</td>\n",
              "      <td>c</td>\n",
              "      <td>n</td>\n",
              "      <td>n</td>\n",
              "      <td>e</td>\n",
              "      <td>e</td>\n",
              "      <td>s</td>\n",
              "      <td>s</td>\n",
              "      <td>w</td>\n",
              "      <td>w</td>\n",
              "      <td>p</td>\n",
              "      <td>w</td>\n",
              "      <td>o</td>\n",
              "      <td>p</td>\n",
              "      <td>k</td>\n",
              "      <td>s</td>\n",
              "      <td>u</td>\n",
              "      <td>1</td>\n",
              "      <td>5</td>\n",
              "      <td>3</td>\n",
              "      <td>8</td>\n",
              "      <td>1</td>\n",
              "      <td>6</td>\n",
              "      <td>1</td>\n",
              "      <td>0</td>\n",
              "      <td>1</td>\n",
              "      <td>5</td>\n",
              "      <td>0</td>\n",
              "      <td>3</td>\n",
              "      <td>2</td>\n",
              "      <td>2</td>\n",
              "      <td>7</td>\n",
              "      <td>7</td>\n",
              "      <td>0</td>\n",
              "      <td>2</td>\n",
              "      <td>1</td>\n",
              "      <td>4</td>\n",
              "      <td>2</td>\n",
              "      <td>3</td>\n",
              "      <td>5</td>\n",
              "    </tr>\n",
              "    <tr>\n",
              "      <th>4</th>\n",
              "      <td>e</td>\n",
              "      <td>x</td>\n",
              "      <td>s</td>\n",
              "      <td>g</td>\n",
              "      <td>f</td>\n",
              "      <td>n</td>\n",
              "      <td>f</td>\n",
              "      <td>w</td>\n",
              "      <td>b</td>\n",
              "      <td>k</td>\n",
              "      <td>t</td>\n",
              "      <td>e</td>\n",
              "      <td>s</td>\n",
              "      <td>s</td>\n",
              "      <td>w</td>\n",
              "      <td>w</td>\n",
              "      <td>p</td>\n",
              "      <td>w</td>\n",
              "      <td>o</td>\n",
              "      <td>e</td>\n",
              "      <td>n</td>\n",
              "      <td>a</td>\n",
              "      <td>g</td>\n",
              "      <td>0</td>\n",
              "      <td>5</td>\n",
              "      <td>2</td>\n",
              "      <td>3</td>\n",
              "      <td>0</td>\n",
              "      <td>5</td>\n",
              "      <td>1</td>\n",
              "      <td>1</td>\n",
              "      <td>0</td>\n",
              "      <td>4</td>\n",
              "      <td>1</td>\n",
              "      <td>3</td>\n",
              "      <td>2</td>\n",
              "      <td>2</td>\n",
              "      <td>7</td>\n",
              "      <td>7</td>\n",
              "      <td>0</td>\n",
              "      <td>2</td>\n",
              "      <td>1</td>\n",
              "      <td>0</td>\n",
              "      <td>3</td>\n",
              "      <td>0</td>\n",
              "      <td>1</td>\n",
              "    </tr>\n",
              "  </tbody>\n",
              "</table>\n",
              "</div>"
            ],
            "text/plain": [
              "  class cap-shape  ... altered_labels_population altered_labels_habitat\n",
              "0     p         x  ...                         3                      5\n",
              "1     e         x  ...                         2                      1\n",
              "2     e         b  ...                         2                      3\n",
              "3     p         x  ...                         3                      5\n",
              "4     e         x  ...                         0                      1\n",
              "\n",
              "[5 rows x 46 columns]"
            ]
          },
          "metadata": {
            "tags": []
          },
          "execution_count": 87
        }
      ]
    },
    {
      "cell_type": "code",
      "metadata": {
        "id": "7GGNlNMK34ee",
        "colab_type": "code",
        "colab": {}
      },
      "source": [
        "# 데이터 컬럼 나누기\n",
        "# Data에는 예측하고자 하는 class값을 제와하고, 이 값은 target으로 설정해놓기\n",
        "# 숫자 있는 걸로만 data로 가져오쟈...(그래서 label encoding 해준거니까...)"
      ],
      "execution_count": 0,
      "outputs": []
    },
    {
      "cell_type": "code",
      "metadata": {
        "id": "K_mqTfEu43CE",
        "colab_type": "code",
        "colab": {
          "base_uri": "https://localhost:8080/",
          "height": 350
        },
        "outputId": "da458387-fdb9-416e-fc8f-34b8c5942265"
      },
      "source": [
        "df.columns"
      ],
      "execution_count": 89,
      "outputs": [
        {
          "output_type": "execute_result",
          "data": {
            "text/plain": [
              "Index(['class', 'cap-shape', 'cap-surface', 'cap-color', 'bruises', 'odor',\n",
              "       'gill-attachment', 'gill-spacing', 'gill-size', 'gill-color',\n",
              "       'stalk-shape', 'stalk-root', 'stalk-surface-above-ring',\n",
              "       'stalk-surface-below-ring', 'stalk-color-above-ring',\n",
              "       'stalk-color-below-ring', 'veil-type', 'veil-color', 'ring-number',\n",
              "       'ring-type', 'spore-print-color', 'population', 'habitat',\n",
              "       'altered_label_class', 'altered_label_cap_shape',\n",
              "       'altered_labels_cap_surface', 'altered_labels_cap_color',\n",
              "       'altered_labels_bruises', 'altered_labels_odor',\n",
              "       'altered_labels_gill_attachment', 'altered_labels_gill_spacing',\n",
              "       'altered_labels_gill_size', 'altered_labels_gill_color',\n",
              "       'altered_labels_stalk_shape', 'altered_labels_stalk_root',\n",
              "       'altered_labels_stalk_surface_above_ring',\n",
              "       'altered_labels_stalk_surface_below_ring',\n",
              "       'altered_labels_stalk_color_above_ring',\n",
              "       'altered_labels_stalk_color_below_ring', 'altered_labels_veil_type ',\n",
              "       'altered_labels_veil_color ', 'altered_labels_ring_number',\n",
              "       'altered_labels_ring_type', 'altered_labels_spore_print_color',\n",
              "       'altered_labels_population', 'altered_labels_habitat'],\n",
              "      dtype='object')"
            ]
          },
          "metadata": {
            "tags": []
          },
          "execution_count": 89
        }
      ]
    },
    {
      "cell_type": "code",
      "metadata": {
        "id": "YXcn_f4R4t4-",
        "colab_type": "code",
        "colab": {}
      },
      "source": [
        "data = df.drop(['class', 'cap-shape', 'cap-surface', 'cap-color', 'bruises', 'odor',\n",
        "       'gill-attachment', 'gill-spacing', 'gill-size', 'gill-color',\n",
        "       'stalk-shape', 'stalk-root', 'stalk-surface-above-ring',\n",
        "       'stalk-surface-below-ring', 'stalk-color-above-ring',\n",
        "       'stalk-color-below-ring', 'veil-type', 'veil-color', 'ring-number',\n",
        "       'ring-type', 'spore-print-color', 'population', 'habitat',\n",
        "       'altered_label_class'], axis=1)"
      ],
      "execution_count": 0,
      "outputs": []
    },
    {
      "cell_type": "code",
      "metadata": {
        "id": "7gYCPoKR5yRz",
        "colab_type": "code",
        "colab": {
          "base_uri": "https://localhost:8080/",
          "height": 1000
        },
        "outputId": "2470f833-2df7-4359-ba6a-2e1027a7ee4d"
      },
      "source": [
        "data"
      ],
      "execution_count": 91,
      "outputs": [
        {
          "output_type": "execute_result",
          "data": {
            "text/html": [
              "<div>\n",
              "<style scoped>\n",
              "    .dataframe tbody tr th:only-of-type {\n",
              "        vertical-align: middle;\n",
              "    }\n",
              "\n",
              "    .dataframe tbody tr th {\n",
              "        vertical-align: top;\n",
              "    }\n",
              "\n",
              "    .dataframe thead th {\n",
              "        text-align: right;\n",
              "    }\n",
              "</style>\n",
              "<table border=\"1\" class=\"dataframe\">\n",
              "  <thead>\n",
              "    <tr style=\"text-align: right;\">\n",
              "      <th></th>\n",
              "      <th>altered_label_cap_shape</th>\n",
              "      <th>altered_labels_cap_surface</th>\n",
              "      <th>altered_labels_cap_color</th>\n",
              "      <th>altered_labels_bruises</th>\n",
              "      <th>altered_labels_odor</th>\n",
              "      <th>altered_labels_gill_attachment</th>\n",
              "      <th>altered_labels_gill_spacing</th>\n",
              "      <th>altered_labels_gill_size</th>\n",
              "      <th>altered_labels_gill_color</th>\n",
              "      <th>altered_labels_stalk_shape</th>\n",
              "      <th>altered_labels_stalk_root</th>\n",
              "      <th>altered_labels_stalk_surface_above_ring</th>\n",
              "      <th>altered_labels_stalk_surface_below_ring</th>\n",
              "      <th>altered_labels_stalk_color_above_ring</th>\n",
              "      <th>altered_labels_stalk_color_below_ring</th>\n",
              "      <th>altered_labels_veil_type</th>\n",
              "      <th>altered_labels_veil_color</th>\n",
              "      <th>altered_labels_ring_number</th>\n",
              "      <th>altered_labels_ring_type</th>\n",
              "      <th>altered_labels_spore_print_color</th>\n",
              "      <th>altered_labels_population</th>\n",
              "      <th>altered_labels_habitat</th>\n",
              "    </tr>\n",
              "  </thead>\n",
              "  <tbody>\n",
              "    <tr>\n",
              "      <th>0</th>\n",
              "      <td>5</td>\n",
              "      <td>2</td>\n",
              "      <td>4</td>\n",
              "      <td>1</td>\n",
              "      <td>6</td>\n",
              "      <td>1</td>\n",
              "      <td>0</td>\n",
              "      <td>1</td>\n",
              "      <td>4</td>\n",
              "      <td>0</td>\n",
              "      <td>3</td>\n",
              "      <td>2</td>\n",
              "      <td>2</td>\n",
              "      <td>7</td>\n",
              "      <td>7</td>\n",
              "      <td>0</td>\n",
              "      <td>2</td>\n",
              "      <td>1</td>\n",
              "      <td>4</td>\n",
              "      <td>2</td>\n",
              "      <td>3</td>\n",
              "      <td>5</td>\n",
              "    </tr>\n",
              "    <tr>\n",
              "      <th>1</th>\n",
              "      <td>5</td>\n",
              "      <td>2</td>\n",
              "      <td>9</td>\n",
              "      <td>1</td>\n",
              "      <td>0</td>\n",
              "      <td>1</td>\n",
              "      <td>0</td>\n",
              "      <td>0</td>\n",
              "      <td>4</td>\n",
              "      <td>0</td>\n",
              "      <td>2</td>\n",
              "      <td>2</td>\n",
              "      <td>2</td>\n",
              "      <td>7</td>\n",
              "      <td>7</td>\n",
              "      <td>0</td>\n",
              "      <td>2</td>\n",
              "      <td>1</td>\n",
              "      <td>4</td>\n",
              "      <td>3</td>\n",
              "      <td>2</td>\n",
              "      <td>1</td>\n",
              "    </tr>\n",
              "    <tr>\n",
              "      <th>2</th>\n",
              "      <td>0</td>\n",
              "      <td>2</td>\n",
              "      <td>8</td>\n",
              "      <td>1</td>\n",
              "      <td>3</td>\n",
              "      <td>1</td>\n",
              "      <td>0</td>\n",
              "      <td>0</td>\n",
              "      <td>5</td>\n",
              "      <td>0</td>\n",
              "      <td>2</td>\n",
              "      <td>2</td>\n",
              "      <td>2</td>\n",
              "      <td>7</td>\n",
              "      <td>7</td>\n",
              "      <td>0</td>\n",
              "      <td>2</td>\n",
              "      <td>1</td>\n",
              "      <td>4</td>\n",
              "      <td>3</td>\n",
              "      <td>2</td>\n",
              "      <td>3</td>\n",
              "    </tr>\n",
              "    <tr>\n",
              "      <th>3</th>\n",
              "      <td>5</td>\n",
              "      <td>3</td>\n",
              "      <td>8</td>\n",
              "      <td>1</td>\n",
              "      <td>6</td>\n",
              "      <td>1</td>\n",
              "      <td>0</td>\n",
              "      <td>1</td>\n",
              "      <td>5</td>\n",
              "      <td>0</td>\n",
              "      <td>3</td>\n",
              "      <td>2</td>\n",
              "      <td>2</td>\n",
              "      <td>7</td>\n",
              "      <td>7</td>\n",
              "      <td>0</td>\n",
              "      <td>2</td>\n",
              "      <td>1</td>\n",
              "      <td>4</td>\n",
              "      <td>2</td>\n",
              "      <td>3</td>\n",
              "      <td>5</td>\n",
              "    </tr>\n",
              "    <tr>\n",
              "      <th>4</th>\n",
              "      <td>5</td>\n",
              "      <td>2</td>\n",
              "      <td>3</td>\n",
              "      <td>0</td>\n",
              "      <td>5</td>\n",
              "      <td>1</td>\n",
              "      <td>1</td>\n",
              "      <td>0</td>\n",
              "      <td>4</td>\n",
              "      <td>1</td>\n",
              "      <td>3</td>\n",
              "      <td>2</td>\n",
              "      <td>2</td>\n",
              "      <td>7</td>\n",
              "      <td>7</td>\n",
              "      <td>0</td>\n",
              "      <td>2</td>\n",
              "      <td>1</td>\n",
              "      <td>0</td>\n",
              "      <td>3</td>\n",
              "      <td>0</td>\n",
              "      <td>1</td>\n",
              "    </tr>\n",
              "    <tr>\n",
              "      <th>5</th>\n",
              "      <td>5</td>\n",
              "      <td>3</td>\n",
              "      <td>9</td>\n",
              "      <td>1</td>\n",
              "      <td>0</td>\n",
              "      <td>1</td>\n",
              "      <td>0</td>\n",
              "      <td>0</td>\n",
              "      <td>5</td>\n",
              "      <td>0</td>\n",
              "      <td>2</td>\n",
              "      <td>2</td>\n",
              "      <td>2</td>\n",
              "      <td>7</td>\n",
              "      <td>7</td>\n",
              "      <td>0</td>\n",
              "      <td>2</td>\n",
              "      <td>1</td>\n",
              "      <td>4</td>\n",
              "      <td>2</td>\n",
              "      <td>2</td>\n",
              "      <td>1</td>\n",
              "    </tr>\n",
              "    <tr>\n",
              "      <th>6</th>\n",
              "      <td>0</td>\n",
              "      <td>2</td>\n",
              "      <td>8</td>\n",
              "      <td>1</td>\n",
              "      <td>0</td>\n",
              "      <td>1</td>\n",
              "      <td>0</td>\n",
              "      <td>0</td>\n",
              "      <td>2</td>\n",
              "      <td>0</td>\n",
              "      <td>2</td>\n",
              "      <td>2</td>\n",
              "      <td>2</td>\n",
              "      <td>7</td>\n",
              "      <td>7</td>\n",
              "      <td>0</td>\n",
              "      <td>2</td>\n",
              "      <td>1</td>\n",
              "      <td>4</td>\n",
              "      <td>2</td>\n",
              "      <td>2</td>\n",
              "      <td>3</td>\n",
              "    </tr>\n",
              "    <tr>\n",
              "      <th>7</th>\n",
              "      <td>0</td>\n",
              "      <td>3</td>\n",
              "      <td>8</td>\n",
              "      <td>1</td>\n",
              "      <td>3</td>\n",
              "      <td>1</td>\n",
              "      <td>0</td>\n",
              "      <td>0</td>\n",
              "      <td>5</td>\n",
              "      <td>0</td>\n",
              "      <td>2</td>\n",
              "      <td>2</td>\n",
              "      <td>2</td>\n",
              "      <td>7</td>\n",
              "      <td>7</td>\n",
              "      <td>0</td>\n",
              "      <td>2</td>\n",
              "      <td>1</td>\n",
              "      <td>4</td>\n",
              "      <td>3</td>\n",
              "      <td>3</td>\n",
              "      <td>3</td>\n",
              "    </tr>\n",
              "    <tr>\n",
              "      <th>8</th>\n",
              "      <td>5</td>\n",
              "      <td>3</td>\n",
              "      <td>8</td>\n",
              "      <td>1</td>\n",
              "      <td>6</td>\n",
              "      <td>1</td>\n",
              "      <td>0</td>\n",
              "      <td>1</td>\n",
              "      <td>7</td>\n",
              "      <td>0</td>\n",
              "      <td>3</td>\n",
              "      <td>2</td>\n",
              "      <td>2</td>\n",
              "      <td>7</td>\n",
              "      <td>7</td>\n",
              "      <td>0</td>\n",
              "      <td>2</td>\n",
              "      <td>1</td>\n",
              "      <td>4</td>\n",
              "      <td>2</td>\n",
              "      <td>4</td>\n",
              "      <td>1</td>\n",
              "    </tr>\n",
              "    <tr>\n",
              "      <th>9</th>\n",
              "      <td>0</td>\n",
              "      <td>2</td>\n",
              "      <td>9</td>\n",
              "      <td>1</td>\n",
              "      <td>0</td>\n",
              "      <td>1</td>\n",
              "      <td>0</td>\n",
              "      <td>0</td>\n",
              "      <td>2</td>\n",
              "      <td>0</td>\n",
              "      <td>2</td>\n",
              "      <td>2</td>\n",
              "      <td>2</td>\n",
              "      <td>7</td>\n",
              "      <td>7</td>\n",
              "      <td>0</td>\n",
              "      <td>2</td>\n",
              "      <td>1</td>\n",
              "      <td>4</td>\n",
              "      <td>2</td>\n",
              "      <td>3</td>\n",
              "      <td>3</td>\n",
              "    </tr>\n",
              "    <tr>\n",
              "      <th>10</th>\n",
              "      <td>5</td>\n",
              "      <td>3</td>\n",
              "      <td>9</td>\n",
              "      <td>1</td>\n",
              "      <td>3</td>\n",
              "      <td>1</td>\n",
              "      <td>0</td>\n",
              "      <td>0</td>\n",
              "      <td>2</td>\n",
              "      <td>0</td>\n",
              "      <td>2</td>\n",
              "      <td>2</td>\n",
              "      <td>2</td>\n",
              "      <td>7</td>\n",
              "      <td>7</td>\n",
              "      <td>0</td>\n",
              "      <td>2</td>\n",
              "      <td>1</td>\n",
              "      <td>4</td>\n",
              "      <td>3</td>\n",
              "      <td>2</td>\n",
              "      <td>1</td>\n",
              "    </tr>\n",
              "    <tr>\n",
              "      <th>11</th>\n",
              "      <td>5</td>\n",
              "      <td>3</td>\n",
              "      <td>9</td>\n",
              "      <td>1</td>\n",
              "      <td>0</td>\n",
              "      <td>1</td>\n",
              "      <td>0</td>\n",
              "      <td>0</td>\n",
              "      <td>5</td>\n",
              "      <td>0</td>\n",
              "      <td>2</td>\n",
              "      <td>2</td>\n",
              "      <td>2</td>\n",
              "      <td>7</td>\n",
              "      <td>7</td>\n",
              "      <td>0</td>\n",
              "      <td>2</td>\n",
              "      <td>1</td>\n",
              "      <td>4</td>\n",
              "      <td>2</td>\n",
              "      <td>3</td>\n",
              "      <td>3</td>\n",
              "    </tr>\n",
              "    <tr>\n",
              "      <th>12</th>\n",
              "      <td>0</td>\n",
              "      <td>2</td>\n",
              "      <td>9</td>\n",
              "      <td>1</td>\n",
              "      <td>0</td>\n",
              "      <td>1</td>\n",
              "      <td>0</td>\n",
              "      <td>0</td>\n",
              "      <td>10</td>\n",
              "      <td>0</td>\n",
              "      <td>2</td>\n",
              "      <td>2</td>\n",
              "      <td>2</td>\n",
              "      <td>7</td>\n",
              "      <td>7</td>\n",
              "      <td>0</td>\n",
              "      <td>2</td>\n",
              "      <td>1</td>\n",
              "      <td>4</td>\n",
              "      <td>3</td>\n",
              "      <td>3</td>\n",
              "      <td>1</td>\n",
              "    </tr>\n",
              "    <tr>\n",
              "      <th>13</th>\n",
              "      <td>5</td>\n",
              "      <td>3</td>\n",
              "      <td>8</td>\n",
              "      <td>1</td>\n",
              "      <td>6</td>\n",
              "      <td>1</td>\n",
              "      <td>0</td>\n",
              "      <td>1</td>\n",
              "      <td>4</td>\n",
              "      <td>0</td>\n",
              "      <td>3</td>\n",
              "      <td>2</td>\n",
              "      <td>2</td>\n",
              "      <td>7</td>\n",
              "      <td>7</td>\n",
              "      <td>0</td>\n",
              "      <td>2</td>\n",
              "      <td>1</td>\n",
              "      <td>4</td>\n",
              "      <td>3</td>\n",
              "      <td>4</td>\n",
              "      <td>5</td>\n",
              "    </tr>\n",
              "    <tr>\n",
              "      <th>14</th>\n",
              "      <td>5</td>\n",
              "      <td>0</td>\n",
              "      <td>4</td>\n",
              "      <td>0</td>\n",
              "      <td>5</td>\n",
              "      <td>1</td>\n",
              "      <td>1</td>\n",
              "      <td>0</td>\n",
              "      <td>5</td>\n",
              "      <td>1</td>\n",
              "      <td>3</td>\n",
              "      <td>2</td>\n",
              "      <td>0</td>\n",
              "      <td>7</td>\n",
              "      <td>7</td>\n",
              "      <td>0</td>\n",
              "      <td>2</td>\n",
              "      <td>1</td>\n",
              "      <td>0</td>\n",
              "      <td>2</td>\n",
              "      <td>0</td>\n",
              "      <td>1</td>\n",
              "    </tr>\n",
              "    <tr>\n",
              "      <th>15</th>\n",
              "      <td>4</td>\n",
              "      <td>0</td>\n",
              "      <td>3</td>\n",
              "      <td>0</td>\n",
              "      <td>5</td>\n",
              "      <td>1</td>\n",
              "      <td>0</td>\n",
              "      <td>1</td>\n",
              "      <td>4</td>\n",
              "      <td>0</td>\n",
              "      <td>3</td>\n",
              "      <td>2</td>\n",
              "      <td>2</td>\n",
              "      <td>7</td>\n",
              "      <td>7</td>\n",
              "      <td>0</td>\n",
              "      <td>2</td>\n",
              "      <td>1</td>\n",
              "      <td>4</td>\n",
              "      <td>3</td>\n",
              "      <td>5</td>\n",
              "      <td>5</td>\n",
              "    </tr>\n",
              "    <tr>\n",
              "      <th>16</th>\n",
              "      <td>2</td>\n",
              "      <td>0</td>\n",
              "      <td>8</td>\n",
              "      <td>0</td>\n",
              "      <td>5</td>\n",
              "      <td>1</td>\n",
              "      <td>1</td>\n",
              "      <td>0</td>\n",
              "      <td>4</td>\n",
              "      <td>1</td>\n",
              "      <td>3</td>\n",
              "      <td>2</td>\n",
              "      <td>2</td>\n",
              "      <td>7</td>\n",
              "      <td>7</td>\n",
              "      <td>0</td>\n",
              "      <td>2</td>\n",
              "      <td>1</td>\n",
              "      <td>0</td>\n",
              "      <td>3</td>\n",
              "      <td>0</td>\n",
              "      <td>1</td>\n",
              "    </tr>\n",
              "    <tr>\n",
              "      <th>17</th>\n",
              "      <td>5</td>\n",
              "      <td>2</td>\n",
              "      <td>4</td>\n",
              "      <td>1</td>\n",
              "      <td>6</td>\n",
              "      <td>1</td>\n",
              "      <td>0</td>\n",
              "      <td>1</td>\n",
              "      <td>5</td>\n",
              "      <td>0</td>\n",
              "      <td>3</td>\n",
              "      <td>2</td>\n",
              "      <td>2</td>\n",
              "      <td>7</td>\n",
              "      <td>7</td>\n",
              "      <td>0</td>\n",
              "      <td>2</td>\n",
              "      <td>1</td>\n",
              "      <td>4</td>\n",
              "      <td>2</td>\n",
              "      <td>3</td>\n",
              "      <td>1</td>\n",
              "    </tr>\n",
              "    <tr>\n",
              "      <th>18</th>\n",
              "      <td>5</td>\n",
              "      <td>3</td>\n",
              "      <td>8</td>\n",
              "      <td>1</td>\n",
              "      <td>6</td>\n",
              "      <td>1</td>\n",
              "      <td>0</td>\n",
              "      <td>1</td>\n",
              "      <td>5</td>\n",
              "      <td>0</td>\n",
              "      <td>3</td>\n",
              "      <td>2</td>\n",
              "      <td>2</td>\n",
              "      <td>7</td>\n",
              "      <td>7</td>\n",
              "      <td>0</td>\n",
              "      <td>2</td>\n",
              "      <td>1</td>\n",
              "      <td>4</td>\n",
              "      <td>3</td>\n",
              "      <td>3</td>\n",
              "      <td>5</td>\n",
              "    </tr>\n",
              "    <tr>\n",
              "      <th>19</th>\n",
              "      <td>5</td>\n",
              "      <td>2</td>\n",
              "      <td>4</td>\n",
              "      <td>1</td>\n",
              "      <td>6</td>\n",
              "      <td>1</td>\n",
              "      <td>0</td>\n",
              "      <td>1</td>\n",
              "      <td>4</td>\n",
              "      <td>0</td>\n",
              "      <td>3</td>\n",
              "      <td>2</td>\n",
              "      <td>2</td>\n",
              "      <td>7</td>\n",
              "      <td>7</td>\n",
              "      <td>0</td>\n",
              "      <td>2</td>\n",
              "      <td>1</td>\n",
              "      <td>4</td>\n",
              "      <td>3</td>\n",
              "      <td>3</td>\n",
              "      <td>5</td>\n",
              "    </tr>\n",
              "    <tr>\n",
              "      <th>20</th>\n",
              "      <td>0</td>\n",
              "      <td>2</td>\n",
              "      <td>9</td>\n",
              "      <td>1</td>\n",
              "      <td>0</td>\n",
              "      <td>1</td>\n",
              "      <td>0</td>\n",
              "      <td>0</td>\n",
              "      <td>4</td>\n",
              "      <td>0</td>\n",
              "      <td>2</td>\n",
              "      <td>2</td>\n",
              "      <td>2</td>\n",
              "      <td>7</td>\n",
              "      <td>7</td>\n",
              "      <td>0</td>\n",
              "      <td>2</td>\n",
              "      <td>1</td>\n",
              "      <td>4</td>\n",
              "      <td>3</td>\n",
              "      <td>3</td>\n",
              "      <td>3</td>\n",
              "    </tr>\n",
              "    <tr>\n",
              "      <th>21</th>\n",
              "      <td>5</td>\n",
              "      <td>3</td>\n",
              "      <td>4</td>\n",
              "      <td>1</td>\n",
              "      <td>6</td>\n",
              "      <td>1</td>\n",
              "      <td>0</td>\n",
              "      <td>1</td>\n",
              "      <td>5</td>\n",
              "      <td>0</td>\n",
              "      <td>3</td>\n",
              "      <td>2</td>\n",
              "      <td>2</td>\n",
              "      <td>7</td>\n",
              "      <td>7</td>\n",
              "      <td>0</td>\n",
              "      <td>2</td>\n",
              "      <td>1</td>\n",
              "      <td>4</td>\n",
              "      <td>3</td>\n",
              "      <td>4</td>\n",
              "      <td>1</td>\n",
              "    </tr>\n",
              "    <tr>\n",
              "      <th>22</th>\n",
              "      <td>0</td>\n",
              "      <td>3</td>\n",
              "      <td>9</td>\n",
              "      <td>1</td>\n",
              "      <td>3</td>\n",
              "      <td>1</td>\n",
              "      <td>0</td>\n",
              "      <td>0</td>\n",
              "      <td>4</td>\n",
              "      <td>0</td>\n",
              "      <td>2</td>\n",
              "      <td>2</td>\n",
              "      <td>2</td>\n",
              "      <td>7</td>\n",
              "      <td>7</td>\n",
              "      <td>0</td>\n",
              "      <td>2</td>\n",
              "      <td>1</td>\n",
              "      <td>4</td>\n",
              "      <td>3</td>\n",
              "      <td>3</td>\n",
              "      <td>3</td>\n",
              "    </tr>\n",
              "    <tr>\n",
              "      <th>23</th>\n",
              "      <td>0</td>\n",
              "      <td>3</td>\n",
              "      <td>8</td>\n",
              "      <td>1</td>\n",
              "      <td>0</td>\n",
              "      <td>1</td>\n",
              "      <td>0</td>\n",
              "      <td>0</td>\n",
              "      <td>10</td>\n",
              "      <td>0</td>\n",
              "      <td>2</td>\n",
              "      <td>2</td>\n",
              "      <td>2</td>\n",
              "      <td>7</td>\n",
              "      <td>7</td>\n",
              "      <td>0</td>\n",
              "      <td>2</td>\n",
              "      <td>1</td>\n",
              "      <td>4</td>\n",
              "      <td>3</td>\n",
              "      <td>2</td>\n",
              "      <td>3</td>\n",
              "    </tr>\n",
              "    <tr>\n",
              "      <th>24</th>\n",
              "      <td>0</td>\n",
              "      <td>2</td>\n",
              "      <td>8</td>\n",
              "      <td>1</td>\n",
              "      <td>3</td>\n",
              "      <td>1</td>\n",
              "      <td>0</td>\n",
              "      <td>0</td>\n",
              "      <td>2</td>\n",
              "      <td>0</td>\n",
              "      <td>2</td>\n",
              "      <td>2</td>\n",
              "      <td>2</td>\n",
              "      <td>7</td>\n",
              "      <td>7</td>\n",
              "      <td>0</td>\n",
              "      <td>2</td>\n",
              "      <td>1</td>\n",
              "      <td>4</td>\n",
              "      <td>2</td>\n",
              "      <td>3</td>\n",
              "      <td>3</td>\n",
              "    </tr>\n",
              "    <tr>\n",
              "      <th>25</th>\n",
              "      <td>2</td>\n",
              "      <td>2</td>\n",
              "      <td>8</td>\n",
              "      <td>1</td>\n",
              "      <td>6</td>\n",
              "      <td>1</td>\n",
              "      <td>0</td>\n",
              "      <td>1</td>\n",
              "      <td>5</td>\n",
              "      <td>0</td>\n",
              "      <td>3</td>\n",
              "      <td>2</td>\n",
              "      <td>2</td>\n",
              "      <td>7</td>\n",
              "      <td>7</td>\n",
              "      <td>0</td>\n",
              "      <td>2</td>\n",
              "      <td>1</td>\n",
              "      <td>4</td>\n",
              "      <td>3</td>\n",
              "      <td>4</td>\n",
              "      <td>1</td>\n",
              "    </tr>\n",
              "    <tr>\n",
              "      <th>26</th>\n",
              "      <td>5</td>\n",
              "      <td>3</td>\n",
              "      <td>9</td>\n",
              "      <td>1</td>\n",
              "      <td>0</td>\n",
              "      <td>1</td>\n",
              "      <td>0</td>\n",
              "      <td>0</td>\n",
              "      <td>5</td>\n",
              "      <td>0</td>\n",
              "      <td>2</td>\n",
              "      <td>2</td>\n",
              "      <td>2</td>\n",
              "      <td>7</td>\n",
              "      <td>7</td>\n",
              "      <td>0</td>\n",
              "      <td>2</td>\n",
              "      <td>1</td>\n",
              "      <td>4</td>\n",
              "      <td>3</td>\n",
              "      <td>2</td>\n",
              "      <td>3</td>\n",
              "    </tr>\n",
              "    <tr>\n",
              "      <th>27</th>\n",
              "      <td>5</td>\n",
              "      <td>3</td>\n",
              "      <td>8</td>\n",
              "      <td>1</td>\n",
              "      <td>3</td>\n",
              "      <td>1</td>\n",
              "      <td>0</td>\n",
              "      <td>0</td>\n",
              "      <td>10</td>\n",
              "      <td>0</td>\n",
              "      <td>2</td>\n",
              "      <td>2</td>\n",
              "      <td>2</td>\n",
              "      <td>7</td>\n",
              "      <td>7</td>\n",
              "      <td>0</td>\n",
              "      <td>2</td>\n",
              "      <td>1</td>\n",
              "      <td>4</td>\n",
              "      <td>3</td>\n",
              "      <td>2</td>\n",
              "      <td>3</td>\n",
              "    </tr>\n",
              "    <tr>\n",
              "      <th>28</th>\n",
              "      <td>2</td>\n",
              "      <td>0</td>\n",
              "      <td>4</td>\n",
              "      <td>0</td>\n",
              "      <td>5</td>\n",
              "      <td>1</td>\n",
              "      <td>0</td>\n",
              "      <td>1</td>\n",
              "      <td>4</td>\n",
              "      <td>0</td>\n",
              "      <td>3</td>\n",
              "      <td>2</td>\n",
              "      <td>2</td>\n",
              "      <td>7</td>\n",
              "      <td>7</td>\n",
              "      <td>0</td>\n",
              "      <td>2</td>\n",
              "      <td>1</td>\n",
              "      <td>4</td>\n",
              "      <td>2</td>\n",
              "      <td>5</td>\n",
              "      <td>5</td>\n",
              "    </tr>\n",
              "    <tr>\n",
              "      <th>29</th>\n",
              "      <td>5</td>\n",
              "      <td>2</td>\n",
              "      <td>9</td>\n",
              "      <td>1</td>\n",
              "      <td>0</td>\n",
              "      <td>1</td>\n",
              "      <td>1</td>\n",
              "      <td>1</td>\n",
              "      <td>5</td>\n",
              "      <td>1</td>\n",
              "      <td>1</td>\n",
              "      <td>2</td>\n",
              "      <td>2</td>\n",
              "      <td>7</td>\n",
              "      <td>7</td>\n",
              "      <td>0</td>\n",
              "      <td>2</td>\n",
              "      <td>1</td>\n",
              "      <td>4</td>\n",
              "      <td>3</td>\n",
              "      <td>4</td>\n",
              "      <td>0</td>\n",
              "    </tr>\n",
              "    <tr>\n",
              "      <th>...</th>\n",
              "      <td>...</td>\n",
              "      <td>...</td>\n",
              "      <td>...</td>\n",
              "      <td>...</td>\n",
              "      <td>...</td>\n",
              "      <td>...</td>\n",
              "      <td>...</td>\n",
              "      <td>...</td>\n",
              "      <td>...</td>\n",
              "      <td>...</td>\n",
              "      <td>...</td>\n",
              "      <td>...</td>\n",
              "      <td>...</td>\n",
              "      <td>...</td>\n",
              "      <td>...</td>\n",
              "      <td>...</td>\n",
              "      <td>...</td>\n",
              "      <td>...</td>\n",
              "      <td>...</td>\n",
              "      <td>...</td>\n",
              "      <td>...</td>\n",
              "      <td>...</td>\n",
              "    </tr>\n",
              "    <tr>\n",
              "      <th>8094</th>\n",
              "      <td>0</td>\n",
              "      <td>2</td>\n",
              "      <td>3</td>\n",
              "      <td>0</td>\n",
              "      <td>5</td>\n",
              "      <td>1</td>\n",
              "      <td>1</td>\n",
              "      <td>0</td>\n",
              "      <td>2</td>\n",
              "      <td>0</td>\n",
              "      <td>0</td>\n",
              "      <td>1</td>\n",
              "      <td>2</td>\n",
              "      <td>7</td>\n",
              "      <td>7</td>\n",
              "      <td>0</td>\n",
              "      <td>2</td>\n",
              "      <td>2</td>\n",
              "      <td>4</td>\n",
              "      <td>7</td>\n",
              "      <td>2</td>\n",
              "      <td>1</td>\n",
              "    </tr>\n",
              "    <tr>\n",
              "      <th>8095</th>\n",
              "      <td>5</td>\n",
              "      <td>3</td>\n",
              "      <td>1</td>\n",
              "      <td>0</td>\n",
              "      <td>4</td>\n",
              "      <td>1</td>\n",
              "      <td>0</td>\n",
              "      <td>0</td>\n",
              "      <td>11</td>\n",
              "      <td>0</td>\n",
              "      <td>2</td>\n",
              "      <td>1</td>\n",
              "      <td>3</td>\n",
              "      <td>1</td>\n",
              "      <td>1</td>\n",
              "      <td>0</td>\n",
              "      <td>2</td>\n",
              "      <td>0</td>\n",
              "      <td>3</td>\n",
              "      <td>7</td>\n",
              "      <td>1</td>\n",
              "      <td>0</td>\n",
              "    </tr>\n",
              "    <tr>\n",
              "      <th>8096</th>\n",
              "      <td>3</td>\n",
              "      <td>0</td>\n",
              "      <td>8</td>\n",
              "      <td>0</td>\n",
              "      <td>5</td>\n",
              "      <td>1</td>\n",
              "      <td>1</td>\n",
              "      <td>0</td>\n",
              "      <td>10</td>\n",
              "      <td>0</td>\n",
              "      <td>0</td>\n",
              "      <td>1</td>\n",
              "      <td>2</td>\n",
              "      <td>7</td>\n",
              "      <td>7</td>\n",
              "      <td>0</td>\n",
              "      <td>2</td>\n",
              "      <td>2</td>\n",
              "      <td>4</td>\n",
              "      <td>7</td>\n",
              "      <td>2</td>\n",
              "      <td>1</td>\n",
              "    </tr>\n",
              "    <tr>\n",
              "      <th>8097</th>\n",
              "      <td>3</td>\n",
              "      <td>3</td>\n",
              "      <td>4</td>\n",
              "      <td>0</td>\n",
              "      <td>7</td>\n",
              "      <td>1</td>\n",
              "      <td>0</td>\n",
              "      <td>1</td>\n",
              "      <td>0</td>\n",
              "      <td>1</td>\n",
              "      <td>0</td>\n",
              "      <td>1</td>\n",
              "      <td>1</td>\n",
              "      <td>6</td>\n",
              "      <td>6</td>\n",
              "      <td>0</td>\n",
              "      <td>2</td>\n",
              "      <td>1</td>\n",
              "      <td>0</td>\n",
              "      <td>7</td>\n",
              "      <td>4</td>\n",
              "      <td>2</td>\n",
              "    </tr>\n",
              "    <tr>\n",
              "      <th>8098</th>\n",
              "      <td>3</td>\n",
              "      <td>2</td>\n",
              "      <td>2</td>\n",
              "      <td>0</td>\n",
              "      <td>8</td>\n",
              "      <td>1</td>\n",
              "      <td>0</td>\n",
              "      <td>1</td>\n",
              "      <td>0</td>\n",
              "      <td>1</td>\n",
              "      <td>0</td>\n",
              "      <td>1</td>\n",
              "      <td>1</td>\n",
              "      <td>7</td>\n",
              "      <td>6</td>\n",
              "      <td>0</td>\n",
              "      <td>2</td>\n",
              "      <td>1</td>\n",
              "      <td>0</td>\n",
              "      <td>7</td>\n",
              "      <td>4</td>\n",
              "      <td>0</td>\n",
              "    </tr>\n",
              "    <tr>\n",
              "      <th>8099</th>\n",
              "      <td>3</td>\n",
              "      <td>0</td>\n",
              "      <td>8</td>\n",
              "      <td>0</td>\n",
              "      <td>5</td>\n",
              "      <td>1</td>\n",
              "      <td>1</td>\n",
              "      <td>0</td>\n",
              "      <td>10</td>\n",
              "      <td>0</td>\n",
              "      <td>0</td>\n",
              "      <td>1</td>\n",
              "      <td>1</td>\n",
              "      <td>7</td>\n",
              "      <td>7</td>\n",
              "      <td>0</td>\n",
              "      <td>2</td>\n",
              "      <td>2</td>\n",
              "      <td>4</td>\n",
              "      <td>7</td>\n",
              "      <td>3</td>\n",
              "      <td>1</td>\n",
              "    </tr>\n",
              "    <tr>\n",
              "      <th>8100</th>\n",
              "      <td>2</td>\n",
              "      <td>2</td>\n",
              "      <td>4</td>\n",
              "      <td>0</td>\n",
              "      <td>5</td>\n",
              "      <td>0</td>\n",
              "      <td>0</td>\n",
              "      <td>0</td>\n",
              "      <td>6</td>\n",
              "      <td>0</td>\n",
              "      <td>0</td>\n",
              "      <td>2</td>\n",
              "      <td>2</td>\n",
              "      <td>5</td>\n",
              "      <td>5</td>\n",
              "      <td>0</td>\n",
              "      <td>0</td>\n",
              "      <td>1</td>\n",
              "      <td>4</td>\n",
              "      <td>0</td>\n",
              "      <td>4</td>\n",
              "      <td>2</td>\n",
              "    </tr>\n",
              "    <tr>\n",
              "      <th>8101</th>\n",
              "      <td>3</td>\n",
              "      <td>2</td>\n",
              "      <td>2</td>\n",
              "      <td>0</td>\n",
              "      <td>7</td>\n",
              "      <td>1</td>\n",
              "      <td>0</td>\n",
              "      <td>1</td>\n",
              "      <td>0</td>\n",
              "      <td>1</td>\n",
              "      <td>0</td>\n",
              "      <td>2</td>\n",
              "      <td>2</td>\n",
              "      <td>6</td>\n",
              "      <td>7</td>\n",
              "      <td>0</td>\n",
              "      <td>2</td>\n",
              "      <td>1</td>\n",
              "      <td>0</td>\n",
              "      <td>7</td>\n",
              "      <td>4</td>\n",
              "      <td>4</td>\n",
              "    </tr>\n",
              "    <tr>\n",
              "      <th>8102</th>\n",
              "      <td>5</td>\n",
              "      <td>2</td>\n",
              "      <td>4</td>\n",
              "      <td>0</td>\n",
              "      <td>5</td>\n",
              "      <td>0</td>\n",
              "      <td>0</td>\n",
              "      <td>0</td>\n",
              "      <td>11</td>\n",
              "      <td>0</td>\n",
              "      <td>0</td>\n",
              "      <td>2</td>\n",
              "      <td>2</td>\n",
              "      <td>5</td>\n",
              "      <td>5</td>\n",
              "      <td>0</td>\n",
              "      <td>0</td>\n",
              "      <td>1</td>\n",
              "      <td>4</td>\n",
              "      <td>3</td>\n",
              "      <td>1</td>\n",
              "      <td>2</td>\n",
              "    </tr>\n",
              "    <tr>\n",
              "      <th>8103</th>\n",
              "      <td>3</td>\n",
              "      <td>2</td>\n",
              "      <td>4</td>\n",
              "      <td>0</td>\n",
              "      <td>5</td>\n",
              "      <td>0</td>\n",
              "      <td>0</td>\n",
              "      <td>0</td>\n",
              "      <td>11</td>\n",
              "      <td>0</td>\n",
              "      <td>0</td>\n",
              "      <td>2</td>\n",
              "      <td>2</td>\n",
              "      <td>5</td>\n",
              "      <td>5</td>\n",
              "      <td>0</td>\n",
              "      <td>0</td>\n",
              "      <td>1</td>\n",
              "      <td>4</td>\n",
              "      <td>4</td>\n",
              "      <td>1</td>\n",
              "      <td>2</td>\n",
              "    </tr>\n",
              "    <tr>\n",
              "      <th>8104</th>\n",
              "      <td>3</td>\n",
              "      <td>2</td>\n",
              "      <td>4</td>\n",
              "      <td>0</td>\n",
              "      <td>5</td>\n",
              "      <td>0</td>\n",
              "      <td>0</td>\n",
              "      <td>0</td>\n",
              "      <td>11</td>\n",
              "      <td>0</td>\n",
              "      <td>0</td>\n",
              "      <td>2</td>\n",
              "      <td>2</td>\n",
              "      <td>5</td>\n",
              "      <td>5</td>\n",
              "      <td>0</td>\n",
              "      <td>1</td>\n",
              "      <td>1</td>\n",
              "      <td>4</td>\n",
              "      <td>3</td>\n",
              "      <td>4</td>\n",
              "      <td>2</td>\n",
              "    </tr>\n",
              "    <tr>\n",
              "      <th>8105</th>\n",
              "      <td>3</td>\n",
              "      <td>2</td>\n",
              "      <td>4</td>\n",
              "      <td>0</td>\n",
              "      <td>5</td>\n",
              "      <td>0</td>\n",
              "      <td>0</td>\n",
              "      <td>0</td>\n",
              "      <td>11</td>\n",
              "      <td>0</td>\n",
              "      <td>0</td>\n",
              "      <td>2</td>\n",
              "      <td>2</td>\n",
              "      <td>5</td>\n",
              "      <td>5</td>\n",
              "      <td>0</td>\n",
              "      <td>0</td>\n",
              "      <td>1</td>\n",
              "      <td>4</td>\n",
              "      <td>8</td>\n",
              "      <td>4</td>\n",
              "      <td>2</td>\n",
              "    </tr>\n",
              "    <tr>\n",
              "      <th>8106</th>\n",
              "      <td>3</td>\n",
              "      <td>2</td>\n",
              "      <td>4</td>\n",
              "      <td>0</td>\n",
              "      <td>5</td>\n",
              "      <td>0</td>\n",
              "      <td>0</td>\n",
              "      <td>0</td>\n",
              "      <td>6</td>\n",
              "      <td>0</td>\n",
              "      <td>0</td>\n",
              "      <td>2</td>\n",
              "      <td>2</td>\n",
              "      <td>5</td>\n",
              "      <td>5</td>\n",
              "      <td>0</td>\n",
              "      <td>1</td>\n",
              "      <td>1</td>\n",
              "      <td>4</td>\n",
              "      <td>3</td>\n",
              "      <td>4</td>\n",
              "      <td>2</td>\n",
              "    </tr>\n",
              "    <tr>\n",
              "      <th>8107</th>\n",
              "      <td>5</td>\n",
              "      <td>2</td>\n",
              "      <td>4</td>\n",
              "      <td>0</td>\n",
              "      <td>5</td>\n",
              "      <td>0</td>\n",
              "      <td>0</td>\n",
              "      <td>0</td>\n",
              "      <td>11</td>\n",
              "      <td>0</td>\n",
              "      <td>0</td>\n",
              "      <td>2</td>\n",
              "      <td>2</td>\n",
              "      <td>5</td>\n",
              "      <td>5</td>\n",
              "      <td>0</td>\n",
              "      <td>1</td>\n",
              "      <td>1</td>\n",
              "      <td>4</td>\n",
              "      <td>3</td>\n",
              "      <td>1</td>\n",
              "      <td>2</td>\n",
              "    </tr>\n",
              "    <tr>\n",
              "      <th>8108</th>\n",
              "      <td>3</td>\n",
              "      <td>3</td>\n",
              "      <td>2</td>\n",
              "      <td>0</td>\n",
              "      <td>8</td>\n",
              "      <td>1</td>\n",
              "      <td>0</td>\n",
              "      <td>1</td>\n",
              "      <td>0</td>\n",
              "      <td>1</td>\n",
              "      <td>0</td>\n",
              "      <td>1</td>\n",
              "      <td>2</td>\n",
              "      <td>6</td>\n",
              "      <td>7</td>\n",
              "      <td>0</td>\n",
              "      <td>2</td>\n",
              "      <td>1</td>\n",
              "      <td>0</td>\n",
              "      <td>7</td>\n",
              "      <td>4</td>\n",
              "      <td>2</td>\n",
              "    </tr>\n",
              "    <tr>\n",
              "      <th>8109</th>\n",
              "      <td>0</td>\n",
              "      <td>2</td>\n",
              "      <td>8</td>\n",
              "      <td>0</td>\n",
              "      <td>5</td>\n",
              "      <td>1</td>\n",
              "      <td>1</td>\n",
              "      <td>0</td>\n",
              "      <td>10</td>\n",
              "      <td>0</td>\n",
              "      <td>0</td>\n",
              "      <td>2</td>\n",
              "      <td>2</td>\n",
              "      <td>7</td>\n",
              "      <td>7</td>\n",
              "      <td>0</td>\n",
              "      <td>2</td>\n",
              "      <td>2</td>\n",
              "      <td>4</td>\n",
              "      <td>7</td>\n",
              "      <td>2</td>\n",
              "      <td>1</td>\n",
              "    </tr>\n",
              "    <tr>\n",
              "      <th>8110</th>\n",
              "      <td>5</td>\n",
              "      <td>2</td>\n",
              "      <td>4</td>\n",
              "      <td>0</td>\n",
              "      <td>5</td>\n",
              "      <td>0</td>\n",
              "      <td>0</td>\n",
              "      <td>0</td>\n",
              "      <td>6</td>\n",
              "      <td>0</td>\n",
              "      <td>0</td>\n",
              "      <td>2</td>\n",
              "      <td>2</td>\n",
              "      <td>5</td>\n",
              "      <td>5</td>\n",
              "      <td>0</td>\n",
              "      <td>1</td>\n",
              "      <td>1</td>\n",
              "      <td>4</td>\n",
              "      <td>3</td>\n",
              "      <td>4</td>\n",
              "      <td>2</td>\n",
              "    </tr>\n",
              "    <tr>\n",
              "      <th>8111</th>\n",
              "      <td>3</td>\n",
              "      <td>2</td>\n",
              "      <td>8</td>\n",
              "      <td>0</td>\n",
              "      <td>5</td>\n",
              "      <td>1</td>\n",
              "      <td>1</td>\n",
              "      <td>0</td>\n",
              "      <td>7</td>\n",
              "      <td>0</td>\n",
              "      <td>0</td>\n",
              "      <td>2</td>\n",
              "      <td>2</td>\n",
              "      <td>7</td>\n",
              "      <td>7</td>\n",
              "      <td>0</td>\n",
              "      <td>2</td>\n",
              "      <td>2</td>\n",
              "      <td>4</td>\n",
              "      <td>7</td>\n",
              "      <td>2</td>\n",
              "      <td>1</td>\n",
              "    </tr>\n",
              "    <tr>\n",
              "      <th>8112</th>\n",
              "      <td>3</td>\n",
              "      <td>2</td>\n",
              "      <td>4</td>\n",
              "      <td>0</td>\n",
              "      <td>5</td>\n",
              "      <td>0</td>\n",
              "      <td>0</td>\n",
              "      <td>0</td>\n",
              "      <td>6</td>\n",
              "      <td>0</td>\n",
              "      <td>0</td>\n",
              "      <td>2</td>\n",
              "      <td>2</td>\n",
              "      <td>5</td>\n",
              "      <td>5</td>\n",
              "      <td>0</td>\n",
              "      <td>0</td>\n",
              "      <td>1</td>\n",
              "      <td>4</td>\n",
              "      <td>0</td>\n",
              "      <td>4</td>\n",
              "      <td>2</td>\n",
              "    </tr>\n",
              "    <tr>\n",
              "      <th>8113</th>\n",
              "      <td>3</td>\n",
              "      <td>3</td>\n",
              "      <td>2</td>\n",
              "      <td>0</td>\n",
              "      <td>8</td>\n",
              "      <td>1</td>\n",
              "      <td>0</td>\n",
              "      <td>1</td>\n",
              "      <td>0</td>\n",
              "      <td>1</td>\n",
              "      <td>0</td>\n",
              "      <td>1</td>\n",
              "      <td>1</td>\n",
              "      <td>6</td>\n",
              "      <td>6</td>\n",
              "      <td>0</td>\n",
              "      <td>2</td>\n",
              "      <td>1</td>\n",
              "      <td>0</td>\n",
              "      <td>7</td>\n",
              "      <td>4</td>\n",
              "      <td>0</td>\n",
              "    </tr>\n",
              "    <tr>\n",
              "      <th>8114</th>\n",
              "      <td>2</td>\n",
              "      <td>3</td>\n",
              "      <td>1</td>\n",
              "      <td>0</td>\n",
              "      <td>4</td>\n",
              "      <td>0</td>\n",
              "      <td>0</td>\n",
              "      <td>0</td>\n",
              "      <td>11</td>\n",
              "      <td>0</td>\n",
              "      <td>2</td>\n",
              "      <td>1</td>\n",
              "      <td>3</td>\n",
              "      <td>1</td>\n",
              "      <td>1</td>\n",
              "      <td>0</td>\n",
              "      <td>2</td>\n",
              "      <td>0</td>\n",
              "      <td>3</td>\n",
              "      <td>7</td>\n",
              "      <td>1</td>\n",
              "      <td>0</td>\n",
              "    </tr>\n",
              "    <tr>\n",
              "      <th>8115</th>\n",
              "      <td>5</td>\n",
              "      <td>2</td>\n",
              "      <td>4</td>\n",
              "      <td>0</td>\n",
              "      <td>5</td>\n",
              "      <td>0</td>\n",
              "      <td>0</td>\n",
              "      <td>0</td>\n",
              "      <td>11</td>\n",
              "      <td>0</td>\n",
              "      <td>0</td>\n",
              "      <td>2</td>\n",
              "      <td>2</td>\n",
              "      <td>5</td>\n",
              "      <td>5</td>\n",
              "      <td>0</td>\n",
              "      <td>1</td>\n",
              "      <td>1</td>\n",
              "      <td>4</td>\n",
              "      <td>4</td>\n",
              "      <td>4</td>\n",
              "      <td>2</td>\n",
              "    </tr>\n",
              "    <tr>\n",
              "      <th>8116</th>\n",
              "      <td>3</td>\n",
              "      <td>3</td>\n",
              "      <td>4</td>\n",
              "      <td>0</td>\n",
              "      <td>7</td>\n",
              "      <td>1</td>\n",
              "      <td>0</td>\n",
              "      <td>1</td>\n",
              "      <td>0</td>\n",
              "      <td>1</td>\n",
              "      <td>0</td>\n",
              "      <td>2</td>\n",
              "      <td>1</td>\n",
              "      <td>6</td>\n",
              "      <td>7</td>\n",
              "      <td>0</td>\n",
              "      <td>2</td>\n",
              "      <td>1</td>\n",
              "      <td>0</td>\n",
              "      <td>7</td>\n",
              "      <td>4</td>\n",
              "      <td>2</td>\n",
              "    </tr>\n",
              "    <tr>\n",
              "      <th>8117</th>\n",
              "      <td>3</td>\n",
              "      <td>2</td>\n",
              "      <td>2</td>\n",
              "      <td>0</td>\n",
              "      <td>8</td>\n",
              "      <td>1</td>\n",
              "      <td>0</td>\n",
              "      <td>1</td>\n",
              "      <td>0</td>\n",
              "      <td>1</td>\n",
              "      <td>0</td>\n",
              "      <td>1</td>\n",
              "      <td>2</td>\n",
              "      <td>6</td>\n",
              "      <td>7</td>\n",
              "      <td>0</td>\n",
              "      <td>2</td>\n",
              "      <td>1</td>\n",
              "      <td>0</td>\n",
              "      <td>7</td>\n",
              "      <td>4</td>\n",
              "      <td>0</td>\n",
              "    </tr>\n",
              "    <tr>\n",
              "      <th>8118</th>\n",
              "      <td>3</td>\n",
              "      <td>3</td>\n",
              "      <td>4</td>\n",
              "      <td>0</td>\n",
              "      <td>2</td>\n",
              "      <td>1</td>\n",
              "      <td>0</td>\n",
              "      <td>1</td>\n",
              "      <td>0</td>\n",
              "      <td>1</td>\n",
              "      <td>0</td>\n",
              "      <td>1</td>\n",
              "      <td>2</td>\n",
              "      <td>6</td>\n",
              "      <td>7</td>\n",
              "      <td>0</td>\n",
              "      <td>2</td>\n",
              "      <td>1</td>\n",
              "      <td>0</td>\n",
              "      <td>7</td>\n",
              "      <td>4</td>\n",
              "      <td>0</td>\n",
              "    </tr>\n",
              "    <tr>\n",
              "      <th>8119</th>\n",
              "      <td>3</td>\n",
              "      <td>2</td>\n",
              "      <td>4</td>\n",
              "      <td>0</td>\n",
              "      <td>5</td>\n",
              "      <td>0</td>\n",
              "      <td>0</td>\n",
              "      <td>0</td>\n",
              "      <td>11</td>\n",
              "      <td>0</td>\n",
              "      <td>0</td>\n",
              "      <td>2</td>\n",
              "      <td>2</td>\n",
              "      <td>5</td>\n",
              "      <td>5</td>\n",
              "      <td>0</td>\n",
              "      <td>1</td>\n",
              "      <td>1</td>\n",
              "      <td>4</td>\n",
              "      <td>0</td>\n",
              "      <td>1</td>\n",
              "      <td>2</td>\n",
              "    </tr>\n",
              "    <tr>\n",
              "      <th>8120</th>\n",
              "      <td>5</td>\n",
              "      <td>2</td>\n",
              "      <td>4</td>\n",
              "      <td>0</td>\n",
              "      <td>5</td>\n",
              "      <td>0</td>\n",
              "      <td>0</td>\n",
              "      <td>0</td>\n",
              "      <td>11</td>\n",
              "      <td>0</td>\n",
              "      <td>0</td>\n",
              "      <td>2</td>\n",
              "      <td>2</td>\n",
              "      <td>5</td>\n",
              "      <td>5</td>\n",
              "      <td>0</td>\n",
              "      <td>0</td>\n",
              "      <td>1</td>\n",
              "      <td>4</td>\n",
              "      <td>0</td>\n",
              "      <td>4</td>\n",
              "      <td>2</td>\n",
              "    </tr>\n",
              "    <tr>\n",
              "      <th>8121</th>\n",
              "      <td>2</td>\n",
              "      <td>2</td>\n",
              "      <td>4</td>\n",
              "      <td>0</td>\n",
              "      <td>5</td>\n",
              "      <td>0</td>\n",
              "      <td>0</td>\n",
              "      <td>0</td>\n",
              "      <td>5</td>\n",
              "      <td>0</td>\n",
              "      <td>0</td>\n",
              "      <td>2</td>\n",
              "      <td>2</td>\n",
              "      <td>5</td>\n",
              "      <td>5</td>\n",
              "      <td>0</td>\n",
              "      <td>1</td>\n",
              "      <td>1</td>\n",
              "      <td>4</td>\n",
              "      <td>0</td>\n",
              "      <td>1</td>\n",
              "      <td>2</td>\n",
              "    </tr>\n",
              "    <tr>\n",
              "      <th>8122</th>\n",
              "      <td>3</td>\n",
              "      <td>3</td>\n",
              "      <td>4</td>\n",
              "      <td>0</td>\n",
              "      <td>8</td>\n",
              "      <td>1</td>\n",
              "      <td>0</td>\n",
              "      <td>1</td>\n",
              "      <td>0</td>\n",
              "      <td>1</td>\n",
              "      <td>0</td>\n",
              "      <td>2</td>\n",
              "      <td>1</td>\n",
              "      <td>7</td>\n",
              "      <td>7</td>\n",
              "      <td>0</td>\n",
              "      <td>2</td>\n",
              "      <td>1</td>\n",
              "      <td>0</td>\n",
              "      <td>7</td>\n",
              "      <td>4</td>\n",
              "      <td>2</td>\n",
              "    </tr>\n",
              "    <tr>\n",
              "      <th>8123</th>\n",
              "      <td>5</td>\n",
              "      <td>2</td>\n",
              "      <td>4</td>\n",
              "      <td>0</td>\n",
              "      <td>5</td>\n",
              "      <td>0</td>\n",
              "      <td>0</td>\n",
              "      <td>0</td>\n",
              "      <td>11</td>\n",
              "      <td>0</td>\n",
              "      <td>0</td>\n",
              "      <td>2</td>\n",
              "      <td>2</td>\n",
              "      <td>5</td>\n",
              "      <td>5</td>\n",
              "      <td>0</td>\n",
              "      <td>1</td>\n",
              "      <td>1</td>\n",
              "      <td>4</td>\n",
              "      <td>4</td>\n",
              "      <td>1</td>\n",
              "      <td>2</td>\n",
              "    </tr>\n",
              "  </tbody>\n",
              "</table>\n",
              "<p>8124 rows × 22 columns</p>\n",
              "</div>"
            ],
            "text/plain": [
              "      altered_label_cap_shape  ...  altered_labels_habitat\n",
              "0                           5  ...                       5\n",
              "1                           5  ...                       1\n",
              "2                           0  ...                       3\n",
              "3                           5  ...                       5\n",
              "4                           5  ...                       1\n",
              "5                           5  ...                       1\n",
              "6                           0  ...                       3\n",
              "7                           0  ...                       3\n",
              "8                           5  ...                       1\n",
              "9                           0  ...                       3\n",
              "10                          5  ...                       1\n",
              "11                          5  ...                       3\n",
              "12                          0  ...                       1\n",
              "13                          5  ...                       5\n",
              "14                          5  ...                       1\n",
              "15                          4  ...                       5\n",
              "16                          2  ...                       1\n",
              "17                          5  ...                       1\n",
              "18                          5  ...                       5\n",
              "19                          5  ...                       5\n",
              "20                          0  ...                       3\n",
              "21                          5  ...                       1\n",
              "22                          0  ...                       3\n",
              "23                          0  ...                       3\n",
              "24                          0  ...                       3\n",
              "25                          2  ...                       1\n",
              "26                          5  ...                       3\n",
              "27                          5  ...                       3\n",
              "28                          2  ...                       5\n",
              "29                          5  ...                       0\n",
              "...                       ...  ...                     ...\n",
              "8094                        0  ...                       1\n",
              "8095                        5  ...                       0\n",
              "8096                        3  ...                       1\n",
              "8097                        3  ...                       2\n",
              "8098                        3  ...                       0\n",
              "8099                        3  ...                       1\n",
              "8100                        2  ...                       2\n",
              "8101                        3  ...                       4\n",
              "8102                        5  ...                       2\n",
              "8103                        3  ...                       2\n",
              "8104                        3  ...                       2\n",
              "8105                        3  ...                       2\n",
              "8106                        3  ...                       2\n",
              "8107                        5  ...                       2\n",
              "8108                        3  ...                       2\n",
              "8109                        0  ...                       1\n",
              "8110                        5  ...                       2\n",
              "8111                        3  ...                       1\n",
              "8112                        3  ...                       2\n",
              "8113                        3  ...                       0\n",
              "8114                        2  ...                       0\n",
              "8115                        5  ...                       2\n",
              "8116                        3  ...                       2\n",
              "8117                        3  ...                       0\n",
              "8118                        3  ...                       0\n",
              "8119                        3  ...                       2\n",
              "8120                        5  ...                       2\n",
              "8121                        2  ...                       2\n",
              "8122                        3  ...                       2\n",
              "8123                        5  ...                       2\n",
              "\n",
              "[8124 rows x 22 columns]"
            ]
          },
          "metadata": {
            "tags": []
          },
          "execution_count": 91
        }
      ]
    },
    {
      "cell_type": "code",
      "metadata": {
        "id": "DRr6OAxS4-qN",
        "colab_type": "code",
        "colab": {}
      },
      "source": [
        "target = df['altered_label_class']\n",
        "#edible = 0, poisonous =1"
      ],
      "execution_count": 0,
      "outputs": []
    },
    {
      "cell_type": "code",
      "metadata": {
        "id": "vWQeh81a5QBv",
        "colab_type": "code",
        "colab": {}
      },
      "source": [
        "from sklearn.model_selection import train_test_split"
      ],
      "execution_count": 0,
      "outputs": []
    },
    {
      "cell_type": "code",
      "metadata": {
        "id": "dxyclj935T4K",
        "colab_type": "code",
        "colab": {}
      },
      "source": [
        "#data split\n",
        "X_train, X_test, y_train, y_test = train_test_split(data, target, test_size=0.3, random_state=0)"
      ],
      "execution_count": 0,
      "outputs": []
    },
    {
      "cell_type": "code",
      "metadata": {
        "id": "t9J1cccl5Wgr",
        "colab_type": "code",
        "colab": {}
      },
      "source": [
        "from sklearn.neighbors import KNeighborsClassifier"
      ],
      "execution_count": 0,
      "outputs": []
    },
    {
      "cell_type": "code",
      "metadata": {
        "id": "IIbNJCmi5YLg",
        "colab_type": "code",
        "colab": {}
      },
      "source": [
        "#모델 만들기\n",
        "model = KNeighborsClassifier(n_neighbors=3).fit(X_train, y_train)"
      ],
      "execution_count": 0,
      "outputs": []
    },
    {
      "cell_type": "code",
      "metadata": {
        "id": "Qha5azyx5cXq",
        "colab_type": "code",
        "colab": {
          "base_uri": "https://localhost:8080/",
          "height": 33
        },
        "outputId": "46228e62-426c-4d20-ed20-7595e489c5b1"
      },
      "source": [
        "#예측하기\n",
        "pred = model.predict(X_test)\n",
        "pred"
      ],
      "execution_count": 97,
      "outputs": [
        {
          "output_type": "execute_result",
          "data": {
            "text/plain": [
              "array([1, 0, 0, ..., 1, 1, 1])"
            ]
          },
          "metadata": {
            "tags": []
          },
          "execution_count": 97
        }
      ]
    },
    {
      "cell_type": "code",
      "metadata": {
        "id": "DG0Pn1oV5eAU",
        "colab_type": "code",
        "colab": {
          "base_uri": "https://localhost:8080/",
          "height": 33
        },
        "outputId": "17ae3629-a1a5-4a8a-d5ca-d71f208c7e31"
      },
      "source": [
        "#얼마나 맞추었나 accuracy 추측하기\n",
        "(pred == y_test).sum()/len(pred)"
      ],
      "execution_count": 98,
      "outputs": [
        {
          "output_type": "execute_result",
          "data": {
            "text/plain": [
              "0.9991796554552912"
            ]
          },
          "metadata": {
            "tags": []
          },
          "execution_count": 98
        }
      ]
    },
    {
      "cell_type": "code",
      "metadata": {
        "id": "Xtvw8Mt25g6k",
        "colab_type": "code",
        "colab": {
          "base_uri": "https://localhost:8080/",
          "height": 1000
        },
        "outputId": "19fcd49e-f3d8-4ecb-9366-6fa9365a08bc"
      },
      "source": [
        "df = pd.DataFrame({'y_test': y_test, 'prediction': pred})\n",
        "df"
      ],
      "execution_count": 99,
      "outputs": [
        {
          "output_type": "execute_result",
          "data": {
            "text/html": [
              "<div>\n",
              "<style scoped>\n",
              "    .dataframe tbody tr th:only-of-type {\n",
              "        vertical-align: middle;\n",
              "    }\n",
              "\n",
              "    .dataframe tbody tr th {\n",
              "        vertical-align: top;\n",
              "    }\n",
              "\n",
              "    .dataframe thead th {\n",
              "        text-align: right;\n",
              "    }\n",
              "</style>\n",
              "<table border=\"1\" class=\"dataframe\">\n",
              "  <thead>\n",
              "    <tr style=\"text-align: right;\">\n",
              "      <th></th>\n",
              "      <th>y_test</th>\n",
              "      <th>prediction</th>\n",
              "    </tr>\n",
              "  </thead>\n",
              "  <tbody>\n",
              "    <tr>\n",
              "      <th>380</th>\n",
              "      <td>1</td>\n",
              "      <td>1</td>\n",
              "    </tr>\n",
              "    <tr>\n",
              "      <th>3641</th>\n",
              "      <td>0</td>\n",
              "      <td>0</td>\n",
              "    </tr>\n",
              "    <tr>\n",
              "      <th>273</th>\n",
              "      <td>0</td>\n",
              "      <td>0</td>\n",
              "    </tr>\n",
              "    <tr>\n",
              "      <th>1029</th>\n",
              "      <td>0</td>\n",
              "      <td>0</td>\n",
              "    </tr>\n",
              "    <tr>\n",
              "      <th>684</th>\n",
              "      <td>0</td>\n",
              "      <td>0</td>\n",
              "    </tr>\n",
              "    <tr>\n",
              "      <th>2899</th>\n",
              "      <td>0</td>\n",
              "      <td>0</td>\n",
              "    </tr>\n",
              "    <tr>\n",
              "      <th>1568</th>\n",
              "      <td>1</td>\n",
              "      <td>1</td>\n",
              "    </tr>\n",
              "    <tr>\n",
              "      <th>6126</th>\n",
              "      <td>1</td>\n",
              "      <td>1</td>\n",
              "    </tr>\n",
              "    <tr>\n",
              "      <th>2267</th>\n",
              "      <td>0</td>\n",
              "      <td>0</td>\n",
              "    </tr>\n",
              "    <tr>\n",
              "      <th>4030</th>\n",
              "      <td>1</td>\n",
              "      <td>1</td>\n",
              "    </tr>\n",
              "    <tr>\n",
              "      <th>5481</th>\n",
              "      <td>0</td>\n",
              "      <td>0</td>\n",
              "    </tr>\n",
              "    <tr>\n",
              "      <th>5010</th>\n",
              "      <td>0</td>\n",
              "      <td>0</td>\n",
              "    </tr>\n",
              "    <tr>\n",
              "      <th>1140</th>\n",
              "      <td>0</td>\n",
              "      <td>0</td>\n",
              "    </tr>\n",
              "    <tr>\n",
              "      <th>49</th>\n",
              "      <td>0</td>\n",
              "      <td>0</td>\n",
              "    </tr>\n",
              "    <tr>\n",
              "      <th>888</th>\n",
              "      <td>0</td>\n",
              "      <td>0</td>\n",
              "    </tr>\n",
              "    <tr>\n",
              "      <th>4816</th>\n",
              "      <td>1</td>\n",
              "      <td>1</td>\n",
              "    </tr>\n",
              "    <tr>\n",
              "      <th>2676</th>\n",
              "      <td>0</td>\n",
              "      <td>0</td>\n",
              "    </tr>\n",
              "    <tr>\n",
              "      <th>1916</th>\n",
              "      <td>1</td>\n",
              "      <td>1</td>\n",
              "    </tr>\n",
              "    <tr>\n",
              "      <th>1454</th>\n",
              "      <td>0</td>\n",
              "      <td>0</td>\n",
              "    </tr>\n",
              "    <tr>\n",
              "      <th>2030</th>\n",
              "      <td>0</td>\n",
              "      <td>0</td>\n",
              "    </tr>\n",
              "    <tr>\n",
              "      <th>3443</th>\n",
              "      <td>1</td>\n",
              "      <td>1</td>\n",
              "    </tr>\n",
              "    <tr>\n",
              "      <th>3608</th>\n",
              "      <td>1</td>\n",
              "      <td>1</td>\n",
              "    </tr>\n",
              "    <tr>\n",
              "      <th>5870</th>\n",
              "      <td>1</td>\n",
              "      <td>1</td>\n",
              "    </tr>\n",
              "    <tr>\n",
              "      <th>7145</th>\n",
              "      <td>1</td>\n",
              "      <td>1</td>\n",
              "    </tr>\n",
              "    <tr>\n",
              "      <th>4978</th>\n",
              "      <td>1</td>\n",
              "      <td>1</td>\n",
              "    </tr>\n",
              "    <tr>\n",
              "      <th>4136</th>\n",
              "      <td>1</td>\n",
              "      <td>1</td>\n",
              "    </tr>\n",
              "    <tr>\n",
              "      <th>1103</th>\n",
              "      <td>1</td>\n",
              "      <td>1</td>\n",
              "    </tr>\n",
              "    <tr>\n",
              "      <th>7946</th>\n",
              "      <td>0</td>\n",
              "      <td>0</td>\n",
              "    </tr>\n",
              "    <tr>\n",
              "      <th>2164</th>\n",
              "      <td>0</td>\n",
              "      <td>0</td>\n",
              "    </tr>\n",
              "    <tr>\n",
              "      <th>5129</th>\n",
              "      <td>1</td>\n",
              "      <td>1</td>\n",
              "    </tr>\n",
              "    <tr>\n",
              "      <th>...</th>\n",
              "      <td>...</td>\n",
              "      <td>...</td>\n",
              "    </tr>\n",
              "    <tr>\n",
              "      <th>5790</th>\n",
              "      <td>1</td>\n",
              "      <td>1</td>\n",
              "    </tr>\n",
              "    <tr>\n",
              "      <th>7608</th>\n",
              "      <td>1</td>\n",
              "      <td>1</td>\n",
              "    </tr>\n",
              "    <tr>\n",
              "      <th>238</th>\n",
              "      <td>0</td>\n",
              "      <td>0</td>\n",
              "    </tr>\n",
              "    <tr>\n",
              "      <th>1524</th>\n",
              "      <td>0</td>\n",
              "      <td>0</td>\n",
              "    </tr>\n",
              "    <tr>\n",
              "      <th>4788</th>\n",
              "      <td>0</td>\n",
              "      <td>0</td>\n",
              "    </tr>\n",
              "    <tr>\n",
              "      <th>2165</th>\n",
              "      <td>0</td>\n",
              "      <td>0</td>\n",
              "    </tr>\n",
              "    <tr>\n",
              "      <th>4218</th>\n",
              "      <td>1</td>\n",
              "      <td>1</td>\n",
              "    </tr>\n",
              "    <tr>\n",
              "      <th>4285</th>\n",
              "      <td>1</td>\n",
              "      <td>1</td>\n",
              "    </tr>\n",
              "    <tr>\n",
              "      <th>1828</th>\n",
              "      <td>0</td>\n",
              "      <td>0</td>\n",
              "    </tr>\n",
              "    <tr>\n",
              "      <th>2643</th>\n",
              "      <td>0</td>\n",
              "      <td>0</td>\n",
              "    </tr>\n",
              "    <tr>\n",
              "      <th>7652</th>\n",
              "      <td>0</td>\n",
              "      <td>0</td>\n",
              "    </tr>\n",
              "    <tr>\n",
              "      <th>7625</th>\n",
              "      <td>1</td>\n",
              "      <td>1</td>\n",
              "    </tr>\n",
              "    <tr>\n",
              "      <th>6925</th>\n",
              "      <td>1</td>\n",
              "      <td>1</td>\n",
              "    </tr>\n",
              "    <tr>\n",
              "      <th>17</th>\n",
              "      <td>1</td>\n",
              "      <td>1</td>\n",
              "    </tr>\n",
              "    <tr>\n",
              "      <th>7494</th>\n",
              "      <td>1</td>\n",
              "      <td>1</td>\n",
              "    </tr>\n",
              "    <tr>\n",
              "      <th>5560</th>\n",
              "      <td>1</td>\n",
              "      <td>1</td>\n",
              "    </tr>\n",
              "    <tr>\n",
              "      <th>3432</th>\n",
              "      <td>1</td>\n",
              "      <td>1</td>\n",
              "    </tr>\n",
              "    <tr>\n",
              "      <th>5281</th>\n",
              "      <td>1</td>\n",
              "      <td>1</td>\n",
              "    </tr>\n",
              "    <tr>\n",
              "      <th>2872</th>\n",
              "      <td>0</td>\n",
              "      <td>0</td>\n",
              "    </tr>\n",
              "    <tr>\n",
              "      <th>2368</th>\n",
              "      <td>0</td>\n",
              "      <td>0</td>\n",
              "    </tr>\n",
              "    <tr>\n",
              "      <th>965</th>\n",
              "      <td>0</td>\n",
              "      <td>0</td>\n",
              "    </tr>\n",
              "    <tr>\n",
              "      <th>172</th>\n",
              "      <td>0</td>\n",
              "      <td>0</td>\n",
              "    </tr>\n",
              "    <tr>\n",
              "      <th>1428</th>\n",
              "      <td>0</td>\n",
              "      <td>0</td>\n",
              "    </tr>\n",
              "    <tr>\n",
              "      <th>483</th>\n",
              "      <td>0</td>\n",
              "      <td>0</td>\n",
              "    </tr>\n",
              "    <tr>\n",
              "      <th>5221</th>\n",
              "      <td>0</td>\n",
              "      <td>0</td>\n",
              "    </tr>\n",
              "    <tr>\n",
              "      <th>520</th>\n",
              "      <td>0</td>\n",
              "      <td>0</td>\n",
              "    </tr>\n",
              "    <tr>\n",
              "      <th>36</th>\n",
              "      <td>0</td>\n",
              "      <td>0</td>\n",
              "    </tr>\n",
              "    <tr>\n",
              "      <th>7959</th>\n",
              "      <td>1</td>\n",
              "      <td>1</td>\n",
              "    </tr>\n",
              "    <tr>\n",
              "      <th>6520</th>\n",
              "      <td>1</td>\n",
              "      <td>1</td>\n",
              "    </tr>\n",
              "    <tr>\n",
              "      <th>6005</th>\n",
              "      <td>1</td>\n",
              "      <td>1</td>\n",
              "    </tr>\n",
              "  </tbody>\n",
              "</table>\n",
              "<p>2438 rows × 2 columns</p>\n",
              "</div>"
            ],
            "text/plain": [
              "      y_test  prediction\n",
              "380        1           1\n",
              "3641       0           0\n",
              "273        0           0\n",
              "1029       0           0\n",
              "684        0           0\n",
              "2899       0           0\n",
              "1568       1           1\n",
              "6126       1           1\n",
              "2267       0           0\n",
              "4030       1           1\n",
              "5481       0           0\n",
              "5010       0           0\n",
              "1140       0           0\n",
              "49         0           0\n",
              "888        0           0\n",
              "4816       1           1\n",
              "2676       0           0\n",
              "1916       1           1\n",
              "1454       0           0\n",
              "2030       0           0\n",
              "3443       1           1\n",
              "3608       1           1\n",
              "5870       1           1\n",
              "7145       1           1\n",
              "4978       1           1\n",
              "4136       1           1\n",
              "1103       1           1\n",
              "7946       0           0\n",
              "2164       0           0\n",
              "5129       1           1\n",
              "...      ...         ...\n",
              "5790       1           1\n",
              "7608       1           1\n",
              "238        0           0\n",
              "1524       0           0\n",
              "4788       0           0\n",
              "2165       0           0\n",
              "4218       1           1\n",
              "4285       1           1\n",
              "1828       0           0\n",
              "2643       0           0\n",
              "7652       0           0\n",
              "7625       1           1\n",
              "6925       1           1\n",
              "17         1           1\n",
              "7494       1           1\n",
              "5560       1           1\n",
              "3432       1           1\n",
              "5281       1           1\n",
              "2872       0           0\n",
              "2368       0           0\n",
              "965        0           0\n",
              "172        0           0\n",
              "1428       0           0\n",
              "483        0           0\n",
              "5221       0           0\n",
              "520        0           0\n",
              "36         0           0\n",
              "7959       1           1\n",
              "6520       1           1\n",
              "6005       1           1\n",
              "\n",
              "[2438 rows x 2 columns]"
            ]
          },
          "metadata": {
            "tags": []
          },
          "execution_count": 99
        }
      ]
    },
    {
      "cell_type": "code",
      "metadata": {
        "id": "ObzM_bY85i47",
        "colab_type": "code",
        "colab": {
          "base_uri": "https://localhost:8080/",
          "height": 50
        },
        "outputId": "ed210c9e-cd0c-4351-a23d-cb1543f210bb"
      },
      "source": [
        "acc_tr = model.score(X_train, y_train)\n",
        "acc_test = model.score(X_test, y_test)\n",
        "print('훈련 셋의 정확도 : {:.2f}'.format(acc_tr))\n",
        "print('테스트 셋의 정확도 : {:.2f}'.format(acc_test))"
      ],
      "execution_count": 101,
      "outputs": [
        {
          "output_type": "stream",
          "text": [
            "훈련 셋의 정확도 : 1.00\n",
            "테스트 셋의 정확도 : 1.00\n"
          ],
          "name": "stdout"
        }
      ]
    },
    {
      "cell_type": "code",
      "metadata": {
        "id": "hOjmzPIA5oJf",
        "colab_type": "code",
        "colab": {
          "base_uri": "https://localhost:8080/",
          "height": 850
        },
        "outputId": "66a8081f-e939-4077-d5e5-fdcecbfacfc2"
      },
      "source": [
        "# for문을 돌려보쟈\n",
        "\n",
        "training_accuracy = []\n",
        "test_accuracy = []\n",
        "k_num = range(1,51)\n",
        "\n",
        "for n in k_num:\n",
        "    model = KNeighborsClassifier(n_neighbors=n)\n",
        "    model.fit(X_train, y_train)\n",
        "    \n",
        "    acc_tr = model.score(X_train, y_train)\n",
        "    acc_test = model.score(X_test, y_test)\n",
        "    \n",
        "    training_accuracy.append(acc_tr)\n",
        "    test_accuracy.append(acc_test)\n",
        "    \n",
        "    print(\"K: {}, tr_acc : {:.2f}, test_acc : {:.2f}\".format(n, acc_tr, acc_test))\n"
      ],
      "execution_count": 102,
      "outputs": [
        {
          "output_type": "stream",
          "text": [
            "K: 1, tr_acc : 1.00, test_acc : 1.00\n",
            "K: 2, tr_acc : 1.00, test_acc : 1.00\n",
            "K: 3, tr_acc : 1.00, test_acc : 1.00\n",
            "K: 4, tr_acc : 1.00, test_acc : 1.00\n",
            "K: 5, tr_acc : 1.00, test_acc : 1.00\n",
            "K: 6, tr_acc : 1.00, test_acc : 1.00\n",
            "K: 7, tr_acc : 1.00, test_acc : 1.00\n",
            "K: 8, tr_acc : 1.00, test_acc : 1.00\n",
            "K: 9, tr_acc : 1.00, test_acc : 1.00\n",
            "K: 10, tr_acc : 1.00, test_acc : 1.00\n",
            "K: 11, tr_acc : 1.00, test_acc : 1.00\n",
            "K: 12, tr_acc : 1.00, test_acc : 0.99\n",
            "K: 13, tr_acc : 1.00, test_acc : 0.99\n",
            "K: 14, tr_acc : 0.99, test_acc : 0.99\n",
            "K: 15, tr_acc : 0.99, test_acc : 0.99\n",
            "K: 16, tr_acc : 0.99, test_acc : 0.99\n",
            "K: 17, tr_acc : 0.99, test_acc : 0.99\n",
            "K: 18, tr_acc : 0.99, test_acc : 0.99\n",
            "K: 19, tr_acc : 0.99, test_acc : 0.99\n",
            "K: 20, tr_acc : 0.99, test_acc : 0.99\n",
            "K: 21, tr_acc : 0.99, test_acc : 0.99\n",
            "K: 22, tr_acc : 0.99, test_acc : 0.99\n",
            "K: 23, tr_acc : 0.99, test_acc : 0.99\n",
            "K: 24, tr_acc : 0.99, test_acc : 0.99\n",
            "K: 25, tr_acc : 0.99, test_acc : 0.99\n",
            "K: 26, tr_acc : 0.99, test_acc : 0.98\n",
            "K: 27, tr_acc : 0.99, test_acc : 0.98\n",
            "K: 28, tr_acc : 0.99, test_acc : 0.98\n",
            "K: 29, tr_acc : 0.99, test_acc : 0.98\n",
            "K: 30, tr_acc : 0.99, test_acc : 0.98\n",
            "K: 31, tr_acc : 0.99, test_acc : 0.98\n",
            "K: 32, tr_acc : 0.98, test_acc : 0.98\n",
            "K: 33, tr_acc : 0.98, test_acc : 0.98\n",
            "K: 34, tr_acc : 0.98, test_acc : 0.98\n",
            "K: 35, tr_acc : 0.98, test_acc : 0.98\n",
            "K: 36, tr_acc : 0.98, test_acc : 0.98\n",
            "K: 37, tr_acc : 0.98, test_acc : 0.98\n",
            "K: 38, tr_acc : 0.98, test_acc : 0.98\n",
            "K: 39, tr_acc : 0.98, test_acc : 0.98\n",
            "K: 40, tr_acc : 0.98, test_acc : 0.98\n",
            "K: 41, tr_acc : 0.98, test_acc : 0.98\n",
            "K: 42, tr_acc : 0.98, test_acc : 0.98\n",
            "K: 43, tr_acc : 0.98, test_acc : 0.98\n",
            "K: 44, tr_acc : 0.98, test_acc : 0.97\n",
            "K: 45, tr_acc : 0.98, test_acc : 0.98\n",
            "K: 46, tr_acc : 0.98, test_acc : 0.97\n",
            "K: 47, tr_acc : 0.98, test_acc : 0.97\n",
            "K: 48, tr_acc : 0.98, test_acc : 0.97\n",
            "K: 49, tr_acc : 0.98, test_acc : 0.97\n",
            "K: 50, tr_acc : 0.98, test_acc : 0.97\n"
          ],
          "name": "stdout"
        }
      ]
    },
    {
      "cell_type": "code",
      "metadata": {
        "id": "fwl1Jis05qy2",
        "colab_type": "code",
        "colab": {}
      },
      "source": [
        "#이 무슨 K값 커질수록 잘 못맞추네......이게 뭐야..... (testsize = 0.1일 때)"
      ],
      "execution_count": 0,
      "outputs": []
    }
  ]
}