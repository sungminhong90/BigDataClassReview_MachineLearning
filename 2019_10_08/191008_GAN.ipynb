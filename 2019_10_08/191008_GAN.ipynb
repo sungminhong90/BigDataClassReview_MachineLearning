{
  "nbformat": 4,
  "nbformat_minor": 0,
  "metadata": {
    "colab": {
      "name": "191008_GAN.ipynb",
      "provenance": []
    },
    "kernelspec": {
      "name": "python3",
      "display_name": "Python 3"
    },
    "accelerator": "GPU"
  },
  "cells": [
    {
      "cell_type": "code",
      "metadata": {
        "id": "IHcd2SoO9iJb",
        "colab_type": "code",
        "colab": {}
      },
      "source": [
        "import tensorflow as tf\n",
        "import matplotlib.pyplot as plt\n",
        "import numpy as np"
      ],
      "execution_count": 0,
      "outputs": []
    },
    {
      "cell_type": "code",
      "metadata": {
        "id": "B67qEc-u9voh",
        "colab_type": "code",
        "outputId": "9b8b9184-0e32-4843-e6c7-cd40cde60851",
        "colab": {
          "base_uri": "https://localhost:8080/",
          "height": 433
        }
      },
      "source": [
        "from tensorflow.examples.tutorials.mnist import input_data\n",
        "mnist = input_data.read_data_sets('./mnist/data/', one_hot=True)"
      ],
      "execution_count": 0,
      "outputs": [
        {
          "output_type": "stream",
          "text": [
            "WARNING:tensorflow:From <ipython-input-2-f94eceb2dc2d>:2: read_data_sets (from tensorflow.contrib.learn.python.learn.datasets.mnist) is deprecated and will be removed in a future version.\n",
            "Instructions for updating:\n",
            "Please use alternatives such as official/mnist/dataset.py from tensorflow/models.\n",
            "WARNING:tensorflow:From /usr/local/lib/python3.6/dist-packages/tensorflow/contrib/learn/python/learn/datasets/mnist.py:260: maybe_download (from tensorflow.contrib.learn.python.learn.datasets.base) is deprecated and will be removed in a future version.\n",
            "Instructions for updating:\n",
            "Please write your own downloading logic.\n",
            "WARNING:tensorflow:From /usr/local/lib/python3.6/dist-packages/tensorflow/contrib/learn/python/learn/datasets/mnist.py:262: extract_images (from tensorflow.contrib.learn.python.learn.datasets.mnist) is deprecated and will be removed in a future version.\n",
            "Instructions for updating:\n",
            "Please use tf.data to implement this functionality.\n",
            "Extracting ./mnist/data/train-images-idx3-ubyte.gz\n",
            "WARNING:tensorflow:From /usr/local/lib/python3.6/dist-packages/tensorflow/contrib/learn/python/learn/datasets/mnist.py:267: extract_labels (from tensorflow.contrib.learn.python.learn.datasets.mnist) is deprecated and will be removed in a future version.\n",
            "Instructions for updating:\n",
            "Please use tf.data to implement this functionality.\n",
            "Extracting ./mnist/data/train-labels-idx1-ubyte.gz\n",
            "WARNING:tensorflow:From /usr/local/lib/python3.6/dist-packages/tensorflow/contrib/learn/python/learn/datasets/mnist.py:110: dense_to_one_hot (from tensorflow.contrib.learn.python.learn.datasets.mnist) is deprecated and will be removed in a future version.\n",
            "Instructions for updating:\n",
            "Please use tf.one_hot on tensors.\n",
            "Extracting ./mnist/data/t10k-images-idx3-ubyte.gz\n",
            "Extracting ./mnist/data/t10k-labels-idx1-ubyte.gz\n",
            "WARNING:tensorflow:From /usr/local/lib/python3.6/dist-packages/tensorflow/contrib/learn/python/learn/datasets/mnist.py:290: DataSet.__init__ (from tensorflow.contrib.learn.python.learn.datasets.mnist) is deprecated and will be removed in a future version.\n",
            "Instructions for updating:\n",
            "Please use alternatives such as official/mnist/dataset.py from tensorflow/models.\n"
          ],
          "name": "stdout"
        }
      ]
    },
    {
      "cell_type": "code",
      "metadata": {
        "id": "bGsF_k-t-X8K",
        "colab_type": "code",
        "colab": {}
      },
      "source": [
        "n_input = 28 * 28\n",
        "n_noise = 128\n",
        "\n",
        "n_hidden = 256 #은닉층 노드 갯수\n",
        "total_epoch = 100\n",
        "batch_size = 100\n",
        "learning_rate = 0.0002 "
      ],
      "execution_count": 0,
      "outputs": []
    },
    {
      "cell_type": "code",
      "metadata": {
        "id": "LeoJw8II96_b",
        "colab_type": "code",
        "colab": {}
      },
      "source": [
        "X = tf.placeholder(tf.float32, [None, n_input])\n",
        "# Z는 생성망에 들어 갈 입력 데이터 (정규분포를 따르는 128개의 데이터)\n",
        "Z = tf.placeholder(tf.float32, [None, n_noise])"
      ],
      "execution_count": 0,
      "outputs": []
    },
    {
      "cell_type": "code",
      "metadata": {
        "id": "lySjsrjo_Xdx",
        "colab_type": "code",
        "colab": {}
      },
      "source": [
        "# 생성자 변수 선언/ 생성자 신경망\n",
        "# W/b 설정"
      ],
      "execution_count": 0,
      "outputs": []
    },
    {
      "cell_type": "code",
      "metadata": {
        "id": "VOUdHzJ0OYt0",
        "colab_type": "code",
        "colab": {}
      },
      "source": [
        ""
      ],
      "execution_count": 0,
      "outputs": []
    },
    {
      "cell_type": "code",
      "metadata": {
        "id": "TOvYpFni_zMR",
        "colab_type": "code",
        "colab": {}
      },
      "source": [
        "# 생성자신경망(입력층->은닉층)\n",
        "G_W1 = tf.Variable(tf.random_normal([n_noise, n_hidden], stddev=0.01))\n",
        "G_b1 = tf.Variable(tf.zeros([n_hidden]))\n",
        "#ㅅ애성자 신경망(은닉층-> 출력층)\n",
        "G_W2 = tf.Variable(tf.random_normal([n_hidden, n_input], stddev=0.01))\n",
        "G_b2 = tf.Variable(tf.zeros([n_input]))"
      ],
      "execution_count": 0,
      "outputs": []
    },
    {
      "cell_type": "code",
      "metadata": {
        "id": "gLbzlq7cAsQQ",
        "colab_type": "code",
        "colab": {}
      },
      "source": [
        "# 이미지 판별망\n",
        "# 입력층 -> 은닉층으로 \n",
        "D_W1 = tf.Variable(tf.random_normal([n_input, n_hidden], stddev=0.01))\n",
        "D_b1 = tf.Variable(tf.zeros([n_hidden]))\n",
        "\n",
        "#은닉층에서 출력층으로\n",
        "D_W2 = tf.Variable(tf.random_normal([n_hidden, 1], stddev=0.01))\n",
        "D_b2 = tf.Variable(tf.zeros([1]))"
      ],
      "execution_count": 0,
      "outputs": []
    },
    {
      "cell_type": "markdown",
      "metadata": {
        "id": "r9dqe0bQCFQL",
        "colab_type": "text"
      },
      "source": [
        "#### 노이즈 데이터 발생을 위한 노이즈 생성함수\n",
        "#### def get_noise(데이터갯수, 노이즈개수)"
      ]
    },
    {
      "cell_type": "code",
      "metadata": {
        "id": "Y8ZucbDqBn6e",
        "colab_type": "code",
        "colab": {}
      },
      "source": [
        "def get_noise(batch_size, n_noise):\n",
        "  return np.random.normal(size=(batch_size, n_noise))"
      ],
      "execution_count": 0,
      "outputs": []
    },
    {
      "cell_type": "code",
      "metadata": {
        "id": "a8bjPeRRCYAw",
        "colab_type": "code",
        "colab": {}
      },
      "source": [
        "#생성자와 신경망을 직접 구성"
      ],
      "execution_count": 0,
      "outputs": []
    },
    {
      "cell_type": "code",
      "metadata": {
        "id": "B5qDust7CaOB",
        "colab_type": "code",
        "colab": {}
      },
      "source": [
        "def generator(noise_z):\n",
        "  hidden = tf.nn.relu(tf.matmul(noise_z, G_W1) + G_b1)\n",
        "  output = tf.nn.sigmoid(tf.matmul(hidden, G_W2) + G_b2)\n",
        "  \n",
        "  return output"
      ],
      "execution_count": 0,
      "outputs": []
    },
    {
      "cell_type": "code",
      "metadata": {
        "id": "5wBA6wsJDP-k",
        "colab_type": "code",
        "colab": {}
      },
      "source": [
        "# 판별자 신경망 구성"
      ],
      "execution_count": 0,
      "outputs": []
    },
    {
      "cell_type": "code",
      "metadata": {
        "id": "X8lIRAqqDUFv",
        "colab_type": "code",
        "colab": {}
      },
      "source": [
        "def discriminator(inputs):\n",
        "  hidden = tf.nn.relu(tf.matmul(inputs, D_W1) + D_b1)\n",
        "  output = tf.nn.sigmoid(tf.matmul(hidden, D_W2) + D_b2)\n",
        "  \n",
        "  return output"
      ],
      "execution_count": 0,
      "outputs": []
    },
    {
      "cell_type": "code",
      "metadata": {
        "id": "TP5DTDHzEA3D",
        "colab_type": "code",
        "colab": {}
      },
      "source": [
        "# 생성자 신경망\n",
        "G = generator(Z)\n",
        "\n",
        "# 판별자 신경망\n",
        "D_fake = discriminator(G)\n",
        "\n",
        "# 진짜 이미지\n",
        "D_real = discriminator(X)"
      ],
      "execution_count": 0,
      "outputs": []
    },
    {
      "cell_type": "markdown",
      "metadata": {
        "id": "E0YcZdlELpGZ",
        "colab_type": "text"
      },
      "source": [
        "### 비용함수// 최적화함수"
      ]
    },
    {
      "cell_type": "code",
      "metadata": {
        "id": "F1Lt5qmNMOU4",
        "colab_type": "code",
        "colab": {}
      },
      "source": [
        "# 경찰관의 성능 -> 가능한 높은 값이 좋다\n",
        "loss_D = tf.reduce_mean(tf.log(D_real) + tf.log(1-D_fake))\n",
        "\n",
        "# 위조지폐범의 성능 -> 가능한 높은 값이 좋다\n",
        "loss_G = tf.reduce_mean(tf.log(D_fake))"
      ],
      "execution_count": 0,
      "outputs": []
    },
    {
      "cell_type": "code",
      "metadata": {
        "id": "ZMY34xLyMhyb",
        "colab_type": "code",
        "colab": {}
      },
      "source": [
        "# 사용하는 변수 리스트 화\n",
        "D_var_list = [D_W1, D_b1, D_W2, D_b2]\n",
        "G_var_list = [G_W1, G_b1, G_W2, G_b2]"
      ],
      "execution_count": 0,
      "outputs": []
    },
    {
      "cell_type": "code",
      "metadata": {
        "id": "xlvXphcXMuGA",
        "colab_type": "code",
        "colab": {}
      },
      "source": [
        "### 오차 최소화가 아니라,\n",
        "### GAN은 loss_D와 loss_G를 최대화시키는 것이 목표다!"
      ],
      "execution_count": 0,
      "outputs": []
    },
    {
      "cell_type": "code",
      "metadata": {
        "id": "yY9rB_uTM2kg",
        "colab_type": "code",
        "colab": {}
      },
      "source": [
        "train_D = tf.train.AdamOptimizer(learning_rate).minimize(-loss_D, var_list = D_var_list)\n",
        "train_G = tf.train.AdamOptimizer(learning_rate).minimize(-loss_G, var_list = G_var_list)"
      ],
      "execution_count": 0,
      "outputs": []
    },
    {
      "cell_type": "code",
      "metadata": {
        "id": "63yqAlprNILR",
        "colab_type": "code",
        "colab": {}
      },
      "source": [
        "# 학습시키기\n",
        "sess = tf.Session()\n",
        "sess.run(tf.global_variables_initializer())\n",
        "\n",
        "total_batch = int(mnist.train.num_examples/batch_size)\n",
        "loss_val_D, loss_val_G = 0,0"
      ],
      "execution_count": 0,
      "outputs": []
    },
    {
      "cell_type": "code",
      "metadata": {
        "id": "CcfH-jd2NcqY",
        "colab_type": "code",
        "outputId": "814610b1-fe60-40cc-e639-d68826538454",
        "colab": {
          "base_uri": "https://localhost:8080/",
          "height": 1000
        }
      },
      "source": [
        "for epoch in range(200):\n",
        "  for i in range(total_batch):\n",
        "    batch_xs, batch_ys = mnist.train.next_batch(batch_size) #판별망에 들어가는 데이터\n",
        "    noise = get_noise(batch_size, n_noise) # 생성망에 들어가는 입력 데이터\n",
        "    \n",
        "    _, loss_val_D = sess.run([train_D, loss_D],\n",
        "                            feed_dict = {X:batch_xs, Z:noise})\n",
        "    \n",
        "    _, loss_val_G = sess.run([train_G, loss_G],\n",
        "                            feed_dict = {Z:noise})\n",
        "    \n",
        "  print(\"Epoch : {}, 판별망의 성능 : {:.4f}, 생성망의 성능 : {:.4f}\".format(epoch, loss_val_D, loss_val_G))\n",
        "    \n",
        "print('최적화 완료!')"
      ],
      "execution_count": 0,
      "outputs": [
        {
          "output_type": "stream",
          "text": [
            "Epoch : 0, 판별망의 성능 : -0.6975, 생성망의 성능 : -1.8215\n",
            "Epoch : 1, 판별망의 성능 : -0.6901, 생성망의 성능 : -2.1227\n",
            "Epoch : 2, 판별망의 성능 : -0.6321, 생성망의 성능 : -1.7466\n",
            "Epoch : 3, 판별망의 성능 : -0.6811, 생성망의 성능 : -2.1621\n",
            "Epoch : 4, 판별망의 성능 : -0.6933, 생성망의 성능 : -2.2028\n",
            "Epoch : 5, 판별망의 성능 : -0.6633, 생성망의 성능 : -2.0326\n",
            "Epoch : 6, 판별망의 성능 : -0.5787, 생성망의 성능 : -2.0630\n",
            "Epoch : 7, 판별망의 성능 : -0.5636, 생성망의 성능 : -2.0061\n",
            "Epoch : 8, 판별망의 성능 : -0.5964, 생성망의 성능 : -1.9891\n",
            "Epoch : 9, 판별망의 성능 : -0.6026, 생성망의 성능 : -2.0102\n",
            "Epoch : 10, 판별망의 성능 : -0.5991, 생성망의 성능 : -2.5252\n",
            "Epoch : 11, 판별망의 성능 : -0.5929, 생성망의 성능 : -2.1081\n",
            "Epoch : 12, 판별망의 성능 : -0.6600, 생성망의 성능 : -2.0551\n",
            "Epoch : 13, 판별망의 성능 : -0.6489, 생성망의 성능 : -2.1327\n",
            "Epoch : 14, 판별망의 성능 : -0.5807, 생성망의 성능 : -2.4601\n",
            "Epoch : 15, 판별망의 성능 : -0.6669, 생성망의 성능 : -1.9916\n",
            "Epoch : 16, 판별망의 성능 : -0.6976, 생성망의 성능 : -2.1985\n",
            "Epoch : 17, 판별망의 성능 : -0.5897, 생성망의 성능 : -2.1028\n",
            "Epoch : 18, 판별망의 성능 : -0.5287, 생성망의 성능 : -2.5484\n",
            "Epoch : 19, 판별망의 성능 : -0.5993, 생성망의 성능 : -2.5266\n",
            "Epoch : 20, 판별망의 성능 : -0.5514, 생성망의 성능 : -2.1634\n",
            "Epoch : 21, 판별망의 성능 : -0.6726, 생성망의 성능 : -2.1578\n",
            "Epoch : 22, 판별망의 성능 : -0.6316, 생성망의 성능 : -1.9929\n",
            "Epoch : 23, 판별망의 성능 : -0.5759, 생성망의 성능 : -2.2393\n",
            "Epoch : 24, 판별망의 성능 : -0.5389, 생성망의 성능 : -2.2945\n",
            "Epoch : 25, 판별망의 성능 : -0.5748, 생성망의 성능 : -2.3314\n",
            "Epoch : 26, 판별망의 성능 : -0.5631, 생성망의 성능 : -2.4549\n",
            "Epoch : 27, 판별망의 성능 : -0.5185, 생성망의 성능 : -2.5577\n",
            "Epoch : 28, 판별망의 성능 : -0.6632, 생성망의 성능 : -2.5082\n",
            "Epoch : 29, 판별망의 성능 : -0.6524, 생성망의 성능 : -2.1335\n",
            "Epoch : 30, 판별망의 성능 : -0.6514, 생성망의 성능 : -2.4970\n",
            "Epoch : 31, 판별망의 성능 : -0.5794, 생성망의 성능 : -2.3408\n",
            "Epoch : 32, 판별망의 성능 : -0.5579, 생성망의 성능 : -2.1771\n",
            "Epoch : 33, 판별망의 성능 : -0.6356, 생성망의 성능 : -2.4168\n",
            "Epoch : 34, 판별망의 성능 : -0.6666, 생성망의 성능 : -2.4980\n",
            "Epoch : 35, 판별망의 성능 : -0.7217, 생성망의 성능 : -2.2000\n",
            "Epoch : 36, 판별망의 성능 : -0.5397, 생성망의 성능 : -2.4307\n",
            "Epoch : 37, 판별망의 성능 : -0.5120, 생성망의 성능 : -2.3500\n",
            "Epoch : 38, 판별망의 성능 : -0.6153, 생성망의 성능 : -2.4700\n",
            "Epoch : 39, 판별망의 성능 : -0.5781, 생성망의 성능 : -2.3436\n",
            "Epoch : 40, 판별망의 성능 : -0.5275, 생성망의 성능 : -2.4245\n",
            "Epoch : 41, 판별망의 성능 : -0.7960, 생성망의 성능 : -2.1485\n",
            "Epoch : 42, 판별망의 성능 : -0.4427, 생성망의 성능 : -2.5439\n",
            "Epoch : 43, 판별망의 성능 : -0.5492, 생성망의 성능 : -2.4143\n",
            "Epoch : 44, 판별망의 성능 : -0.5029, 생성망의 성능 : -2.3184\n",
            "Epoch : 45, 판별망의 성능 : -0.6326, 생성망의 성능 : -2.3471\n",
            "Epoch : 46, 판별망의 성능 : -0.5671, 생성망의 성능 : -2.4263\n",
            "Epoch : 47, 판별망의 성능 : -0.5760, 생성망의 성능 : -2.2739\n",
            "Epoch : 48, 판별망의 성능 : -0.4802, 생성망의 성능 : -2.4449\n",
            "Epoch : 49, 판별망의 성능 : -0.5122, 생성망의 성능 : -2.3587\n",
            "Epoch : 50, 판별망의 성능 : -0.5976, 생성망의 성능 : -2.1323\n",
            "Epoch : 51, 판별망의 성능 : -0.4753, 생성망의 성능 : -2.5079\n",
            "Epoch : 52, 판별망의 성능 : -0.5772, 생성망의 성능 : -2.2959\n",
            "Epoch : 53, 판별망의 성능 : -0.5471, 생성망의 성능 : -2.5992\n",
            "Epoch : 54, 판별망의 성능 : -0.6015, 생성망의 성능 : -2.4959\n",
            "Epoch : 55, 판별망의 성능 : -0.5306, 생성망의 성능 : -2.4506\n",
            "Epoch : 56, 판별망의 성능 : -0.4870, 생성망의 성능 : -2.8039\n",
            "Epoch : 57, 판별망의 성능 : -0.6550, 생성망의 성능 : -2.5141\n",
            "Epoch : 58, 판별망의 성능 : -0.7062, 생성망의 성능 : -2.4663\n",
            "Epoch : 59, 판별망의 성능 : -0.6335, 생성망의 성능 : -2.3994\n",
            "Epoch : 60, 판별망의 성능 : -0.5834, 생성망의 성능 : -2.3168\n",
            "Epoch : 61, 판별망의 성능 : -0.6053, 생성망의 성능 : -2.6473\n",
            "Epoch : 62, 판별망의 성능 : -0.5012, 생성망의 성능 : -2.8267\n",
            "Epoch : 63, 판별망의 성능 : -0.5609, 생성망의 성능 : -2.2734\n",
            "Epoch : 64, 판별망의 성능 : -0.5813, 생성망의 성능 : -2.4778\n",
            "Epoch : 65, 판별망의 성능 : -0.0003, 생성망의 성능 : -inf\n",
            "Epoch : 66, 판별망의 성능 : -0.0001, 생성망의 성능 : -inf\n",
            "Epoch : 67, 판별망의 성능 : -0.0002, 생성망의 성능 : -inf\n",
            "Epoch : 68, 판별망의 성능 : -0.0000, 생성망의 성능 : -inf\n",
            "Epoch : 69, 판별망의 성능 : -0.0000, 생성망의 성능 : -inf\n",
            "Epoch : 70, 판별망의 성능 : -0.0000, 생성망의 성능 : -inf\n",
            "Epoch : 71, 판별망의 성능 : -0.0000, 생성망의 성능 : -inf\n",
            "Epoch : 72, 판별망의 성능 : -0.0000, 생성망의 성능 : -inf\n",
            "Epoch : 73, 판별망의 성능 : -0.0001, 생성망의 성능 : -inf\n",
            "Epoch : 74, 판별망의 성능 : -0.0000, 생성망의 성능 : -inf\n",
            "Epoch : 75, 판별망의 성능 : -0.0000, 생성망의 성능 : -inf\n",
            "Epoch : 76, 판별망의 성능 : -0.0000, 생성망의 성능 : -inf\n",
            "Epoch : 77, 판별망의 성능 : -0.0000, 생성망의 성능 : -inf\n",
            "Epoch : 78, 판별망의 성능 : -0.0000, 생성망의 성능 : -inf\n",
            "Epoch : 79, 판별망의 성능 : -0.0000, 생성망의 성능 : -inf\n",
            "Epoch : 80, 판별망의 성능 : -0.0000, 생성망의 성능 : -inf\n",
            "Epoch : 81, 판별망의 성능 : -0.0000, 생성망의 성능 : -inf\n",
            "Epoch : 82, 판별망의 성능 : -0.0000, 생성망의 성능 : -inf\n",
            "Epoch : 83, 판별망의 성능 : -0.0000, 생성망의 성능 : -inf\n",
            "Epoch : 84, 판별망의 성능 : -0.0000, 생성망의 성능 : -inf\n",
            "Epoch : 85, 판별망의 성능 : -0.0000, 생성망의 성능 : -inf\n",
            "Epoch : 86, 판별망의 성능 : -0.0000, 생성망의 성능 : -inf\n",
            "Epoch : 87, 판별망의 성능 : -0.0000, 생성망의 성능 : -inf\n",
            "Epoch : 88, 판별망의 성능 : -0.0000, 생성망의 성능 : -inf\n",
            "Epoch : 89, 판별망의 성능 : -0.0000, 생성망의 성능 : -inf\n",
            "Epoch : 90, 판별망의 성능 : -0.0000, 생성망의 성능 : -inf\n",
            "Epoch : 91, 판별망의 성능 : -0.0000, 생성망의 성능 : -inf\n",
            "Epoch : 92, 판별망의 성능 : -0.0000, 생성망의 성능 : -inf\n",
            "Epoch : 93, 판별망의 성능 : -0.0000, 생성망의 성능 : -inf\n",
            "Epoch : 94, 판별망의 성능 : -0.0000, 생성망의 성능 : -inf\n",
            "Epoch : 95, 판별망의 성능 : -0.0000, 생성망의 성능 : -inf\n",
            "Epoch : 96, 판별망의 성능 : -0.0000, 생성망의 성능 : -inf\n",
            "Epoch : 97, 판별망의 성능 : -0.0000, 생성망의 성능 : -inf\n",
            "Epoch : 98, 판별망의 성능 : -0.0000, 생성망의 성능 : -inf\n",
            "Epoch : 99, 판별망의 성능 : -0.0000, 생성망의 성능 : -inf\n",
            "Epoch : 100, 판별망의 성능 : -0.0000, 생성망의 성능 : -inf\n",
            "Epoch : 101, 판별망의 성능 : -0.0000, 생성망의 성능 : -inf\n",
            "Epoch : 102, 판별망의 성능 : 0.0000, 생성망의 성능 : -inf\n",
            "Epoch : 103, 판별망의 성능 : 0.0000, 생성망의 성능 : -inf\n",
            "Epoch : 104, 판별망의 성능 : -0.0000, 생성망의 성능 : -inf\n",
            "Epoch : 105, 판별망의 성능 : -0.0000, 생성망의 성능 : -inf\n",
            "Epoch : 106, 판별망의 성능 : -0.0000, 생성망의 성능 : -inf\n",
            "Epoch : 107, 판별망의 성능 : -0.0000, 생성망의 성능 : -inf\n",
            "Epoch : 108, 판별망의 성능 : 0.0000, 생성망의 성능 : -inf\n",
            "Epoch : 109, 판별망의 성능 : 0.0000, 생성망의 성능 : -inf\n",
            "Epoch : 110, 판별망의 성능 : -0.0000, 생성망의 성능 : -inf\n",
            "Epoch : 111, 판별망의 성능 : 0.0000, 생성망의 성능 : -inf\n",
            "Epoch : 112, 판별망의 성능 : 0.0000, 생성망의 성능 : -inf\n",
            "Epoch : 113, 판별망의 성능 : 0.0000, 생성망의 성능 : -inf\n",
            "Epoch : 114, 판별망의 성능 : 0.0000, 생성망의 성능 : -inf\n",
            "Epoch : 115, 판별망의 성능 : 0.0000, 생성망의 성능 : -inf\n",
            "Epoch : 116, 판별망의 성능 : 0.0000, 생성망의 성능 : -inf\n",
            "Epoch : 117, 판별망의 성능 : -0.0000, 생성망의 성능 : -inf\n",
            "Epoch : 118, 판별망의 성능 : 0.0000, 생성망의 성능 : -inf\n",
            "Epoch : 119, 판별망의 성능 : 0.0000, 생성망의 성능 : -inf\n",
            "Epoch : 120, 판별망의 성능 : 0.0000, 생성망의 성능 : -inf\n",
            "Epoch : 121, 판별망의 성능 : 0.0000, 생성망의 성능 : -inf\n",
            "Epoch : 122, 판별망의 성능 : 0.0000, 생성망의 성능 : -inf\n",
            "Epoch : 123, 판별망의 성능 : 0.0000, 생성망의 성능 : -inf\n",
            "Epoch : 124, 판별망의 성능 : 0.0000, 생성망의 성능 : -inf\n",
            "Epoch : 125, 판별망의 성능 : 0.0000, 생성망의 성능 : -inf\n",
            "Epoch : 126, 판별망의 성능 : 0.0000, 생성망의 성능 : -inf\n",
            "Epoch : 127, 판별망의 성능 : 0.0000, 생성망의 성능 : -inf\n",
            "Epoch : 128, 판별망의 성능 : 0.0000, 생성망의 성능 : -inf\n",
            "Epoch : 129, 판별망의 성능 : 0.0000, 생성망의 성능 : -inf\n",
            "Epoch : 130, 판별망의 성능 : 0.0000, 생성망의 성능 : -inf\n",
            "Epoch : 131, 판별망의 성능 : 0.0000, 생성망의 성능 : -inf\n",
            "Epoch : 132, 판별망의 성능 : 0.0000, 생성망의 성능 : -inf\n",
            "Epoch : 133, 판별망의 성능 : 0.0000, 생성망의 성능 : -inf\n",
            "Epoch : 134, 판별망의 성능 : 0.0000, 생성망의 성능 : -inf\n",
            "Epoch : 135, 판별망의 성능 : 0.0000, 생성망의 성능 : -inf\n",
            "Epoch : 136, 판별망의 성능 : 0.0000, 생성망의 성능 : -inf\n",
            "Epoch : 137, 판별망의 성능 : 0.0000, 생성망의 성능 : -inf\n",
            "Epoch : 138, 판별망의 성능 : 0.0000, 생성망의 성능 : -inf\n",
            "Epoch : 139, 판별망의 성능 : 0.0000, 생성망의 성능 : -inf\n",
            "Epoch : 140, 판별망의 성능 : 0.0000, 생성망의 성능 : -inf\n",
            "Epoch : 141, 판별망의 성능 : 0.0000, 생성망의 성능 : -inf\n",
            "Epoch : 142, 판별망의 성능 : 0.0000, 생성망의 성능 : -inf\n",
            "Epoch : 143, 판별망의 성능 : 0.0000, 생성망의 성능 : -inf\n",
            "Epoch : 144, 판별망의 성능 : 0.0000, 생성망의 성능 : -inf\n",
            "Epoch : 145, 판별망의 성능 : 0.0000, 생성망의 성능 : -inf\n",
            "Epoch : 146, 판별망의 성능 : 0.0000, 생성망의 성능 : -inf\n",
            "Epoch : 147, 판별망의 성능 : 0.0000, 생성망의 성능 : -inf\n",
            "Epoch : 148, 판별망의 성능 : 0.0000, 생성망의 성능 : -inf\n",
            "Epoch : 149, 판별망의 성능 : 0.0000, 생성망의 성능 : -inf\n",
            "Epoch : 150, 판별망의 성능 : 0.0000, 생성망의 성능 : -inf\n",
            "Epoch : 151, 판별망의 성능 : 0.0000, 생성망의 성능 : -inf\n",
            "Epoch : 152, 판별망의 성능 : 0.0000, 생성망의 성능 : -inf\n",
            "Epoch : 153, 판별망의 성능 : 0.0000, 생성망의 성능 : -inf\n",
            "Epoch : 154, 판별망의 성능 : 0.0000, 생성망의 성능 : -inf\n",
            "Epoch : 155, 판별망의 성능 : 0.0000, 생성망의 성능 : -inf\n",
            "Epoch : 156, 판별망의 성능 : 0.0000, 생성망의 성능 : -inf\n",
            "Epoch : 157, 판별망의 성능 : 0.0000, 생성망의 성능 : -inf\n",
            "Epoch : 158, 판별망의 성능 : 0.0000, 생성망의 성능 : -inf\n",
            "Epoch : 159, 판별망의 성능 : 0.0000, 생성망의 성능 : -inf\n",
            "Epoch : 160, 판별망의 성능 : 0.0000, 생성망의 성능 : -inf\n",
            "Epoch : 161, 판별망의 성능 : 0.0000, 생성망의 성능 : -inf\n",
            "Epoch : 162, 판별망의 성능 : 0.0000, 생성망의 성능 : -inf\n",
            "Epoch : 163, 판별망의 성능 : 0.0000, 생성망의 성능 : -inf\n",
            "Epoch : 164, 판별망의 성능 : 0.0000, 생성망의 성능 : -inf\n",
            "Epoch : 165, 판별망의 성능 : 0.0000, 생성망의 성능 : -inf\n",
            "Epoch : 166, 판별망의 성능 : 0.0000, 생성망의 성능 : -inf\n",
            "Epoch : 167, 판별망의 성능 : 0.0000, 생성망의 성능 : -inf\n",
            "Epoch : 168, 판별망의 성능 : 0.0000, 생성망의 성능 : -inf\n",
            "Epoch : 169, 판별망의 성능 : 0.0000, 생성망의 성능 : -inf\n",
            "Epoch : 170, 판별망의 성능 : 0.0000, 생성망의 성능 : -inf\n",
            "Epoch : 171, 판별망의 성능 : 0.0000, 생성망의 성능 : -inf\n",
            "Epoch : 172, 판별망의 성능 : 0.0000, 생성망의 성능 : -inf\n",
            "Epoch : 173, 판별망의 성능 : 0.0000, 생성망의 성능 : -inf\n",
            "Epoch : 174, 판별망의 성능 : 0.0000, 생성망의 성능 : -inf\n",
            "Epoch : 175, 판별망의 성능 : 0.0000, 생성망의 성능 : -inf\n",
            "Epoch : 176, 판별망의 성능 : 0.0000, 생성망의 성능 : -inf\n",
            "Epoch : 177, 판별망의 성능 : 0.0000, 생성망의 성능 : -inf\n",
            "Epoch : 178, 판별망의 성능 : 0.0000, 생성망의 성능 : -inf\n",
            "Epoch : 179, 판별망의 성능 : 0.0000, 생성망의 성능 : -inf\n",
            "Epoch : 180, 판별망의 성능 : 0.0000, 생성망의 성능 : -inf\n",
            "Epoch : 181, 판별망의 성능 : 0.0000, 생성망의 성능 : -inf\n",
            "Epoch : 182, 판별망의 성능 : 0.0000, 생성망의 성능 : -inf\n",
            "Epoch : 183, 판별망의 성능 : 0.0000, 생성망의 성능 : -inf\n",
            "Epoch : 184, 판별망의 성능 : 0.0000, 생성망의 성능 : -inf\n",
            "Epoch : 185, 판별망의 성능 : 0.0000, 생성망의 성능 : -inf\n",
            "Epoch : 186, 판별망의 성능 : 0.0000, 생성망의 성능 : -inf\n",
            "Epoch : 187, 판별망의 성능 : 0.0000, 생성망의 성능 : -inf\n",
            "Epoch : 188, 판별망의 성능 : 0.0000, 생성망의 성능 : -inf\n",
            "Epoch : 189, 판별망의 성능 : 0.0000, 생성망의 성능 : -inf\n",
            "Epoch : 190, 판별망의 성능 : 0.0000, 생성망의 성능 : -inf\n",
            "Epoch : 191, 판별망의 성능 : 0.0000, 생성망의 성능 : -inf\n",
            "Epoch : 192, 판별망의 성능 : 0.0000, 생성망의 성능 : -inf\n",
            "Epoch : 193, 판별망의 성능 : 0.0000, 생성망의 성능 : -inf\n",
            "Epoch : 194, 판별망의 성능 : 0.0000, 생성망의 성능 : -inf\n",
            "Epoch : 195, 판별망의 성능 : 0.0000, 생성망의 성능 : -inf\n",
            "Epoch : 196, 판별망의 성능 : 0.0000, 생성망의 성능 : -inf\n",
            "Epoch : 197, 판별망의 성능 : 0.0000, 생성망의 성능 : -inf\n",
            "Epoch : 198, 판별망의 성능 : 0.0000, 생성망의 성능 : -inf\n",
            "Epoch : 199, 판별망의 성능 : 0.0000, 생성망의 성능 : -inf\n",
            "최적화 완료!\n"
          ],
          "name": "stdout"
        }
      ]
    },
    {
      "cell_type": "code",
      "metadata": {
        "id": "RVHobVobduNw",
        "colab_type": "code",
        "colab": {}
      },
      "source": [
        "! mkdir samples"
      ],
      "execution_count": 0,
      "outputs": []
    },
    {
      "cell_type": "code",
      "metadata": {
        "id": "UzTSSERyelec",
        "colab_type": "code",
        "colab": {}
      },
      "source": [
        "if epoch ==  0 or (epoch+1) % 10 == 0:\n",
        "  sample_size = 10\n",
        "  noise = get_noise(sample_size, n_noise)\n",
        "  samples = sess.run(G, feed_dict = {Z: noise})"
      ],
      "execution_count": 0,
      "outputs": []
    },
    {
      "cell_type": "code",
      "metadata": {
        "id": "Q1zKrLbggfwm",
        "colab_type": "code",
        "outputId": "c92c33aa-77f0-4696-c90d-3cf3233f6944",
        "colab": {
          "base_uri": "https://localhost:8080/",
          "height": 35
        }
      },
      "source": [
        "fig, ax = plt.subplots(1, sample_size, figsize=(sample_size, 1))\n",
        "\n",
        "for i in range(sample_size):\n",
        "  ax[i].set_axis_off()\n",
        "  ax[i].imshow(np.reshape(samples[i], (28, 28)))\n",
        "  \n",
        "  \n",
        "plt.savefig('samples/{}.png'.format(str(epoch).zfill(3)), bbox_inches='tight' )\n",
        "plt.close(fig)\n",
        "  \n",
        "print('최적화 완료!')"
      ],
      "execution_count": 0,
      "outputs": [
        {
          "output_type": "stream",
          "text": [
            "최적화 완료!\n"
          ],
          "name": "stdout"
        }
      ]
    },
    {
      "cell_type": "code",
      "metadata": {
        "id": "fzzDzDhuhCyN",
        "colab_type": "code",
        "colab": {}
      },
      "source": [
        ""
      ],
      "execution_count": 0,
      "outputs": []
    }
  ]
}