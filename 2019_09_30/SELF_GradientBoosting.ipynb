{
  "nbformat": 4,
  "nbformat_minor": 0,
  "metadata": {
    "colab": {
      "name": "SELF_GradientBoosting.ipynb",
      "provenance": []
    },
    "kernelspec": {
      "name": "python3",
      "display_name": "Python 3"
    }
  },
  "cells": [
    {
      "cell_type": "code",
      "metadata": {
        "id": "G4uioo4BjdDi",
        "colab_type": "code",
        "colab": {}
      },
      "source": [
        "from sklearn.model_selection import train_test_split\n",
        "from sklearn.datasets import load_breast_cancer\n",
        "import matplotlib.pyplot as plt\n",
        "import numpy as np\n",
        "\n",
        "%matplotlib inline"
      ],
      "execution_count": 0,
      "outputs": []
    },
    {
      "cell_type": "code",
      "metadata": {
        "id": "y1HJcvygj34w",
        "colab_type": "code",
        "colab": {}
      },
      "source": [
        "#중요도 그래프\n",
        "def plot_feature_importance_cancer(model):\n",
        "  n_features = cancer.data.shape[1]\n",
        "  plt.barh(range(n_features), model.feature_importances_, align='center')\n",
        "  plt.yticks(np.arange(n_features), cancer.feature_names)\n",
        "  plt.xlabel('Feature Importance')\n",
        "  plt.ylabel('Feature')\n",
        "  plt.ylim(-1, n_features)"
      ],
      "execution_count": 0,
      "outputs": []
    },
    {
      "cell_type": "code",
      "metadata": {
        "id": "PQ-IIEydkWCC",
        "colab_type": "code",
        "colab": {}
      },
      "source": [
        "# GradientBoostig 알고리즘 실습\n",
        "# depth는 3,\n",
        "# 트리 100개(n_estimators)\n",
        "# 학습률 : 0.1을 사용"
      ],
      "execution_count": 0,
      "outputs": []
    },
    {
      "cell_type": "code",
      "metadata": {
        "id": "LUaXCDFKkYe5",
        "colab_type": "code",
        "colab": {}
      },
      "source": [
        "from sklearn.ensemble import GradientBoostingClassifier"
      ],
      "execution_count": 0,
      "outputs": []
    },
    {
      "cell_type": "code",
      "metadata": {
        "id": "Iljb1EcpkhX4",
        "colab_type": "code",
        "colab": {
          "base_uri": "https://localhost:8080/",
          "height": 183
        },
        "outputId": "e7eb8c1f-ceaa-4dbf-ff1a-b0f1d98f4a57"
      },
      "source": [
        "cancer = load_breast_cancer()\n",
        "X_train, X_test, y_train, y_test = train_test_split(cancer.data, cancer.target,\n",
        "random_state=0)\n",
        "gbrt = GradientBoostingClassifier(random_state=0)\n",
        "gbrt.fit(X_train, y_train)"
      ],
      "execution_count": 6,
      "outputs": [
        {
          "output_type": "execute_result",
          "data": {
            "text/plain": [
              "GradientBoostingClassifier(criterion='friedman_mse', init=None,\n",
              "                           learning_rate=0.1, loss='deviance', max_depth=3,\n",
              "                           max_features=None, max_leaf_nodes=None,\n",
              "                           min_impurity_decrease=0.0, min_impurity_split=None,\n",
              "                           min_samples_leaf=1, min_samples_split=2,\n",
              "                           min_weight_fraction_leaf=0.0, n_estimators=100,\n",
              "                           n_iter_no_change=None, presort='auto',\n",
              "                           random_state=0, subsample=1.0, tol=0.0001,\n",
              "                           validation_fraction=0.1, verbose=0,\n",
              "                           warm_start=False)"
            ]
          },
          "metadata": {
            "tags": []
          },
          "execution_count": 6
        }
      ]
    },
    {
      "cell_type": "code",
      "metadata": {
        "id": "2k2DqBL1kju3",
        "colab_type": "code",
        "colab": {
          "base_uri": "https://localhost:8080/",
          "height": 50
        },
        "outputId": "d7cd6229-e345-48c5-feab-3f206a79d578"
      },
      "source": [
        "print(\"훈련 세트 정확도: {:.2f}\".format(gbrt.score(X_train, y_train)))\n",
        "print(\"테스트 세트 정확도: {:.2f}\".format(gbrt.score(X_test, y_test)))"
      ],
      "execution_count": 7,
      "outputs": [
        {
          "output_type": "stream",
          "text": [
            "훈련 세트 정확도: 1.00\n",
            "테스트 세트 정확도: 0.97\n"
          ],
          "name": "stdout"
        }
      ]
    },
    {
      "cell_type": "code",
      "metadata": {
        "id": "fhNMvGzbkpCG",
        "colab_type": "code",
        "colab": {}
      },
      "source": [
        "# 위는 overfitting 이다."
      ],
      "execution_count": 0,
      "outputs": []
    },
    {
      "cell_type": "code",
      "metadata": {
        "id": "FD-Li6PKkr4b",
        "colab_type": "code",
        "colab": {}
      },
      "source": [
        "# 02. 훈련세트에 대한 과적합을 줄이기\n",
        "# max_depth 조절.\n",
        "# learning_rate 조절."
      ],
      "execution_count": 0,
      "outputs": []
    },
    {
      "cell_type": "code",
      "metadata": {
        "id": "ktY8ie_-kuEz",
        "colab_type": "code",
        "colab": {}
      },
      "source": [
        "## tree depth의 조절"
      ],
      "execution_count": 0,
      "outputs": []
    },
    {
      "cell_type": "code",
      "metadata": {
        "id": "M-HiIQL0kx70",
        "colab_type": "code",
        "colab": {
          "base_uri": "https://localhost:8080/",
          "height": 50
        },
        "outputId": "27239031-7030-4375-9041-a0e9dd28ba2a"
      },
      "source": [
        "gbrt = GradientBoostingClassifier(random_state=0, max_depth=1)\n",
        "gbrt.fit(X_train, y_train)\n",
        "\n",
        "print(\"훈련 셋 정확도: {:.2f}\".format(gbrt.score(X_train, y_train)))\n",
        "print(\"테스트 셋 정확도: {:.2f}\".format(gbrt.score(X_test, y_test)))"
      ],
      "execution_count": 11,
      "outputs": [
        {
          "output_type": "stream",
          "text": [
            "훈련 셋 정확도: 0.99\n",
            "테스트 셋 정확도: 0.97\n"
          ],
          "name": "stdout"
        }
      ]
    },
    {
      "cell_type": "code",
      "metadata": {
        "id": "hSeDYRVXlFrJ",
        "colab_type": "code",
        "colab": {}
      },
      "source": [
        "# 트리의 학습률(learning_rate) 조절"
      ],
      "execution_count": 0,
      "outputs": []
    },
    {
      "cell_type": "code",
      "metadata": {
        "id": "ZoeKeGBclIEF",
        "colab_type": "code",
        "colab": {
          "base_uri": "https://localhost:8080/",
          "height": 50
        },
        "outputId": "3e5319de-5f5c-4ce6-d1d3-be65eac7e873"
      },
      "source": [
        "gbrt = GradientBoostingClassifier(random_state=0, learning_rate=0.01)\n",
        "gbrt.fit(X_train, y_train)\n",
        "\n",
        "print(\"훈련 셋 정확도: {:.2f}\".format(gbrt.score(X_train, y_train)))\n",
        "print(\"테스트 셋 정확도: {:.2f}\".format(gbrt.score(X_test, y_test)))"
      ],
      "execution_count": 13,
      "outputs": [
        {
          "output_type": "stream",
          "text": [
            "훈련 셋 정확도: 0.99\n",
            "테스트 셋 정확도: 0.97\n"
          ],
          "name": "stdout"
        }
      ]
    },
    {
      "cell_type": "code",
      "metadata": {
        "id": "jJiorQiglSu9",
        "colab_type": "code",
        "colab": {
          "base_uri": "https://localhost:8080/",
          "height": 283
        },
        "outputId": "20a65ac2-dac3-40b4-8811-a8b4fe5cda56"
      },
      "source": [
        "gbrt = GradientBoostingClassifier(random_state=0, max_depth=1)\n",
        "gbrt.fit(X_train, y_train)\n",
        "\n",
        "plot_feature_importance_cancer(gbrt)"
      ],
      "execution_count": 14,
      "outputs": [
        {
          "output_type": "display_data",
          "data": {
            "image/png": "[encoded data removed]",
            "text/plain": [
              "<Figure size 432x288 with 1 Axes>"
            ]
          },
          "metadata": {
            "tags": []
          }
        }
      ]
    },
    {
      "cell_type": "code",
      "metadata": {
        "id": "FcaVCAGMlf7A",
        "colab_type": "code",
        "colab": {}
      },
      "source": [
        "# 모델의 장단점\n",
        "# 단점 :\n",
        "# 매개변수를 잘 조정해야 하며, 훈련 시간이 길다.\n",
        "# 트리 모델 특성 상 희소한 고차원 데이터에는 잘 동작하지 않는다.\n",
        "# 장점 :\n",
        "# feature의 scale(범위, 값)을 조정하지 않아도 이진특성이 연속적인 특성에서 잘 동작\n",
        "# feature 의 스케일을 조정하지 않아도 된다."
      ],
      "execution_count": 0,
      "outputs": []
    },
    {
      "cell_type": "code",
      "metadata": {
        "id": "MijEK9z9lk-T",
        "colab_type": "code",
        "colab": {}
      },
      "source": [
        "# 매개변수\n",
        "# 이전트리의 오차를 보정하는 정도 조절 : learning_rate\n",
        "# learning_rate를 낮추면 =>> 비슷한 복잡도의 모델을 만들기 위해 더 많은 트리를 추가해야 한다.\n",
        "# n_estimator가 클수록 좋다.(랜덤포레스트)\n",
        "# n_estimator가 크면 그래디언트 부스팅은 과적합의 가능성이 있음.\n",
        "\n",
        "# 트리의 복잡도를 낮추는 max_depth (또는 max_leaf_nodes)\n",
        "# 보통 부스팅 모델에서 max_depth를 매우작게 설정하며 트리의 깊이가 5보다 깊어지지 않도록 한다.\n",
        "# n_estimators를 맞춘 이후에 learning_rate를 찾는다."
      ],
      "execution_count": 0,
      "outputs": []
    },
    {
      "cell_type": "code",
      "metadata": {
        "id": "Ts3kbfKUlpzv",
        "colab_type": "code",
        "colab": {}
      },
      "source": [
        ""
      ],
      "execution_count": 0,
      "outputs": []
    }
  ]
}